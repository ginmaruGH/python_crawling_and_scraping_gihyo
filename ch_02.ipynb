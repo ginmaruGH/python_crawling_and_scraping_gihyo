{
 "cells": [
  {
   "attachments": {},
   "cell_type": "markdown",
   "metadata": {},
   "source": [
    "2. Pythonではじめるクローリング・スクレイピング\n",
    "\n",
    "  - 2-1. Pythonを使うメリット\n",
    "  - 2-2. Pythonのインストールと実行\n",
    "  - 2-3. Pythonの基礎知識\n",
    "  - 2-4. Webページを取得する\n",
    "  - 2-5. Webページからデータを抜き出す\n",
    "  - 2-6. データをファイルに保存する\n",
    "  - 2-7. Pythonによるスクレイピングの流れ\n",
    "  - 2-8. URLの基礎知識\n",
    "  - 2-9. まとめ"
   ]
  },
  {
   "attachments": {},
   "cell_type": "markdown",
   "metadata": {},
   "source": [
    "## 2-4. Webページを取得する"
   ]
  },
  {
   "attachments": {},
   "cell_type": "markdown",
   "metadata": {},
   "source": [
    "### 2-4-1. RequestsによるWebページの取得"
   ]
  },
  {
   "cell_type": "code",
   "execution_count": 1,
   "metadata": {},
   "outputs": [],
   "source": [
    "import requests\n",
    "\n",
    "r = requests.get((\"https://gihyo.jp/dp\"))"
   ]
  },
  {
   "cell_type": "code",
   "execution_count": 2,
   "metadata": {},
   "outputs": [
    {
     "data": {
      "text/plain": [
       "requests.models.Response"
      ]
     },
     "execution_count": 2,
     "metadata": {},
     "output_type": "execute_result"
    }
   ],
   "source": [
    "# get()関数の戻り値はResponseオブジェクト\n",
    "type(r)"
   ]
  },
  {
   "cell_type": "code",
   "execution_count": 4,
   "metadata": {},
   "outputs": [
    {
     "data": {
      "text/plain": [
       "200"
      ]
     },
     "execution_count": 4,
     "metadata": {},
     "output_type": "execute_result"
    }
   ],
   "source": [
    "# status_code属性でHTTPステータスコードを取得できる\n",
    "r.status_code"
   ]
  },
  {
   "cell_type": "code",
   "execution_count": 5,
   "metadata": {},
   "outputs": [
    {
     "data": {
      "text/plain": [
       "'text/html; charset=UTF-8'"
      ]
     },
     "execution_count": 5,
     "metadata": {},
     "output_type": "execute_result"
    }
   ],
   "source": [
    "# header属性でHTTPヘッダーの辞書を取得できる\n",
    "r.headers[\"content-type\"]"
   ]
  },
  {
   "cell_type": "code",
   "execution_count": 6,
   "metadata": {},
   "outputs": [
    {
     "data": {
      "text/plain": [
       "'UTF-8'"
      ]
     },
     "execution_count": 6,
     "metadata": {},
     "output_type": "execute_result"
    }
   ],
   "source": [
    "# encoding属性でHTTPヘッダーから得られたエンコーディングを取得できる\n",
    "r.encoding"
   ]
  },
  {
   "cell_type": "code",
   "execution_count": 7,
   "metadata": {},
   "outputs": [
    {
     "data": {
      "text/plain": [
       "'<!DOCTYPE HTML>\\n<html lang=\"ja\" class=\"pc\">\\n<head>\\n  <meta charset=\"UTF-8\">\\n  <title>Gihyo Digital Publishing … 技術評論社の電子書籍</title>\\n  <meta http-equiv=\"Content-Style-Type\" content=\"text/css\"/>\\n  <meta http-equiv=\"Content-Script-Type\" content=\"application/javascript\"/>\\n  <meta name=\"description\" content=\"技術評論社の電子書籍（電子出版）販売サイト\"/>\\n  <meta name=\"keywords\" content=\"電子書籍,電子出版,EPUB,PDF,技術評論社\"/>\\n  <meta http-equiv=\"X-UA-Compatible\" content=\"IE=Edge,chrome=1\"/>\\n  <meta name=\"apple-mobile-web-app-capable\" content=\"yes\"/>\\n  <meta name=\"format-detection\" content=\"telephone=no\"/>\\n  <link rel=\"related\" href=\"http://gihyo.jp/dp/catalogs.opds\" type=\"application/atom+xml;profile=opds-catalog\" title=\"Gihyo Digital Publishing OPDS Catalog\"/>\\n  <link rel=\"shortcut icon\" href=\"/assets/templates/gdp/favicon.ico\" type=\"image/vnd.microsoft.icon\"/>\\n  <link rel=\"apple-touch-icon-precomposed\" href=\"/dp/assets/gdp-icon.png\"/>\\n  <!--[if lt IE 9]>\\n    <script>var msie=8;</script>\\n    <script src=\"//ajax.googleapis.com/ajax/libs/jquery/1.11.1/jquery.min.js\"></script>\\n    <script src=\"/dp/assets/js/html5shiv.min.js\"></script>\\n    <script src=\"//css3-mediaqueries-js.googlecode.com/svn/trunk/css3-mediaqueries.js\"></script>\\n    <script src=\"/dp/assets/js/selectivizr-min.js\"></script>\\n    <script src=\"/dp/assets/js/addEventListener.min.js\"></script>\\n    <script src=\"/dp/assets/js/textContent.min.js\"></script>\\n  <![endif]-->\\n  <!--[if lte IE 9]>\\n    <script src=\"/dp/assets/js/classList.min.js\" defer></script>\\n  <![endif]-->\\n  <link rel=\"stylesheet\" href=\"/dp/assets/style/store1013.css\" type=\"text/css\" media=\"all\"/>\\n  <script src=\"/dp/assets/js/gdpFunction0425.min.js\" defer></script>\\n  <meta name=\"twitter:card\" content=\"summary_large_image\"/>\\n  <meta name=\"twitter:site\" content=\"@gihyoDP\"/>\\n  <meta property=\"og:title\" content=\"Gihyo Digital Publishing … 技術評論社の電子書籍\"/>\\n  <meta property=\"og:type\" content=\"website\"/>\\n  <meta property=\"og:description\" content=\"技術評論社の電子書籍（電子出版）販売サイト\"/>\\n  <meta property=\"og:url\" content=\"https://gihyo.jp/dp\"/>\\n  <meta property=\"og:image\" content=\"/dp/assets/gdp-icon.png\"/>\\n  <meta property=\"og:site_name\" content=\"Gihyo Digital Publishing\"/>\\n  <meta property=\"fb:app_id\" content=\"185201618169441\"/>\\n  <script async src=\"https://www.googletagmanager.com/gtag/js?id=G-DL906V3TN7\"></script>\\n  <script>\\n    window.dataLayer = window.dataLayer || [];\\n    function gtag(){dataLayer.push(arguments);}\\n    gtag(\\'js\\', new Date());\\n\\n    gtag(\\'config\\', \\'G-DL906V3TN7\\');\\n  </script>\\n</head>\\n<body itemscope=\"itemscope\" itemtype=\"http://schema.org/WebPage\" class=\"page-home\">\\n  <header id=\"header\" itemscope=\"itemscope\" itemtype=\"http://schema.org/WPHeader\">\\n    <h1 class=\"home-title\">Gihyo Digital Publishing</h1>\\n    <h2 class=\"home-subtitle\">技術評論社の電子書籍サイト</h2>\\n    <nav id=\"headerFunction\">\\n      <div id=\"login\">\\n        <a href=\"#login\" title=\"ログイン・会員登録\">ログイン</a>\\n      </div>\\n      <div id=\"cart\">\\n        <a href=\"/dp/cart\" title=\"カートは空です\">カート</a>\\n      </div>\\n    </nav>\\n  </header>\\n  <div id=\"main\">\\n    <noscript><div id=\"noscript\">\\n      <p>本サイトではJavaScriptを使用しております。JavaScriptが無効な状態ではご利用いただけません。</p>\\n    </div></noscript>\\n\\n    <div id=\"bookList\">\\n      <h2>商品一覧</h2>\\n      <div id=\"topNavigation\">\\n        <div id=\"filter\">\\n          <form id=\"search\" action=\"/dp\" method=\"get\">\\n            <input type=\"search\" name=\"query\" id=\"searchText\" title=\"検索する商品のキーワードを入力\" placeholder=\"商品のキーワード\" required=\"required\" value=\"\"/>\\n            <input type=\"submit\" id=\"searchSubmit\" value=\"検索\" title=\"検索する\"/>\\n          </form>\\n          <div id=\"select\">\\n            <a href=\"\" id=\"selectLabel\" title=\"商品ジャンルを選択する\">すべての商品</a>\\n            <div id=\"selectMenu\">\\n              <ul id=\"selectMenuBody\"><li class=\"title\">商品ジャンルを選択</li><li class=\"selected\"><a href=\"/dp\">すべての商品</a></li><li><a href=\"/dp/genre/%E3%83%91%E3%82%BD%E3%82%B3%E3%83%B3\">パソコン</a></li><li><a href=\"/dp/genre/%E3%82%B9%E3%83%9E%E3%83%BC%E3%83%88%E3%83%95%E3%82%A9%E3%83%B3%E3%83%BB%E3%82%BF%E3%83%96%E3%83%AC%E3%83%83%E3%83%88\">スマートフォン・タブレット</a></li><li><a href=\"/dp/genre/%E3%83%87%E3%82%B6%E3%82%A4%E3%83%B3%E3%83%BB%E7%B4%A0%E6%9D%90%E9%9B%86\">デザイン・素材集</a></li><li><a href=\"/dp/genre/Web%E3%82%B5%E3%82%A4%E3%83%88%E5%88%B6%E4%BD%9C\">Webサイト制作</a></li><li><a href=\"/dp/genre/%E3%83%97%E3%83%AD%E3%82%B0%E3%83%A9%E3%83%9F%E3%83%B3%E3%82%B0%E3%83%BB%E3%82%B7%E3%82%B9%E3%83%86%E3%83%A0%E9%96%8B%E7%99%BA\">プログラミング・システム開発</a></li><li><a href=\"/dp/genre/%E3%83%8D%E3%83%83%E3%83%88%E3%83%AF%E3%83%BC%E3%82%AF%E3%83%BBUNIX%E3%83%BB%E3%83%87%E3%83%BC%E3%82%BF%E3%83%99%E3%83%BC%E3%82%B9\">ネットワーク・UNIX・データベース</a></li><li><a href=\"/dp/genre/%E8%B3%87%E6%A0%BC%E8%A9%A6%E9%A8%93%EF%BC%88IT%EF%BC%89\">資格試験（IT）</a></li><li><a href=\"/dp/genre/%E8%B3%87%E6%A0%BC%E8%A9%A6%E9%A8%93%EF%BC%88%E4%B8%80%E8%88%AC%EF%BC%89%E3%83%BB%E5%A4%A7%E5%AD%A6%E5%8F%97%E9%A8%93\">資格試験（一般）・大学受験</a></li><li><a href=\"/dp/genre/%E8%B6%A3%E5%91%B3%E3%83%BB%E5%AE%9F%E7%94%A8%E3%83%BB%E3%83%87%E3%82%B8%E3%82%AB%E3%83%A1\">趣味・実用・デジカメ</a></li><li><a href=\"/dp/genre/%E3%83%93%E3%82%B8%E3%83%8D%E3%82%B9%E3%83%BB%E3%83%9E%E3%83%8D%E3%83%BC\">ビジネス・マネー</a></li><li><a href=\"/dp/genre/%E7%90%86%E5%B7%A5%E3%83%BB%E3%82%B5%E3%82%A4%E3%82%A8%E3%83%B3%E3%82%B9\">理工・サイエンス</a></li></ul>\\n            </div>\\n          </div>\\n        </div>\\n        <nav id=\"pagingTop\">          <ul>\\n            <li><span class=\"prev\">―</span></li>\\n            <li class=\"paging-number\">1</li>\\n            <li><a href=\"/dp?start=30\" title=\"次のページ\" class=\"next\">次</a></li>\\n          </ul>\\n        </nav>\\n      </div>\\n      <ul itemprop=\"isPartOf\" itemscope=\"itemscope\" itemtype=\"http://www.schema.org/CollectionPage\" id=\"listBook\" class=\"list-book\"><li id=\"bannerTopAd\">\\n  <div id=\"topAdPrev\"><a href=\"#adPrev\" title=\"前のバナー\">前</a></div>\\n  <div id=\"topAdNext\"><a href=\"#adNext\" title=\"次のバナー\">次</a></div>\\n  <ul id=\"topAdNum\"></ul>\\n</li>\\n<li class=\"subscription\"><a href=\"/dp/subscription\">\\n  <p class=\"title\"><span class=\"series\">Software Design・<wbr>WEB+DB PRESS</span>電子版定期購読のお申し込み</p>\\n  <img src=\"//image.gihyo.co.jp/assets/images/dummy.png\" srcset=\"//image.gihyo.co.jp/assets/images/gdp/subscription/subsc-cover.png 1x, //image.gihyo.co.jp/assets/images/gdp/subscription/subsc-cover@2x.png 2x\" width=\"236\" height=\"138\" alt=\"cover\" style=\"max-width:none;max-height:none;position:absolute;right:0;bottom:-10px;border:none\" decoding=\"async\">\\n  <ul class=\"format\"><li class=\"pdf\">PDF</li><li class=\"epub\">EPUB</li></ul>\\n</a></li>        <li class=\"new\" id=\"978-4-297-13504-1\"><a itemprop=\"url\" href=\"/dp/ebook/2023/978-4-297-13504-1\">\\n          <img itemprop=\"image\" src=\"https://image.gihyo.co.jp/assets/images/gdp/2023/thumb/TH100_978-4-297-13504-1.jpg\" srcset=\"https://image.gihyo.co.jp/assets/images/gdp/2023/thumb/TH100_978-4-297-13504-1.jpg 1x, https://image.gihyo.co.jp/assets/images/gdp/2023/thumb/TH200_978-4-297-13504-1.jpg 2x\" width=\"100\" height=\"147\" alt=\"カバー画像\" decoding=\"async\"/>\\n          <p itemprop=\"name\" class=\"title\"><span class=\"series\">ゼロからはじめる</span> ゼロからはじめる<br>ドコモ arrows N F-51C スマートガイド</p>\\n          <p itemprop=\"author\" class=\"author\">技術評論社編集部\\u3000著</p>\\n          <p itemprop=\"offers\" itemscope=\"itemscope\" itemtype=\"http://schema.org/Offer\" class=\"price\"><span itemprop=\"price\">1,580</span>円<meta itemprop=\"priceCurrency\" content=\"JPY\"/></p>\\n          <ul class=\"format\">\\n            <li class=\"pdf\">PDF</li>\\n          </ul>\\n          <ul class=\"date\">\\n            <li class=\"notice\"><time datetime=\"2023-5-01\" itemprop=\"datePublished\" class=\"published\">2023年5月1日</time></li>\\n            \\n          </ul>\\n        </a></li>        <li class=\"new\" id=\"978-4-297-13462-4\"><a itemprop=\"url\" href=\"/dp/ebook/2023/978-4-297-13462-4\">\\n          <img itemprop=\"image\" src=\"https://image.gihyo.co.jp/assets/images/gdp/2023/thumb/TH100_978-4-297-13462-4.jpg\" srcset=\"https://image.gihyo.co.jp/assets/images/gdp/2023/thumb/TH100_978-4-297-13462-4.jpg 1x, https://image.gihyo.co.jp/assets/images/gdp/2023/thumb/TH200_978-4-297-13462-4.jpg 2x\" width=\"100\" height=\"150\" alt=\"カバー画像\" decoding=\"async\"/>\\n          <p itemprop=\"name\" class=\"title\"><span class=\"series\">知りたい！サイエンス</span> ゼータへの最初の一歩 ベルヌーイ数<br><span class=\"sub\">～<wbr>「べき乗和」<wbr>と素数で割った<wbr>「余り」<wbr>の驚くべき関係～</span></p>\\n          <p itemprop=\"author\" class=\"author\">小林吹代\\u3000著</p>\\n          <p itemprop=\"offers\" itemscope=\"itemscope\" itemtype=\"http://schema.org/Offer\" class=\"price\"><span itemprop=\"price\">1,800</span>円<meta itemprop=\"priceCurrency\" content=\"JPY\"/></p>\\n          <ul class=\"format\">\\n            <li class=\"pdf\">PDF</li>\\n          </ul>\\n          <ul class=\"date\">\\n            <li class=\"notice\"><time datetime=\"2023-5-01\" itemprop=\"datePublished\" class=\"published\">2023年5月1日</time></li>\\n            \\n          </ul>\\n        </a></li>        <li class=\"new\" id=\"978-4-297-13442-6\"><a itemprop=\"url\" href=\"/dp/ebook/2023/978-4-297-13442-6\">\\n          <img itemprop=\"image\" src=\"https://image.gihyo.co.jp/assets/images/gdp/2023/thumb/TH100_978-4-297-13442-6.jpg\" srcset=\"https://image.gihyo.co.jp/assets/images/gdp/2023/thumb/TH100_978-4-297-13442-6.jpg 1x, https://image.gihyo.co.jp/assets/images/gdp/2023/thumb/TH200_978-4-297-13442-6.jpg 2x\" width=\"100\" height=\"128\" alt=\"カバー画像\" decoding=\"async\"/>\\n          <p itemprop=\"name\" class=\"title\"><span class=\"series\">今すぐ使えるかんたん</span> 今すぐ使えるかんたん<br>iPad<wbr>完全ガイドブック 困った解決&amp;<wbr>便利技<br><span class=\"sub\">［iPadOS 16<wbr>対応版］</span></p>\\n          <p itemprop=\"author\" class=\"author\">リンクアップ\\u3000著</p>\\n          <p itemprop=\"offers\" itemscope=\"itemscope\" itemtype=\"http://schema.org/Offer\" class=\"price\"><span itemprop=\"price\">2,000</span>円<meta itemprop=\"priceCurrency\" content=\"JPY\"/></p>\\n          <ul class=\"format\">\\n            <li class=\"pdf\">PDF</li>\\n          </ul>\\n          <ul class=\"date\">\\n            <li class=\"notice\"><time datetime=\"2023-5-01\" itemprop=\"datePublished\" class=\"published\">2023年5月1日</time></li>\\n            \\n          </ul>\\n        </a></li>        <li class=\"new\" id=\"978-4-297-13490-7\"><a itemprop=\"url\" href=\"/dp/ebook/2023/978-4-297-13490-7\">\\n          <img itemprop=\"image\" src=\"https://image.gihyo.co.jp/assets/images/gdp/2023/thumb/TH100_978-4-297-13490-7.jpg\" srcset=\"https://image.gihyo.co.jp/assets/images/gdp/2023/thumb/TH100_978-4-297-13490-7.jpg 1x, https://image.gihyo.co.jp/assets/images/gdp/2023/thumb/TH200_978-4-297-13490-7.jpg 2x\" width=\"100\" height=\"141\" alt=\"カバー画像\" decoding=\"async\"/>\\n          <p itemprop=\"name\" class=\"title\">売れるランディングページ改善の法則</p>\\n          <p itemprop=\"author\" class=\"author\">株式会社テマヒマ\\u3000平岡大輔\\u3000著</p>\\n          <p itemprop=\"offers\" itemscope=\"itemscope\" itemtype=\"http://schema.org/Offer\" class=\"price\"><span itemprop=\"price\">2,000</span>円<meta itemprop=\"priceCurrency\" content=\"JPY\"/></p>\\n          <ul class=\"format\">\\n            <li class=\"pdf\">PDF</li>\\n          </ul>\\n          <ul class=\"date\">\\n            <li class=\"notice\"><time datetime=\"2023-4-28\" itemprop=\"datePublished\" class=\"published\">2023年4月28日</time></li>\\n            \\n          </ul>\\n        </a></li>        <li class=\"new\" id=\"978-4-297-13241-5\"><a itemprop=\"url\" href=\"/dp/ebook/2023/978-4-297-13241-5\">\\n          <img itemprop=\"image\" src=\"https://image.gihyo.co.jp/assets/images/gdp/2023/thumb/TH100_978-4-297-13241-5.jpg\" srcset=\"https://image.gihyo.co.jp/assets/images/gdp/2023/thumb/TH100_978-4-297-13241-5.jpg 1x, https://image.gihyo.co.jp/assets/images/gdp/2023/thumb/TH200_978-4-297-13241-5.jpg 2x\" width=\"100\" height=\"142\" alt=\"カバー画像\" decoding=\"async\"/>\\n          <p itemprop=\"name\" class=\"title\">ディープラーニング<wbr>G<wbr>検定<wbr>（ジェネラリスト） 法律・<wbr>倫理テキスト</p>\\n          <p itemprop=\"author\" class=\"author\">古川直裕\\u3000編著，<wbr/>渡邊道生穂，<wbr/>柴山吉報\\u3000著，<wbr/>一般社団法人 日本ディープラーニング協会\\u3000監修</p>\\n          <p itemprop=\"offers\" itemscope=\"itemscope\" itemtype=\"http://schema.org/Offer\" class=\"price\"><span itemprop=\"price\">1,800</span>円<meta itemprop=\"priceCurrency\" content=\"JPY\"/></p>\\n          <ul class=\"format\">\\n            <li class=\"pdf\">PDF</li>\\n          </ul>\\n          <ul class=\"date\">\\n            <li class=\"notice\"><time datetime=\"2023-4-28\" itemprop=\"datePublished\" class=\"published\">2023年4月28日</time></li>\\n            \\n          </ul>\\n        </a></li>        <li class=\"new\" id=\"978-4-297-13496-9\"><a itemprop=\"url\" href=\"/dp/ebook/2023/978-4-297-13496-9\">\\n          <img itemprop=\"image\" src=\"https://image.gihyo.co.jp/assets/images/gdp/2023/thumb/TH100_978-4-297-13496-9.jpg\" srcset=\"https://image.gihyo.co.jp/assets/images/gdp/2023/thumb/TH100_978-4-297-13496-9.jpg 1x, https://image.gihyo.co.jp/assets/images/gdp/2023/thumb/TH200_978-4-297-13496-9.jpg 2x\" width=\"100\" height=\"126\" alt=\"カバー画像\" decoding=\"async\"/>\\n          <p itemprop=\"name\" class=\"title\"><span class=\"series\">エンジニア選書</span> 実践 Svelte<wbr>入門</p>\\n          <p itemprop=\"author\" class=\"author\">Kyohei Hamaguchi (tnzk)，<wbr/>小関泰裕\\u3000著</p>\\n          <p itemprop=\"offers\" itemscope=\"itemscope\" itemtype=\"http://schema.org/Offer\" class=\"price\"><span itemprop=\"price\">3,400</span>円<meta itemprop=\"priceCurrency\" content=\"JPY\"/></p>\\n          <ul class=\"format\">\\n            <li class=\"pdf\">PDF</li>\\n          </ul>\\n          <ul class=\"date\">\\n            <li class=\"notice\"><time datetime=\"2023-4-28\" itemprop=\"datePublished\" class=\"published\">2023年4月28日</time></li>\\n            \\n          </ul>\\n        </a></li>        <li class=\"new\" id=\"978-4-297-13510-2\"><a itemprop=\"url\" href=\"/dp/ebook/2023/978-4-297-13510-2\">\\n          <img itemprop=\"image\" src=\"https://image.gihyo.co.jp/assets/images/gdp/2023/thumb/TH100_978-4-297-13510-2.jpg\" srcset=\"https://image.gihyo.co.jp/assets/images/gdp/2023/thumb/TH100_978-4-297-13510-2.jpg 1x, https://image.gihyo.co.jp/assets/images/gdp/2023/thumb/TH200_978-4-297-13510-2.jpg 2x\" width=\"100\" height=\"142\" alt=\"カバー画像\" decoding=\"async\"/>\\n          <p itemprop=\"name\" class=\"title\">現場が動きだす大学教育のマネジメントとは<br><span class=\"sub\">―茨城大学<wbr>「教育の質保証」<wbr>システム構築の物語</span></p>\\n          <p itemprop=\"author\" class=\"author\">太田寛行，<wbr/>嶌田敏行\\u3000編，<wbr/>「茨城大学コミットメント」プロジェクト\\u3000著</p>\\n          <p itemprop=\"offers\" itemscope=\"itemscope\" itemtype=\"http://schema.org/Offer\" class=\"price\"><span itemprop=\"price\">2,400</span>円<meta itemprop=\"priceCurrency\" content=\"JPY\"/></p>\\n          <ul class=\"format\">\\n            <li class=\"pdf\">PDF</li>\\n          </ul>\\n          <ul class=\"date\">\\n            <li class=\"notice\"><time datetime=\"2023-4-28\" itemprop=\"datePublished\" class=\"published\">2023年4月28日</time></li>\\n            \\n          </ul>\\n        </a></li>        <li class=\"new\" id=\"978-4-297-13508-9\"><a itemprop=\"url\" href=\"/dp/ebook/2023/978-4-297-13508-9\">\\n          <img itemprop=\"image\" src=\"https://image.gihyo.co.jp/assets/images/gdp/2023/thumb/TH100_978-4-297-13508-9.jpg\" srcset=\"https://image.gihyo.co.jp/assets/images/gdp/2023/thumb/TH100_978-4-297-13508-9.jpg 1x, https://image.gihyo.co.jp/assets/images/gdp/2023/thumb/TH200_978-4-297-13508-9.jpg 2x\" width=\"100\" height=\"141\" alt=\"カバー画像\" decoding=\"async\"/>\\n          <p itemprop=\"name\" class=\"title\"><span class=\"series\">Minecraft<wbr>オフィシャルブック</span> マインクラフト モブのたくらみ<br><span class=\"sub\">［石の剣のものがたりシリーズ②］</span></p>\\n          <p itemprop=\"author\" class=\"author\">ニック・エリオポラス\\u3000文，<wbr/>アラン・バトソン，<wbr/>クリス・ヒル\\u3000絵，<wbr/>酒井章文\\u3000訳</p>\\n          <p itemprop=\"offers\" itemscope=\"itemscope\" itemtype=\"http://schema.org/Offer\" class=\"price\"><span itemprop=\"price\">1,280</span>円<meta itemprop=\"priceCurrency\" content=\"JPY\"/></p>\\n          <ul class=\"format\">\\n            <li class=\"pdf\">PDF</li>\\n          </ul>\\n          <ul class=\"date\">\\n            <li class=\"notice\"><time datetime=\"2023-4-26\" itemprop=\"datePublished\" class=\"published\">2023年4月26日</time></li>\\n            \\n          </ul>\\n        </a></li>        <li class=\"new\" id=\"978-4-297-13408-2\"><a itemprop=\"url\" href=\"/dp/ebook/2023/978-4-297-13408-2\">\\n          <img itemprop=\"image\" src=\"https://image.gihyo.co.jp/assets/images/gdp/2023/thumb/TH100_978-4-297-13408-2.jpg\" srcset=\"https://image.gihyo.co.jp/assets/images/gdp/2023/thumb/TH100_978-4-297-13408-2.jpg 1x, https://image.gihyo.co.jp/assets/images/gdp/2023/thumb/TH200_978-4-297-13408-2.jpg 2x\" width=\"100\" height=\"141\" alt=\"カバー画像\" decoding=\"async\"/>\\n          <p itemprop=\"name\" class=\"title\"><span class=\"series\">図解即戦力</span> 図解即戦力<br>脱炭素のビジネス戦略と技術がこれ<wbr>1<wbr>冊でしっかりわかる教科書</p>\\n          <p itemprop=\"author\" class=\"author\">本橋恵一\\u3000著</p>\\n          <p itemprop=\"offers\" itemscope=\"itemscope\" itemtype=\"http://schema.org/Offer\" class=\"price\"><span itemprop=\"price\">1,800</span>円<meta itemprop=\"priceCurrency\" content=\"JPY\"/></p>\\n          <ul class=\"format\">\\n            <li class=\"pdf\">PDF</li>\\n          </ul>\\n          <ul class=\"date\">\\n            <li><time datetime=\"2023-4-24\" itemprop=\"datePublished\" class=\"published\">2023年4月24日</time></li>\\n            \\n          </ul>\\n        </a></li>        <li class=\"new\" id=\"978-4-297-13436-5\"><a itemprop=\"url\" href=\"/dp/ebook/2023/978-4-297-13436-5\">\\n          <img itemprop=\"image\" src=\"https://image.gihyo.co.jp/assets/images/gdp/2023/thumb/TH100_978-4-297-13436-5.jpg\" srcset=\"https://image.gihyo.co.jp/assets/images/gdp/2023/thumb/TH100_978-4-297-13436-5.jpg 1x, https://image.gihyo.co.jp/assets/images/gdp/2023/thumb/TH200_978-4-297-13436-5.jpg 2x\" width=\"100\" height=\"142\" alt=\"カバー画像\" decoding=\"async\"/>\\n          <p itemprop=\"name\" class=\"title\">ノンプログラマーのための Visual Studio Code<wbr>実践活用ガイド</p>\\n          <p itemprop=\"author\" class=\"author\">リブロワークス\\u3000著</p>\\n          <p itemprop=\"offers\" itemscope=\"itemscope\" itemtype=\"http://schema.org/Offer\" class=\"price\"><span itemprop=\"price\">2,600</span>円<meta itemprop=\"priceCurrency\" content=\"JPY\"/></p>\\n          <ul class=\"format\">\\n            <li class=\"pdf\">PDF</li><li class=\"epub\">EPUB</li>\\n          </ul>\\n          <ul class=\"date\">\\n            <li><time datetime=\"2023-4-24\" itemprop=\"datePublished\" class=\"published\">2023年4月24日</time></li>\\n            \\n          </ul>\\n        </a></li>        <li class=\"new\" id=\"978-4-297-13438-9\"><a itemprop=\"url\" href=\"/dp/ebook/2023/978-4-297-13438-9\">\\n          <img itemprop=\"image\" src=\"https://image.gihyo.co.jp/assets/images/gdp/2023/thumb/TH100_978-4-297-13438-9.jpg\" srcset=\"https://image.gihyo.co.jp/assets/images/gdp/2023/thumb/TH100_978-4-297-13438-9.jpg 1x, https://image.gihyo.co.jp/assets/images/gdp/2023/thumb/TH200_978-4-297-13438-9.jpg 2x\" width=\"100\" height=\"132\" alt=\"カバー画像\" decoding=\"async\"/>\\n          <p itemprop=\"name\" class=\"title\">理解するほどおもしろい！ パソコンのしくみがよくわかる本 改訂<wbr>3<wbr>版</p>\\n          <p itemprop=\"author\" class=\"author\">丹羽信夫\\u3000著</p>\\n          <p itemprop=\"offers\" itemscope=\"itemscope\" itemtype=\"http://schema.org/Offer\" class=\"price\"><span itemprop=\"price\">1,880</span>円<meta itemprop=\"priceCurrency\" content=\"JPY\"/></p>\\n          <ul class=\"format\">\\n            <li class=\"pdf\">PDF</li>\\n          </ul>\\n          <ul class=\"date\">\\n            <li><time datetime=\"2023-4-24\" itemprop=\"datePublished\" class=\"published\">2023年4月24日</time></li>\\n            \\n          </ul>\\n        </a></li>        <li class=\"new\" id=\"978-4-297-13478-5\"><a itemprop=\"url\" href=\"/dp/ebook/2023/978-4-297-13478-5\">\\n          <img itemprop=\"image\" src=\"https://image.gihyo.co.jp/assets/images/gdp/2023/thumb/TH100_978-4-297-13478-5.jpg\" srcset=\"https://image.gihyo.co.jp/assets/images/gdp/2023/thumb/TH100_978-4-297-13478-5.jpg 1x, https://image.gihyo.co.jp/assets/images/gdp/2023/thumb/TH200_978-4-297-13478-5.jpg 2x\" width=\"100\" height=\"141\" alt=\"カバー画像\" decoding=\"async\"/>\\n          <p itemprop=\"name\" class=\"title\">WEB+DB PRESS Vol.134</p>\\n          <p itemprop=\"author\" class=\"author\"></p>\\n          <p itemprop=\"offers\" itemscope=\"itemscope\" itemtype=\"http://schema.org/Offer\" class=\"price\"><span itemprop=\"price\">1,628</span>円<meta itemprop=\"priceCurrency\" content=\"JPY\"/></p>\\n          <ul class=\"format\">\\n            <li class=\"pdf\">PDF</li><li class=\"epub\">EPUB</li>\\n          </ul>\\n          <ul class=\"date\">\\n            <li><time datetime=\"2023-4-22\" itemprop=\"datePublished\" class=\"published\">2023年4月22日</time></li>\\n            \\n          </ul>\\n        </a></li>        <li class=\"new\" id=\"978-4-297-13432-7\"><a itemprop=\"url\" href=\"/dp/ebook/2023/978-4-297-13432-7\">\\n          <img itemprop=\"image\" src=\"https://image.gihyo.co.jp/assets/images/gdp/2023/thumb/TH100_978-4-297-13432-7.jpg\" srcset=\"https://image.gihyo.co.jp/assets/images/gdp/2023/thumb/TH100_978-4-297-13432-7.jpg 1x, https://image.gihyo.co.jp/assets/images/gdp/2023/thumb/TH200_978-4-297-13432-7.jpg 2x\" width=\"100\" height=\"141\" alt=\"カバー画像\" decoding=\"async\"/>\\n          <p itemprop=\"name\" class=\"title\">Nikon ニコン NX Studio パーフェクトガイド</p>\\n          <p itemprop=\"author\" class=\"author\">上田晃司，<wbr/>ナイスク\\u3000著</p>\\n          <p itemprop=\"offers\" itemscope=\"itemscope\" itemtype=\"http://schema.org/Offer\" class=\"price\"><span itemprop=\"price\">2,000</span>円<meta itemprop=\"priceCurrency\" content=\"JPY\"/></p>\\n          <ul class=\"format\">\\n            <li class=\"pdf\">PDF</li>\\n          </ul>\\n          <ul class=\"date\">\\n            <li><time datetime=\"2023-4-22\" itemprop=\"datePublished\" class=\"published\">2023年4月22日</time></li>\\n            \\n          </ul>\\n        </a></li>        <li class=\"new\" id=\"978-4-297-13434-1\"><a itemprop=\"url\" href=\"/dp/ebook/2023/978-4-297-13434-1\">\\n          <img itemprop=\"image\" src=\"https://image.gihyo.co.jp/assets/images/gdp/2023/thumb/TH100_978-4-297-13434-1.jpg\" srcset=\"https://image.gihyo.co.jp/assets/images/gdp/2023/thumb/TH100_978-4-297-13434-1.jpg 1x, https://image.gihyo.co.jp/assets/images/gdp/2023/thumb/TH200_978-4-297-13434-1.jpg 2x\" width=\"100\" height=\"127\" alt=\"カバー画像\" decoding=\"async\"/>\\n          <p itemprop=\"name\" class=\"title\"><span class=\"series\">今すぐ使えるかんたん</span> 今すぐ使えるかんたん<br>Outlook<wbr>完全ガイドブック 困った解決&amp;<wbr>便利技<br><span class=\"sub\">［Office 2021/<wbr>2019/<wbr>2016/<wbr>Microsoft 365<wbr>対応版］</span></p>\\n          <p itemprop=\"author\" class=\"author\">AYURA\\u3000著</p>\\n          <p itemprop=\"offers\" itemscope=\"itemscope\" itemtype=\"http://schema.org/Offer\" class=\"price\"><span itemprop=\"price\">1,780</span>円<meta itemprop=\"priceCurrency\" content=\"JPY\"/></p>\\n          <ul class=\"format\">\\n            <li class=\"pdf\">PDF</li>\\n          </ul>\\n          <ul class=\"date\">\\n            <li><time datetime=\"2023-4-22\" itemprop=\"datePublished\" class=\"published\">2023年4月22日</time></li>\\n            \\n          </ul>\\n        </a></li>        <li class=\"new\" id=\"978-4-297-13471-6\"><a itemprop=\"url\" href=\"/dp/ebook/2023/978-4-297-13471-6\">\\n          <img itemprop=\"image\" src=\"https://image.gihyo.co.jp/assets/images/gdp/2023/thumb/TH100_978-4-297-13471-6.jpg\" srcset=\"https://image.gihyo.co.jp/assets/images/gdp/2023/thumb/TH100_978-4-297-13471-6.jpg 1x, https://image.gihyo.co.jp/assets/images/gdp/2023/thumb/TH200_978-4-297-13471-6.jpg 2x\" width=\"100\" height=\"141\" alt=\"カバー画像\" decoding=\"async\"/>\\n          <p itemprop=\"name\" class=\"title\">新居浜高専<wbr>PIC<wbr>マイコン学習キット Ver.3 完全ガイド</p>\\n          <p itemprop=\"author\" class=\"author\">出口幹雄\\u3000著</p>\\n          <p itemprop=\"offers\" itemscope=\"itemscope\" itemtype=\"http://schema.org/Offer\" class=\"price\"><span itemprop=\"price\">2,200</span>円<meta itemprop=\"priceCurrency\" content=\"JPY\"/></p>\\n          <ul class=\"format\">\\n            <li class=\"pdf\">PDF</li>\\n          </ul>\\n          <ul class=\"date\">\\n            <li><time datetime=\"2023-4-21\" itemprop=\"datePublished\" class=\"published\">2023年4月21日</time></li>\\n            \\n          </ul>\\n        </a></li>        <li class=\"new\" id=\"978-4-297-13414-3\"><a itemprop=\"url\" href=\"/dp/ebook/2023/978-4-297-13414-3\">\\n          <img itemprop=\"image\" src=\"https://image.gihyo.co.jp/assets/images/gdp/2023/thumb/TH100_978-4-297-13414-3.jpg\" srcset=\"https://image.gihyo.co.jp/assets/images/gdp/2023/thumb/TH100_978-4-297-13414-3.jpg 1x, https://image.gihyo.co.jp/assets/images/gdp/2023/thumb/TH200_978-4-297-13414-3.jpg 2x\" width=\"100\" height=\"142\" alt=\"カバー画像\" decoding=\"async\"/>\\n          <p itemprop=\"name\" class=\"title\">［速習］<wbr>ベイズの定理<br><span class=\"sub\">——<wbr>「推論」<wbr>に効く数学の力</span></p>\\n          <p itemprop=\"author\" class=\"author\">James V Stone\\u3000著，<wbr/>岩沢宏和\\u3000監訳，<wbr/>西本恵太，<wbr/>須藤賢\\u3000訳</p>\\n          <p itemprop=\"offers\" itemscope=\"itemscope\" itemtype=\"http://schema.org/Offer\" class=\"price\"><span itemprop=\"price\">2,600</span>円<meta itemprop=\"priceCurrency\" content=\"JPY\"/></p>\\n          <ul class=\"format\">\\n            <li class=\"pdf\">PDF</li><li class=\"epub\">EPUB</li>\\n          </ul>\\n          <ul class=\"date\">\\n            <li><time datetime=\"2023-4-21\" itemprop=\"datePublished\" class=\"published\">2023年4月21日</time></li>\\n            \\n          </ul>\\n        </a></li>        <li class=\"new\" id=\"978-4-297-13410-5\"><a itemprop=\"url\" href=\"/dp/ebook/2023/978-4-297-13410-5\">\\n          <img itemprop=\"image\" src=\"https://image.gihyo.co.jp/assets/images/gdp/2023/thumb/TH100_978-4-297-13410-5.jpg\" srcset=\"https://image.gihyo.co.jp/assets/images/gdp/2023/thumb/TH100_978-4-297-13410-5.jpg 1x, https://image.gihyo.co.jp/assets/images/gdp/2023/thumb/TH200_978-4-297-13410-5.jpg 2x\" width=\"100\" height=\"142\" alt=\"カバー画像\" decoding=\"async\"/>\\n          <p itemprop=\"name\" class=\"title\"><span class=\"series\">WEB+DB PRESS plus</span> 縁の下の<wbr>UI<wbr>デザイン<br><span class=\"sub\">──小さな工夫で大きな効果をもたらす実践<wbr>TIPS<wbr>＆<wbr>テクニック</span></p>\\n          <p itemprop=\"author\" class=\"author\">池田拓司\\u3000著</p>\\n          <p itemprop=\"offers\" itemscope=\"itemscope\" itemtype=\"http://schema.org/Offer\" class=\"price\"><span itemprop=\"price\">2,980</span>円<meta itemprop=\"priceCurrency\" content=\"JPY\"/></p>\\n          <ul class=\"format\">\\n            <li class=\"pdf\">PDF</li><li class=\"epub\">EPUB</li>\\n          </ul>\\n          <ul class=\"date\">\\n            <li><time datetime=\"2023-4-21\" itemprop=\"datePublished\" class=\"published\">2023年4月21日</time></li>\\n            \\n          </ul>\\n        </a></li>        <li class=\"new\" id=\"978-4-297-13446-4\"><a itemprop=\"url\" href=\"/dp/ebook/2023/978-4-297-13446-4\">\\n          <img itemprop=\"image\" src=\"https://image.gihyo.co.jp/assets/images/gdp/2023/thumb/TH100_978-4-297-13446-4.jpg\" srcset=\"https://image.gihyo.co.jp/assets/images/gdp/2023/thumb/TH100_978-4-297-13446-4.jpg 1x, https://image.gihyo.co.jp/assets/images/gdp/2023/thumb/TH200_978-4-297-13446-4.jpg 2x\" width=\"100\" height=\"147\" alt=\"カバー画像\" decoding=\"async\"/>\\n          <p itemprop=\"name\" class=\"title\"><span class=\"series\">今すぐ使えるかんたん<wbr>mini</span> 今すぐ使えるかんたんmini<br>Excel<wbr>関数の基本と便利がこれ<wbr>1<wbr>冊でわかる本<br><span class=\"sub\">［Office 2021/<wbr>Microsoft 365<wbr>両対応］</span></p>\\n          <p itemprop=\"author\" class=\"author\">リンクアップ\\u3000著</p>\\n          <p itemprop=\"offers\" itemscope=\"itemscope\" itemtype=\"http://schema.org/Offer\" class=\"price\"><span itemprop=\"price\">900</span>円<meta itemprop=\"priceCurrency\" content=\"JPY\"/></p>\\n          <ul class=\"format\">\\n            <li class=\"pdf\">PDF</li>\\n          </ul>\\n          <ul class=\"date\">\\n            <li><time datetime=\"2023-4-21\" itemprop=\"datePublished\" class=\"published\">2023年4月21日</time></li>\\n            \\n          </ul>\\n        </a></li>        <li class=\"new\" id=\"978-4-297-13469-3\"><a itemprop=\"url\" href=\"/dp/ebook/2023/978-4-297-13469-3\">\\n          <img itemprop=\"image\" src=\"https://image.gihyo.co.jp/assets/images/gdp/2023/thumb/TH100_978-4-297-13469-3.jpg\" srcset=\"https://image.gihyo.co.jp/assets/images/gdp/2023/thumb/TH100_978-4-297-13469-3.jpg 1x, https://image.gihyo.co.jp/assets/images/gdp/2023/thumb/TH200_978-4-297-13469-3.jpg 2x\" width=\"100\" height=\"127\" alt=\"カバー画像\" decoding=\"async\"/>\\n          <p itemprop=\"name\" class=\"title\">はじめてつくる<wbr>Web<wbr>アプリケーション<br><span class=\"sub\">〜<wbr>Ruby on Rails<wbr>でプログラミングへの第一歩を踏み出そう</span></p>\\n          <p itemprop=\"author\" class=\"author\">江森真由美，<wbr/>やだけいこ，<wbr/>小林智恵\\u3000著</p>\\n          <p itemprop=\"offers\" itemscope=\"itemscope\" itemtype=\"http://schema.org/Offer\" class=\"price\"><span itemprop=\"price\">2,600</span>円<meta itemprop=\"priceCurrency\" content=\"JPY\"/></p>\\n          <ul class=\"format\">\\n            <li class=\"pdf\">PDF</li><li class=\"epub\">EPUB</li>\\n          </ul>\\n          <ul class=\"date\">\\n            <li><time datetime=\"2023-4-20\" itemprop=\"datePublished\" class=\"published\">2023年4月20日</time></li>\\n            \\n          </ul>\\n        </a></li>        <li class=\"new\" id=\"978-4-297-13387-0\"><a itemprop=\"url\" href=\"/dp/ebook/2023/978-4-297-13387-0\">\\n          <img itemprop=\"image\" src=\"https://image.gihyo.co.jp/assets/images/gdp/2023/thumb/TH100_978-4-297-13387-0.jpg\" srcset=\"https://image.gihyo.co.jp/assets/images/gdp/2023/thumb/TH100_978-4-297-13387-0.jpg 1x, https://image.gihyo.co.jp/assets/images/gdp/2023/thumb/TH200_978-4-297-13387-0.jpg 2x\" width=\"100\" height=\"147\" alt=\"カバー画像\" decoding=\"async\"/>\\n          <p itemprop=\"name\" class=\"title\"><span class=\"series\">ポケットリファレンス</span> HTML&amp;<wbr>CSS<wbr>ポケットリファレンス<br><span class=\"sub\">［改訂<wbr>3<wbr>版］</span></p>\\n          <p itemprop=\"author\" class=\"author\">森史憲，<wbr/>藤本壱\\u3000著</p>\\n          <p itemprop=\"offers\" itemscope=\"itemscope\" itemtype=\"http://schema.org/Offer\" class=\"price\"><span itemprop=\"price\">1,800</span>円<meta itemprop=\"priceCurrency\" content=\"JPY\"/></p>\\n          <ul class=\"format\">\\n            <li class=\"pdf\">PDF</li>\\n          </ul>\\n          <ul class=\"date\">\\n            <li><time datetime=\"2023-4-20\" itemprop=\"datePublished\" class=\"published\">2023年4月20日</time></li>\\n            \\n          </ul>\\n        </a></li>        <li class=\"new\" id=\"978-4-297-13353-5\"><a itemprop=\"url\" href=\"/dp/ebook/2023/978-4-297-13353-5\">\\n          <img itemprop=\"image\" src=\"https://image.gihyo.co.jp/assets/images/gdp/2023/thumb/TH100_978-4-297-13353-5.jpg\" srcset=\"https://image.gihyo.co.jp/assets/images/gdp/2023/thumb/TH100_978-4-297-13353-5.jpg 1x, https://image.gihyo.co.jp/assets/images/gdp/2023/thumb/TH200_978-4-297-13353-5.jpg 2x\" width=\"100\" height=\"146\" alt=\"カバー画像\" decoding=\"async\"/>\\n          <p itemprop=\"name\" class=\"title\">英語は<wbr>10000<wbr>時間でモノになる<br><span class=\"sub\">～ハードワークで挫折しない<wbr>「日本語断ち」<wbr>の実践法～</span></p>\\n          <p itemprop=\"author\" class=\"author\">橋本大也\\u3000著</p>\\n          <p itemprop=\"offers\" itemscope=\"itemscope\" itemtype=\"http://schema.org/Offer\" class=\"price\"><span itemprop=\"price\">1,600</span>円<meta itemprop=\"priceCurrency\" content=\"JPY\"/></p>\\n          <ul class=\"format\">\\n            <li class=\"pdf\">PDF</li><li class=\"epub\">EPUB</li>\\n          </ul>\\n          <ul class=\"date\">\\n            <li><time datetime=\"2023-4-20\" itemprop=\"datePublished\" class=\"published\">2023年4月20日</time></li>\\n            \\n          </ul>\\n        </a></li>        <li class=\"new\" id=\"978-4-297-13514-0\"><a itemprop=\"url\" href=\"/dp/ebook/2023/978-4-297-13514-0\">\\n          <img itemprop=\"image\" src=\"https://image.gihyo.co.jp/assets/images/gdp/2023/thumb/TH100_978-4-297-13514-0.jpg\" srcset=\"https://image.gihyo.co.jp/assets/images/gdp/2023/thumb/TH100_978-4-297-13514-0.jpg 1x, https://image.gihyo.co.jp/assets/images/gdp/2023/thumb/TH200_978-4-297-13514-0.jpg 2x\" width=\"100\" height=\"142\" alt=\"カバー画像\" decoding=\"async\"/>\\n          <p itemprop=\"name\" class=\"title\">まんがですっきりわかる フリーランスのためのインボイスと消費税</p>\\n          <p itemprop=\"author\" class=\"author\">服部英樹\\u3000著</p>\\n          <p itemprop=\"offers\" itemscope=\"itemscope\" itemtype=\"http://schema.org/Offer\" class=\"price\"><span itemprop=\"price\">1,300</span>円<meta itemprop=\"priceCurrency\" content=\"JPY\"/></p>\\n          <ul class=\"format\">\\n            <li class=\"pdf\">PDF</li>\\n          </ul>\\n          <ul class=\"date\">\\n            <li><time datetime=\"2023-4-20\" itemprop=\"datePublished\" class=\"published\">2023年4月20日</time></li>\\n            \\n          </ul>\\n        </a></li>        <li class=\"new\" id=\"978-4-297-13480-8\"><a itemprop=\"url\" href=\"/dp/ebook/2023/978-4-297-13480-8\">\\n          <img itemprop=\"image\" src=\"https://image.gihyo.co.jp/assets/images/gdp/2023/thumb/TH100_978-4-297-13480-8.jpg\" srcset=\"https://image.gihyo.co.jp/assets/images/gdp/2023/thumb/TH100_978-4-297-13480-8.jpg 1x, https://image.gihyo.co.jp/assets/images/gdp/2023/thumb/TH200_978-4-297-13480-8.jpg 2x\" width=\"100\" height=\"154\" alt=\"カバー画像\" decoding=\"async\"/>\\n          <p itemprop=\"name\" class=\"title\"><span class=\"series\">ポケットリファレンス</span> Vue.js<wbr>ポケットリファレンス</p>\\n          <p itemprop=\"author\" class=\"author\">長島優斗，<wbr/>久光未悠，<wbr/>東泉哲寛，<wbr/>鶴田展之，<wbr/>（株）qnote\\u3000著</p>\\n          <p itemprop=\"offers\" itemscope=\"itemscope\" itemtype=\"http://schema.org/Offer\" class=\"price\"><span itemprop=\"price\">2,880</span>円<meta itemprop=\"priceCurrency\" content=\"JPY\"/></p>\\n          <ul class=\"format\">\\n            <li class=\"pdf\">PDF</li>\\n          </ul>\\n          <ul class=\"date\">\\n            <li><time datetime=\"2023-4-19\" itemprop=\"datePublished\" class=\"published\">2023年4月19日</time></li>\\n            \\n          </ul>\\n        </a></li>        <li class=\"new\" id=\"978-4-297-13404-4\"><a itemprop=\"url\" href=\"/dp/ebook/2023/978-4-297-13404-4\">\\n          <img itemprop=\"image\" src=\"https://image.gihyo.co.jp/assets/images/gdp/2023/thumb/TH100_978-4-297-13404-4.jpg\" srcset=\"https://image.gihyo.co.jp/assets/images/gdp/2023/thumb/TH100_978-4-297-13404-4.jpg 1x, https://image.gihyo.co.jp/assets/images/gdp/2023/thumb/TH200_978-4-297-13404-4.jpg 2x\" width=\"100\" height=\"142\" alt=\"カバー画像\" decoding=\"async\"/>\\n          <p itemprop=\"name\" class=\"title\"><span class=\"series\">自由時間サプリ</span> 誰でも簡単！ 世界一の<wbr>4：<wbr>6<wbr>メソッドでハマる 美味しいコーヒー</p>\\n          <p itemprop=\"author\" class=\"author\">粕谷哲\\u3000著</p>\\n          <p itemprop=\"offers\" itemscope=\"itemscope\" itemtype=\"http://schema.org/Offer\" class=\"price\"><span itemprop=\"price\">1,600</span>円<meta itemprop=\"priceCurrency\" content=\"JPY\"/></p>\\n          <ul class=\"format\">\\n            <li class=\"pdf\">PDF</li>\\n          </ul>\\n          <ul class=\"date\">\\n            <li><time datetime=\"2023-4-19\" itemprop=\"datePublished\" class=\"published\">2023年4月19日</time></li>\\n            \\n          </ul>\\n        </a></li>        <li class=\"new\" id=\"978-4-297-13450-1\"><a itemprop=\"url\" href=\"/dp/ebook/2023/978-4-297-13450-1\">\\n          <img itemprop=\"image\" src=\"https://image.gihyo.co.jp/assets/images/gdp/2023/thumb/TH100_978-4-297-13450-1.jpg\" srcset=\"https://image.gihyo.co.jp/assets/images/gdp/2023/thumb/TH100_978-4-297-13450-1.jpg 1x, https://image.gihyo.co.jp/assets/images/gdp/2023/thumb/TH200_978-4-297-13450-1.jpg 2x\" width=\"100\" height=\"141\" alt=\"カバー画像\" decoding=\"async\"/>\\n          <p itemprop=\"name\" class=\"title\">Software Design 2023<wbr>年<wbr>5<wbr>月号</p>\\n          <p itemprop=\"author\" class=\"author\"></p>\\n          <p itemprop=\"offers\" itemscope=\"itemscope\" itemtype=\"http://schema.org/Offer\" class=\"price\"><span itemprop=\"price\">1,342</span>円<meta itemprop=\"priceCurrency\" content=\"JPY\"/></p>\\n          <ul class=\"format\">\\n            <li class=\"pdf\">PDF</li><li class=\"epub\">EPUB</li>\\n          </ul>\\n          <ul class=\"date\">\\n            <li><time datetime=\"2023-4-18\" itemprop=\"datePublished\" class=\"published\">2023年4月18日</time></li>\\n            \\n          </ul>\\n        </a></li>        <li id=\"978-4-297-13357-3\"><a itemprop=\"url\" href=\"/dp/ebook/2023/978-4-297-13357-3\">\\n          <img itemprop=\"image\" src=\"https://image.gihyo.co.jp/assets/images/gdp/2023/thumb/TH100_978-4-297-13357-3.jpg\" srcset=\"https://image.gihyo.co.jp/assets/images/gdp/2023/thumb/TH100_978-4-297-13357-3.jpg 1x, https://image.gihyo.co.jp/assets/images/gdp/2023/thumb/TH200_978-4-297-13357-3.jpg 2x\" width=\"100\" height=\"127\" alt=\"カバー画像\" decoding=\"async\"/>\\n          <p itemprop=\"name\" class=\"title\">ゼロからよくわかる！ Arduino<wbr>で電子工作入門ガイド 改訂<wbr>2<wbr>版</p>\\n          <p itemprop=\"author\" class=\"author\">登尾徳誠\\u3000著</p>\\n          <p itemprop=\"offers\" itemscope=\"itemscope\" itemtype=\"http://schema.org/Offer\" class=\"price\"><span itemprop=\"price\">2,720</span>円<meta itemprop=\"priceCurrency\" content=\"JPY\"/></p>\\n          <ul class=\"format\">\\n            <li class=\"pdf\">PDF</li>\\n          </ul>\\n          <ul class=\"date\">\\n            <li><time datetime=\"2023-4-15\" itemprop=\"datePublished\" class=\"published\">2023年4月15日</time></li>\\n            \\n          </ul>\\n        </a></li>        <li id=\"978-4-297-13458-7\"><a itemprop=\"url\" href=\"/dp/ebook/2023/978-4-297-13458-7\">\\n          <img itemprop=\"image\" src=\"https://image.gihyo.co.jp/assets/images/gdp/2023/thumb/TH100_978-4-297-13458-7.jpg\" srcset=\"https://image.gihyo.co.jp/assets/images/gdp/2023/thumb/TH100_978-4-297-13458-7.jpg 1x, https://image.gihyo.co.jp/assets/images/gdp/2023/thumb/TH200_978-4-297-13458-7.jpg 2x\" width=\"100\" height=\"142\" alt=\"カバー画像\" decoding=\"async\"/>\\n          <p itemprop=\"name\" class=\"title\"><span class=\"series\">COMODO<wbr>（COMODO ライフブック）</span> おとなの浴衣、はじめます</p>\\n          <p itemprop=\"author\" class=\"author\">山崎陽子\\u3000著</p>\\n          <p itemprop=\"offers\" itemscope=\"itemscope\" itemtype=\"http://schema.org/Offer\" class=\"price\"><span itemprop=\"price\">1,600</span>円<meta itemprop=\"priceCurrency\" content=\"JPY\"/></p>\\n          <ul class=\"format\">\\n            <li class=\"pdf\">PDF</li>\\n          </ul>\\n          <ul class=\"date\">\\n            <li><time datetime=\"2023-4-15\" itemprop=\"datePublished\" class=\"published\">2023年4月15日</time></li>\\n            \\n          </ul>\\n        </a></li>        <li id=\"978-4-297-13424-2\"><a itemprop=\"url\" href=\"/dp/ebook/2023/978-4-297-13424-2\">\\n          <img itemprop=\"image\" src=\"https://image.gihyo.co.jp/assets/images/gdp/2023/thumb/TH100_978-4-297-13424-2.jpg\" srcset=\"https://image.gihyo.co.jp/assets/images/gdp/2023/thumb/TH100_978-4-297-13424-2.jpg 1x, https://image.gihyo.co.jp/assets/images/gdp/2023/thumb/TH200_978-4-297-13424-2.jpg 2x\" width=\"100\" height=\"162\" alt=\"カバー画像\" decoding=\"async\"/>\\n          <p itemprop=\"name\" class=\"title\"><span class=\"series\">ポケット介護</span> 【ポケット介護】<wbr>改訂新版 見てわかるリハビリ<br><span class=\"sub\">～活動と参加で<wbr>「自立支援」<wbr>につなげるコツ</span></p>\\n          <p itemprop=\"author\" class=\"author\">繁岡秀俊\\u3000著</p>\\n          <p itemprop=\"offers\" itemscope=\"itemscope\" itemtype=\"http://schema.org/Offer\" class=\"price\"><span itemprop=\"price\">1,680</span>円<meta itemprop=\"priceCurrency\" content=\"JPY\"/></p>\\n          <ul class=\"format\">\\n            <li class=\"pdf\">PDF</li>\\n          </ul>\\n          <ul class=\"date\">\\n            <li><time datetime=\"2023-4-15\" itemprop=\"datePublished\" class=\"published\">2023年4月15日</time></li>\\n            \\n          </ul>\\n        </a></li>        <li id=\"978-4-297-13393-1\"><a itemprop=\"url\" href=\"/dp/ebook/2023/978-4-297-13393-1\">\\n          <img itemprop=\"image\" src=\"https://image.gihyo.co.jp/assets/images/gdp/2023/thumb/TH100_978-4-297-13393-1.jpg\" srcset=\"https://image.gihyo.co.jp/assets/images/gdp/2023/thumb/TH100_978-4-297-13393-1.jpg 1x, https://image.gihyo.co.jp/assets/images/gdp/2023/thumb/TH200_978-4-297-13393-1.jpg 2x\" width=\"100\" height=\"142\" alt=\"カバー画像\" decoding=\"async\"/>\\n          <p itemprop=\"name\" class=\"title\">最短時間でムダなく成果を上げる パソコン仕事術の教科書<br><span class=\"sub\">［改訂新版］</span></p>\\n          <p itemprop=\"author\" class=\"author\">中山真敬\\u3000著</p>\\n          <p itemprop=\"offers\" itemscope=\"itemscope\" itemtype=\"http://schema.org/Offer\" class=\"price\"><span itemprop=\"price\">1,600</span>円<meta itemprop=\"priceCurrency\" content=\"JPY\"/></p>\\n          <ul class=\"format\">\\n            <li class=\"pdf\">PDF</li>\\n          </ul>\\n          <ul class=\"date\">\\n            <li><time datetime=\"2023-4-15\" itemprop=\"datePublished\" class=\"published\">2023年4月15日</time></li>\\n            \\n          </ul>\\n        </a></li>        <li id=\"978-4-297-13406-8\"><a itemprop=\"url\" href=\"/dp/ebook/2023/978-4-297-13406-8\">\\n          <img itemprop=\"image\" src=\"https://image.gihyo.co.jp/assets/images/gdp/2023/thumb/TH100_978-4-297-13406-8.jpg\" srcset=\"https://image.gihyo.co.jp/assets/images/gdp/2023/thumb/TH100_978-4-297-13406-8.jpg 1x, https://image.gihyo.co.jp/assets/images/gdp/2023/thumb/TH200_978-4-297-13406-8.jpg 2x\" width=\"100\" height=\"147\" alt=\"カバー画像\" decoding=\"async\"/>\\n          <p itemprop=\"name\" class=\"title\">一生使える ビジネスメールの<wbr>「型」<br><span class=\"sub\">～悩まず、早く、<wbr>“伝わる”<wbr>メールを書く基本</span></p>\\n          <p itemprop=\"author\" class=\"author\">海津佳寿美\\u3000著</p>\\n          <p itemprop=\"offers\" itemscope=\"itemscope\" itemtype=\"http://schema.org/Offer\" class=\"price\"><span itemprop=\"price\">1,300</span>円<meta itemprop=\"priceCurrency\" content=\"JPY\"/></p>\\n          <ul class=\"format\">\\n            <li class=\"pdf\">PDF</li>\\n          </ul>\\n          <ul class=\"date\">\\n            <li><time datetime=\"2023-4-15\" itemprop=\"datePublished\" class=\"published\">2023年4月15日</time></li>\\n            \\n          </ul>\\n        </a></li>\\n      </ul>\\n      <nav id=\"pagingBottom\">        <ul>\\n          <li><span class=\"prev\">―</span></li>\\n          <li class=\"paging-number\">1 - 30 / 3756</li>\\n          <li><a href=\"/dp?start=30\" title=\"次のページ\" class=\"next\">次</a></li>\\n        </ul>\\n      </nav>\\n    </div>\\n  </div>\\n  <footer id=\"footer\" itemscope=\"itemscope\" itemtype=\"http://www.schema.org/WPFooter\">\\n    <div id=\"wait\" class=\"hidden\"></div>\\n    <nav id=\"navigation\" itemscope=\"itemscope\" itemtype=\"http://www.schema.org/SiteNavigationElement\">\\n      <ul id=\"navigationLink\">\\n        <li id=\"navLinkHome\" class=\"current\"><a itemprop=\"url\" href=\"/dp\" title=\"ストア\" class=\"home\">ストア</a></li>\\n        <li id=\"navLinkMyPage\"><a itemprop=\"url\" href=\"/dp/my-page\" title=\"マイページ\" class=\"mypage\">マイページ</a></li>\\n        <li id=\"navLinkInfor\"><a itemprop=\"url\" href=\"/dp/information\" title=\"お知らせ\" class=\"information\">お知らせ</a></li>\\n        <li id=\"navLinkHelp\"><a itemprop=\"url\" href=\"/dp/help\" title=\"ヘルプ\" class=\"help\">ヘルプ</a></li>\\n      </ul>\\n    </nav>\\n    <nav id=\"function\" itemscope=\"itemscope\" itemtype=\"http://www.schema.org/WPSideBar\">\\n      <div id=\"backgroundWrapper\"></div>\\n      <div id=\"navInfor\"><p class=\"page\">1 - 30 / 3756</p></div>\\n    </nav>\\n    <div id=\"storeInformation\">\\n      <ul id=\"footerLink\">\\n        <li>Twitter: <a href=\"https://twitter.com/gihyoDP\">@gihyoDP</a></li>\\n        <li><a href=\"/dp/help/about/site\">このサイトについて</a></li>\\n        <li><a href=\"/dp/help/about/terms\">利用規約</a></li>\\n        <li><a href=\"/dp/help/about/privacy\">プライバシーポリシー</a></li>\\n        <li><a href=\"/dp/help/about/law\">特定商取引法に基づく表示</a></li>\\n      </ul>\\n      <p id=\"storeCopyright\"><small>Copyright © 2023 <span class=\"reserved\">All Rights Reserved by</span> <a href=\"/book\">Gijutsu-Hyoron Co., Ltd.</a></small></p>\\n    </div>\\n  </footer>\\n<script>var params={\"url\":\"https:\\\\/\\\\/gihyo.jp\\\\/dp\",\"path\":\"\\\\/dp\",\"body\":\"    <div id=\\\\\"bookList\\\\\">\\\\n      <h2>\\\\u5546\\\\u54c1\\\\u4e00\\\\u89a7<\\\\/h2>\\\\n      <div id=\\\\\"topNavigation\\\\\">\\\\n        <div id=\\\\\"filter\\\\\">\\\\n          <form id=\\\\\"search\\\\\" action=\\\\\"\\\\/dp\\\\\" method=\\\\\"get\\\\\">\\\\n            <input type=\\\\\"search\\\\\" name=\\\\\"query\\\\\" id=\\\\\"searchText\\\\\" title=\\\\\"\\\\u691c\\\\u7d22\\\\u3059\\\\u308b\\\\u5546\\\\u54c1\\\\u306e\\\\u30ad\\\\u30fc\\\\u30ef\\\\u30fc\\\\u30c9\\\\u3092\\\\u5165\\\\u529b\\\\\" placeholder=\\\\\"\\\\u5546\\\\u54c1\\\\u306e\\\\u30ad\\\\u30fc\\\\u30ef\\\\u30fc\\\\u30c9\\\\\" required=\\\\\"required\\\\\" value=\\\\\"\\\\\"\\\\/>\\\\n            <input type=\\\\\"submit\\\\\" id=\\\\\"searchSubmit\\\\\" value=\\\\\"\\\\u691c\\\\u7d22\\\\\" title=\\\\\"\\\\u691c\\\\u7d22\\\\u3059\\\\u308b\\\\\"\\\\/>\\\\n          <\\\\/form>\\\\n          <div id=\\\\\"select\\\\\">\\\\n            <a href=\\\\\"\\\\\" id=\\\\\"selectLabel\\\\\" title=\\\\\"\\\\u5546\\\\u54c1\\\\u30b8\\\\u30e3\\\\u30f3\\\\u30eb\\\\u3092\\\\u9078\\\\u629e\\\\u3059\\\\u308b\\\\\"><\\\\/a>\\\\n            <div id=\\\\\"selectMenu\\\\\">\\\\n              <ul id=\\\\\"selectMenuBody\\\\\"><\\\\/ul>\\\\n            <\\\\/div>\\\\n          <\\\\/div>\\\\n        <\\\\/div>\\\\n        <nav id=\\\\\"pagingTop\\\\\">\\\\n        <\\\\/nav>\\\\n      <\\\\/div>\\\\n      <ul itemprop=\\\\\"isPartOf\\\\\" itemscope=\\\\\"itemscope\\\\\" itemtype=\\\\\"http:\\\\/\\\\/www.schema.org\\\\/CollectionPage\\\\\" id=\\\\\"listBook\\\\\" class=\\\\\"list-book\\\\\">\\\\n      <\\\\/ul>\\\\n      <nav id=\\\\\"pagingBottom\\\\\">\\\\n      <\\\\/nav>\\\\n    <\\\\/div>\",\"isLogin\":false,\"dialog\":\"<aside id=\\\\\"dialog\\\\\" class=\\\\\"dialog-login\\\\\" style=\\\\\"opacity:0\\\\\">\\\\n  <div id=\\\\\"dialogBody\\\\\">\\\\n    <div id=\\\\\"gihyoAccount\\\\\">\\\\n      <h2>\\\\u30e1\\\\u30fc\\\\u30eb\\\\u30a2\\\\u30c9\\\\u30ec\\\\u30b9\\\\u3067\\\\u30ed\\\\u30b0\\\\u30a4\\\\u30f3<\\\\/h2>\\\\n      <form action=\\\\\"?login\\\\\" method=\\\\\"post\\\\\">\\\\n        <input type=\\\\\"hidden\\\\\" name=\\\\\"fid\\\\\" value=\\\\\"\\\\\"\\\\/>\\\\n        <dl>\\\\n          <dt>\\\\u30a2\\\\u30ab\\\\u30a6\\\\u30f3\\\\u30c8<\\\\/dt>\\\\n          <dd><input type=\\\\\"email\\\\\" name=\\\\\"account\\\\\" placeholder=\\\\\"\\\\u30e1\\\\u30fc\\\\u30eb\\\\u30a2\\\\u30c9\\\\u30ec\\\\u30b9\\\\\" required=\\\\\"required\\\\\" title=\\\\\"\\\\u30a2\\\\u30ab\\\\u30a6\\\\u30f3\\\\u30c8\\\\u306e\\\\u30e1\\\\u30fc\\\\u30eb\\\\u30a2\\\\u30c9\\\\u30ec\\\\u30b9\\\\u3092\\\\u5165\\\\u529b\\\\\"\\\\/><\\\\/dd>\\\\n          <dt>\\\\u30d1\\\\u30b9\\\\u30ef\\\\u30fc\\\\u30c9<\\\\/dt>\\\\n          <dd><input type=\\\\\"password\\\\\" name=\\\\\"password\\\\\" placeholder=\\\\\"\\\\u30d1\\\\u30b9\\\\u30ef\\\\u30fc\\\\u30c9\\\\\" required=\\\\\"required\\\\\" title=\\\\\"\\\\u30a2\\\\u30ab\\\\u30a6\\\\u30f3\\\\u30c8\\\\u306e\\\\u30d1\\\\u30b9\\\\u30ef\\\\u30fc\\\\u30c9\\\\u3092\\\\u5165\\\\u529b\\\\\"\\\\/><\\\\/dd>\\\\n        <\\\\/dl>\\\\n        <p id=\\\\\"loginButton\\\\\"><input type=\\\\\"submit\\\\\" value=\\\\\"\\\\u30ed\\\\u30b0\\\\u30a4\\\\u30f3\\\\\" title=\\\\\"\\\\u30ed\\\\u30b0\\\\u30a4\\\\u30f3\\\\u3059\\\\u308b\\\\\"\\\\/><\\\\/p>\\\\n        <ul id=\\\\\"loginFunction\\\\\">\\\\n          <li><a href=\\\\\"\\\\/dp\\\\/help\\\\/buy\\\\/forgot\\\\\">\\\\u30d1\\\\u30b9\\\\u30ef\\\\u30fc\\\\u30c9\\\\u3092\\\\u304a\\\\u5fd8\\\\u308c\\\\u306e\\\\u65b9<\\\\/a><\\\\/li>\\\\n          <li><a href=\\\\\"\\\\/dp\\\\/help\\\\/buy\\\\/account\\\\\">\\\\u65b0\\\\u898f\\\\u767b\\\\u9332\\\\u3092\\\\u3054\\\\u5e0c\\\\u671b\\\\u306e\\\\u65b9<\\\\/a><\\\\/li>\\\\n        <\\\\/ul>\\\\n      <\\\\/form>\\\\n    <\\\\/div>\\\\n    <div id=\\\\\"externalSite\\\\\">\\\\n      <h2>\\\\u5916\\\\u90e8\\\\u30b5\\\\u30fc\\\\u30d3\\\\u30b9\\\\u3067\\\\u30ed\\\\u30b0\\\\u30a4\\\\u30f3<\\\\/h2>\\\\n      <ul>\\\\n      <li class=\\\\\"google\\\\\"><a href=\\\\\"https:\\\\/\\\\/gihyo.jp\\\\/auth\\\\/google\\\\\"><img src=\\\\\"\\\\/assets\\\\/images\\\\/social\\\\/google_icon_256.png\\\\\" width=\\\\\"48\\\\\" height=\\\\\"48\\\\\" alt=\\\\\"\\\\\">Google\\\\u30a2\\\\u30ab\\\\u30a6\\\\u30f3\\\\u30c8\\\\u3067\\\\u30ed\\\\u30b0\\\\u30a4\\\\u30f3<\\\\/a><\\\\/li>\\\\n      <li class=\\\\\"facebook\\\\\"><a href=\\\\\"https:\\\\/\\\\/gihyo.jp\\\\/auth\\\\/facebook\\\\\"><img src=\\\\\"\\\\/assets\\\\/images\\\\/social\\\\/facebook_icon_256.png\\\\\" width=\\\\\"48\\\\\" height=\\\\\"48\\\\\" alt=\\\\\"\\\\\">Facebook\\\\u3067\\\\u30ed\\\\u30b0\\\\u30a4\\\\u30f3<\\\\/a><\\\\/li>\\\\n      <li class=\\\\\"yahoojp\\\\\"><a href=\\\\\"https:\\\\/\\\\/gihyo.jp\\\\/auth\\\\/yahoojp\\\\\"><img src=\\\\\"\\\\/assets\\\\/images\\\\/social\\\\/yahoo_japan_icon_256.png\\\\\" width=\\\\\"48\\\\\" height=\\\\\"48\\\\\" alt=\\\\\"\\\\\">Yahoo! JAPAN ID\\\\u3067\\\\u30ed\\\\u30b0\\\\u30a4\\\\u30f3<\\\\/a><\\\\/li>\\\\n      <\\\\/ul>\\\\n      <p><a href=\\\\\"\\\\/dp\\\\/help\\\\/buy\\\\/external\\\\\">\\\\u5916\\\\u90e8\\\\u30b5\\\\u30fc\\\\u30d3\\\\u30b9\\\\u3067\\\\u306e\\\\u30ed\\\\u30b0\\\\u30a4\\\\u30f3\\\\u306b\\\\u3064\\\\u3044\\\\u3066<\\\\/a><\\\\/p>\\\\n    <\\\\/div>\\\\n    <p id=\\\\\"close\\\\\"><a href=\\\\\"#close\\\\\" title=\\\\\"\\\\u9589\\\\u3058\\\\u308b\\\\\">\\\\u9589\\\\u3058\\\\u308b<\\\\/a><\\\\/p>\\\\n  <\\\\/div>\\\\n<\\\\/aside>\"}</script>\\n  <script>var asyncCall=function(){var e=Array.prototype.slice,a=Function.prototype.bind||function(j){var a=this,b=e.call(arguments,1);return function(){var c=e.call(arguments);return a.apply(j,b.concat(c))}},f=a.call(a,Function.prototype.call),b=f(e),c=f(a),d=f(Function.prototype.apply);if(\"undefined\"!==typeof process)a=function(){var a=b(arguments);process.nextTick(d(c,null,a))};else if(\"function\"===typeof setImmediate)a=function(){var a=b(arguments);setImmediate(d(c,null,a))};else if(\"function\"===typeof MessageChannel){var g=new MessageChannel,h=[];g.port1.onmessage=function(){h.shift()()};a=function(){var a=b(arguments);h.push(d(c,null,a));g.port2.postMessage(0)}}else a=function(){var a=b(arguments);setTimeout(d(c,null,a),0)};return a}();window.onerror=function(mes,fname,lnum){var erIgnore=[\\'top.GLOBALS\\',\\'originalCreateNotification\\',\\'canvas.contentDocument\\',\\'fb_xd_fragment\\',\\'Script error.\\'];for(i=0;i<erIgnore.length;i++){if(mes.indexOf(erIgnore[i])>-1){return false;}};var mes=\\'message:\\'+mes+\\', file:\\'+fname+\\', line:\\'+lnum+\\', href:\\'+location.href+\\', UA:\\'+window.navigator.userAgent;gtag(\\'event\\',\\'JSError\\',{\\'evetn_category\\':\\'Error\\',\\'event_label\\':mes});};</script>\\n  <script src=\"//platform.twitter.com/widgets.js\" id=\"twitter-wjs\" async defer></script>\\n  <script src=\"//connect.facebook.net/ja_JP/sdk.js#xfbml=1&appId=185201618169441&version=v2.8\" id=\"facebook-jssdk\" async defer></script>\\n  <script src=\"//apis.google.com/js/platform.js\" async defer></script>\\n  <script src=\"//b.hatena.ne.jp/js/bookmark_button.js\" charset=\"utf-8\" async defer></script>\\n</body>\\n</html>'"
      ]
     },
     "execution_count": 7,
     "metadata": {},
     "output_type": "execute_result"
    }
   ],
   "source": [
    "# text属性でstr型にデコードしたレスポンスボディを取得できる\n",
    "r.text"
   ]
  },
  {
   "attachments": {},
   "cell_type": "markdown",
   "metadata": {},
   "source": [
    "#### Requestsの高度な機能"
   ]
  },
  {
   "cell_type": "code",
   "execution_count": 8,
   "metadata": {},
   "outputs": [
    {
     "data": {
      "text/plain": [
       "{'id': 1362490,\n",
       " 'node_id': 'MDEwOlJlcG9zaXRvcnkxMzYyNDkw',\n",
       " 'name': 'requests',\n",
       " 'full_name': 'psf/requests',\n",
       " 'private': False,\n",
       " 'owner': {'login': 'psf',\n",
       "  'id': 50630501,\n",
       "  'node_id': 'MDEyOk9yZ2FuaXphdGlvbjUwNjMwNTAx',\n",
       "  'avatar_url': 'https://avatars.githubusercontent.com/u/50630501?v=4',\n",
       "  'gravatar_id': '',\n",
       "  'url': 'https://api.github.com/users/psf',\n",
       "  'html_url': 'https://github.com/psf',\n",
       "  'followers_url': 'https://api.github.com/users/psf/followers',\n",
       "  'following_url': 'https://api.github.com/users/psf/following{/other_user}',\n",
       "  'gists_url': 'https://api.github.com/users/psf/gists{/gist_id}',\n",
       "  'starred_url': 'https://api.github.com/users/psf/starred{/owner}{/repo}',\n",
       "  'subscriptions_url': 'https://api.github.com/users/psf/subscriptions',\n",
       "  'organizations_url': 'https://api.github.com/users/psf/orgs',\n",
       "  'repos_url': 'https://api.github.com/users/psf/repos',\n",
       "  'events_url': 'https://api.github.com/users/psf/events{/privacy}',\n",
       "  'received_events_url': 'https://api.github.com/users/psf/received_events',\n",
       "  'type': 'Organization',\n",
       "  'site_admin': False},\n",
       " 'html_url': 'https://github.com/psf/requests',\n",
       " 'description': 'A simple, yet elegant, HTTP library.',\n",
       " 'fork': False,\n",
       " 'url': 'https://api.github.com/repos/psf/requests',\n",
       " 'forks_url': 'https://api.github.com/repos/psf/requests/forks',\n",
       " 'keys_url': 'https://api.github.com/repos/psf/requests/keys{/key_id}',\n",
       " 'collaborators_url': 'https://api.github.com/repos/psf/requests/collaborators{/collaborator}',\n",
       " 'teams_url': 'https://api.github.com/repos/psf/requests/teams',\n",
       " 'hooks_url': 'https://api.github.com/repos/psf/requests/hooks',\n",
       " 'issue_events_url': 'https://api.github.com/repos/psf/requests/issues/events{/number}',\n",
       " 'events_url': 'https://api.github.com/repos/psf/requests/events',\n",
       " 'assignees_url': 'https://api.github.com/repos/psf/requests/assignees{/user}',\n",
       " 'branches_url': 'https://api.github.com/repos/psf/requests/branches{/branch}',\n",
       " 'tags_url': 'https://api.github.com/repos/psf/requests/tags',\n",
       " 'blobs_url': 'https://api.github.com/repos/psf/requests/git/blobs{/sha}',\n",
       " 'git_tags_url': 'https://api.github.com/repos/psf/requests/git/tags{/sha}',\n",
       " 'git_refs_url': 'https://api.github.com/repos/psf/requests/git/refs{/sha}',\n",
       " 'trees_url': 'https://api.github.com/repos/psf/requests/git/trees{/sha}',\n",
       " 'statuses_url': 'https://api.github.com/repos/psf/requests/statuses/{sha}',\n",
       " 'languages_url': 'https://api.github.com/repos/psf/requests/languages',\n",
       " 'stargazers_url': 'https://api.github.com/repos/psf/requests/stargazers',\n",
       " 'contributors_url': 'https://api.github.com/repos/psf/requests/contributors',\n",
       " 'subscribers_url': 'https://api.github.com/repos/psf/requests/subscribers',\n",
       " 'subscription_url': 'https://api.github.com/repos/psf/requests/subscription',\n",
       " 'commits_url': 'https://api.github.com/repos/psf/requests/commits{/sha}',\n",
       " 'git_commits_url': 'https://api.github.com/repos/psf/requests/git/commits{/sha}',\n",
       " 'comments_url': 'https://api.github.com/repos/psf/requests/comments{/number}',\n",
       " 'issue_comment_url': 'https://api.github.com/repos/psf/requests/issues/comments{/number}',\n",
       " 'contents_url': 'https://api.github.com/repos/psf/requests/contents/{+path}',\n",
       " 'compare_url': 'https://api.github.com/repos/psf/requests/compare/{base}...{head}',\n",
       " 'merges_url': 'https://api.github.com/repos/psf/requests/merges',\n",
       " 'archive_url': 'https://api.github.com/repos/psf/requests/{archive_format}{/ref}',\n",
       " 'downloads_url': 'https://api.github.com/repos/psf/requests/downloads',\n",
       " 'issues_url': 'https://api.github.com/repos/psf/requests/issues{/number}',\n",
       " 'pulls_url': 'https://api.github.com/repos/psf/requests/pulls{/number}',\n",
       " 'milestones_url': 'https://api.github.com/repos/psf/requests/milestones{/number}',\n",
       " 'notifications_url': 'https://api.github.com/repos/psf/requests/notifications{?since,all,participating}',\n",
       " 'labels_url': 'https://api.github.com/repos/psf/requests/labels{/name}',\n",
       " 'releases_url': 'https://api.github.com/repos/psf/requests/releases{/id}',\n",
       " 'deployments_url': 'https://api.github.com/repos/psf/requests/deployments',\n",
       " 'created_at': '2011-02-13T18:38:17Z',\n",
       " 'updated_at': '2023-04-24T10:18:58Z',\n",
       " 'pushed_at': '2023-04-23T15:15:01Z',\n",
       " 'git_url': 'git://github.com/psf/requests.git',\n",
       " 'ssh_url': 'git@github.com:psf/requests.git',\n",
       " 'clone_url': 'https://github.com/psf/requests.git',\n",
       " 'svn_url': 'https://github.com/psf/requests',\n",
       " 'homepage': 'https://requests.readthedocs.io/en/latest/',\n",
       " 'size': 12816,\n",
       " 'stargazers_count': 49412,\n",
       " 'watchers_count': 49412,\n",
       " 'language': 'Python',\n",
       " 'has_issues': True,\n",
       " 'has_projects': False,\n",
       " 'has_downloads': True,\n",
       " 'has_wiki': True,\n",
       " 'has_pages': False,\n",
       " 'has_discussions': False,\n",
       " 'forks_count': 9064,\n",
       " 'mirror_url': None,\n",
       " 'archived': False,\n",
       " 'disabled': False,\n",
       " 'open_issues_count': 279,\n",
       " 'license': {'key': 'apache-2.0',\n",
       "  'name': 'Apache License 2.0',\n",
       "  'spdx_id': 'Apache-2.0',\n",
       "  'url': 'https://api.github.com/licenses/apache-2.0',\n",
       "  'node_id': 'MDc6TGljZW5zZTI='},\n",
       " 'allow_forking': True,\n",
       " 'is_template': False,\n",
       " 'web_commit_signoff_required': False,\n",
       " 'topics': ['client',\n",
       "  'cookies',\n",
       "  'forhumans',\n",
       "  'http',\n",
       "  'humans',\n",
       "  'python',\n",
       "  'python-requests',\n",
       "  'requests'],\n",
       " 'visibility': 'public',\n",
       " 'forks': 9064,\n",
       " 'open_issues': 279,\n",
       " 'watchers': 49412,\n",
       " 'default_branch': 'main',\n",
       " 'temp_clone_token': None,\n",
       " 'organization': {'login': 'psf',\n",
       "  'id': 50630501,\n",
       "  'node_id': 'MDEyOk9yZ2FuaXphdGlvbjUwNjMwNTAx',\n",
       "  'avatar_url': 'https://avatars.githubusercontent.com/u/50630501?v=4',\n",
       "  'gravatar_id': '',\n",
       "  'url': 'https://api.github.com/users/psf',\n",
       "  'html_url': 'https://github.com/psf',\n",
       "  'followers_url': 'https://api.github.com/users/psf/followers',\n",
       "  'following_url': 'https://api.github.com/users/psf/following{/other_user}',\n",
       "  'gists_url': 'https://api.github.com/users/psf/gists{/gist_id}',\n",
       "  'starred_url': 'https://api.github.com/users/psf/starred{/owner}{/repo}',\n",
       "  'subscriptions_url': 'https://api.github.com/users/psf/subscriptions',\n",
       "  'organizations_url': 'https://api.github.com/users/psf/orgs',\n",
       "  'repos_url': 'https://api.github.com/users/psf/repos',\n",
       "  'events_url': 'https://api.github.com/users/psf/events{/privacy}',\n",
       "  'received_events_url': 'https://api.github.com/users/psf/received_events',\n",
       "  'type': 'Organization',\n",
       "  'site_admin': False},\n",
       " 'network_count': 9064,\n",
       " 'subscribers_count': 1354}"
      ]
     },
     "execution_count": 8,
     "metadata": {},
     "output_type": "execute_result"
    }
   ],
   "source": [
    "# GitHub REST API v3 で、RequestsのリポジトリをJSON形式で取得する\n",
    "r = requests.get(\"https://api.github.com/repos/psf/requests\")\n",
    "r.json()"
   ]
  },
  {
   "cell_type": "code",
   "execution_count": 11,
   "metadata": {},
   "outputs": [
    {
     "data": {
      "text/plain": [
       "<Response [200]>"
      ]
     },
     "execution_count": 11,
     "metadata": {},
     "output_type": "execute_result"
    }
   ],
   "source": [
    "# httpbin.orgというHTTPリクエスト／レスポンスを試せるサービスを検証に用いる。\n",
    "# POSTメソッドで送信。\n",
    "# キーワード引数dataにdictを指定するとHTMLフォーム形式で送信される。\n",
    "r = requests.post(\"http://httpbin.org/post\", data={\"key1\": \"value1\"})\n",
    "r"
   ]
  },
  {
   "cell_type": "code",
   "execution_count": 13,
   "metadata": {},
   "outputs": [
    {
     "data": {
      "text/plain": [
       "<Response [200]>"
      ]
     },
     "execution_count": 13,
     "metadata": {},
     "output_type": "execute_result"
    }
   ],
   "source": [
    "# リクエストに追加するHTTPヘッダーとキーワード引数headerにdictで指定する。\n",
    "r = requests.get(\n",
    "    \"http://httpbin.org/get\",\n",
    "    headers={\"user-agent\": \"my-crawler/1.0 (+foo@example.com)\"}\n",
    ")\n",
    "r"
   ]
  },
  {
   "cell_type": "code",
   "execution_count": null,
   "metadata": {},
   "outputs": [],
   "source": [
    "# Basic認証のユーザー名とパスワードの組をキーワード引数authで指定する。\n",
    "r = requests.get(\n",
    "    \"https://api.github.com.user\",\n",
    "    auth=(\"<user-id>\", \"<user-pass>\")\n",
    ")"
   ]
  },
  {
   "cell_type": "code",
   "execution_count": null,
   "metadata": {},
   "outputs": [],
   "source": [
    "# URLのパラメータはキーワード引数paramsで指定することも可能。\n",
    "r = requests.get(\"http://httpbin.org/get\", params={\"key1\": \"value1\"})"
   ]
  },
  {
   "cell_type": "code",
   "execution_count": null,
   "metadata": {},
   "outputs": [],
   "source": [
    "# HTTPヘッダーを複数のリクエストで使い回す\n",
    "s = requests.Session()\n",
    "s.headers.update({\"user-agent\": \"my-crawler/1.0 (+foo@example.com)\"})\n",
    "\n",
    "# Sessionオブジェクトにはget(), post()などのメソッドがあり、\n",
    "# requests.get(), requests.pot()などと同様に使える。\n",
    "r = s.get(\"https://gihyo.jp/\")\n",
    "r = s.get(\"https://gihyo.jp/dp\")"
   ]
  },
  {
   "attachments": {},
   "cell_type": "markdown",
   "metadata": {},
   "source": [
    "### 2-4-2 文字コードの扱い"
   ]
  },
  {
   "cell_type": "code",
   "execution_count": 14,
   "metadata": {},
   "outputs": [
    {
     "data": {
      "text/plain": [
       "b'\\xe3\\x81\\x82'"
      ]
     },
     "execution_count": 14,
     "metadata": {},
     "output_type": "execute_result"
    }
   ],
   "source": [
    "# UTF-8でエンコードした場合、E3 81 82 という3バイト\n",
    "\"あ\".encode(\"UTF-8\")"
   ]
  },
  {
   "cell_type": "code",
   "execution_count": 15,
   "metadata": {},
   "outputs": [
    {
     "data": {
      "text/plain": [
       "b'\\x82\\xa0'"
      ]
     },
     "execution_count": 15,
     "metadata": {},
     "output_type": "execute_result"
    }
   ],
   "source": [
    "# CP932でエンコードした場合、82 A0 という2バイト\n",
    "\"あ\".encode(\"cp932\")"
   ]
  },
  {
   "cell_type": "code",
   "execution_count": 16,
   "metadata": {},
   "outputs": [
    {
     "data": {
      "text/plain": [
       "b'\\xa4\\xa2'"
      ]
     },
     "execution_count": 16,
     "metadata": {},
     "output_type": "execute_result"
    }
   ],
   "source": [
    "# EUC-JPでエンコードした場合、A4 A2 という2バイト\n",
    "\"あ\".encode(\"euc-jp\")"
   ]
  },
  {
   "attachments": {},
   "cell_type": "markdown",
   "metadata": {},
   "source": [
    "#### Webページのエンコーディングを取得・推定する方法\n",
    "\n",
    "1. HTTPレスポンスのContent-Typeヘッダーのcharsetで指定されたエンコーディングを取得する。\n",
    "  - 正しくなかったり、charsetがしてされていないことがある。\n",
    "2. HTTPレスポンスボディのバイト列の特徴からエンコーディングを推定する。\n",
    "  - 推定に使用するレスポンスボディが長いほど、精度良く推定できる。（処理時間は長くなる）\n",
    "3. HTMLのmetaタグで指定されたエンコーディングを取得する。\n",
    "  - 1. が正しくしてされているサイトではmetaタグが指定されていないことがある。"
   ]
  },
  {
   "attachments": {},
   "cell_type": "markdown",
   "metadata": {},
   "source": [
    "#### HTTPヘッダーからエンコーディングを取得する\n",
    "\n",
    "- 日本語ページの典型的なContent-Typeヘッダーの値\n",
    "  - text/html\n",
    "  - text/html; charset=UTF-8\n",
    "  - text/html; charset=EUC-JP\n",
    "\n",
    "#### レスポンスボディのバイト列からエンコーディングを推定する\n",
    "\n",
    "#### meta タグからエンコーディングを取得する"
   ]
  },
  {
   "attachments": {},
   "cell_type": "markdown",
   "metadata": {},
   "source": [
    "### 2-5. Webページからデータを抜き出す\n",
    "\n",
    "- 正規表現\n",
    "  - HTMLを単純な文字列をみなして必要な部分を抜き出す\n",
    "- HTMLパーサー\n",
    "  - HTMLのタグを解析（パース）して必要な部分を抜き出す"
   ]
  },
  {
   "attachments": {},
   "cell_type": "markdown",
   "metadata": {},
   "source": [
    "#### 2-5-1 正規表現によるスクレイピング\n",
    "\n",
    "- re モジュールの使い方\n",
    "- https://docs.python.org/3/library/re.html"
   ]
  },
  {
   "cell_type": "code",
   "execution_count": null,
   "metadata": {},
   "outputs": [],
   "source": []
  }
 ],
 "metadata": {
  "kernelspec": {
   "display_name": "venv",
   "language": "python",
   "name": "python3"
  },
  "language_info": {
   "codemirror_mode": {
    "name": "ipython",
    "version": 3
   },
   "file_extension": ".py",
   "mimetype": "text/x-python",
   "name": "python",
   "nbconvert_exporter": "python",
   "pygments_lexer": "ipython3",
   "version": "3.10.11"
  },
  "orig_nbformat": 4
 },
 "nbformat": 4,
 "nbformat_minor": 2
}

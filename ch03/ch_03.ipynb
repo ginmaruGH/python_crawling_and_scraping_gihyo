{
 "cells": [
  {
   "attachments": {},
   "cell_type": "markdown",
   "metadata": {},
   "source": [
    "3. ライブラリによる高度なクローリング・スクレイピング\n",
    "\n",
    "  - 3-1. HTMLのスクレイピング\n",
    "  - 3-2. XMLのスクレイピング\n",
    "  - 3-3. データベースに保存する\n",
    "  - 3-4. クローラーとURL\n",
    "  - 3-5. Pythonによるクローラーの作成\n",
    "  - 3-6. まとめ"
   ]
  },
  {
   "cell_type": "code",
   "execution_count": null,
   "metadata": {},
   "outputs": [],
   "source": []
  }
 ],
 "metadata": {
  "language_info": {
   "name": "python"
  },
  "orig_nbformat": 4
 },
 "nbformat": 4,
 "nbformat_minor": 2
}

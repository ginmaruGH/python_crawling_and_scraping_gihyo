{
 "cells": [
  {
   "attachments": {},
   "cell_type": "markdown",
   "metadata": {},
   "source": [
    "3. ライブラリによる高度なクローリング・スクレイピング\n",
    "\n",
    "  - 3-1. HTMLのスクレイピング\n",
    "  - 3-2. XMLのスクレイピング\n",
    "  - 3-3. データベースに保存する\n",
    "  - 3-4. クローラーとURL\n",
    "  - 3-5. Pythonによるクローラーの作成\n",
    "  - 3-6. まとめ"
   ]
  },
  {
   "attachments": {},
   "cell_type": "markdown",
   "metadata": {},
   "source": [
    "## 3-1. HTMLのスクレイピング\n",
    "\n",
    "- Beautiful Soup\n",
    "  - APIでデータを抜き出せるのが特徴。\n",
    "  - 目的に応じて、内部のパーサーを切り替えられる。\n",
    "- pyquery\n",
    "  - jQueryと同じようなインターフェイスでスクレイピングできる。\n",
    "  - 内部でlxmlを使用している。"
   ]
  },
  {
   "cell_type": "code",
   "execution_count": 1,
   "metadata": {},
   "outputs": [
    {
     "data": {
      "text/plain": [
       "<!DOCTYPE HTML>\n",
       "\n",
       "<html class=\"pc\" lang=\"ja\">\n",
       "<head>\n",
       "<meta charset=\"utf-8\"/>\n",
       "<title>Gihyo Digital Publishing … 技術評論社の電子書籍</title>\n",
       "<meta content=\"text/css\" http-equiv=\"Content-Style-Type\">\n",
       "<meta content=\"application/javascript\" http-equiv=\"Content-Script-Type\"/>\n",
       "<meta content=\"技術評論社の電子書籍（電子出版）販売サイト\" name=\"description\"/>\n",
       "<meta content=\"電子書籍,電子出版,EPUB,PDF,技術評論社\" name=\"keywords\"/>\n",
       "<meta content=\"IE=Edge,chrome=1\" http-equiv=\"X-UA-Compatible\"/>\n",
       "<meta content=\"yes\" name=\"apple-mobile-web-app-capable\"/>\n",
       "<meta content=\"telephone=no\" name=\"format-detection\"/>\n",
       "<link href=\"http://gihyo.jp/dp/catalogs.opds\" rel=\"related\" title=\"Gihyo Digital Publishing OPDS Catalog\" type=\"application/atom+xml;profile=opds-catalog\"/>\n",
       "<link href=\"/assets/templates/gdp/favicon.ico\" rel=\"shortcut icon\" type=\"image/vnd.microsoft.icon\"/>\n",
       "<link href=\"/dp/assets/gdp-icon.png\" rel=\"apple-touch-icon-precomposed\"/>\n",
       "<!--[if lt IE 9]>\n",
       "    <script>var msie=8;</script>\n",
       "    <script src=\"//ajax.googleapis.com/ajax/libs/jquery/1.11.1/jquery.min.js\"></script>\n",
       "    <script src=\"/dp/assets/js/html5shiv.min.js\"></script>\n",
       "    <script src=\"//css3-mediaqueries-js.googlecode.com/svn/trunk/css3-mediaqueries.js\"></script>\n",
       "    <script src=\"/dp/assets/js/selectivizr-min.js\"></script>\n",
       "    <script src=\"/dp/assets/js/addEventListener.min.js\"></script>\n",
       "    <script src=\"/dp/assets/js/textContent.min.js\"></script>\n",
       "  <![endif]-->\n",
       "<!--[if lte IE 9]>\n",
       "    <script src=\"/dp/assets/js/classList.min.js\" defer></script>\n",
       "  <![endif]-->\n",
       "<link href=\"/dp/assets/style/store1013.css\" media=\"all\" rel=\"stylesheet\" type=\"text/css\"/>\n",
       "<script defer=\"\" src=\"/dp/assets/js/gdpFunction0425.min.js\"></script>\n",
       "<meta content=\"summary_large_image\" name=\"twitter:card\"/>\n",
       "<meta content=\"@gihyoDP\" name=\"twitter:site\"/>\n",
       "<meta content=\"Gihyo Digital Publishing … 技術評論社の電子書籍\" property=\"og:title\"/>\n",
       "<meta content=\"website\" property=\"og:type\"/>\n",
       "<meta content=\"技術評論社の電子書籍（電子出版）販売サイト\" property=\"og:description\"/>\n",
       "<meta content=\"https://gihyo.jp/dp\" property=\"og:url\"/>\n",
       "<meta content=\"/dp/assets/gdp-icon.png\" property=\"og:image\"/>\n",
       "<meta content=\"Gihyo Digital Publishing\" property=\"og:site_name\"/>\n",
       "<meta content=\"185201618169441\" property=\"fb:app_id\"/>\n",
       "<script async=\"\" src=\"https://www.googletagmanager.com/gtag/js?id=G-DL906V3TN7\"></script>\n",
       "<script>\n",
       "    window.dataLayer = window.dataLayer || [];\n",
       "    function gtag(){dataLayer.push(arguments);}\n",
       "    gtag('js', new Date());\n",
       "\n",
       "    gtag('config', 'G-DL906V3TN7');\n",
       "  </script>\n",
       "</meta></head>\n",
       "<body class=\"page-home\" itemscope=\"itemscope\" itemtype=\"http://schema.org/WebPage\">\n",
       "<header id=\"header\" itemscope=\"itemscope\" itemtype=\"http://schema.org/WPHeader\">\n",
       "<h1 class=\"home-title\">Gihyo Digital Publishing</h1>\n",
       "<h2 class=\"home-subtitle\">技術評論社の電子書籍サイト</h2>\n",
       "<nav id=\"headerFunction\">\n",
       "<div id=\"login\">\n",
       "<a href=\"#login\" title=\"ログイン・会員登録\">ログイン</a>\n",
       "</div>\n",
       "<div id=\"cart\">\n",
       "<a href=\"/dp/cart\" title=\"カートは空です\">カート</a>\n",
       "</div>\n",
       "</nav>\n",
       "</header>\n",
       "<div id=\"main\">\n",
       "<noscript><div id=\"noscript\">\n",
       "<p>本サイトではJavaScriptを使用しております。JavaScriptが無効な状態ではご利用いただけません。</p>\n",
       "</div></noscript>\n",
       "<div id=\"bookList\">\n",
       "<h2>商品一覧</h2>\n",
       "<div id=\"topNavigation\">\n",
       "<div id=\"filter\">\n",
       "<form action=\"/dp\" id=\"search\" method=\"get\">\n",
       "<input id=\"searchText\" name=\"query\" placeholder=\"商品のキーワード\" required=\"required\" title=\"検索する商品のキーワードを入力\" type=\"search\" value=\"\"/>\n",
       "<input id=\"searchSubmit\" title=\"検索する\" type=\"submit\" value=\"検索\"/>\n",
       "</form>\n",
       "<div id=\"select\">\n",
       "<a href=\"\" id=\"selectLabel\" title=\"商品ジャンルを選択する\">すべての商品</a>\n",
       "<div id=\"selectMenu\">\n",
       "<ul id=\"selectMenuBody\"><li class=\"title\">商品ジャンルを選択</li><li class=\"selected\"><a href=\"/dp\">すべての商品</a></li><li><a href=\"/dp/genre/%E3%83%91%E3%82%BD%E3%82%B3%E3%83%B3\">パソコン</a></li><li><a href=\"/dp/genre/%E3%82%B9%E3%83%9E%E3%83%BC%E3%83%88%E3%83%95%E3%82%A9%E3%83%B3%E3%83%BB%E3%82%BF%E3%83%96%E3%83%AC%E3%83%83%E3%83%88\">スマートフォン・タブレット</a></li><li><a href=\"/dp/genre/%E3%83%87%E3%82%B6%E3%82%A4%E3%83%B3%E3%83%BB%E7%B4%A0%E6%9D%90%E9%9B%86\">デザイン・素材集</a></li><li><a href=\"/dp/genre/Web%E3%82%B5%E3%82%A4%E3%83%88%E5%88%B6%E4%BD%9C\">Webサイト制作</a></li><li><a href=\"/dp/genre/%E3%83%97%E3%83%AD%E3%82%B0%E3%83%A9%E3%83%9F%E3%83%B3%E3%82%B0%E3%83%BB%E3%82%B7%E3%82%B9%E3%83%86%E3%83%A0%E9%96%8B%E7%99%BA\">プログラミング・システム開発</a></li><li><a href=\"/dp/genre/%E3%83%8D%E3%83%83%E3%83%88%E3%83%AF%E3%83%BC%E3%82%AF%E3%83%BBUNIX%E3%83%BB%E3%83%87%E3%83%BC%E3%82%BF%E3%83%99%E3%83%BC%E3%82%B9\">ネットワーク・UNIX・データベース</a></li><li><a href=\"/dp/genre/%E8%B3%87%E6%A0%BC%E8%A9%A6%E9%A8%93%EF%BC%88IT%EF%BC%89\">資格試験（IT）</a></li><li><a href=\"/dp/genre/%E8%B3%87%E6%A0%BC%E8%A9%A6%E9%A8%93%EF%BC%88%E4%B8%80%E8%88%AC%EF%BC%89%E3%83%BB%E5%A4%A7%E5%AD%A6%E5%8F%97%E9%A8%93\">資格試験（一般）・大学受験</a></li><li><a href=\"/dp/genre/%E8%B6%A3%E5%91%B3%E3%83%BB%E5%AE%9F%E7%94%A8%E3%83%BB%E3%83%87%E3%82%B8%E3%82%AB%E3%83%A1\">趣味・実用・デジカメ</a></li><li><a href=\"/dp/genre/%E3%83%93%E3%82%B8%E3%83%8D%E3%82%B9%E3%83%BB%E3%83%9E%E3%83%8D%E3%83%BC\">ビジネス・マネー</a></li><li><a href=\"/dp/genre/%E7%90%86%E5%B7%A5%E3%83%BB%E3%82%B5%E3%82%A4%E3%82%A8%E3%83%B3%E3%82%B9\">理工・サイエンス</a></li></ul>\n",
       "</div>\n",
       "</div>\n",
       "</div>\n",
       "<nav id=\"pagingTop\"> <ul>\n",
       "<li><span class=\"prev\">―</span></li>\n",
       "<li class=\"paging-number\">1</li>\n",
       "<li><a class=\"next\" href=\"/dp?start=30\" title=\"次のページ\">次</a></li>\n",
       "</ul>\n",
       "</nav>\n",
       "</div>\n",
       "<ul class=\"list-book\" id=\"listBook\" itemprop=\"isPartOf\" itemscope=\"itemscope\" itemtype=\"http://www.schema.org/CollectionPage\"><li id=\"bannerTopAd\">\n",
       "<div id=\"topAdPrev\"><a href=\"#adPrev\" title=\"前のバナー\">前</a></div>\n",
       "<div id=\"topAdNext\"><a href=\"#adNext\" title=\"次のバナー\">次</a></div>\n",
       "<ul id=\"topAdNum\"></ul>\n",
       "</li>\n",
       "<li class=\"subscription\"><a href=\"/dp/subscription\">\n",
       "<p class=\"title\"><span class=\"series\">Software Design・<wbr/>WEB+DB PRESS</span>電子版定期購読のお申し込み</p>\n",
       "<img alt=\"cover\" decoding=\"async\" height=\"138\" src=\"//image.gihyo.co.jp/assets/images/dummy.png\" srcset=\"//image.gihyo.co.jp/assets/images/gdp/subscription/subsc-cover.png 1x, //image.gihyo.co.jp/assets/images/gdp/subscription/subsc-cover@2x.png 2x\" style=\"max-width:none;max-height:none;position:absolute;right:0;bottom:-10px;border:none\" width=\"236\"/>\n",
       "<ul class=\"format\"><li class=\"pdf\">PDF</li><li class=\"epub\">EPUB</li></ul>\n",
       "</a></li> <li class=\"new\" id=\"978-4-297-13486-0\"><a href=\"/dp/ebook/2023/978-4-297-13486-0\" itemprop=\"url\">\n",
       "<img alt=\"カバー画像\" decoding=\"async\" height=\"128\" itemprop=\"image\" src=\"https://image.gihyo.co.jp/assets/images/gdp/2023/thumb/TH100_978-4-297-13486-0.jpg\" srcset=\"https://image.gihyo.co.jp/assets/images/gdp/2023/thumb/TH100_978-4-297-13486-0.jpg 1x, https://image.gihyo.co.jp/assets/images/gdp/2023/thumb/TH200_978-4-297-13486-0.jpg 2x\" width=\"100\">\n",
       "<p class=\"title\" itemprop=\"name\"><span class=\"series\">今すぐ使えるかんたん</span> 今すぐ使えるかんたん<br/>ぜったいデキます！ パワーポイント超入門<br/><span class=\"sub\">［Office 2021<wbr/>／<wbr/>Microsoft 365<wbr/>両対応］</span></p>\n",
       "<p class=\"author\" itemprop=\"author\">木村幸子　著</p>\n",
       "<p class=\"price\" itemprop=\"offers\" itemscope=\"itemscope\" itemtype=\"http://schema.org/Offer\"><span itemprop=\"price\">1,200</span>円<meta content=\"JPY\" itemprop=\"priceCurrency\"/></p>\n",
       "<ul class=\"format\">\n",
       "<li class=\"pdf\">PDF</li>\n",
       "</ul>\n",
       "<ul class=\"date\">\n",
       "<li class=\"notice\"><time class=\"published\" datetime=\"2023-5-02\" itemprop=\"datePublished\">2023年5月2日</time></li>\n",
       "</ul>\n",
       "</img></a></li> <li class=\"new\" id=\"978-4-297-13504-1\"><a href=\"/dp/ebook/2023/978-4-297-13504-1\" itemprop=\"url\">\n",
       "<img alt=\"カバー画像\" decoding=\"async\" height=\"147\" itemprop=\"image\" src=\"https://image.gihyo.co.jp/assets/images/gdp/2023/thumb/TH100_978-4-297-13504-1.jpg\" srcset=\"https://image.gihyo.co.jp/assets/images/gdp/2023/thumb/TH100_978-4-297-13504-1.jpg 1x, https://image.gihyo.co.jp/assets/images/gdp/2023/thumb/TH200_978-4-297-13504-1.jpg 2x\" width=\"100\"/>\n",
       "<p class=\"title\" itemprop=\"name\"><span class=\"series\">ゼロからはじめる</span> ゼロからはじめる<br/>ドコモ arrows N F-51C スマートガイド</p>\n",
       "<p class=\"author\" itemprop=\"author\">技術評論社編集部　著</p>\n",
       "<p class=\"price\" itemprop=\"offers\" itemscope=\"itemscope\" itemtype=\"http://schema.org/Offer\"><span itemprop=\"price\">1,580</span>円<meta content=\"JPY\" itemprop=\"priceCurrency\"/></p>\n",
       "<ul class=\"format\">\n",
       "<li class=\"pdf\">PDF</li>\n",
       "</ul>\n",
       "<ul class=\"date\">\n",
       "<li class=\"notice\"><time class=\"published\" datetime=\"2023-5-01\" itemprop=\"datePublished\">2023年5月1日</time></li>\n",
       "</ul>\n",
       "</a></li> <li class=\"new\" id=\"978-4-297-13462-4\"><a href=\"/dp/ebook/2023/978-4-297-13462-4\" itemprop=\"url\">\n",
       "<img alt=\"カバー画像\" decoding=\"async\" height=\"150\" itemprop=\"image\" src=\"https://image.gihyo.co.jp/assets/images/gdp/2023/thumb/TH100_978-4-297-13462-4.jpg\" srcset=\"https://image.gihyo.co.jp/assets/images/gdp/2023/thumb/TH100_978-4-297-13462-4.jpg 1x, https://image.gihyo.co.jp/assets/images/gdp/2023/thumb/TH200_978-4-297-13462-4.jpg 2x\" width=\"100\"/>\n",
       "<p class=\"title\" itemprop=\"name\"><span class=\"series\">知りたい！サイエンス</span> ゼータへの最初の一歩 ベルヌーイ数<br/><span class=\"sub\">～<wbr/>「べき乗和」<wbr/>と素数で割った<wbr/>「余り」<wbr/>の驚くべき関係～</span></p>\n",
       "<p class=\"author\" itemprop=\"author\">小林吹代　著</p>\n",
       "<p class=\"price\" itemprop=\"offers\" itemscope=\"itemscope\" itemtype=\"http://schema.org/Offer\"><span itemprop=\"price\">1,800</span>円<meta content=\"JPY\" itemprop=\"priceCurrency\"/></p>\n",
       "<ul class=\"format\">\n",
       "<li class=\"pdf\">PDF</li>\n",
       "</ul>\n",
       "<ul class=\"date\">\n",
       "<li class=\"notice\"><time class=\"published\" datetime=\"2023-5-01\" itemprop=\"datePublished\">2023年5月1日</time></li>\n",
       "</ul>\n",
       "</a></li> <li class=\"new\" id=\"978-4-297-13442-6\"><a href=\"/dp/ebook/2023/978-4-297-13442-6\" itemprop=\"url\">\n",
       "<img alt=\"カバー画像\" decoding=\"async\" height=\"128\" itemprop=\"image\" src=\"https://image.gihyo.co.jp/assets/images/gdp/2023/thumb/TH100_978-4-297-13442-6.jpg\" srcset=\"https://image.gihyo.co.jp/assets/images/gdp/2023/thumb/TH100_978-4-297-13442-6.jpg 1x, https://image.gihyo.co.jp/assets/images/gdp/2023/thumb/TH200_978-4-297-13442-6.jpg 2x\" width=\"100\"/>\n",
       "<p class=\"title\" itemprop=\"name\"><span class=\"series\">今すぐ使えるかんたん</span> 今すぐ使えるかんたん<br/>iPad<wbr/>完全ガイドブック 困った解決&amp;<wbr/>便利技<br/><span class=\"sub\">［iPadOS 16<wbr/>対応版］</span></p>\n",
       "<p class=\"author\" itemprop=\"author\">リンクアップ　著</p>\n",
       "<p class=\"price\" itemprop=\"offers\" itemscope=\"itemscope\" itemtype=\"http://schema.org/Offer\"><span itemprop=\"price\">2,000</span>円<meta content=\"JPY\" itemprop=\"priceCurrency\"/></p>\n",
       "<ul class=\"format\">\n",
       "<li class=\"pdf\">PDF</li>\n",
       "</ul>\n",
       "<ul class=\"date\">\n",
       "<li class=\"notice\"><time class=\"published\" datetime=\"2023-5-01\" itemprop=\"datePublished\">2023年5月1日</time></li>\n",
       "</ul>\n",
       "</a></li> <li class=\"new\" id=\"978-4-297-13490-7\"><a href=\"/dp/ebook/2023/978-4-297-13490-7\" itemprop=\"url\">\n",
       "<img alt=\"カバー画像\" decoding=\"async\" height=\"141\" itemprop=\"image\" src=\"https://image.gihyo.co.jp/assets/images/gdp/2023/thumb/TH100_978-4-297-13490-7.jpg\" srcset=\"https://image.gihyo.co.jp/assets/images/gdp/2023/thumb/TH100_978-4-297-13490-7.jpg 1x, https://image.gihyo.co.jp/assets/images/gdp/2023/thumb/TH200_978-4-297-13490-7.jpg 2x\" width=\"100\"/>\n",
       "<p class=\"title\" itemprop=\"name\">売れるランディングページ改善の法則</p>\n",
       "<p class=\"author\" itemprop=\"author\">株式会社テマヒマ　平岡大輔　著</p>\n",
       "<p class=\"price\" itemprop=\"offers\" itemscope=\"itemscope\" itemtype=\"http://schema.org/Offer\"><span itemprop=\"price\">2,000</span>円<meta content=\"JPY\" itemprop=\"priceCurrency\"/></p>\n",
       "<ul class=\"format\">\n",
       "<li class=\"pdf\">PDF</li>\n",
       "</ul>\n",
       "<ul class=\"date\">\n",
       "<li class=\"notice\"><time class=\"published\" datetime=\"2023-4-28\" itemprop=\"datePublished\">2023年4月28日</time></li>\n",
       "</ul>\n",
       "</a></li> <li class=\"new\" id=\"978-4-297-13241-5\"><a href=\"/dp/ebook/2023/978-4-297-13241-5\" itemprop=\"url\">\n",
       "<img alt=\"カバー画像\" decoding=\"async\" height=\"142\" itemprop=\"image\" src=\"https://image.gihyo.co.jp/assets/images/gdp/2023/thumb/TH100_978-4-297-13241-5.jpg\" srcset=\"https://image.gihyo.co.jp/assets/images/gdp/2023/thumb/TH100_978-4-297-13241-5.jpg 1x, https://image.gihyo.co.jp/assets/images/gdp/2023/thumb/TH200_978-4-297-13241-5.jpg 2x\" width=\"100\"/>\n",
       "<p class=\"title\" itemprop=\"name\">ディープラーニング<wbr/>G<wbr/>検定<wbr/>（ジェネラリスト） 法律・<wbr/>倫理テキスト</p>\n",
       "<p class=\"author\" itemprop=\"author\">古川直裕　編著，<wbr>渡邊道生穂，<wbr>柴山吉報　著，<wbr>一般社団法人 日本ディープラーニング協会　監修</wbr></wbr></wbr></p>\n",
       "<p class=\"price\" itemprop=\"offers\" itemscope=\"itemscope\" itemtype=\"http://schema.org/Offer\"><span itemprop=\"price\">1,800</span>円<meta content=\"JPY\" itemprop=\"priceCurrency\"/></p>\n",
       "<ul class=\"format\">\n",
       "<li class=\"pdf\">PDF</li>\n",
       "</ul>\n",
       "<ul class=\"date\">\n",
       "<li class=\"notice\"><time class=\"published\" datetime=\"2023-4-28\" itemprop=\"datePublished\">2023年4月28日</time></li>\n",
       "</ul>\n",
       "</a></li> <li class=\"new\" id=\"978-4-297-13496-9\"><a href=\"/dp/ebook/2023/978-4-297-13496-9\" itemprop=\"url\">\n",
       "<img alt=\"カバー画像\" decoding=\"async\" height=\"126\" itemprop=\"image\" src=\"https://image.gihyo.co.jp/assets/images/gdp/2023/thumb/TH100_978-4-297-13496-9.jpg\" srcset=\"https://image.gihyo.co.jp/assets/images/gdp/2023/thumb/TH100_978-4-297-13496-9.jpg 1x, https://image.gihyo.co.jp/assets/images/gdp/2023/thumb/TH200_978-4-297-13496-9.jpg 2x\" width=\"100\"/>\n",
       "<p class=\"title\" itemprop=\"name\"><span class=\"series\">エンジニア選書</span> 実践 Svelte<wbr/>入門</p>\n",
       "<p class=\"author\" itemprop=\"author\">Kyohei Hamaguchi (tnzk)，<wbr>小関泰裕　著</wbr></p>\n",
       "<p class=\"price\" itemprop=\"offers\" itemscope=\"itemscope\" itemtype=\"http://schema.org/Offer\"><span itemprop=\"price\">3,400</span>円<meta content=\"JPY\" itemprop=\"priceCurrency\"/></p>\n",
       "<ul class=\"format\">\n",
       "<li class=\"pdf\">PDF</li><li class=\"epub\">EPUB</li>\n",
       "</ul>\n",
       "<ul class=\"date\">\n",
       "<li class=\"notice\"><time class=\"published\" datetime=\"2023-4-28\" itemprop=\"datePublished\">2023年4月28日</time></li>\n",
       "</ul>\n",
       "</a></li> <li class=\"new\" id=\"978-4-297-13510-2\"><a href=\"/dp/ebook/2023/978-4-297-13510-2\" itemprop=\"url\">\n",
       "<img alt=\"カバー画像\" decoding=\"async\" height=\"142\" itemprop=\"image\" src=\"https://image.gihyo.co.jp/assets/images/gdp/2023/thumb/TH100_978-4-297-13510-2.jpg\" srcset=\"https://image.gihyo.co.jp/assets/images/gdp/2023/thumb/TH100_978-4-297-13510-2.jpg 1x, https://image.gihyo.co.jp/assets/images/gdp/2023/thumb/TH200_978-4-297-13510-2.jpg 2x\" width=\"100\"/>\n",
       "<p class=\"title\" itemprop=\"name\">現場が動きだす大学教育のマネジメントとは<br/><span class=\"sub\">―茨城大学<wbr/>「教育の質保証」<wbr/>システム構築の物語</span></p>\n",
       "<p class=\"author\" itemprop=\"author\">太田寛行，<wbr>嶌田敏行　編，<wbr>「茨城大学コミットメント」プロジェクト　著</wbr></wbr></p>\n",
       "<p class=\"price\" itemprop=\"offers\" itemscope=\"itemscope\" itemtype=\"http://schema.org/Offer\"><span itemprop=\"price\">2,400</span>円<meta content=\"JPY\" itemprop=\"priceCurrency\"/></p>\n",
       "<ul class=\"format\">\n",
       "<li class=\"pdf\">PDF</li>\n",
       "</ul>\n",
       "<ul class=\"date\">\n",
       "<li class=\"notice\"><time class=\"published\" datetime=\"2023-4-28\" itemprop=\"datePublished\">2023年4月28日</time></li>\n",
       "</ul>\n",
       "</a></li> <li class=\"new\" id=\"978-4-297-13508-9\"><a href=\"/dp/ebook/2023/978-4-297-13508-9\" itemprop=\"url\">\n",
       "<img alt=\"カバー画像\" decoding=\"async\" height=\"141\" itemprop=\"image\" src=\"https://image.gihyo.co.jp/assets/images/gdp/2023/thumb/TH100_978-4-297-13508-9.jpg\" srcset=\"https://image.gihyo.co.jp/assets/images/gdp/2023/thumb/TH100_978-4-297-13508-9.jpg 1x, https://image.gihyo.co.jp/assets/images/gdp/2023/thumb/TH200_978-4-297-13508-9.jpg 2x\" width=\"100\"/>\n",
       "<p class=\"title\" itemprop=\"name\"><span class=\"series\">Minecraft<wbr/>オフィシャルブック</span> マインクラフト モブのたくらみ<br/><span class=\"sub\">［石の剣のものがたりシリーズ②］</span></p>\n",
       "<p class=\"author\" itemprop=\"author\">ニック・エリオポラス　文，<wbr>アラン・バトソン，<wbr>クリス・ヒル　絵，<wbr>酒井章文　訳</wbr></wbr></wbr></p>\n",
       "<p class=\"price\" itemprop=\"offers\" itemscope=\"itemscope\" itemtype=\"http://schema.org/Offer\"><span itemprop=\"price\">1,280</span>円<meta content=\"JPY\" itemprop=\"priceCurrency\"/></p>\n",
       "<ul class=\"format\">\n",
       "<li class=\"pdf\">PDF</li>\n",
       "</ul>\n",
       "<ul class=\"date\">\n",
       "<li class=\"notice\"><time class=\"published\" datetime=\"2023-4-26\" itemprop=\"datePublished\">2023年4月26日</time></li>\n",
       "</ul>\n",
       "</a></li> <li class=\"new\" id=\"978-4-297-13408-2\"><a href=\"/dp/ebook/2023/978-4-297-13408-2\" itemprop=\"url\">\n",
       "<img alt=\"カバー画像\" decoding=\"async\" height=\"141\" itemprop=\"image\" src=\"https://image.gihyo.co.jp/assets/images/gdp/2023/thumb/TH100_978-4-297-13408-2.jpg\" srcset=\"https://image.gihyo.co.jp/assets/images/gdp/2023/thumb/TH100_978-4-297-13408-2.jpg 1x, https://image.gihyo.co.jp/assets/images/gdp/2023/thumb/TH200_978-4-297-13408-2.jpg 2x\" width=\"100\"/>\n",
       "<p class=\"title\" itemprop=\"name\"><span class=\"series\">図解即戦力</span> 図解即戦力<br/>脱炭素のビジネス戦略と技術がこれ<wbr/>1<wbr/>冊でしっかりわかる教科書</p>\n",
       "<p class=\"author\" itemprop=\"author\">本橋恵一　著</p>\n",
       "<p class=\"price\" itemprop=\"offers\" itemscope=\"itemscope\" itemtype=\"http://schema.org/Offer\"><span itemprop=\"price\">1,800</span>円<meta content=\"JPY\" itemprop=\"priceCurrency\"/></p>\n",
       "<ul class=\"format\">\n",
       "<li class=\"pdf\">PDF</li>\n",
       "</ul>\n",
       "<ul class=\"date\">\n",
       "<li><time class=\"published\" datetime=\"2023-4-24\" itemprop=\"datePublished\">2023年4月24日</time></li>\n",
       "</ul>\n",
       "</a></li> <li class=\"new\" id=\"978-4-297-13436-5\"><a href=\"/dp/ebook/2023/978-4-297-13436-5\" itemprop=\"url\">\n",
       "<img alt=\"カバー画像\" decoding=\"async\" height=\"142\" itemprop=\"image\" src=\"https://image.gihyo.co.jp/assets/images/gdp/2023/thumb/TH100_978-4-297-13436-5.jpg\" srcset=\"https://image.gihyo.co.jp/assets/images/gdp/2023/thumb/TH100_978-4-297-13436-5.jpg 1x, https://image.gihyo.co.jp/assets/images/gdp/2023/thumb/TH200_978-4-297-13436-5.jpg 2x\" width=\"100\"/>\n",
       "<p class=\"title\" itemprop=\"name\">ノンプログラマーのための Visual Studio Code<wbr/>実践活用ガイド</p>\n",
       "<p class=\"author\" itemprop=\"author\">リブロワークス　著</p>\n",
       "<p class=\"price\" itemprop=\"offers\" itemscope=\"itemscope\" itemtype=\"http://schema.org/Offer\"><span itemprop=\"price\">2,600</span>円<meta content=\"JPY\" itemprop=\"priceCurrency\"/></p>\n",
       "<ul class=\"format\">\n",
       "<li class=\"pdf\">PDF</li><li class=\"epub\">EPUB</li>\n",
       "</ul>\n",
       "<ul class=\"date\">\n",
       "<li><time class=\"published\" datetime=\"2023-4-24\" itemprop=\"datePublished\">2023年4月24日</time></li>\n",
       "</ul>\n",
       "</a></li> <li class=\"new\" id=\"978-4-297-13438-9\"><a href=\"/dp/ebook/2023/978-4-297-13438-9\" itemprop=\"url\">\n",
       "<img alt=\"カバー画像\" decoding=\"async\" height=\"132\" itemprop=\"image\" src=\"https://image.gihyo.co.jp/assets/images/gdp/2023/thumb/TH100_978-4-297-13438-9.jpg\" srcset=\"https://image.gihyo.co.jp/assets/images/gdp/2023/thumb/TH100_978-4-297-13438-9.jpg 1x, https://image.gihyo.co.jp/assets/images/gdp/2023/thumb/TH200_978-4-297-13438-9.jpg 2x\" width=\"100\"/>\n",
       "<p class=\"title\" itemprop=\"name\">理解するほどおもしろい！ パソコンのしくみがよくわかる本 改訂<wbr/>3<wbr/>版</p>\n",
       "<p class=\"author\" itemprop=\"author\">丹羽信夫　著</p>\n",
       "<p class=\"price\" itemprop=\"offers\" itemscope=\"itemscope\" itemtype=\"http://schema.org/Offer\"><span itemprop=\"price\">1,880</span>円<meta content=\"JPY\" itemprop=\"priceCurrency\"/></p>\n",
       "<ul class=\"format\">\n",
       "<li class=\"pdf\">PDF</li>\n",
       "</ul>\n",
       "<ul class=\"date\">\n",
       "<li><time class=\"published\" datetime=\"2023-4-24\" itemprop=\"datePublished\">2023年4月24日</time></li>\n",
       "</ul>\n",
       "</a></li> <li class=\"new\" id=\"978-4-297-13478-5\"><a href=\"/dp/ebook/2023/978-4-297-13478-5\" itemprop=\"url\">\n",
       "<img alt=\"カバー画像\" decoding=\"async\" height=\"141\" itemprop=\"image\" src=\"https://image.gihyo.co.jp/assets/images/gdp/2023/thumb/TH100_978-4-297-13478-5.jpg\" srcset=\"https://image.gihyo.co.jp/assets/images/gdp/2023/thumb/TH100_978-4-297-13478-5.jpg 1x, https://image.gihyo.co.jp/assets/images/gdp/2023/thumb/TH200_978-4-297-13478-5.jpg 2x\" width=\"100\"/>\n",
       "<p class=\"title\" itemprop=\"name\">WEB+DB PRESS Vol.134</p>\n",
       "<p class=\"author\" itemprop=\"author\"></p>\n",
       "<p class=\"price\" itemprop=\"offers\" itemscope=\"itemscope\" itemtype=\"http://schema.org/Offer\"><span itemprop=\"price\">1,628</span>円<meta content=\"JPY\" itemprop=\"priceCurrency\"/></p>\n",
       "<ul class=\"format\">\n",
       "<li class=\"pdf\">PDF</li><li class=\"epub\">EPUB</li>\n",
       "</ul>\n",
       "<ul class=\"date\">\n",
       "<li><time class=\"published\" datetime=\"2023-4-22\" itemprop=\"datePublished\">2023年4月22日</time></li>\n",
       "</ul>\n",
       "</a></li> <li class=\"new\" id=\"978-4-297-13432-7\"><a href=\"/dp/ebook/2023/978-4-297-13432-7\" itemprop=\"url\">\n",
       "<img alt=\"カバー画像\" decoding=\"async\" height=\"141\" itemprop=\"image\" src=\"https://image.gihyo.co.jp/assets/images/gdp/2023/thumb/TH100_978-4-297-13432-7.jpg\" srcset=\"https://image.gihyo.co.jp/assets/images/gdp/2023/thumb/TH100_978-4-297-13432-7.jpg 1x, https://image.gihyo.co.jp/assets/images/gdp/2023/thumb/TH200_978-4-297-13432-7.jpg 2x\" width=\"100\"/>\n",
       "<p class=\"title\" itemprop=\"name\">Nikon ニコン NX Studio パーフェクトガイド</p>\n",
       "<p class=\"author\" itemprop=\"author\">上田晃司，<wbr>ナイスク　著</wbr></p>\n",
       "<p class=\"price\" itemprop=\"offers\" itemscope=\"itemscope\" itemtype=\"http://schema.org/Offer\"><span itemprop=\"price\">2,000</span>円<meta content=\"JPY\" itemprop=\"priceCurrency\"/></p>\n",
       "<ul class=\"format\">\n",
       "<li class=\"pdf\">PDF</li>\n",
       "</ul>\n",
       "<ul class=\"date\">\n",
       "<li><time class=\"published\" datetime=\"2023-4-22\" itemprop=\"datePublished\">2023年4月22日</time></li>\n",
       "</ul>\n",
       "</a></li> <li class=\"new\" id=\"978-4-297-13434-1\"><a href=\"/dp/ebook/2023/978-4-297-13434-1\" itemprop=\"url\">\n",
       "<img alt=\"カバー画像\" decoding=\"async\" height=\"127\" itemprop=\"image\" src=\"https://image.gihyo.co.jp/assets/images/gdp/2023/thumb/TH100_978-4-297-13434-1.jpg\" srcset=\"https://image.gihyo.co.jp/assets/images/gdp/2023/thumb/TH100_978-4-297-13434-1.jpg 1x, https://image.gihyo.co.jp/assets/images/gdp/2023/thumb/TH200_978-4-297-13434-1.jpg 2x\" width=\"100\"/>\n",
       "<p class=\"title\" itemprop=\"name\"><span class=\"series\">今すぐ使えるかんたん</span> 今すぐ使えるかんたん<br/>Outlook<wbr/>完全ガイドブック 困った解決&amp;<wbr/>便利技<br/><span class=\"sub\">［Office 2021/<wbr/>2019/<wbr/>2016/<wbr/>Microsoft 365<wbr/>対応版］</span></p>\n",
       "<p class=\"author\" itemprop=\"author\">AYURA　著</p>\n",
       "<p class=\"price\" itemprop=\"offers\" itemscope=\"itemscope\" itemtype=\"http://schema.org/Offer\"><span itemprop=\"price\">1,780</span>円<meta content=\"JPY\" itemprop=\"priceCurrency\"/></p>\n",
       "<ul class=\"format\">\n",
       "<li class=\"pdf\">PDF</li>\n",
       "</ul>\n",
       "<ul class=\"date\">\n",
       "<li><time class=\"published\" datetime=\"2023-4-22\" itemprop=\"datePublished\">2023年4月22日</time></li>\n",
       "</ul>\n",
       "</a></li> <li class=\"new\" id=\"978-4-297-13471-6\"><a href=\"/dp/ebook/2023/978-4-297-13471-6\" itemprop=\"url\">\n",
       "<img alt=\"カバー画像\" decoding=\"async\" height=\"141\" itemprop=\"image\" src=\"https://image.gihyo.co.jp/assets/images/gdp/2023/thumb/TH100_978-4-297-13471-6.jpg\" srcset=\"https://image.gihyo.co.jp/assets/images/gdp/2023/thumb/TH100_978-4-297-13471-6.jpg 1x, https://image.gihyo.co.jp/assets/images/gdp/2023/thumb/TH200_978-4-297-13471-6.jpg 2x\" width=\"100\"/>\n",
       "<p class=\"title\" itemprop=\"name\">新居浜高専<wbr/>PIC<wbr/>マイコン学習キット Ver.3 完全ガイド</p>\n",
       "<p class=\"author\" itemprop=\"author\">出口幹雄　著</p>\n",
       "<p class=\"price\" itemprop=\"offers\" itemscope=\"itemscope\" itemtype=\"http://schema.org/Offer\"><span itemprop=\"price\">2,200</span>円<meta content=\"JPY\" itemprop=\"priceCurrency\"/></p>\n",
       "<ul class=\"format\">\n",
       "<li class=\"pdf\">PDF</li>\n",
       "</ul>\n",
       "<ul class=\"date\">\n",
       "<li><time class=\"published\" datetime=\"2023-4-21\" itemprop=\"datePublished\">2023年4月21日</time></li>\n",
       "</ul>\n",
       "</a></li> <li class=\"new\" id=\"978-4-297-13414-3\"><a href=\"/dp/ebook/2023/978-4-297-13414-3\" itemprop=\"url\">\n",
       "<img alt=\"カバー画像\" decoding=\"async\" height=\"142\" itemprop=\"image\" src=\"https://image.gihyo.co.jp/assets/images/gdp/2023/thumb/TH100_978-4-297-13414-3.jpg\" srcset=\"https://image.gihyo.co.jp/assets/images/gdp/2023/thumb/TH100_978-4-297-13414-3.jpg 1x, https://image.gihyo.co.jp/assets/images/gdp/2023/thumb/TH200_978-4-297-13414-3.jpg 2x\" width=\"100\"/>\n",
       "<p class=\"title\" itemprop=\"name\">［速習］<wbr/>ベイズの定理<br/><span class=\"sub\">——<wbr/>「推論」<wbr/>に効く数学の力</span></p>\n",
       "<p class=\"author\" itemprop=\"author\">James V Stone　著，<wbr>岩沢宏和　監訳，<wbr>西本恵太，<wbr>須藤賢　訳</wbr></wbr></wbr></p>\n",
       "<p class=\"price\" itemprop=\"offers\" itemscope=\"itemscope\" itemtype=\"http://schema.org/Offer\"><span itemprop=\"price\">2,600</span>円<meta content=\"JPY\" itemprop=\"priceCurrency\"/></p>\n",
       "<ul class=\"format\">\n",
       "<li class=\"pdf\">PDF</li><li class=\"epub\">EPUB</li>\n",
       "</ul>\n",
       "<ul class=\"date\">\n",
       "<li><time class=\"published\" datetime=\"2023-4-21\" itemprop=\"datePublished\">2023年4月21日</time></li>\n",
       "</ul>\n",
       "</a></li> <li class=\"new\" id=\"978-4-297-13410-5\"><a href=\"/dp/ebook/2023/978-4-297-13410-5\" itemprop=\"url\">\n",
       "<img alt=\"カバー画像\" decoding=\"async\" height=\"142\" itemprop=\"image\" src=\"https://image.gihyo.co.jp/assets/images/gdp/2023/thumb/TH100_978-4-297-13410-5.jpg\" srcset=\"https://image.gihyo.co.jp/assets/images/gdp/2023/thumb/TH100_978-4-297-13410-5.jpg 1x, https://image.gihyo.co.jp/assets/images/gdp/2023/thumb/TH200_978-4-297-13410-5.jpg 2x\" width=\"100\"/>\n",
       "<p class=\"title\" itemprop=\"name\"><span class=\"series\">WEB+DB PRESS plus</span> 縁の下の<wbr/>UI<wbr/>デザイン<br/><span class=\"sub\">──小さな工夫で大きな効果をもたらす実践<wbr/>TIPS<wbr/>＆<wbr/>テクニック</span></p>\n",
       "<p class=\"author\" itemprop=\"author\">池田拓司　著</p>\n",
       "<p class=\"price\" itemprop=\"offers\" itemscope=\"itemscope\" itemtype=\"http://schema.org/Offer\"><span itemprop=\"price\">2,980</span>円<meta content=\"JPY\" itemprop=\"priceCurrency\"/></p>\n",
       "<ul class=\"format\">\n",
       "<li class=\"pdf\">PDF</li><li class=\"epub\">EPUB</li>\n",
       "</ul>\n",
       "<ul class=\"date\">\n",
       "<li><time class=\"published\" datetime=\"2023-4-21\" itemprop=\"datePublished\">2023年4月21日</time></li>\n",
       "</ul>\n",
       "</a></li> <li class=\"new\" id=\"978-4-297-13446-4\"><a href=\"/dp/ebook/2023/978-4-297-13446-4\" itemprop=\"url\">\n",
       "<img alt=\"カバー画像\" decoding=\"async\" height=\"147\" itemprop=\"image\" src=\"https://image.gihyo.co.jp/assets/images/gdp/2023/thumb/TH100_978-4-297-13446-4.jpg\" srcset=\"https://image.gihyo.co.jp/assets/images/gdp/2023/thumb/TH100_978-4-297-13446-4.jpg 1x, https://image.gihyo.co.jp/assets/images/gdp/2023/thumb/TH200_978-4-297-13446-4.jpg 2x\" width=\"100\"/>\n",
       "<p class=\"title\" itemprop=\"name\"><span class=\"series\">今すぐ使えるかんたん<wbr/>mini</span> 今すぐ使えるかんたんmini<br/>Excel<wbr/>関数の基本と便利がこれ<wbr/>1<wbr/>冊でわかる本<br/><span class=\"sub\">［Office 2021/<wbr/>Microsoft 365<wbr/>両対応］</span></p>\n",
       "<p class=\"author\" itemprop=\"author\">リンクアップ　著</p>\n",
       "<p class=\"price\" itemprop=\"offers\" itemscope=\"itemscope\" itemtype=\"http://schema.org/Offer\"><span itemprop=\"price\">900</span>円<meta content=\"JPY\" itemprop=\"priceCurrency\"/></p>\n",
       "<ul class=\"format\">\n",
       "<li class=\"pdf\">PDF</li>\n",
       "</ul>\n",
       "<ul class=\"date\">\n",
       "<li><time class=\"published\" datetime=\"2023-4-21\" itemprop=\"datePublished\">2023年4月21日</time></li>\n",
       "</ul>\n",
       "</a></li> <li class=\"new\" id=\"978-4-297-13469-3\"><a href=\"/dp/ebook/2023/978-4-297-13469-3\" itemprop=\"url\">\n",
       "<img alt=\"カバー画像\" decoding=\"async\" height=\"127\" itemprop=\"image\" src=\"https://image.gihyo.co.jp/assets/images/gdp/2023/thumb/TH100_978-4-297-13469-3.jpg\" srcset=\"https://image.gihyo.co.jp/assets/images/gdp/2023/thumb/TH100_978-4-297-13469-3.jpg 1x, https://image.gihyo.co.jp/assets/images/gdp/2023/thumb/TH200_978-4-297-13469-3.jpg 2x\" width=\"100\"/>\n",
       "<p class=\"title\" itemprop=\"name\">はじめてつくる<wbr/>Web<wbr/>アプリケーション<br/><span class=\"sub\">〜<wbr/>Ruby on Rails<wbr/>でプログラミングへの第一歩を踏み出そう</span></p>\n",
       "<p class=\"author\" itemprop=\"author\">江森真由美，<wbr>やだけいこ，<wbr>小林智恵　著</wbr></wbr></p>\n",
       "<p class=\"price\" itemprop=\"offers\" itemscope=\"itemscope\" itemtype=\"http://schema.org/Offer\"><span itemprop=\"price\">2,600</span>円<meta content=\"JPY\" itemprop=\"priceCurrency\"/></p>\n",
       "<ul class=\"format\">\n",
       "<li class=\"pdf\">PDF</li><li class=\"epub\">EPUB</li>\n",
       "</ul>\n",
       "<ul class=\"date\">\n",
       "<li><time class=\"published\" datetime=\"2023-4-20\" itemprop=\"datePublished\">2023年4月20日</time></li>\n",
       "</ul>\n",
       "</a></li> <li class=\"new\" id=\"978-4-297-13387-0\"><a href=\"/dp/ebook/2023/978-4-297-13387-0\" itemprop=\"url\">\n",
       "<img alt=\"カバー画像\" decoding=\"async\" height=\"147\" itemprop=\"image\" src=\"https://image.gihyo.co.jp/assets/images/gdp/2023/thumb/TH100_978-4-297-13387-0.jpg\" srcset=\"https://image.gihyo.co.jp/assets/images/gdp/2023/thumb/TH100_978-4-297-13387-0.jpg 1x, https://image.gihyo.co.jp/assets/images/gdp/2023/thumb/TH200_978-4-297-13387-0.jpg 2x\" width=\"100\"/>\n",
       "<p class=\"title\" itemprop=\"name\"><span class=\"series\">ポケットリファレンス</span> HTML&amp;<wbr/>CSS<wbr/>ポケットリファレンス<br/><span class=\"sub\">［改訂<wbr/>3<wbr/>版］</span></p>\n",
       "<p class=\"author\" itemprop=\"author\">森史憲，<wbr>藤本壱　著</wbr></p>\n",
       "<p class=\"price\" itemprop=\"offers\" itemscope=\"itemscope\" itemtype=\"http://schema.org/Offer\"><span itemprop=\"price\">1,800</span>円<meta content=\"JPY\" itemprop=\"priceCurrency\"/></p>\n",
       "<ul class=\"format\">\n",
       "<li class=\"pdf\">PDF</li>\n",
       "</ul>\n",
       "<ul class=\"date\">\n",
       "<li><time class=\"published\" datetime=\"2023-4-20\" itemprop=\"datePublished\">2023年4月20日</time></li>\n",
       "</ul>\n",
       "</a></li> <li class=\"new\" id=\"978-4-297-13353-5\"><a href=\"/dp/ebook/2023/978-4-297-13353-5\" itemprop=\"url\">\n",
       "<img alt=\"カバー画像\" decoding=\"async\" height=\"146\" itemprop=\"image\" src=\"https://image.gihyo.co.jp/assets/images/gdp/2023/thumb/TH100_978-4-297-13353-5.jpg\" srcset=\"https://image.gihyo.co.jp/assets/images/gdp/2023/thumb/TH100_978-4-297-13353-5.jpg 1x, https://image.gihyo.co.jp/assets/images/gdp/2023/thumb/TH200_978-4-297-13353-5.jpg 2x\" width=\"100\"/>\n",
       "<p class=\"title\" itemprop=\"name\">英語は<wbr/>10000<wbr/>時間でモノになる<br/><span class=\"sub\">～ハードワークで挫折しない<wbr/>「日本語断ち」<wbr/>の実践法～</span></p>\n",
       "<p class=\"author\" itemprop=\"author\">橋本大也　著</p>\n",
       "<p class=\"price\" itemprop=\"offers\" itemscope=\"itemscope\" itemtype=\"http://schema.org/Offer\"><span itemprop=\"price\">1,600</span>円<meta content=\"JPY\" itemprop=\"priceCurrency\"/></p>\n",
       "<ul class=\"format\">\n",
       "<li class=\"pdf\">PDF</li><li class=\"epub\">EPUB</li>\n",
       "</ul>\n",
       "<ul class=\"date\">\n",
       "<li><time class=\"published\" datetime=\"2023-4-20\" itemprop=\"datePublished\">2023年4月20日</time></li>\n",
       "</ul>\n",
       "</a></li> <li class=\"new\" id=\"978-4-297-13514-0\"><a href=\"/dp/ebook/2023/978-4-297-13514-0\" itemprop=\"url\">\n",
       "<img alt=\"カバー画像\" decoding=\"async\" height=\"142\" itemprop=\"image\" src=\"https://image.gihyo.co.jp/assets/images/gdp/2023/thumb/TH100_978-4-297-13514-0.jpg\" srcset=\"https://image.gihyo.co.jp/assets/images/gdp/2023/thumb/TH100_978-4-297-13514-0.jpg 1x, https://image.gihyo.co.jp/assets/images/gdp/2023/thumb/TH200_978-4-297-13514-0.jpg 2x\" width=\"100\"/>\n",
       "<p class=\"title\" itemprop=\"name\">まんがですっきりわかる フリーランスのためのインボイスと消費税</p>\n",
       "<p class=\"author\" itemprop=\"author\">服部英樹　著</p>\n",
       "<p class=\"price\" itemprop=\"offers\" itemscope=\"itemscope\" itemtype=\"http://schema.org/Offer\"><span itemprop=\"price\">1,300</span>円<meta content=\"JPY\" itemprop=\"priceCurrency\"/></p>\n",
       "<ul class=\"format\">\n",
       "<li class=\"pdf\">PDF</li>\n",
       "</ul>\n",
       "<ul class=\"date\">\n",
       "<li><time class=\"published\" datetime=\"2023-4-20\" itemprop=\"datePublished\">2023年4月20日</time></li>\n",
       "</ul>\n",
       "</a></li> <li class=\"new\" id=\"978-4-297-13480-8\"><a href=\"/dp/ebook/2023/978-4-297-13480-8\" itemprop=\"url\">\n",
       "<img alt=\"カバー画像\" decoding=\"async\" height=\"154\" itemprop=\"image\" src=\"https://image.gihyo.co.jp/assets/images/gdp/2023/thumb/TH100_978-4-297-13480-8.jpg\" srcset=\"https://image.gihyo.co.jp/assets/images/gdp/2023/thumb/TH100_978-4-297-13480-8.jpg 1x, https://image.gihyo.co.jp/assets/images/gdp/2023/thumb/TH200_978-4-297-13480-8.jpg 2x\" width=\"100\"/>\n",
       "<p class=\"title\" itemprop=\"name\"><span class=\"series\">ポケットリファレンス</span> Vue.js<wbr/>ポケットリファレンス</p>\n",
       "<p class=\"author\" itemprop=\"author\">長島優斗，<wbr>久光未悠，<wbr>東泉哲寛，<wbr>鶴田展之，<wbr>（株）qnote　著</wbr></wbr></wbr></wbr></p>\n",
       "<p class=\"price\" itemprop=\"offers\" itemscope=\"itemscope\" itemtype=\"http://schema.org/Offer\"><span itemprop=\"price\">2,880</span>円<meta content=\"JPY\" itemprop=\"priceCurrency\"/></p>\n",
       "<ul class=\"format\">\n",
       "<li class=\"pdf\">PDF</li>\n",
       "</ul>\n",
       "<ul class=\"date\">\n",
       "<li><time class=\"published\" datetime=\"2023-4-19\" itemprop=\"datePublished\">2023年4月19日</time></li>\n",
       "</ul>\n",
       "</a></li> <li class=\"new\" id=\"978-4-297-13404-4\"><a href=\"/dp/ebook/2023/978-4-297-13404-4\" itemprop=\"url\">\n",
       "<img alt=\"カバー画像\" decoding=\"async\" height=\"142\" itemprop=\"image\" src=\"https://image.gihyo.co.jp/assets/images/gdp/2023/thumb/TH100_978-4-297-13404-4.jpg\" srcset=\"https://image.gihyo.co.jp/assets/images/gdp/2023/thumb/TH100_978-4-297-13404-4.jpg 1x, https://image.gihyo.co.jp/assets/images/gdp/2023/thumb/TH200_978-4-297-13404-4.jpg 2x\" width=\"100\"/>\n",
       "<p class=\"title\" itemprop=\"name\"><span class=\"series\">自由時間サプリ</span> 誰でも簡単！ 世界一の<wbr/>4：<wbr/>6<wbr/>メソッドでハマる 美味しいコーヒー</p>\n",
       "<p class=\"author\" itemprop=\"author\">粕谷哲　著</p>\n",
       "<p class=\"price\" itemprop=\"offers\" itemscope=\"itemscope\" itemtype=\"http://schema.org/Offer\"><span itemprop=\"price\">1,600</span>円<meta content=\"JPY\" itemprop=\"priceCurrency\"/></p>\n",
       "<ul class=\"format\">\n",
       "<li class=\"pdf\">PDF</li>\n",
       "</ul>\n",
       "<ul class=\"date\">\n",
       "<li><time class=\"published\" datetime=\"2023-4-19\" itemprop=\"datePublished\">2023年4月19日</time></li>\n",
       "</ul>\n",
       "</a></li> <li id=\"978-4-297-13450-1\"><a href=\"/dp/ebook/2023/978-4-297-13450-1\" itemprop=\"url\">\n",
       "<img alt=\"カバー画像\" decoding=\"async\" height=\"141\" itemprop=\"image\" src=\"https://image.gihyo.co.jp/assets/images/gdp/2023/thumb/TH100_978-4-297-13450-1.jpg\" srcset=\"https://image.gihyo.co.jp/assets/images/gdp/2023/thumb/TH100_978-4-297-13450-1.jpg 1x, https://image.gihyo.co.jp/assets/images/gdp/2023/thumb/TH200_978-4-297-13450-1.jpg 2x\" width=\"100\"/>\n",
       "<p class=\"title\" itemprop=\"name\">Software Design 2023<wbr/>年<wbr/>5<wbr/>月号</p>\n",
       "<p class=\"author\" itemprop=\"author\"></p>\n",
       "<p class=\"price\" itemprop=\"offers\" itemscope=\"itemscope\" itemtype=\"http://schema.org/Offer\"><span itemprop=\"price\">1,342</span>円<meta content=\"JPY\" itemprop=\"priceCurrency\"/></p>\n",
       "<ul class=\"format\">\n",
       "<li class=\"pdf\">PDF</li><li class=\"epub\">EPUB</li>\n",
       "</ul>\n",
       "<ul class=\"date\">\n",
       "<li><time class=\"published\" datetime=\"2023-4-18\" itemprop=\"datePublished\">2023年4月18日</time></li>\n",
       "</ul>\n",
       "</a></li> <li id=\"978-4-297-13357-3\"><a href=\"/dp/ebook/2023/978-4-297-13357-3\" itemprop=\"url\">\n",
       "<img alt=\"カバー画像\" decoding=\"async\" height=\"127\" itemprop=\"image\" src=\"https://image.gihyo.co.jp/assets/images/gdp/2023/thumb/TH100_978-4-297-13357-3.jpg\" srcset=\"https://image.gihyo.co.jp/assets/images/gdp/2023/thumb/TH100_978-4-297-13357-3.jpg 1x, https://image.gihyo.co.jp/assets/images/gdp/2023/thumb/TH200_978-4-297-13357-3.jpg 2x\" width=\"100\"/>\n",
       "<p class=\"title\" itemprop=\"name\">ゼロからよくわかる！ Arduino<wbr/>で電子工作入門ガイド 改訂<wbr/>2<wbr/>版</p>\n",
       "<p class=\"author\" itemprop=\"author\">登尾徳誠　著</p>\n",
       "<p class=\"price\" itemprop=\"offers\" itemscope=\"itemscope\" itemtype=\"http://schema.org/Offer\"><span itemprop=\"price\">2,720</span>円<meta content=\"JPY\" itemprop=\"priceCurrency\"/></p>\n",
       "<ul class=\"format\">\n",
       "<li class=\"pdf\">PDF</li>\n",
       "</ul>\n",
       "<ul class=\"date\">\n",
       "<li><time class=\"published\" datetime=\"2023-4-15\" itemprop=\"datePublished\">2023年4月15日</time></li>\n",
       "</ul>\n",
       "</a></li> <li id=\"978-4-297-13458-7\"><a href=\"/dp/ebook/2023/978-4-297-13458-7\" itemprop=\"url\">\n",
       "<img alt=\"カバー画像\" decoding=\"async\" height=\"142\" itemprop=\"image\" src=\"https://image.gihyo.co.jp/assets/images/gdp/2023/thumb/TH100_978-4-297-13458-7.jpg\" srcset=\"https://image.gihyo.co.jp/assets/images/gdp/2023/thumb/TH100_978-4-297-13458-7.jpg 1x, https://image.gihyo.co.jp/assets/images/gdp/2023/thumb/TH200_978-4-297-13458-7.jpg 2x\" width=\"100\"/>\n",
       "<p class=\"title\" itemprop=\"name\"><span class=\"series\">COMODO<wbr/>（COMODO ライフブック）</span> おとなの浴衣、はじめます</p>\n",
       "<p class=\"author\" itemprop=\"author\">山崎陽子　著</p>\n",
       "<p class=\"price\" itemprop=\"offers\" itemscope=\"itemscope\" itemtype=\"http://schema.org/Offer\"><span itemprop=\"price\">1,600</span>円<meta content=\"JPY\" itemprop=\"priceCurrency\"/></p>\n",
       "<ul class=\"format\">\n",
       "<li class=\"pdf\">PDF</li>\n",
       "</ul>\n",
       "<ul class=\"date\">\n",
       "<li><time class=\"published\" datetime=\"2023-4-15\" itemprop=\"datePublished\">2023年4月15日</time></li>\n",
       "</ul>\n",
       "</a></li> <li id=\"978-4-297-13424-2\"><a href=\"/dp/ebook/2023/978-4-297-13424-2\" itemprop=\"url\">\n",
       "<img alt=\"カバー画像\" decoding=\"async\" height=\"162\" itemprop=\"image\" src=\"https://image.gihyo.co.jp/assets/images/gdp/2023/thumb/TH100_978-4-297-13424-2.jpg\" srcset=\"https://image.gihyo.co.jp/assets/images/gdp/2023/thumb/TH100_978-4-297-13424-2.jpg 1x, https://image.gihyo.co.jp/assets/images/gdp/2023/thumb/TH200_978-4-297-13424-2.jpg 2x\" width=\"100\"/>\n",
       "<p class=\"title\" itemprop=\"name\"><span class=\"series\">ポケット介護</span> 【ポケット介護】<wbr/>改訂新版 見てわかるリハビリ<br/><span class=\"sub\">～活動と参加で<wbr/>「自立支援」<wbr/>につなげるコツ</span></p>\n",
       "<p class=\"author\" itemprop=\"author\">繁岡秀俊　著</p>\n",
       "<p class=\"price\" itemprop=\"offers\" itemscope=\"itemscope\" itemtype=\"http://schema.org/Offer\"><span itemprop=\"price\">1,680</span>円<meta content=\"JPY\" itemprop=\"priceCurrency\"/></p>\n",
       "<ul class=\"format\">\n",
       "<li class=\"pdf\">PDF</li>\n",
       "</ul>\n",
       "<ul class=\"date\">\n",
       "<li><time class=\"published\" datetime=\"2023-4-15\" itemprop=\"datePublished\">2023年4月15日</time></li>\n",
       "</ul>\n",
       "</a></li> <li id=\"978-4-297-13393-1\"><a href=\"/dp/ebook/2023/978-4-297-13393-1\" itemprop=\"url\">\n",
       "<img alt=\"カバー画像\" decoding=\"async\" height=\"142\" itemprop=\"image\" src=\"https://image.gihyo.co.jp/assets/images/gdp/2023/thumb/TH100_978-4-297-13393-1.jpg\" srcset=\"https://image.gihyo.co.jp/assets/images/gdp/2023/thumb/TH100_978-4-297-13393-1.jpg 1x, https://image.gihyo.co.jp/assets/images/gdp/2023/thumb/TH200_978-4-297-13393-1.jpg 2x\" width=\"100\"/>\n",
       "<p class=\"title\" itemprop=\"name\">最短時間でムダなく成果を上げる パソコン仕事術の教科書<br/><span class=\"sub\">［改訂新版］</span></p>\n",
       "<p class=\"author\" itemprop=\"author\">中山真敬　著</p>\n",
       "<p class=\"price\" itemprop=\"offers\" itemscope=\"itemscope\" itemtype=\"http://schema.org/Offer\"><span itemprop=\"price\">1,600</span>円<meta content=\"JPY\" itemprop=\"priceCurrency\"/></p>\n",
       "<ul class=\"format\">\n",
       "<li class=\"pdf\">PDF</li>\n",
       "</ul>\n",
       "<ul class=\"date\">\n",
       "<li><time class=\"published\" datetime=\"2023-4-15\" itemprop=\"datePublished\">2023年4月15日</time></li>\n",
       "</ul>\n",
       "</a></li>\n",
       "</ul>\n",
       "<nav id=\"pagingBottom\"> <ul>\n",
       "<li><span class=\"prev\">―</span></li>\n",
       "<li class=\"paging-number\">1 - 30 / 3757</li>\n",
       "<li><a class=\"next\" href=\"/dp?start=30\" title=\"次のページ\">次</a></li>\n",
       "</ul>\n",
       "</nav>\n",
       "</div>\n",
       "</div>\n",
       "<footer id=\"footer\" itemscope=\"itemscope\" itemtype=\"http://www.schema.org/WPFooter\">\n",
       "<div class=\"hidden\" id=\"wait\"></div>\n",
       "<nav id=\"navigation\" itemscope=\"itemscope\" itemtype=\"http://www.schema.org/SiteNavigationElement\">\n",
       "<ul id=\"navigationLink\">\n",
       "<li class=\"current\" id=\"navLinkHome\"><a class=\"home\" href=\"/dp\" itemprop=\"url\" title=\"ストア\">ストア</a></li>\n",
       "<li id=\"navLinkMyPage\"><a class=\"mypage\" href=\"/dp/my-page\" itemprop=\"url\" title=\"マイページ\">マイページ</a></li>\n",
       "<li id=\"navLinkInfor\"><a class=\"information\" href=\"/dp/information\" itemprop=\"url\" title=\"お知らせ\">お知らせ</a></li>\n",
       "<li id=\"navLinkHelp\"><a class=\"help\" href=\"/dp/help\" itemprop=\"url\" title=\"ヘルプ\">ヘルプ</a></li>\n",
       "</ul>\n",
       "</nav>\n",
       "<nav id=\"function\" itemscope=\"itemscope\" itemtype=\"http://www.schema.org/WPSideBar\">\n",
       "<div id=\"backgroundWrapper\"></div>\n",
       "<div id=\"navInfor\"><p class=\"page\">1 - 30 / 3757</p></div>\n",
       "</nav>\n",
       "<div id=\"storeInformation\">\n",
       "<ul id=\"footerLink\">\n",
       "<li>Twitter: <a href=\"https://twitter.com/gihyoDP\">@gihyoDP</a></li>\n",
       "<li><a href=\"/dp/help/about/site\">このサイトについて</a></li>\n",
       "<li><a href=\"/dp/help/about/terms\">利用規約</a></li>\n",
       "<li><a href=\"/dp/help/about/privacy\">プライバシーポリシー</a></li>\n",
       "<li><a href=\"/dp/help/about/law\">特定商取引法に基づく表示</a></li>\n",
       "</ul>\n",
       "<p id=\"storeCopyright\"><small>Copyright © 2023 <span class=\"reserved\">All Rights Reserved by</span> <a href=\"/book\">Gijutsu-Hyoron Co., Ltd.</a></small></p>\n",
       "</div>\n",
       "</footer>\n",
       "<script>var params={\"url\":\"https:\\/\\/gihyo.jp\\/dp\",\"path\":\"\\/dp\",\"body\":\"    <div id=\\\"bookList\\\">\\n      <h2>\\u5546\\u54c1\\u4e00\\u89a7<\\/h2>\\n      <div id=\\\"topNavigation\\\">\\n        <div id=\\\"filter\\\">\\n          <form id=\\\"search\\\" action=\\\"\\/dp\\\" method=\\\"get\\\">\\n            <input type=\\\"search\\\" name=\\\"query\\\" id=\\\"searchText\\\" title=\\\"\\u691c\\u7d22\\u3059\\u308b\\u5546\\u54c1\\u306e\\u30ad\\u30fc\\u30ef\\u30fc\\u30c9\\u3092\\u5165\\u529b\\\" placeholder=\\\"\\u5546\\u54c1\\u306e\\u30ad\\u30fc\\u30ef\\u30fc\\u30c9\\\" required=\\\"required\\\" value=\\\"\\\"\\/>\\n            <input type=\\\"submit\\\" id=\\\"searchSubmit\\\" value=\\\"\\u691c\\u7d22\\\" title=\\\"\\u691c\\u7d22\\u3059\\u308b\\\"\\/>\\n          <\\/form>\\n          <div id=\\\"select\\\">\\n            <a href=\\\"\\\" id=\\\"selectLabel\\\" title=\\\"\\u5546\\u54c1\\u30b8\\u30e3\\u30f3\\u30eb\\u3092\\u9078\\u629e\\u3059\\u308b\\\"><\\/a>\\n            <div id=\\\"selectMenu\\\">\\n              <ul id=\\\"selectMenuBody\\\"><\\/ul>\\n            <\\/div>\\n          <\\/div>\\n        <\\/div>\\n        <nav id=\\\"pagingTop\\\">\\n        <\\/nav>\\n      <\\/div>\\n      <ul itemprop=\\\"isPartOf\\\" itemscope=\\\"itemscope\\\" itemtype=\\\"http:\\/\\/www.schema.org\\/CollectionPage\\\" id=\\\"listBook\\\" class=\\\"list-book\\\">\\n      <\\/ul>\\n      <nav id=\\\"pagingBottom\\\">\\n      <\\/nav>\\n    <\\/div>\",\"isLogin\":false,\"dialog\":\"<aside id=\\\"dialog\\\" class=\\\"dialog-login\\\" style=\\\"opacity:0\\\">\\n  <div id=\\\"dialogBody\\\">\\n    <div id=\\\"gihyoAccount\\\">\\n      <h2>\\u30e1\\u30fc\\u30eb\\u30a2\\u30c9\\u30ec\\u30b9\\u3067\\u30ed\\u30b0\\u30a4\\u30f3<\\/h2>\\n      <form action=\\\"?login\\\" method=\\\"post\\\">\\n        <input type=\\\"hidden\\\" name=\\\"fid\\\" value=\\\"\\\"\\/>\\n        <dl>\\n          <dt>\\u30a2\\u30ab\\u30a6\\u30f3\\u30c8<\\/dt>\\n          <dd><input type=\\\"email\\\" name=\\\"account\\\" placeholder=\\\"\\u30e1\\u30fc\\u30eb\\u30a2\\u30c9\\u30ec\\u30b9\\\" required=\\\"required\\\" title=\\\"\\u30a2\\u30ab\\u30a6\\u30f3\\u30c8\\u306e\\u30e1\\u30fc\\u30eb\\u30a2\\u30c9\\u30ec\\u30b9\\u3092\\u5165\\u529b\\\"\\/><\\/dd>\\n          <dt>\\u30d1\\u30b9\\u30ef\\u30fc\\u30c9<\\/dt>\\n          <dd><input type=\\\"password\\\" name=\\\"password\\\" placeholder=\\\"\\u30d1\\u30b9\\u30ef\\u30fc\\u30c9\\\" required=\\\"required\\\" title=\\\"\\u30a2\\u30ab\\u30a6\\u30f3\\u30c8\\u306e\\u30d1\\u30b9\\u30ef\\u30fc\\u30c9\\u3092\\u5165\\u529b\\\"\\/><\\/dd>\\n        <\\/dl>\\n        <p id=\\\"loginButton\\\"><input type=\\\"submit\\\" value=\\\"\\u30ed\\u30b0\\u30a4\\u30f3\\\" title=\\\"\\u30ed\\u30b0\\u30a4\\u30f3\\u3059\\u308b\\\"\\/><\\/p>\\n        <ul id=\\\"loginFunction\\\">\\n          <li><a href=\\\"\\/dp\\/help\\/buy\\/forgot\\\">\\u30d1\\u30b9\\u30ef\\u30fc\\u30c9\\u3092\\u304a\\u5fd8\\u308c\\u306e\\u65b9<\\/a><\\/li>\\n          <li><a href=\\\"\\/dp\\/help\\/buy\\/account\\\">\\u65b0\\u898f\\u767b\\u9332\\u3092\\u3054\\u5e0c\\u671b\\u306e\\u65b9<\\/a><\\/li>\\n        <\\/ul>\\n      <\\/form>\\n    <\\/div>\\n    <div id=\\\"externalSite\\\">\\n      <h2>\\u5916\\u90e8\\u30b5\\u30fc\\u30d3\\u30b9\\u3067\\u30ed\\u30b0\\u30a4\\u30f3<\\/h2>\\n      <ul>\\n      <li class=\\\"google\\\"><a href=\\\"https:\\/\\/gihyo.jp\\/auth\\/google\\\"><img src=\\\"\\/assets\\/images\\/social\\/google_icon_256.png\\\" width=\\\"48\\\" height=\\\"48\\\" alt=\\\"\\\">Google\\u30a2\\u30ab\\u30a6\\u30f3\\u30c8\\u3067\\u30ed\\u30b0\\u30a4\\u30f3<\\/a><\\/li>\\n      <li class=\\\"facebook\\\"><a href=\\\"https:\\/\\/gihyo.jp\\/auth\\/facebook\\\"><img src=\\\"\\/assets\\/images\\/social\\/facebook_icon_256.png\\\" width=\\\"48\\\" height=\\\"48\\\" alt=\\\"\\\">Facebook\\u3067\\u30ed\\u30b0\\u30a4\\u30f3<\\/a><\\/li>\\n      <li class=\\\"yahoojp\\\"><a href=\\\"https:\\/\\/gihyo.jp\\/auth\\/yahoojp\\\"><img src=\\\"\\/assets\\/images\\/social\\/yahoo_japan_icon_256.png\\\" width=\\\"48\\\" height=\\\"48\\\" alt=\\\"\\\">Yahoo! JAPAN ID\\u3067\\u30ed\\u30b0\\u30a4\\u30f3<\\/a><\\/li>\\n      <\\/ul>\\n      <p><a href=\\\"\\/dp\\/help\\/buy\\/external\\\">\\u5916\\u90e8\\u30b5\\u30fc\\u30d3\\u30b9\\u3067\\u306e\\u30ed\\u30b0\\u30a4\\u30f3\\u306b\\u3064\\u3044\\u3066<\\/a><\\/p>\\n    <\\/div>\\n    <p id=\\\"close\\\"><a href=\\\"#close\\\" title=\\\"\\u9589\\u3058\\u308b\\\">\\u9589\\u3058\\u308b<\\/a><\\/p>\\n  <\\/div>\\n<\\/aside>\"}</script>\n",
       "<script>var asyncCall=function(){var e=Array.prototype.slice,a=Function.prototype.bind||function(j){var a=this,b=e.call(arguments,1);return function(){var c=e.call(arguments);return a.apply(j,b.concat(c))}},f=a.call(a,Function.prototype.call),b=f(e),c=f(a),d=f(Function.prototype.apply);if(\"undefined\"!==typeof process)a=function(){var a=b(arguments);process.nextTick(d(c,null,a))};else if(\"function\"===typeof setImmediate)a=function(){var a=b(arguments);setImmediate(d(c,null,a))};else if(\"function\"===typeof MessageChannel){var g=new MessageChannel,h=[];g.port1.onmessage=function(){h.shift()()};a=function(){var a=b(arguments);h.push(d(c,null,a));g.port2.postMessage(0)}}else a=function(){var a=b(arguments);setTimeout(d(c,null,a),0)};return a}();window.onerror=function(mes,fname,lnum){var erIgnore=['top.GLOBALS','originalCreateNotification','canvas.contentDocument','fb_xd_fragment','Script error.'];for(i=0;i<erIgnore.length;i++){if(mes.indexOf(erIgnore[i])>-1){return false;}};var mes='message:'+mes+', file:'+fname+', line:'+lnum+', href:'+location.href+', UA:'+window.navigator.userAgent;gtag('event','JSError',{'evetn_category':'Error','event_label':mes});};</script>\n",
       "<script async=\"\" defer=\"\" id=\"twitter-wjs\" src=\"//platform.twitter.com/widgets.js\"></script>\n",
       "<script async=\"\" defer=\"\" id=\"facebook-jssdk\" src=\"//connect.facebook.net/ja_JP/sdk.js#xfbml=1&amp;appId=185201618169441&amp;version=v2.8\"></script>\n",
       "<script async=\"\" defer=\"\" src=\"//apis.google.com/js/platform.js\"></script>\n",
       "<script async=\"\" charset=\"utf-8\" defer=\"\" src=\"//b.hatena.ne.jp/js/bookmark_button.js\"></script>\n",
       "</body>\n",
       "</html>"
      ]
     },
     "execution_count": 1,
     "metadata": {},
     "output_type": "execute_result"
    }
   ],
   "source": [
    "# bs4モジュールからBeautifulSoupクラスをインポートする。\n",
    "from bs4 import BeautifulSoup\n",
    "\n",
    "# 第1引数にファイルオブジェクトを指定して、BeautifulSoupオブジェクトを生成する。\n",
    "# BeautifulSoup()にはファイル名やURLを指定することはできない。\n",
    "# 第2引数にパーサー名を指定する。\n",
    "with open('../ch02/dp.html') as f:\n",
    "    soup = BeautifulSoup(f, 'html.parser')\n",
    "    \n",
    "soup"
   ]
  },
  {
   "cell_type": "code",
   "execution_count": 2,
   "metadata": {},
   "outputs": [],
   "source": [
    "from bs4 import BeautifulSoup\n",
    "\n",
    "# BeautifulSoupのコンストラクターにはHTMLの文字列を渡すこともできる。\n",
    "soup = BeautifulSoup(\"\"\"\n",
    "    <html>\n",
    "    <head><title>八百屋オンライン</title></head>\n",
    "    <body>\n",
    "    <h1 id=main><strong>おいしい</strong>今日のくだもの</h1>\n",
    "    <ui>\n",
    "        <li>りんご</li>\n",
    "        <li class=\"featured\">みかん</li>\n",
    "        <li>ぶどう</li>\n",
    "    </ui>\n",
    "    </html>\n",
    "    </body>\n",
    "\"\"\", 'html.parser')"
   ]
  },
  {
   "cell_type": "code",
   "execution_count": 3,
   "metadata": {},
   "outputs": [
    {
     "data": {
      "text/plain": [
       "<title>八百屋オンライン</title>"
      ]
     },
     "execution_count": 3,
     "metadata": {},
     "output_type": "execute_result"
    }
   ],
   "source": [
    "# soup.titleのようにタグ名の属性で、title要素を取得できる。\n",
    "soup.title"
   ]
  },
  {
   "cell_type": "code",
   "execution_count": 4,
   "metadata": {},
   "outputs": [
    {
     "data": {
      "text/plain": [
       "bs4.element.Tag"
      ]
     },
     "execution_count": 4,
     "metadata": {},
     "output_type": "execute_result"
    }
   ],
   "source": [
    "# 要素はTagオブジェクト\n",
    "type(soup.title)"
   ]
  },
  {
   "cell_type": "code",
   "execution_count": 5,
   "metadata": {},
   "outputs": [
    {
     "data": {
      "text/plain": [
       "'title'"
      ]
     },
     "execution_count": 5,
     "metadata": {},
     "output_type": "execute_result"
    }
   ],
   "source": [
    "# Tagオブジェクトのname属性でタグ名を取得できる。\n",
    "soup.title.name"
   ]
  },
  {
   "cell_type": "code",
   "execution_count": 6,
   "metadata": {},
   "outputs": [
    {
     "data": {
      "text/plain": [
       "'八百屋オンライン'"
      ]
     },
     "execution_count": 6,
     "metadata": {},
     "output_type": "execute_result"
    }
   ],
   "source": [
    "# Tagオブジェクトのstring属性で要素の直接の子である文字列を取得できる。\n",
    "soup.title.string"
   ]
  },
  {
   "cell_type": "code",
   "execution_count": 7,
   "metadata": {},
   "outputs": [
    {
     "data": {
      "text/plain": [
       "bs4.element.NavigableString"
      ]
     },
     "execution_count": 7,
     "metadata": {},
     "output_type": "execute_result"
    }
   ],
   "source": [
    "# string属性で得られる文字列はstrを継承したNavigableStringオブジェクト。\n",
    "type(soup.title.string)"
   ]
  },
  {
   "cell_type": "code",
   "execution_count": 8,
   "metadata": {},
   "outputs": [],
   "source": [
    "# 着火の要素が文字列のみでない場合、string属性はNone。\n",
    "soup.h1.string"
   ]
  },
  {
   "cell_type": "code",
   "execution_count": 9,
   "metadata": {},
   "outputs": [
    {
     "data": {
      "text/plain": [
       "[<strong>おいしい</strong>, '今日のくだもの']"
      ]
     },
     "execution_count": 9,
     "metadata": {},
     "output_type": "execute_result"
    }
   ],
   "source": [
    "# contents属性で子要素（NavigableStringを含む）のリストを取得できる。\n",
    "soup.h1.contents"
   ]
  },
  {
   "cell_type": "code",
   "execution_count": 10,
   "metadata": {},
   "outputs": [
    {
     "data": {
      "text/plain": [
       "'おいしい今日のくだもの'"
      ]
     },
     "execution_count": 10,
     "metadata": {},
     "output_type": "execute_result"
    }
   ],
   "source": [
    "# text属性で要素内のすべての文字列を結合した文字列を取得できる。\n",
    "soup.h1.text"
   ]
  },
  {
   "cell_type": "code",
   "execution_count": 12,
   "metadata": {},
   "outputs": [
    {
     "data": {
      "text/plain": [
       "str"
      ]
     },
     "execution_count": 12,
     "metadata": {},
     "output_type": "execute_result"
    }
   ],
   "source": [
    "# text属性で得られる文字列はstrオブジェクト。\n",
    "type(soup.h1.text)"
   ]
  },
  {
   "cell_type": "code",
   "execution_count": 13,
   "metadata": {},
   "outputs": [
    {
     "data": {
      "text/plain": [
       "'main'"
      ]
     },
     "execution_count": 13,
     "metadata": {},
     "output_type": "execute_result"
    }
   ],
   "source": [
    "# Tagオブジェクトはdictのようにして属性を取得できる。\n",
    "soup.h1['id']"
   ]
  },
  {
   "cell_type": "code",
   "execution_count": 14,
   "metadata": {},
   "outputs": [
    {
     "data": {
      "text/plain": [
       "'main'"
      ]
     },
     "execution_count": 14,
     "metadata": {},
     "output_type": "execute_result"
    }
   ],
   "source": [
    "# dictと同様にget()メソッドでも属性を取得できる。\n",
    "soup.h1.get('id')"
   ]
  },
  {
   "cell_type": "code",
   "execution_count": 15,
   "metadata": {},
   "outputs": [
    {
     "data": {
      "text/plain": [
       "{'id': 'main'}"
      ]
     },
     "execution_count": 15,
     "metadata": {},
     "output_type": "execute_result"
    }
   ],
   "source": [
    "# attrs属性で全属性を表すdictオブジェクトを取得できる。\n",
    "soup.h1.attrs"
   ]
  },
  {
   "cell_type": "code",
   "execution_count": 16,
   "metadata": {},
   "outputs": [
    {
     "data": {
      "text/plain": [
       "<body>\n",
       "<h1 id=\"main\"><strong>おいしい</strong>今日のくだもの</h1>\n",
       "<ui>\n",
       "<li>りんご</li>\n",
       "<li class=\"featured\">みかん</li>\n",
       "<li>ぶどう</li>\n",
       "</ui>\n",
       "</body>"
      ]
     },
     "execution_count": 16,
     "metadata": {},
     "output_type": "execute_result"
    }
   ],
   "source": [
    "# parent属性で親要素（body要素）を取得できる。\n",
    "soup.h1.parent"
   ]
  },
  {
   "cell_type": "code",
   "execution_count": 17,
   "metadata": {},
   "outputs": [
    {
     "data": {
      "text/plain": [
       "<li>りんご</li>"
      ]
     },
     "execution_count": 17,
     "metadata": {},
     "output_type": "execute_result"
    }
   ],
   "source": [
    "# 複数の要素がある場合は、先頭の要素が取得される。\n",
    "soup.li"
   ]
  },
  {
   "cell_type": "code",
   "execution_count": 18,
   "metadata": {},
   "outputs": [
    {
     "data": {
      "text/plain": [
       "<li>りんご</li>"
      ]
     },
     "execution_count": 18,
     "metadata": {},
     "output_type": "execute_result"
    }
   ],
   "source": [
    "# find()メソッドも同様。\n",
    "soup.find('li')"
   ]
  },
  {
   "cell_type": "code",
   "execution_count": 19,
   "metadata": {},
   "outputs": [
    {
     "data": {
      "text/plain": [
       "[<li>りんご</li>, <li class=\"featured\">みかん</li>, <li>ぶどう</li>]"
      ]
     },
     "execution_count": 19,
     "metadata": {},
     "output_type": "execute_result"
    }
   ],
   "source": [
    "# find_all()メソッドで指定した名前の要素のリストを取得できる。\n",
    "soup.find_all('li')"
   ]
  },
  {
   "cell_type": "code",
   "execution_count": 20,
   "metadata": {},
   "outputs": [
    {
     "data": {
      "text/plain": [
       "[<li class=\"featured\">みかん</li>]"
      ]
     },
     "execution_count": 20,
     "metadata": {},
     "output_type": "execute_result"
    }
   ],
   "source": [
    "# キーワード引数でclassなどの属性を指定できる。\n",
    "# classは予約語なので、class_を使う。\n",
    "soup.find_all('li', class_=\"featured\")"
   ]
  },
  {
   "cell_type": "code",
   "execution_count": 21,
   "metadata": {},
   "outputs": [
    {
     "data": {
      "text/plain": [
       "[<h1 id=\"main\"><strong>おいしい</strong>今日のくだもの</h1>]"
      ]
     },
     "execution_count": 21,
     "metadata": {},
     "output_type": "execute_result"
    }
   ],
   "source": [
    "# タグ名を省略して、属性のみで探すことも可能。\n",
    "soup.find_all(id='main')"
   ]
  },
  {
   "cell_type": "code",
   "execution_count": 22,
   "metadata": {},
   "outputs": [
    {
     "data": {
      "text/plain": [
       "[<li>りんご</li>, <li class=\"featured\">みかん</li>, <li>ぶどう</li>]"
      ]
     },
     "execution_count": 22,
     "metadata": {},
     "output_type": "execute_result"
    }
   ],
   "source": [
    "# select()メソッドでCSSセレクターにマッチする要素を取得できる。\n",
    "# BeautifulSoupでは、CSSセレクターのサブセットのみがサポートされている。\n",
    "soup.select('li')"
   ]
  },
  {
   "cell_type": "code",
   "execution_count": 23,
   "metadata": {},
   "outputs": [
    {
     "data": {
      "text/plain": [
       "[<li class=\"featured\">みかん</li>]"
      ]
     },
     "execution_count": 23,
     "metadata": {},
     "output_type": "execute_result"
    }
   ],
   "source": [
    "soup.select('li.featured')"
   ]
  },
  {
   "cell_type": "code",
   "execution_count": 24,
   "metadata": {},
   "outputs": [
    {
     "data": {
      "text/plain": [
       "[<h1 id=\"main\"><strong>おいしい</strong>今日のくだもの</h1>]"
      ]
     },
     "execution_count": 24,
     "metadata": {},
     "output_type": "execute_result"
    }
   ],
   "source": [
    "soup.select('#main')"
   ]
  },
  {
   "cell_type": "code",
   "execution_count": 28,
   "metadata": {},
   "outputs": [
    {
     "name": "stdout",
     "output_type": "stream",
     "text": [
      "https://gihyou.jp/dp/ebook/2023/978-4-297-13486-0 今すぐ使えるかんたん 今すぐ使えるかんたんぜったいデキます！ パワーポイント超入門［Office 2021／Microsoft 365両対応］\n",
      "https://gihyou.jp/dp/ebook/2023/978-4-297-13504-1 ゼロからはじめる ゼロからはじめるドコモ arrows N F-51C スマートガイド\n",
      "https://gihyou.jp/dp/ebook/2023/978-4-297-13462-4 知りたい！サイエンス ゼータへの最初の一歩 ベルヌーイ数～「べき乗和」と素数で割った「余り」の驚くべき関係～\n",
      "https://gihyou.jp/dp/ebook/2023/978-4-297-13442-6 今すぐ使えるかんたん 今すぐ使えるかんたんiPad完全ガイドブック 困った解決&便利技［iPadOS 16対応版］\n",
      "https://gihyou.jp/dp/ebook/2023/978-4-297-13490-7 売れるランディングページ改善の法則\n",
      "https://gihyou.jp/dp/ebook/2023/978-4-297-13241-5 ディープラーニングG検定（ジェネラリスト） 法律・倫理テキスト\n",
      "https://gihyou.jp/dp/ebook/2023/978-4-297-13496-9 エンジニア選書 実践 Svelte入門\n",
      "https://gihyou.jp/dp/ebook/2023/978-4-297-13510-2 現場が動きだす大学教育のマネジメントとは―茨城大学「教育の質保証」システム構築の物語\n",
      "https://gihyou.jp/dp/ebook/2023/978-4-297-13508-9 Minecraftオフィシャルブック マインクラフト モブのたくらみ［石の剣のものがたりシリーズ②］\n",
      "https://gihyou.jp/dp/ebook/2023/978-4-297-13408-2 図解即戦力 図解即戦力脱炭素のビジネス戦略と技術がこれ1冊でしっかりわかる教科書\n",
      "https://gihyou.jp/dp/ebook/2023/978-4-297-13436-5 ノンプログラマーのための Visual Studio Code実践活用ガイド\n",
      "https://gihyou.jp/dp/ebook/2023/978-4-297-13438-9 理解するほどおもしろい！ パソコンのしくみがよくわかる本 改訂3版\n",
      "https://gihyou.jp/dp/ebook/2023/978-4-297-13478-5 WEB+DB PRESS Vol.134\n",
      "https://gihyou.jp/dp/ebook/2023/978-4-297-13432-7 Nikon ニコン NX Studio パーフェクトガイド\n",
      "https://gihyou.jp/dp/ebook/2023/978-4-297-13434-1 今すぐ使えるかんたん 今すぐ使えるかんたんOutlook完全ガイドブック 困った解決&便利技［Office 2021/2019/2016/Microsoft 365対応版］\n",
      "https://gihyou.jp/dp/ebook/2023/978-4-297-13471-6 新居浜高専PICマイコン学習キット Ver.3 完全ガイド\n",
      "https://gihyou.jp/dp/ebook/2023/978-4-297-13414-3 ［速習］ベイズの定理——「推論」に効く数学の力\n",
      "https://gihyou.jp/dp/ebook/2023/978-4-297-13410-5 WEB+DB PRESS plus 縁の下のUIデザイン──小さな工夫で大きな効果をもたらす実践TIPS＆テクニック\n",
      "https://gihyou.jp/dp/ebook/2023/978-4-297-13446-4 今すぐ使えるかんたんmini 今すぐ使えるかんたんminiExcel関数の基本と便利がこれ1冊でわかる本［Office 2021/Microsoft 365両対応］\n",
      "https://gihyou.jp/dp/ebook/2023/978-4-297-13469-3 はじめてつくるWebアプリケーション〜Ruby on Railsでプログラミングへの第一歩を踏み出そう\n",
      "https://gihyou.jp/dp/ebook/2023/978-4-297-13387-0 ポケットリファレンス HTML&CSSポケットリファレンス［改訂3版］\n",
      "https://gihyou.jp/dp/ebook/2023/978-4-297-13353-5 英語は10000時間でモノになる～ハードワークで挫折しない「日本語断ち」の実践法～\n",
      "https://gihyou.jp/dp/ebook/2023/978-4-297-13514-0 まんがですっきりわかる フリーランスのためのインボイスと消費税\n",
      "https://gihyou.jp/dp/ebook/2023/978-4-297-13480-8 ポケットリファレンス Vue.jsポケットリファレンス\n",
      "https://gihyou.jp/dp/ebook/2023/978-4-297-13404-4 自由時間サプリ 誰でも簡単！ 世界一の4：6メソッドでハマる 美味しいコーヒー\n",
      "https://gihyou.jp/dp/ebook/2023/978-4-297-13450-1 Software Design 2023年5月号\n",
      "https://gihyou.jp/dp/ebook/2023/978-4-297-13357-3 ゼロからよくわかる！ Arduinoで電子工作入門ガイド 改訂2版\n",
      "https://gihyou.jp/dp/ebook/2023/978-4-297-13458-7 COMODO（COMODO ライフブック） おとなの浴衣、はじめます\n",
      "https://gihyou.jp/dp/ebook/2023/978-4-297-13424-2 ポケット介護 【ポケット介護】改訂新版 見てわかるリハビリ～活動と参加で「自立支援」につなげるコツ\n",
      "https://gihyou.jp/dp/ebook/2023/978-4-297-13393-1 最短時間でムダなく成果を上げる パソコン仕事術の教科書［改訂新版］\n"
     ]
    }
   ],
   "source": [
    "# scrape_by_bs4.py\n",
    "# Beautiful Soup 4でスクレイピングする\n",
    "\n",
    "from urllib.parse import urljoin\n",
    "from bs4 import BeautifulSoup\n",
    "\n",
    "# HTMLファイルを読み込んでBeautifulSoupオブジェクトを取得する。\n",
    "with open('../ch02/dp.html') as f:\n",
    "    soup = BeautifulSoup(f, 'html.parser')\n",
    "\n",
    "# select()メソッドで、セレクターに該当するa要素のリストを取得して、\n",
    "# 個々のa要素に対して処理を行う。\n",
    "for a in soup.select('#listBook > li > a[itemprop=\"url\"]'):\n",
    "    # a要素のhref属性から書籍のURLを取得する。\n",
    "    url = urljoin('https://gihyou.jp/dp', a.get('href'))\n",
    "    \n",
    "    # 書籍タイトルは、itemprop=\"name\"という属性を持つp要素から取得する。\n",
    "    p = a.select('p[itemprop=\"name\"]')[0]\n",
    "    # wbr要素などが含まれるのでstringではなくtextを使う。\n",
    "    title = p.text\n",
    "    \n",
    "    # 書籍のURLとタイトルを出力する。\n",
    "    print(url, title)"
   ]
  },
  {
   "attachments": {},
   "cell_type": "markdown",
   "metadata": {},
   "source": [
    "#### 3-1-2. pyqueryによるスクレイピング"
   ]
  },
  {
   "cell_type": "code",
   "execution_count": null,
   "metadata": {},
   "outputs": [],
   "source": [
    "# PyQueryクラスをpqという名前でインポート。\n",
    "from pyquery import PyQuery as pq\n",
    "\n",
    "# ファイルパスを指定してパースできる。\n",
    "d = pq(filename='index.html')\n",
    "\n",
    "# URLを指定してパースすることもできる。\n",
    "d = pq(url='http://example.com/')"
   ]
  },
  {
   "cell_type": "code",
   "execution_count": 1,
   "metadata": {},
   "outputs": [],
   "source": [
    "from pyquery import PyQuery as pq\n",
    "\n",
    "# 文字列を指定してパースすることもできる。\n",
    "d= pq(\"\"\"\n",
    "    <html>\n",
    "    <head><title>八百屋オンライン</title></head>\n",
    "    <body>\n",
    "    <h1 id=main><strong>おいしい</strong>今日のくだもの</h1>\n",
    "    <ui>\n",
    "        <li>りんご</li>\n",
    "        <li class=\"featured\">みかん</li>\n",
    "        <li>ぶどう</li>\n",
    "    </ui>\n",
    "    </html>\n",
    "    </body>\n",
    "\"\"\")"
   ]
  },
  {
   "cell_type": "code",
   "execution_count": 2,
   "metadata": {},
   "outputs": [
    {
     "data": {
      "text/plain": [
       "[<h1#main>]"
      ]
     },
     "execution_count": 2,
     "metadata": {},
     "output_type": "execute_result"
    }
   ],
   "source": [
    "# dはjQueryの$関数（jQuery関数）とほぼ同じ感覚で扱える。\n",
    "# CSSセレクターを指定して、HTML要素に対応するオブジェクトを取得する。\n",
    "d('h1')"
   ]
  },
  {
   "cell_type": "code",
   "execution_count": 3,
   "metadata": {},
   "outputs": [
    {
     "data": {
      "text/plain": [
       "pyquery.pyquery.PyQuery"
      ]
     },
     "execution_count": 3,
     "metadata": {},
     "output_type": "execute_result"
    }
   ],
   "source": [
    "# 取得できるのは、listを継承したPyQueryクラスのオブジェクト。\n",
    "# jQueryオブジェクトとほぼ同じ感覚で扱える。\n",
    "type(d('h1'))"
   ]
  },
  {
   "cell_type": "code",
   "execution_count": 4,
   "metadata": {},
   "outputs": [
    {
     "data": {
      "text/plain": [
       "<Element h1 at 0x105544e00>"
      ]
     },
     "execution_count": 4,
     "metadata": {},
     "output_type": "execute_result"
    }
   ],
   "source": [
    "# リストの中身はpyqueryが内部的に使用しているlxmlのElement\n",
    "d('h1')[0]"
   ]
  },
  {
   "cell_type": "code",
   "execution_count": 5,
   "metadata": {},
   "outputs": [
    {
     "data": {
      "text/plain": [
       "'おいしい今日のくだもの'"
      ]
     },
     "execution_count": 5,
     "metadata": {},
     "output_type": "execute_result"
    }
   ],
   "source": [
    "# text()メソッドで要素のテキストを取得できる。\n",
    "d('h1').text()"
   ]
  },
  {
   "cell_type": "code",
   "execution_count": 8,
   "metadata": {},
   "outputs": [
    {
     "data": {
      "text/plain": [
       "'main'"
      ]
     },
     "execution_count": 8,
     "metadata": {},
     "output_type": "execute_result"
    }
   ],
   "source": [
    "# attr()メソッドで要素の属性を取得できる。\n",
    "d('h1').attr('id')"
   ]
  },
  {
   "cell_type": "code",
   "execution_count": 10,
   "metadata": {},
   "outputs": [
    {
     "data": {
      "text/plain": [
       "'main'"
      ]
     },
     "execution_count": 10,
     "metadata": {},
     "output_type": "execute_result"
    }
   ],
   "source": [
    "# 属性やキーでも要素の属性にアクセスできる。\n",
    "d('h1').attr.id"
   ]
  },
  {
   "cell_type": "code",
   "execution_count": 11,
   "metadata": {},
   "outputs": [
    {
     "data": {
      "text/plain": [
       "'main'"
      ]
     },
     "execution_count": 11,
     "metadata": {},
     "output_type": "execute_result"
    }
   ],
   "source": [
    "d('h1').attr['id']"
   ]
  },
  {
   "cell_type": "code",
   "execution_count": 12,
   "metadata": {},
   "outputs": [
    {
     "data": {
      "text/plain": [
       "[<strong>]"
      ]
     },
     "execution_count": 12,
     "metadata": {},
     "output_type": "execute_result"
    }
   ],
   "source": [
    "# children()メソッドで子要素のリストを取得できる。\n",
    "d('h1').children()"
   ]
  },
  {
   "cell_type": "code",
   "execution_count": 13,
   "metadata": {},
   "outputs": [
    {
     "data": {
      "text/plain": [
       "[<body>]"
      ]
     },
     "execution_count": 13,
     "metadata": {},
     "output_type": "execute_result"
    }
   ],
   "source": [
    "# parent()メソッドで親要素のPyQueryオブジェクトを取得できる。\n",
    "d('h1').parent()"
   ]
  },
  {
   "cell_type": "code",
   "execution_count": 15,
   "metadata": {},
   "outputs": [
    {
     "data": {
      "text/plain": [
       "[<li>, <li.featured>, <li>]"
      ]
     },
     "execution_count": 15,
     "metadata": {},
     "output_type": "execute_result"
    }
   ],
   "source": [
    "# さまざまなCSSセレクターにマッチする要素のリストを取得できる。\n",
    "d('li')"
   ]
  },
  {
   "cell_type": "code",
   "execution_count": 16,
   "metadata": {},
   "outputs": [
    {
     "data": {
      "text/plain": [
       "[<h1#main>]"
      ]
     },
     "execution_count": 16,
     "metadata": {},
     "output_type": "execute_result"
    }
   ],
   "source": [
    "d('#main')"
   ]
  },
  {
   "cell_type": "code",
   "execution_count": 17,
   "metadata": {},
   "outputs": [
    {
     "data": {
      "text/plain": [
       "[<li>, <li.featured>, <li>]"
      ]
     },
     "execution_count": 17,
     "metadata": {},
     "output_type": "execute_result"
    }
   ],
   "source": [
    "# jQueryのようにメソッドチェインで絞り込んでいくことも可能。\n",
    "# find()メソッドで、現在の要素の子孫の中からCSSセレクターにマッチする要素のリストを取得できる。\n",
    "d('body').find('li')"
   ]
  },
  {
   "cell_type": "code",
   "execution_count": 18,
   "metadata": {},
   "outputs": [
    {
     "data": {
      "text/plain": [
       "[<li.featured>]"
      ]
     },
     "execution_count": 18,
     "metadata": {},
     "output_type": "execute_result"
    }
   ],
   "source": [
    "# filter()メソッドで、現在の要素のリストの中からCSSセレクターにマッチする要素を絞り込める。\n",
    "d('li').filter('.featured')"
   ]
  },
  {
   "cell_type": "code",
   "execution_count": 19,
   "metadata": {},
   "outputs": [
    {
     "data": {
      "text/plain": [
       "[<li.featured>]"
      ]
     },
     "execution_count": 19,
     "metadata": {},
     "output_type": "execute_result"
    }
   ],
   "source": [
    "# eq()メソッドで、現在の要素のリストの中から指定したインデックスの要素を取得できる。\n",
    "d('li').eq(1)"
   ]
  },
  {
   "cell_type": "code",
   "execution_count": 20,
   "metadata": {},
   "outputs": [
    {
     "name": "stdout",
     "output_type": "stream",
     "text": [
      "http://gihyo.jp/dp/ebook/2023/978-4-297-13486-0 今すぐ使えるかんたん 今すぐ使えるかんたん\n",
      "ぜったいデキます！ パワーポイント超入門\n",
      "［Office 2021\n",
      "／\n",
      "Microsoft 365\n",
      "両対応］\n",
      "http://gihyo.jp/dp/ebook/2023/978-4-297-13504-1 ゼロからはじめる ゼロからはじめる\n",
      "ドコモ arrows N F-51C スマートガイド\n",
      "http://gihyo.jp/dp/ebook/2023/978-4-297-13462-4 知りたい！サイエンス ゼータへの最初の一歩 ベルヌーイ数\n",
      "～\n",
      "「べき乗和」\n",
      "と素数で割った\n",
      "「余り」\n",
      "の驚くべき関係～\n",
      "http://gihyo.jp/dp/ebook/2023/978-4-297-13442-6 今すぐ使えるかんたん 今すぐ使えるかんたん\n",
      "iPad\n",
      "完全ガイドブック 困った解決&\n",
      "便利技\n",
      "［iPadOS 16\n",
      "対応版］\n",
      "http://gihyo.jp/dp/ebook/2023/978-4-297-13490-7 売れるランディングページ改善の法則\n",
      "http://gihyo.jp/dp/ebook/2023/978-4-297-13241-5 ディープラーニング\n",
      "G\n",
      "検定\n",
      "（ジェネラリスト） 法律・\n",
      "倫理テキスト\n",
      "http://gihyo.jp/dp/ebook/2023/978-4-297-13496-9 エンジニア選書 実践 Svelte\n",
      "入門\n",
      "http://gihyo.jp/dp/ebook/2023/978-4-297-13510-2 現場が動きだす大学教育のマネジメントとは\n",
      "―茨城大学\n",
      "「教育の質保証」\n",
      "システム構築の物語\n",
      "http://gihyo.jp/dp/ebook/2023/978-4-297-13508-9 Minecraft\n",
      "オフィシャルブック\n",
      "マインクラフト モブのたくらみ\n",
      "［石の剣のものがたりシリーズ②］\n",
      "http://gihyo.jp/dp/ebook/2023/978-4-297-13408-2 図解即戦力 図解即戦力\n",
      "脱炭素のビジネス戦略と技術がこれ\n",
      "1\n",
      "冊でしっかりわかる教科書\n",
      "http://gihyo.jp/dp/ebook/2023/978-4-297-13436-5 ノンプログラマーのための Visual Studio Code\n",
      "実践活用ガイド\n",
      "http://gihyo.jp/dp/ebook/2023/978-4-297-13438-9 理解するほどおもしろい！ パソコンのしくみがよくわかる本 改訂\n",
      "3\n",
      "版\n",
      "http://gihyo.jp/dp/ebook/2023/978-4-297-13478-5 WEB+DB PRESS Vol.134\n",
      "http://gihyo.jp/dp/ebook/2023/978-4-297-13432-7 Nikon ニコン NX Studio パーフェクトガイド\n",
      "http://gihyo.jp/dp/ebook/2023/978-4-297-13434-1 今すぐ使えるかんたん 今すぐ使えるかんたん\n",
      "Outlook\n",
      "完全ガイドブック 困った解決&\n",
      "便利技\n",
      "［Office 2021/\n",
      "2019/\n",
      "2016/\n",
      "Microsoft 365\n",
      "対応版］\n",
      "http://gihyo.jp/dp/ebook/2023/978-4-297-13471-6 新居浜高専\n",
      "PIC\n",
      "マイコン学習キット Ver.3 完全ガイド\n",
      "http://gihyo.jp/dp/ebook/2023/978-4-297-13414-3 ［速習］\n",
      "ベイズの定理\n",
      "——\n",
      "「推論」\n",
      "に効く数学の力\n",
      "http://gihyo.jp/dp/ebook/2023/978-4-297-13410-5 WEB+DB PRESS plus 縁の下の\n",
      "UI\n",
      "デザイン\n",
      "──小さな工夫で大きな効果をもたらす実践\n",
      "TIPS\n",
      "＆\n",
      "テクニック\n",
      "http://gihyo.jp/dp/ebook/2023/978-4-297-13446-4 今すぐ使えるかんたん\n",
      "mini\n",
      "今すぐ使えるかんたんmini\n",
      "Excel\n",
      "関数の基本と便利がこれ\n",
      "1\n",
      "冊でわかる本\n",
      "［Office 2021/\n",
      "Microsoft 365\n",
      "両対応］\n",
      "http://gihyo.jp/dp/ebook/2023/978-4-297-13469-3 はじめてつくる\n",
      "Web\n",
      "アプリケーション\n",
      "〜\n",
      "Ruby on Rails\n",
      "でプログラミングへの第一歩を踏み出そう\n",
      "http://gihyo.jp/dp/ebook/2023/978-4-297-13387-0 ポケットリファレンス HTML&\n",
      "CSS\n",
      "ポケットリファレンス\n",
      "［改訂\n",
      "3\n",
      "版］\n",
      "http://gihyo.jp/dp/ebook/2023/978-4-297-13353-5 英語は\n",
      "10000\n",
      "時間でモノになる\n",
      "～ハードワークで挫折しない\n",
      "「日本語断ち」\n",
      "の実践法～\n",
      "http://gihyo.jp/dp/ebook/2023/978-4-297-13514-0 まんがですっきりわかる フリーランスのためのインボイスと消費税\n",
      "http://gihyo.jp/dp/ebook/2023/978-4-297-13480-8 ポケットリファレンス Vue.js\n",
      "ポケットリファレンス\n",
      "http://gihyo.jp/dp/ebook/2023/978-4-297-13404-4 自由時間サプリ 誰でも簡単！ 世界一の\n",
      "4：\n",
      "6\n",
      "メソッドでハマる 美味しいコーヒー\n",
      "http://gihyo.jp/dp/ebook/2023/978-4-297-13450-1 Software Design 2023\n",
      "年\n",
      "5\n",
      "月号\n",
      "http://gihyo.jp/dp/ebook/2023/978-4-297-13357-3 ゼロからよくわかる！ Arduino\n",
      "で電子工作入門ガイド 改訂\n",
      "2\n",
      "版\n",
      "http://gihyo.jp/dp/ebook/2023/978-4-297-13458-7 COMODO\n",
      "（COMODO ライフブック）\n",
      "おとなの浴衣、はじめます\n",
      "http://gihyo.jp/dp/ebook/2023/978-4-297-13424-2 ポケット介護 【ポケット介護】\n",
      "改訂新版 見てわかるリハビリ\n",
      "～活動と参加で\n",
      "「自立支援」\n",
      "につなげるコツ\n",
      "http://gihyo.jp/dp/ebook/2023/978-4-297-13393-1 最短時間でムダなく成果を上げる パソコン仕事術の教科書\n",
      "［改訂新版］\n"
     ]
    }
   ],
   "source": [
    "# scrape_by_pyquery.py\n",
    "# pyqueryでスクレイピングする。\n",
    "\n",
    "from pyquery import PyQuery as pq\n",
    "\n",
    "# HTMLファイルを読み込んでPyQueryオブジェクトを取得する。\n",
    "d = pq(filename='../ch02/dp.html')\n",
    "# すべてのリンクを絶対URLに変換する。\n",
    "d.make_links_absolute('http://gihyo.jp/dp')\n",
    "\n",
    "# d()でセレクターに該当するa要素のリストを取得して、個々のa要素に対して処理を行う。\n",
    "for a in d('#listBook > li > a[itemprop=\"url\"]'):\n",
    "    # a要素のhref属性から書籍のURLを取得する。\n",
    "    # 変数aで取得できるのは、lxmlのElementなので、\n",
    "    # d(a)としてPyQueryオブジェクトを取得している。\n",
    "    url = d(a).attr('href')\n",
    "    \n",
    "    # 書籍のタイトルは、itemprop=\"name\"という属性を持つp要素から取得する。\n",
    "    p = d(a).find('p[itemprop=\"name\"]').eq(0)\n",
    "    title = p.text()\n",
    "    \n",
    "    print(url, title)"
   ]
  },
  {
   "attachments": {},
   "cell_type": "markdown",
   "metadata": {},
   "source": [
    "## 3-2. XMLのスクレイピング"
   ]
  },
  {
   "attachments": {},
   "cell_type": "markdown",
   "metadata": {},
   "source": [
    "### 3-2-1. lxmlによるスクレイピング"
   ]
  },
  {
   "attachments": {},
   "cell_type": "markdown",
   "metadata": {},
   "source": [
    "RSSをパースする"
   ]
  },
  {
   "cell_type": "code",
   "execution_count": 21,
   "metadata": {},
   "outputs": [
    {
     "name": "stdout",
     "output_type": "stream",
     "text": [
      "https://gihyo.jp/article/2023/05/daily-linux-230501?utm_source=feed Debian 12.0 “Bookworm”のリリースは6月10日に\n",
      "https://gihyo.jp/article/2023/05/ossdb-various-news0093?utm_source=feed 第93回　MySQL Day Tokyo開催、PostgreSQLの透過型暗号化機能とPGECons成果報告会\n",
      "https://gihyo.jp/article/2023/05/blender-basics-09?utm_source=feed Blenderの機能「ベベル」とメッシュの外観の表示方法についてみてみよう\n",
      "https://gihyo.jp/article/2023/04/python-bc-aichi2?utm_source=feed 「Python Boot Camp」2023年6月3日に名古屋で開催\n",
      "https://gihyo.jp/admin/clip/01/ubuntu-topics/202304/28?utm_source=feed Ubuntu 23.10 \"M\" の準備、Ubuntu 23.04 日本語Remixのリリース候補版、Intel版のUbuntu\n",
      "https://gihyo.jp/article/2023/04/deep-learning-future-morpho?utm_source=feed ディープラーニングの未来：東大とMorphoが目指す次のAI社会\n",
      "https://gihyo.jp/article/2023/04/linux-learning-from-zero-knowledge?utm_source=feed 新人・未経験にこそオススメ Linuxをはじめよう！\n",
      "https://gihyo.jp/article/2023/04/daily-linux-230427?utm_source=feed Linux 6.3リリース、ハードウェアサポートの強化、Steam Deckコントローラサポートなど\n",
      "https://gihyo.jp/article/2023/04/lightning-network-overview-of-mercari?utm_source=feed メルカリBitcoin取引サービスローンチの背景にあるBitcoin決済技術の進展 ～Lightning Networkの概要と活用への取り組み\n",
      "https://gihyo.jp/article/2023/04/android-weekly-topics-230427?utm_source=feed 発売直前情報、高まるGoogle Tabletへの期待\n",
      "https://gihyo.jp/article/2023/04/java-on-azure-day-2023?utm_source=feed 速報！Java on Azure Day 2023――マイクロソフトが実現するJava開発者の開発効率化とイノベーション、AIの進化が拓く未来\n",
      "https://gihyo.jp/article/2023/04/powerpoint-design-book-interview?utm_source=feed 『パワーポイント・デザインブック』はパワポの本？ それともデザインの本？ その謎を明かす ～著者の山内さんが語る、本書製作までの道のり\n",
      "https://gihyo.jp/admin/serial/01/ubuntu-recipe/0760?utm_source=feed 第760回　MangoHudでゲームのフレームレートを計測する\n",
      "https://gihyo.jp/article/2023/04/unreal-fest-tokyo?utm_source=feed 「UNREAL FEST 2023 TOKYO」6/2，3に秋葉原で開催\n",
      "https://gihyo.jp/article/2023/04/google-authenticator?utm_source=feed Google Authenticatorがクラウド同期に対応、二要素認証コードをデバイス間で共有可能に\n",
      "https://gihyo.jp/article/2023/04/what-developers-need-to-know-about-generative-ai?utm_source=feed 生成系AIについて開発者が知っておくべきこと\n",
      "https://gihyo.jp/article/2023/04/mysql-rcn0195?utm_source=feed 第195回　MySQLレプリカの自動ソース切り替え\n",
      "https://gihyo.jp/article/2023/04/babylon-js-6?utm_source=feed 3DグラフィックスライブラリBabylon.js 6.0リリース、物理演算ミドルウェアHavokを新たに搭載\n",
      "https://gihyo.jp/article/2023/04/modern-application?utm_source=feed これから取り組むモダンアプリケーション 〜変化を受け入れ続けて開発に注力する\n",
      "https://gihyo.jp/admin/clip/01/ubuntu-topics/202304/21?utm_source=feed Ubuntu 23.04 “Lunar Lobster”のリリース\n",
      "https://gihyo.jp/article/2023/04/fedidb-new-beta-site?utm_source=feed MastodonやMisskeyなどのFediverseサーバーの統計サイトFediDBが新UIのベータサイトを公開\n",
      "https://gihyo.jp/article/2023/04/what-we-consider-best-nocode-ai?utm_source=feed 僕たちが考える最強のNo-code AI ～行動認識AIをノーコードで実現するプラットフォーム構成例\n",
      "https://gihyo.jp/dev/serial/01/savanna-letter/0005?utm_source=feed 第5回　テストピラミッド ～自動テストの信頼性を中長期的に保つ最適なバランス～\n",
      "https://gihyo.jp/dev/serial/01/technical_field/0010?utm_source=feed 第10回　セキュリティリスクとの付き合い方\n",
      "https://gihyo.jp/article/2023/04/android-weekly-topics-230420?utm_source=feed レンタカーで便利。Yahoo! MAPがAndroid Autoに対応\n",
      "https://gihyo.jp/article/2023/04/daily-linux-230419?utm_source=feed Webサイトも刷新! GNOME 44を搭載したFedora Linux 38がリリース\n",
      "https://gihyo.jp/admin/serial/01/ubuntu-recipe/0759?utm_source=feed 第759回　Ubuntu 23.04の変更点\n",
      "https://gihyo.jp/article/2023/04/daily-linux-230418?utm_source=feed M1/M2 Macのキーボードバックライト、Linux 6.4以降でサポートへ\n",
      "https://gihyo.jp/dev/serial/01/perl-hackers-hub/007702?utm_source=feed 第77回　モジュールの自動インポートによる開発効率向上 ～PPIによる静的解析と、モジュールロードによる動的解析の組み合わせで実現（2）\n",
      "https://gihyo.jp/dev/serial/01/perl-hackers-hub/007701?utm_source=feed 第77回　モジュールの自動インポートによる開発効率向上 ～PPIによる静的解析と、モジュールロードによる動的解析の組み合わせで実現（1）\n",
      "https://gihyo.jp/article/2023/04/blender-basics-08?utm_source=feed Blenderの機能「押し出し」と「面の差し込み」についてみてみよう\n",
      "https://gihyo.jp/admin/clip/01/ubuntu-topics/202304/14?utm_source=feed Ubuntu 23.04（lunar）の開発 / リリースまであと一週間、HWEカーネル向けのLivepatch\n",
      "https://gihyo.jp/article/2023/04/android-weekly-topics-230413?utm_source=feed 推しポイントはここ！期待のハイエンド「Galaxy S23シリーズ」\n",
      "https://gihyo.jp/admin/serial/01/ubuntu-recipe/0758?utm_source=feed 第758回　多機能な電子書籍ビューアー「Koodo Reader」で読書情報を同期し、Ubuntu間で共有する\n",
      "https://gihyo.jp/article/2023/04/aws-data-analytics-0004?utm_source=feed データパイプラインの管理 ～ワークフロー管理に利用できる、さまざまなAWSサービス\n",
      "https://gihyo.jp/article/2023/04/monthly-python-2304?utm_source=feed WebブラウザでPythonが動作する！PyScriptの詳解\n",
      "https://gihyo.jp/article/2023/04/what_is_bluesky?utm_source=feed ネクストブレイク分散型SNSの大本命、Blueskyを先取り！\n",
      "https://gihyo.jp/article/2023/04/bluesky-atprotocol?utm_source=feed 開発視点から見る、新しい分散型SNS「Bluesky」とAT Protocolの可能性\n",
      "https://gihyo.jp/article/2023/04/mysql-rcn0194?utm_source=feed 第194回　COALESCE関数を使ってNULLを返さないようにする\n",
      "https://gihyo.jp/article/2023/04/u22procon2023?utm_source=feed U-22プログラミング・コンテスト2023 応募要項発表\n",
      "https://gihyo.jp/article/2023/04/tukinami-go-06?utm_source=feed GoにはなぜXという機能がないのか？ 〜テスト関数ごとの暗黙的な初期化処理の実現を考察する\n",
      "https://gihyo.jp/admin/clip/01/ubuntu-topics/202304/07?utm_source=feed Ubuntu 23.04（lunar）のBetaと23.10のプランニング、LinuxONE Rockhopper 4での22.04サポート\n",
      "https://gihyo.jp/article/2023/04/zoku-gansiki-0048?utm_source=feed 第48回　『らじる★らじる』の聴き逃がしサービス（4）\n",
      "https://gihyo.jp/article/2023/04/ibm-linux-one?utm_source=feed “イワトビペンギン”に新メンバー ―IBM、Linuxメインフレーム「IBM LinuxONE Rockhopper」に2モデルが追加\n",
      "https://gihyo.jp/article/2023/04/prompt-engineering-guide?utm_source=feed 「Prompt Engineering Guide」の日本語訳が公式サイトにマージ\n",
      "https://gihyo.jp/article/2023/04/programming-with-chatgpt-02?utm_source=feed ChatGPT APIとWhisper APIで議事録文字起こしアプリを作り、Hugging Face Spacesで公開する\n",
      "https://gihyo.jp/article/2023/04/android-weekly-topics-230406?utm_source=feed Googleウォレットが日本でも展開開始。使える機能はナニ？\n",
      "https://gihyo.jp/admin/serial/01/ubuntu-recipe/0757?utm_source=feed 第757回　Launchpadを使ってUbuntuの不具合を報告しよう\n",
      "https://gihyo.jp/article/2023/04/blender-basics-07?utm_source=feed Blenderの機能「ループカット」とオブジェクトの表示の切り替え方をみてみよう\n",
      "https://gihyo.jp/article/2023/04/ossdb-various-news0092?utm_source=feed 第92回　セミナー「デジタル変革にはOSSをこう使ってくれ！」開催報告、MySQL新リリースモデル発表、PostgreSQL最新情報\n",
      "https://gihyo.jp/article/2023/03/google-bigquery-update?utm_source=feed Google Cloud、BigQueryの新価格体系とAlloyDBのアップデートを発表 ―より多くのユーザのTCOを削減したい\n",
      "https://gihyo.jp/admin/clip/01/ubuntu-topics/202303/31?utm_source=feed Ubuntu 23.04（lunar）の開発/Betaの準備とcrmshからpcsへのマイグレーション、Amlogic Meson用ドライバ、20.04.6のリリース\n",
      "https://gihyo.jp/article/2023/03/kubernetes-cloudnative-topics-06?utm_source=feed 入門 継続的プロファイリング 〜Kubernetesにおけるオブザーバビリティの最前線〜\n",
      "https://gihyo.jp/article/2023/03/android-weekly-topics-230330?utm_source=feed Small Android Phoneプロジェクトに新たな動き\n",
      "https://gihyo.jp/article/2023/03/how-ai-image-generator-work-02?utm_source=feed 画像生成AIのしくみ【後編】 AIの絵筆はどんな形？「画像生成器」について知る\n",
      "https://gihyo.jp/article/2023/03/linux_containers-0052?utm_source=feed 第52回　Linuxカーネルのコンテナ機能 ― cgroupを使ったI/O制限\n",
      "https://gihyo.jp/article/2023/03/machine-learning-calibration-and-business?utm_source=feed 機械学習のカリブレーションとビジネスの関係 〜ローンのパーソナライゼーション\n",
      "https://gihyo.jp/admin/serial/01/ubuntu-recipe/0756?utm_source=feed 第756回　ownCloud Infinite Scaleを小スケールデプロイする［VPSデプロイ編］\n",
      "https://gihyo.jp/article/2023/03/how-ai-image-generator-work-01?utm_source=feed 画像生成AIのしくみ【前編】 AIに言葉を理解させる技術\n",
      "https://gihyo.jp/article/2023/03/daily-linux-230329?utm_source=feed そのパッチは受け取れない ―ロシアの半導体メーカーに在籍する開発者、カーネルパッチを拒否される\n",
      "https://gihyo.jp/article/2023/03/ios16.4-release?utm_source=feed iOS/iPadOS 16.4リリース 〜ホーム画面に追加したWebアプリ（PWA）からの通知が可能に。またUnicode 15.0の絵文字も追加される\n",
      "https://gihyo.jp/article/2023/03/mysql-rcn0193?utm_source=feed 第193回　VALUESステートメントとTABLEステートメントを使ってみよう\n",
      "https://gihyo.jp/article/2023/03/mitene-06observability?utm_source=feed 「家族アルバム みてね」におけるオブザーバビリティの取り組み\n",
      "https://gihyo.jp/article/2023/03/remnote-02?utm_source=feed 読んだ資料をもう忘れない！ RemNoteの注釈機能とフラッシュカードで思考と記憶を整理する\n",
      "https://gihyo.jp/article/2023/03/daily-linux-230324?utm_source=feed GNOME 44リリース、UXが大幅に改善\n",
      "https://gihyo.jp/article/2023/03/chatgpt-plugins?utm_source=feed OpenAI、ChatGPTにプラグインを追加\n",
      "https://gihyo.jp/admin/clip/01/ubuntu-topics/202303/24?utm_source=feed Ubuntu 23.04（lunar）の開発/UI FreezeとFFe、オープンソースカンファレンス2023 Tokyo/Spring＠浅草\n",
      "https://gihyo.jp/article/2023/03/github-copilot-x?utm_source=feed GitHub，GPT-4を実装した「GitHub Copilot X」をリリース ―コーディングはAIとともに\n",
      "https://gihyo.jp/article/2023/03/programming-with-chatgpt-01?utm_source=feed ChatGPTのおさらいと、プログラミングに活用するための第一歩\n",
      "https://gihyo.jp/article/2023/03/android-weekly-topics-230323?utm_source=feed 待ちどおしい！Pixel Tabletが少しわかる情報\n",
      "https://gihyo.jp/article/2023/03/java20?utm_source=feed Java 20リリース――Project LoomのプレビューやProject Panamaのプレビューなど7つのJEPsを提供\n",
      "https://gihyo.jp/article/2023/03/adobe-firefly-beta-release?utm_source=feed Adobe、クリエイティブ生成AIモデル「Adobe Firefly」をベータリリース\n",
      "https://gihyo.jp/admin/serial/01/ubuntu-recipe/0755?utm_source=feed 第755回　UbuntuにおけるMOTDの仕組みのすべて\n",
      "https://gihyo.jp/article/2023/03/texlive2023?utm_source=feed TeX Live 2023がリリース\n",
      "https://gihyo.jp/article/2023/03/misskey-02?utm_source=feed MisskeyにおけるNest.jsを使ったDI\n",
      "https://gihyo.jp/article/2023/03/python-bc-kagoshima2?utm_source=feed 「Python Boot Camp」2023年5月20日に鹿児島市で開催\n",
      "https://gihyo.jp/article/2023/03/blender-basics-06?utm_source=feed Blenderのオブジェクトの概念（3Dカーソル・原点・ピボットポイント）を見てみよう\n",
      "https://gihyo.jp/article/2023/03/microsoft365_copilot?utm_source=feed Microsoft 365 Copilot発表 ―Microsoft 365の機能をGPT-4で効率的に活用\n",
      "https://gihyo.jp/article/2023/03/typescript_5_0?utm_source=feed TypeScript 5.0正式リリース\n",
      "https://gihyo.jp/admin/clip/01/ubuntu-topics/202303/17?utm_source=feed Ubuntu 23.04（lunar）の開発/壁紙の準備とFeature Freeze後のいろいろなException、MediaTek製SoC向けUbuntuイメージ、Ubuntu 20.04.6の準備\n",
      "https://gihyo.jp/article/2023/03/pytorch_2?utm_source=feed PyTorch 2.0リリース、より高速な深層学習モデル、コンパイラを搭載\n",
      "https://gihyo.jp/article/2023/03/android-weekly-topics-230316?utm_source=feed 春の訪れとともにAndroidに新たな兆しが見えてきた\n",
      "https://gihyo.jp/article/2023/03/daily-linux-230315?utm_source=feed Fedora Linux 38 Beta公開、最終リリースは4月末予定\n",
      "https://gihyo.jp/admin/serial/01/ubuntu-recipe/0754?utm_source=feed 第754回　ownCloud Infinite Scaleを小スケールデプロイする［ローカルデプロイ編］\n",
      "https://gihyo.jp/article/2023/03/power-automate-202303?utm_source=feed Power Automate for desktop のアップデートを振り返る（2022年8月～2023年1月）\n",
      "https://gihyo.jp/article/2023/03/daily-linux-230314?utm_source=feed Canonical、物理サーバデプロイツールの新バージョン「MAAS 3.3」リリース\n",
      "https://gihyo.jp/article/2023/03/improve-accessibility-in-organization-08?utm_source=feed 第8回　自社を超えたコラボレーションでアクセシビリティは社会へとつながる\n",
      "https://gihyo.jp/article/2023/03/aws-data-analytics-0003?utm_source=feed データ管理の6つのコンポーネントと、AWSにおけるデータ管理の考え方\n",
      "https://gihyo.jp/article/2023/03/mysql-rcn0192?utm_source=feed 第192回　MySQLのパラレル操作について\n",
      "https://gihyo.jp/article/2023/03/kids-valley-pbl-educational-event-report?utm_source=feed 渋谷の57人の6年生が「未来の小学校」をマインクラフトを使って考えた──「未来の笹塚小学校をつくろう」最終成果発表\n",
      "https://gihyo.jp/article/2023/03/tukinami-go-05?utm_source=feed Goのカバレッジツールを使いこなす\n",
      "https://gihyo.jp/article/2023/03/intel-oneapi-toolkit-2023?utm_source=feed マルチアーキテクチャ開発時代の最適解――インテル oneAPI ツールキット 2023活用のヒント\n",
      "https://gihyo.jp/admin/clip/01/ubuntu-topics/202303/10?utm_source=feed PolarFire SoC Icicle kitのUbuntu 22.04.2サポート、avahiとsystemd-resolvedの併用と整理\n",
      "https://gihyo.jp/article/2023/03/improve-accessibility-in-organization-07?utm_source=feed 第7回　アクセシビリティをサポートサイト、会社サイト、外部ツール、協力会社まで広げる\n",
      "https://gihyo.jp/article/2023/03/rubykaigi-sponsor-story-behind?utm_source=feed 各社の技術広報が明かす「RubyKaigiスポンサーの裏話」 〜運営ノウハウやコミュニティへの想い\n",
      "https://gihyo.jp/article/2023/03/monthly-python-2303?utm_source=feed 新しい静的コード解析ツール「Ruff」をご紹介\n",
      "https://gihyo.jp/article/2023/03/android-weekly-topics-230309?utm_source=feed 自動車レース「F1」の中にいるAndroid\n",
      "https://gihyo.jp/article/2023/03/daily-linux-230308?utm_source=feed Debian、「APT 2.6」をリリース、Bookwormに向けてノンフリーファームウェアの扱いが変更へ\n",
      "https://gihyo.jp/admin/serial/01/ubuntu-recipe/0753?utm_source=feed 第753回　VisionFive 2でriscv64なUbuntuを動かす\n",
      "https://gihyo.jp/article/2023/03/zoku-gansiki-0047?utm_source=feed 第47回 『らじる★らじる』の聴き逃がしサービス（3）\n",
      "https://gihyo.jp/article/2023/03/daily-linux-230307?utm_source=feed Cubic ―UbuntuのカスタムISOイメージを手軽に作成できるGUIウィザード\n",
      "https://gihyo.jp/article/2023/03/improve-accessibility-in-organization-06?utm_source=feed 第6回　アクセシビリティを必須スキルとし、採用・研修・スキルアップをする\n",
      "https://gihyo.jp/article/2023/03/daily-linux-230306?utm_source=feed Linux 6.3-rc1が公開、正式リリースは4月下旬か5月上旬に\n",
      "https://gihyo.jp/article/2023/03/blender-basics-05?utm_source=feed Blenderの基本操作を確認しよう！～オブジェクトの移動・回転・拡大縮小する方法\n",
      "https://gihyo.jp/admin/clip/01/ubuntu-topics/202303/03?utm_source=feed Ubuntu 23.04（lunar）のFeature Freeze/将来の最小インストールイメージ、Ubuntu 22.04.2 LTS、vRANブースト対応第4世代Xeonスケーラブル・プロセッサーのサポート\n",
      "https://gihyo.jp/article/2023/03/improve-accessibility-in-organization-05?utm_source=feed 第5回　アクセシビリティを7つの視点で効果測定し、実績を証明する\n",
      "https://gihyo.jp/article/2023/03/tfen009-rust_progress?utm_source=feed 2022年のRustの進捗の話をしましょう ～TechFeed Experts Night#9講演より\n",
      "https://gihyo.jp/article/2023/03/daily-linux-230302?utm_source=feed Fedoraのビルドシステム「Copr」に4つの新プロジェクトが追加\n",
      "https://gihyo.jp/article/2023/03/android-weekly-topics-230302?utm_source=feed 待望のアップデート！Nothing OS 1.5がリリース\n",
      "https://gihyo.jp/article/2023/03/remnote-01?utm_source=feed 簡単で強力！誰でも始められる情報整理ツール「RemNote」を始めよう\n",
      "https://gihyo.jp/article/2023/03/ffmpeg-v6?utm_source=feed 動画・音声処理のライブラリとツールのコレクションFFmepg 6.0リリース、AV1ハードウェアデコードに対応\n",
      "https://gihyo.jp/admin/serial/01/ubuntu-recipe/0752?utm_source=feed 第752回　RISC-VのシングルボードコンピューターであるVisionFive 2を使ってみる\n",
      "https://gihyo.jp/article/2023/03/ossdb-various-news0091?utm_source=feed 第91回　「デジタル変革にはOSSをこう使ってくれ！」セミナー開催、MySQL日本語版公式ブログ開設、PostgreSQLアラカルト\n",
      "https://gihyo.jp/article/2023/02/abema-tv-interview?utm_source=feed インターネットが拡張する、テレビのあたりまえ～ABEMAが支える新しい未来のテレビ\n",
      "https://gihyo.jp/article/2023/02/mysql-rcn0191?utm_source=feed 第191回　MySQLでUPSERT処理を実現する\n",
      "https://gihyo.jp/article/2023/02/improve-accessibility-in-organization-04?utm_source=feed 第4回　アクセシビリティをQA（品質保証活動）につなげる。チケットの扱いを決める\n",
      "https://gihyo.jp/article/2023/02/nisc-security-handbook-v5?utm_source=feed 内閣サイバーセキュリティセンター（NISC）、「インターネットの安全・安心ハンドブックVer 5.00」を公開\n",
      "https://gihyo.jp/article/2023/02/mitene-05multiregion?utm_source=feed みてねのSREによるグローバルサービスの体験を向上させる技術\n",
      "https://gihyo.jp/admin/clip/01/ubuntu-topics/202302/24?utm_source=feed Ubuntu 23.04（lunar）の開発 / Flatpakのデフォルト導入の終了とカーネルのRustサポート、EB corbos Linux - built on Ubuntu\n",
      "https://gihyo.jp/article/2023/02/improve-accessibility-in-organization-03?utm_source=feed 第3回　アクセシビリティを新規開発の「当たり前」に組み込む\n",
      "https://gihyo.jp/admin/serial/01/ubuntu-recipe/0751?utm_source=feed 第751回　イマドキのVPSでUbuntuをセキュアに保つ\n",
      "https://gihyo.jp/dev/serial/01/savanna-letter/0004?utm_source=feed 第4回　テストダブル ～忠実性と決定性のトレードオフを理解する～\n",
      "https://gihyo.jp/article/2023/02/android-weekly-topics-230222?utm_source=feed Android小ネタ集 2023年2月版\n",
      "https://gihyo.jp/article/2023/02/daily-linux-230221?utm_source=feed Linux 6.2リリース ―GeForce RTX 30のイニシャルサポート、Rustサポートの改善など\n",
      "https://gihyo.jp/article/2023/02/tfen008-rust-web-assembly?utm_source=feed Rust使いは要注目! WebAssemblyのコンポーネントモデルを知る ～TechFeed Experts Night#9講演より\n",
      "https://gihyo.jp/design/serial/01/website-pickup/0175?utm_source=feed 第175回　Figma買収から見えてきた、Adobeが向かう目的地\n",
      "https://gihyo.jp/article/2023/02/improve-accessibility-in-organization-02?utm_source=feed 第2回　アクセシビリティを広報・プレスリリースによって社外へつなげる\n",
      "https://gihyo.jp/dev/serial/01/technical_field/0009?utm_source=feed 第9回　キーボードに魅せられた人々\n",
      "https://gihyo.jp/article/2023/02/improve-business-processes-using-power-automate?utm_source=feed Power Automateをフルで活用した、業務プロセス改善フローの作成 ～受注業務プロセスの自動化\n",
      "https://gihyo.jp/article/2023/02/blender-basics-04?utm_source=feed Blenderの基本操作を確認しよう！ ～視点の操作、オブジェクトの追加・削除、ファイル保存のやり方\n",
      "https://gihyo.jp/article/2023/02/internet-forecast-report-24?utm_source=feed 最終回　明後日の見つけ方\n",
      "https://gihyo.jp/article/2023/02/jasst2023-tokyo?utm_source=feed 技術評論社目線でお届けする3/9、10開催「ソフトウェアテストシンポジウム JaSST'23 Tokyo」見どころガイド\n",
      "https://gihyo.jp/article/2023/02/ios-webpush?utm_source=feed iOS/iPadOS 16.4 Beta 1リリース、Webアプリから通知機能が利用可能に\n",
      "https://gihyo.jp/admin/clip/01/ubuntu-topics/202302/17?utm_source=feed Ubuntuのリアルタイムカーネルの一般提供、Ubuntu 23.04（lunar）の開発 / rsyslogのAppArmorによる制御\n",
      "https://gihyo.jp/article/2023/02/improve-accessibility-in-organization-01?utm_source=feed 第1回　アクセシビリティを経営方針とつなげ、プロダクトマネージャーと合意する\n",
      "https://gihyo.jp/dev/serial/01/perl-hackers-hub/007602?utm_source=feed 第76回　コーディングを楽にする Perl Navigator ～便利機能をエディタに簡単導入！（2）\n",
      "https://gihyo.jp/article/2023/02/laravel-10?utm_source=feed Laravel 10リリース、PHP 8.1以降をサポート\n",
      "https://gihyo.jp/dev/serial/01/perl-hackers-hub/007601?utm_source=feed 第76回　コーディングを楽にする Perl Navigator ～便利機能をエディタに簡単導入！（1）\n",
      "https://gihyo.jp/article/2023/02/obsidian-04?utm_source=feed 「Obsidian」をカスタマイズして便利に使おう ～テーマやCSSで見た目を変えたり、プラグインを活用・開発したりする方法\n",
      "https://gihyo.jp/article/2023/02/android-weekly-topics-230216?utm_source=feed パスワードが必要のない世界「パスキー」がやってきた\n",
      "https://gihyo.jp/admin/serial/01/ubuntu-recipe/0750?utm_source=feed 第750回　LXDとUbuntuサーバーで、RAID障害時の再構築の予行演習と監視について確認する\n",
      "https://gihyo.jp/article/2023/02/tfen007-rust-debug-tool?utm_source=feed Rustの非同期デバッグツールを使いこなせ!  ～TechFeed Experts Night#9講演より\n",
      "https://gihyo.jp/article/2023/02/genius?utm_source=feed Figma上でUIデザインを考えてくれるAIデザインコンパニオン「Genius」発表\n",
      "https://gihyo.jp/article/2023/02/mysql-rcn0190?utm_source=feed 第190回　max_execution_timeを設定してMySQLクエリの実行時間を制限する\n",
      "https://gihyo.jp/article/2023/02/daily-linux-230213?utm_source=feed Linux 6.2-rc8が公開、正式リリースは2/19か\n",
      "https://gihyo.jp/article/2023/02/it-engineer-book-prize-2023?utm_source=feed ITエンジニア本大賞2023が決定。技術書部門大賞に『良いコード／悪いコードで学ぶ設計入門』、ビジネス書部門大賞『メタバース進化論』\n",
      "https://gihyo.jp/article/2023/02/misskey-01?utm_source=feed 分散型SNS「Misskey」、それを支える技術スタック\n",
      "https://gihyo.jp/article/2023/02/tukinami-go-04?utm_source=feed Goの新しい構造化ロガーを体験しよう\n",
      "https://gihyo.jp/admin/clip/01/ubuntu-topics/202302/10?utm_source=feed CanonicalのAcademy Software Foundationへの参加・Ubuntu 23.04（lunar）の開発とHacker NewsでのUbuntu Pro関連の混乱\n",
      "https://gihyo.jp/article/2023/02/cicd-conference2023?utm_source=feed 3/20開催「CI/CD Conference 2023」参加受付中\n",
      "https://gihyo.jp/article/2023/02/android-weekly-topics-230209?utm_source=feed 見えてきたAndroid 14。今わかっていること\n",
      "https://gihyo.jp/admin/serial/01/ubuntu-recipe/0749?utm_source=feed 第749回　LXDとUbuntuサーバーで、多数のストレージが必要なRAID環境を構築し性能を比較する\n",
      "https://gihyo.jp/article/2023/02/monthly-python-2302?utm_source=feed Rust製高速データフレームライブラリ、Polarsを試す\n",
      "https://gihyo.jp/article/2023/01/blender-basics-03?utm_source=feed Blenderを使ったモデリングの流れと、モデリングで使う2つのモードを見てみよう！\n",
      "https://gihyo.jp/article/2023/02/daily-linux-230203?utm_source=feed Red Hat Enteprise LinuxをOracleのパブリッククラウド上でサポートへ\n",
      "https://gihyo.jp/admin/clip/01/ubuntu-topics/202302/03?utm_source=feed Ubuntu 23.04（lunar）の開発 / Notoフォントへの切り替えとglibcのアップデート、Edbuntuの復活への道筋、ROS向けの延長サポート\n",
      "https://gihyo.jp/article/2023/02/android-weekly-topics-230202?utm_source=feed 今わかっているPixel Tabletのこと\n",
      "https://gihyo.jp/article/2023/02/penpot-1.17?utm_source=feed オープンソースのプロトタイピングツール「Penpot」、1.17でベータが取れて正式リリース\n",
      "https://gihyo.jp/admin/serial/01/ubuntu-recipe/0748?utm_source=feed 第748回　LXDとUbuntuサーバーでRAIDとmdadmのテスト環境を構築する\n",
      "https://gihyo.jp/article/2023/02/ossdb-various-news0090?utm_source=feed 第90回　MySQL 8.0.32リリース ＆ PostgreSQLエンタープライズ・コンソーシアムセミナーがまもなく開催\n",
      "https://gihyo.jp/article/2023/01/linux_containers-0051?utm_source=feed 第51回　Linuxの非特権コンテナで利用するID mappedマウント（2）\n",
      "https://gihyo.jp/article/2023/01/zoku-gansiki-0046?utm_source=feed 第46回　『らじる★らじる』の聴き逃がしサービス（2）\n",
      "https://gihyo.jp/article/2023/01/deno-standard-modules-02?utm_source=feed Deno標準モジュール解説［後編］ ～モジュール解説（FS～Wasi）と、Deno標準モジュールの今後の展望\n",
      "https://gihyo.jp/article/2023/01/mysql-rcn0189?utm_source=feed 第189回　information_schemaのInnoDB関連テーブル［その2］\n",
      "https://gihyo.jp/article/2023/01/winget_ui160?utm_source=feed Windowsパッケージ管理アプリWingetUI 1.6.0がリリース、新たにChocolateyをサポート\n",
      "https://gihyo.jp/article/2023/01/deno-standard-modules-01?utm_source=feed Deno標準モジュール解説［前編］ ～Deno標準モジュールの概要と、モジュール解説（Archive～FMT）\n",
      "https://gihyo.jp/article/2023/01/mitene-04oncall-engineer?utm_source=feed 『家族アルバム みてね』を支えるオンコールエンジニア制度\n",
      "https://gihyo.jp/article/2023/01/tfen006-nodejs?utm_source=feed Node.jsの2022年を振り返り、Node.jsの未来を見つめてみた ～TechFeed Experts Night#8講演より\n",
      "https://gihyo.jp/admin/clip/01/ubuntu-topics/202301/27?utm_source=feed Ubuntu ProのGA、23.04（lunar）の開発 / Ruby 3.1とGolang 1.20への切り替え\n",
      "https://gihyo.jp/article/2023/01/ruby_kaigi2023_regist?utm_source=feed 5/11-13開催「RubyKaigi 2023」チケットが発売\n",
      "https://gihyo.jp/article/2023/01/increase-productivity-of-r-05?utm_source=feed ヘルプが生産性を高める\n",
      "https://gihyo.jp/article/2023/01/android-weekly-topics-230126?utm_source=feed Androidユーザ朗報、次世代ワイヤレス充電規格「Qi2」が登場\n",
      "https://gihyo.jp/admin/serial/01/ubuntu-recipe/0747?utm_source=feed 第747回　Intel Arc A380をUbuntu 22.04 LTSで動作させ、oneAPIで高速化する\n",
      "https://gihyo.jp/article/2023/01/tfen005-bun?utm_source=feed Bunファーストインプレッション - JavaScriptランタイム界に”赤壁の戦い”を! ～TechFeed Experts Night#8講演より\n",
      "https://gihyo.jp/article/2023/01/blender-basics-02?utm_source=feed Blenderの構成画面を実際に見てみよう\n",
      "https://gihyo.jp/article/2023/01/internet-forecast-report-23?utm_source=feed 第23回　ドローンとの共生\n",
      "https://gihyo.jp/article/2023/01/twitter-third-party-apps-suspended?utm_source=feed Twitterサードパーティアプリ、開発・配信停止の報告が相次ぐ\n",
      "https://gihyo.jp/article/2023/01/meet-zoom-interop?utm_source=feed Google MeetとZoomの相互運用、1/19-26に順次開始\n",
      "https://gihyo.jp/admin/clip/01/ubuntu-topics/202301/20?utm_source=feed ASRock IndustrialとCanonicalのパートナーシップ、ThinkPad X13sへのUbuntu対応\n",
      "https://gihyo.jp/article/2023/01/android-weekly-topics-230119?utm_source=feed RISC-V向けAndroidが本格化、ARMと同等の扱いに\n",
      "https://gihyo.jp/article/2023/01/yapc-kyoto_2023?utm_source=feed 3/19開催「YAPC::Kyoto 2023」リアル参加チケット販売中\n",
      "https://gihyo.jp/admin/serial/01/ubuntu-recipe/0746?utm_source=feed 第746回　update-grubの仕組みを使ってUbuntuのGRUBをさらにカスタマイズする\n",
      "https://gihyo.jp/article/2023/01/mysql-rcn0188?utm_source=feed 第188回　あれなんだっけ？って時に使えるMySQLのHELP構文\n",
      "https://gihyo.jp/article/2023/01/obsidian-03?utm_source=feed 「Obsidian」でノートを作るときの考え方とは？ ～デイリーノートの活用と、PKMとしてのノート術\n",
      "https://gihyo.jp/admin/clip/01/ubuntu-topics/202301/13?utm_source=feed Ubuntu 23.04（lunar）の開発 / 壁紙コンテストとXubuntuのMinimalイメージ\n",
      "https://gihyo.jp/article/2023/01/zoku-gansiki-0045?utm_source=feed 第45回　『らじる★らじる』の聴き逃しサービス（1）\n",
      "https://gihyo.jp/article/2023/01/discourse_3?utm_source=feed Discourse 3.0がリリース ―リアルタイムチャット機能、サイドバーの改良、ユーザのステータス表示機能を追加\n",
      "https://gihyo.jp/article/2023/01/twitter-blue?utm_source=feed Twitterの有料プラン、Twitter Blueが日本で展開され始める\n",
      "https://gihyo.jp/article/2023/01/tfen004-deno?utm_source=feed 進化するDeno in 2022 ～TechFeed Experts Night#8講演より\n",
      "https://gihyo.jp/article/2023/01/android-weekly-topics-230112?utm_source=feed 待ちに待った！Android Autoに新ユーザインターフェースを提供開始\n",
      "https://gihyo.jp/admin/serial/01/ubuntu-recipe/0745?utm_source=feed 第745回　Ubuntuとデスクトップ環境の2022-2023年\n",
      "https://gihyo.jp/article/2023/01/daily-linux-230110?utm_source=feed 教育向けUbuntuフレーバー「Edubuntu」が復活に向けて始動\n",
      "https://gihyo.jp/article/2023/01/phper-kaigi2023?utm_source=feed 3/23～25ハイブリッド開催「PHPerKaigi 2023」タイムテーブルを公開、チケット販売中\n",
      "https://gihyo.jp/article/2023/01/web-accessibility-prospect?utm_source=feed 2023年のWebアクセシビリティ\n",
      "https://gihyo.jp/article/2023/01/blender-basics-01?utm_source=feed Blenderって、なにができるの？\n",
      "https://gihyo.jp/admin/clip/01/ubuntu-topics/202301/06?utm_source=feed 2023年のUbuntu\n",
      "https://gihyo.jp/article/2023/01/monthly-python-2301?utm_source=feed O/Rマッパーの型チェックを強化できるPython 3.11の新機能 Data Class Transforms（PEP 681）\n",
      "https://gihyo.jp/article/2023/01/daily-linux-230105?utm_source=feed シャットダウンは15秒以内に ―Fedora、systemdのシャットダウンタイマーを短縮へ\n",
      "https://gihyo.jp/article/2023/01/ossdb-various-news0089?utm_source=feed 第89回　MySQL ＆ PostgreSQLの2022年の主なニュース\n",
      "https://gihyo.jp/admin/serial/01/ubuntu-recipe/0744?utm_source=feed 第744回　Ubuntu Summit 2022 レポート\n",
      "https://gihyo.jp/article/2022/12/mysql-rcn0187?utm_source=feed 第187回　MySQLにIPアドレスを保存したい\n",
      "https://gihyo.jp/article/2022/12/daily-linux-221226?utm_source=feed Linus、Linux 6.2-rc1を公開 ―クリスマスでも“カーネル開発のショーは続けていく”\n",
      "https://gihyo.jp/article/2022/12/ruby_3_2-release?utm_source=feed Ruby 3.2.0がリリース―WebAssembly/WASIサポート、YJIT実用化、正規表現DoSへの対応など\n",
      "https://gihyo.jp/admin/clip/01/ubuntu-topics/202212/23?utm_source=feed 日本国内でのUbuntu + Advantechデバイスのサポート、Ubuntu 23.04（lunar）の開発\n",
      "https://gihyo.jp/article/2022/12/linux_containers-0050?utm_source=feed 第50回　Linuxの非特権コンテナで利用するID mappedマウント（1）\n",
      "https://gihyo.jp/article/2022/12/daily-linux-221222?utm_source=feed より堅牢なLinux起動プロセスを求めて ―Fedora，段階的な「Unified Kernel Image」サポートに向けてスタート\n",
      "https://gihyo.jp/dev/serial/01/savanna-letter/0003?utm_source=feed 第3回　テストサイズ ～自動テストとCIにフィットする明確なテスト分類基準～\n",
      "https://gihyo.jp/article/2022/12/kubernetes-cloudnative-topics-05?utm_source=feed 入門NewSQL 〜Kubernetes上で手軽に使えるNewSQLを動かしてみよう\n",
      "https://gihyo.jp/article/2022/12/android-weekly-topics-221222?utm_source=feed 2022年を振り返る。スマートウォッチ編\n",
      "https://gihyo.jp/article/2022/12/ruby30th?utm_source=feed 「プログラミング言語Ruby30周年記念イベント」が2月25日に開催。現在ライトニングトークを募集中\n",
      "https://gihyo.jp/article/2022/12/try-swift-tokyo-meetup?utm_source=feed 「try! Swift Tokyo Meetup」が1月21日に開催。本日よりチケットの申し込みが可能に\n",
      "https://gihyo.jp/admin/serial/01/ubuntu-recipe/0743?utm_source=feed 第743回　Ubuntuの標準ブートローダーであるGRUBを改めて見直す\n",
      "https://gihyo.jp/dev/serial/01/technical_field/0008?utm_source=feed 第8回　価値を高めるプロダクトマネジメント\n",
      "https://gihyo.jp/article/2022/12/daily-linux-221220?utm_source=feed Linux 6.1の注目機能「MGLRU」―メモリ管理に取り入れられたエイジングシステム\n",
      "https://gihyo.jp/article/2022/12/mitene-03aws-ri-sps?utm_source=feed 『家族アルバム みてね』に学ぶ、AWSのReserved InstancesとSavings Plansの勘所\n",
      "https://gihyo.jp/article/2022/12/obsidian-02?utm_source=feed 標準機能でも便利な「Obsidian」をプラグインで使いやすくする\n",
      "https://gihyo.jp/article/2022/12/internet-forecast-report-22?utm_source=feed 第22回　衛星コンステレーション\n",
      "https://gihyo.jp/admin/clip/01/ubuntu-topics/202212/16?utm_source=feed Ubuntu/CanonicalのRISC-V関連の進捗、23.04（lunar）の開発 / ホリデーシーズンの始まり\n",
      "https://gihyo.jp/dev/serial/01/perl-hackers-hub/007502?utm_source=feed 第75回　AWS Lambda入門 サーバレスでもPerlを活用しよう！（2）\n",
      "https://gihyo.jp/dev/serial/01/perl-hackers-hub/007501?utm_source=feed 第75回　AWS Lambda入門 サーバレスでもPerlを活用しよう！（1）\n",
      "https://gihyo.jp/article/2022/12/android-weekly-topics-221215?utm_source=feed 2022年を振り返る。Androidスマホ編\n",
      "https://gihyo.jp/admin/serial/01/ubuntu-recipe/0742?utm_source=feed 第742回　AMD RadeonとROCmでBlenderを高速化する\n",
      "https://gihyo.jp/article/2022/12/increase-productivity-of-r-04?utm_source=feed Google Colaboratory/Kaggle Notebookが生産性を高める ～ノートブックでRを使用する～\n",
      "https://gihyo.jp/article/2022/12/mysql-rcn0186?utm_source=feed 第186回　information_schemaのInnoDB関連テーブル［その1］\n",
      "https://gihyo.jp/article/2022/12/ruby-procon2022-12?utm_source=feed 「中高生国際Rubyプログラミングコンテスト2022 in Mitaka」受賞者決定！\n",
      "https://gihyo.jp/article/2022/12/prevent-vulnerability-0005?utm_source=feed 第5回（最終回）　PHPの脆弱性 ～型混同～\n",
      "https://gihyo.jp/article/2022/12/aws-data-analytics-0002?utm_source=feed データ分析のために必要な「データの収集」の基本 ～AWSを利用したデータ収集の流れを知る\n",
      "https://gihyo.jp/admin/clip/01/ubuntu-topics/202212/09?utm_source=feed Ubuntu Cinnamonの公式フレーバーへの歩み、CES 2023のCanonicalブース\n",
      "https://gihyo.jp/article/2022/12/illustrator-itpassport-12?utm_source=feed 第12回　イシクラのITパスポートの合否結果発表\n",
      "https://gihyo.jp/article/2022/12/aws-re_invent2022?utm_source=feed トレードオフなきパフォーマンスアップを追求し続けるAWSインフラのいま ―AWS re:Invent 2022 キーノートから\n",
      "https://gihyo.jp/article/2022/12/android-weekly-topics-221208?utm_source=feed Googleサンタからのプレゼント「New Android Features！」\n",
      "https://gihyo.jp/admin/serial/01/ubuntu-recipe/0741?utm_source=feed 第741回　UbuCon Asia 2022 Korea参加レポート\n",
      "https://gihyo.jp/article/2022/12/monthly-python-2212?utm_source=feed Python 3.10から導入されたBetter error messagesの深掘り\n",
      "https://gihyo.jp/article/2022/12/daily-linux-221205?utm_source=feed Linux 6.1-rc8がリリース、正式版公開は12/11に\n",
      "https://gihyo.jp/article/2022/12/prevent-vulnerability-0004?utm_source=feed 第4回　PHPの脆弱性 ～スタックバッファオーバーフロー～\n",
      "https://gihyo.jp/dev/serial/01/china-oss-frontline/0009?utm_source=feed 第9回　中国の通信キャリアがブロックチェーンでの酸素放出量管理を進める理由\n",
      "https://gihyo.jp/admin/clip/01/ubuntu-topics/202212/02?utm_source=feed Ubuntu DesktopにおけるnetplanとNetworkManagerの統合、Ubuntu 23.04（lunar）の開発 / OpenLDAP 2.6への移行の準備\n",
      "https://gihyo.jp/article/2022/12/illustrator-itpassport-11?utm_source=feed 第11回　イシクラITパスポートを受験する\n",
      "https://gihyo.jp/article/2022/12/twitter2?utm_source=feed Twitterは2.0に。これまでどおりの公共における会話の促進と保護、より速いイノベーション、より高い透明性を宣言\n",
      "https://gihyo.jp/article/2022/11/vue-fes-japan-2022-report?utm_source=feed Vue Fes Japan 2022イベントレポート\n",
      "https://gihyo.jp/article/2022/12/ossdb-various-news0088?utm_source=feed 第88回　MySQL HeatWaveのSLAとスペック、PostgreSQL Conference Japan 2022とProject Tsurugi情報\n",
      "https://gihyo.jp/article/2022/12/android-weekly-topics-221201?utm_source=feed Twitter改革で、Mastodonに再び注目が集まってきた\n",
      "https://gihyo.jp/article/2022/11/cloudflare-adjust-pricing?utm_source=feed Cloudflare、Proプランを月額20ドルから25ドル、Businessプランを月額200ドルから250ドルに改定へ。年払いではこれまでの料金で利用可能\n",
      "https://gihyo.jp/admin/serial/01/ubuntu-recipe/0740?utm_source=feed 第740回　USBGuardを使って悪意のあるUSBデバイスからシステムを守った気になろう\n",
      "https://gihyo.jp/article/2022/11/echo-movie-contest-2022-winter-report?utm_source=feed ビギナーにオススメの映像大会　「ECHO映像大会2022年 冬」イベントレポート\n",
      "https://gihyo.jp/article/2022/11/u22procon2022_result?utm_source=feed 「U-22プログラミング・コンテスト2022」最終審査会で各賞が決定\n",
      "https://gihyo.jp/article/2022/11/mysql-rcn0185?utm_source=feed 第185回　MySQL Workbenchを使ってSELECTした結果をSQLに変換する\n",
      "https://gihyo.jp/article/2022/11/obsidian-01?utm_source=feed ローカル環境で動作し、Markdownで書いたノートをつなげるアプリ「Obsidian」とは\n",
      "https://gihyo.jp/article/2022/11/ganshiki-soushi2-0044?utm_source=feed 第44回　linux-6.0とSPDX\n",
      "https://gihyo.jp/article/2022/11/tfen003-jamstack?utm_source=feed Jamstackの利点とコツ ～TechFeed Experts Night#4 講演より\n",
      "https://gihyo.jp/article/2022/11/japan_r_2022?utm_source=feed Japan.R 2022、12/10にオンライン開催\n",
      "https://gihyo.jp/article/2022/11/prevent-vulnerability-0003?utm_source=feed 第3回　wgetの脆弱性 ～競合状態～\n",
      "https://gihyo.jp/article/2022/11/mitene-02eks?utm_source=feed 4年間のEKS移行の取り組みを振り返って\n",
      "https://gihyo.jp/article/2022/11/start-mastodon-2022?utm_source=feed はじめる Fediverse/Mastodon 2022\n",
      "https://gihyo.jp/admin/clip/01/ubuntu-topics/202211/25?utm_source=feed UbuntuにおけるStarFive VisionFive 2向けの対応、Microsoft StoreにおけるWSLのGA\n",
      "https://gihyo.jp/article/2022/11/daily-linux-221124?utm_source=feed Asahi Linux、2022年11月のプログレスレポートを公開、USB 3のサポートやオーディオの改善など\n",
      "https://gihyo.jp/article/2022/11/rust-monthly-topics-03?utm_source=feed 3D CADアプリFornjotとRust\n",
      "https://gihyo.jp/article/2022/11/android-weekly-topics-221124?utm_source=feed 年末・年始の旅行のお供に8インチタブレットを考えてみる\n",
      "https://gihyo.jp/article/2022/11/ruby-procon2022-11?utm_source=feed 「中高生国際Rubyプログラミングコンテスト2022 in Mitaka」の最終審査会進出者9組が決定、2022年12月3日三鷹で最終審査会を開催。Zoomで生配信\n",
      "https://gihyo.jp/article/2022/11/daily-linux-221121?utm_source=feed Ubuntu以外でもUnityを! Arch Linuxで「Unity 7.6」が利用可能に\n",
      "https://gihyo.jp/article/2022/11/01_2022_autumn?utm_source=feed 「あらゆるデータをビジネスの力に」をテーマにしたイベント「01 2022 Autumn」（主催：primeNumber）11月24日にオンラインで開催～国内のビジネスシーンにおけるさらなるデータ活用促進を目指す\n",
      "https://gihyo.jp/article/2022/11/prevent-vulnerability-0002?utm_source=feed 第2回　Pythonの脆弱性 ～ReDOS～\n",
      "https://gihyo.jp/article/2022/11/kubernetes-cloudnative-topics-04?utm_source=feed 入門 Network Service Mesh 〜CloudNativeとNetworkingの交差点〜\n",
      "https://gihyo.jp/article/2022/11/internet-forecast-report-21?utm_source=feed 第21回　ゼロカーボン\n",
      "https://gihyo.jp/article/2022/11/tfen002-frontend?utm_source=feed Webフロントエンドとアーキテクチャ事情の持論を喋る ～TechFeed Experts Night#4 講演より\n",
      "https://gihyo.jp/article/2022/11/illustrator-itpassport-10?utm_source=feed 第10回　イシクラついにITパスポート試験に申し込む\n",
      "https://gihyo.jp/article/2022/11/daily-linux-221118?utm_source=feed Red Hat Enterprise Linux 9.1がリリース\n",
      "https://gihyo.jp/admin/clip/01/ubuntu-topics/202211/18?utm_source=feed Intel IoTプラットフォーム用の「エンタープライズグレードのUbuntuイメージ」、UbuntuにおけるArm64 LaptopとMango Pi MQ-Rのサポート\n",
      "https://gihyo.jp/article/2022/11/mtddc2022?utm_source=feed 今年のテーマは「NEW SENSE OF VALUES」――MTDDC Meetup TOKYO 2022、11/19にオンラインで開催\n",
      "https://gihyo.jp/article/2022/11/daily-linux-221117?utm_source=feed Fedora Linux 37リリース ―新エディション追加、GNOME 43、ラズパイ4サポートなど\n",
      "https://gihyo.jp/article/2022/11/android-weekly-topics-221117?utm_source=feed 激安2万円のChromebookを9ヵ月使って起こった変化\n",
      "https://gihyo.jp/admin/serial/01/ubuntu-recipe/0739?utm_source=feed 第739回　VirtualBox 7.0の新機能 [インストール後の変更点編]\n",
      "https://gihyo.jp/article/2022/11/jsconf_jp2022?utm_source=feed 11/26開催「JSConf JP 2022」参加申込み受付中\n",
      "https://gihyo.jp/article/2022/11/gitlab-connect2022?utm_source=feed DevOpsに関するオンラインカンファレンス「GitLab Connect Japan」11/29～12/8に開催\n",
      "https://gihyo.jp/article/2022/11/mysql-rcn0184?utm_source=feed 第184回　MySQL innodb_buffer_poolのウォームアップ周りのオプション\n",
      "https://gihyo.jp/article/2022/10/aws-data-analytics-0001?utm_source=feed 高まるデータ分析の重要性とそれを支えるAWS\n",
      "https://gihyo.jp/article/2022/11/daily-linux-221115?utm_source=feed Fedora、GNOMEベースのインタフェース「Phosh」を使ったタブレット用Spinの開発を検討へ\n",
      "https://gihyo.jp/article/2022/11/tfen001-mpa_spa?utm_source=feed SPA化するMPAとMPA化するSPA ～TechFeed Experts Night#4 講演より\n",
      "https://gihyo.jp/article/2022/11/tsukinami-go-03?utm_source=feed Goで書くテスタブルなCLIツールの作り方\n",
      "https://gihyo.jp/article/2022/11/prevent-vulnerability-0001?utm_source=feed 第1回　cURLの脆弱性 ～ヒープバッファオーバーフロー～\n",
      "https://gihyo.jp/admin/clip/01/ubuntu-topics/202211/11?utm_source=feed Ubuntu搭載自動運転車の可能性、「プリンタを印刷するための」WSLUbuntu\n",
      "https://gihyo.jp/article/2022/11/daily-linux-221110?utm_source=feed Linuxサポートを強化した「.NET 7」がリリース\n",
      "https://gihyo.jp/article/2022/11/new-appsheet-features-2022?utm_source=feed 2022年中にリリースされたAppSheetの3大新機能 ～ユーザーエクスペリエンスがさらに向上！\n",
      "https://gihyo.jp/article/2022/11/android-weekly-topics-221110?utm_source=feed 2022年後半のAndroid Auto最新事情\n",
      "https://gihyo.jp/article/2022/11/monthly-python-2211?utm_source=feed Python 3.11から新たに仲間に加わったTOMLパーサー\n",
      "https://gihyo.jp/admin/serial/01/ubuntu-recipe/0738?utm_source=feed 第738回　リモートのLXDインスタンスの画面をローカルから操作してVDI環境を構築する\n",
      "https://gihyo.jp/article/2022/10/increase-productivity-of-r-03?utm_source=feed Rユーザーのためのmake入門\n",
      "https://gihyo.jp/article/2022/11/daily-linux-221107?utm_source=feed Intel CPUの間接分岐保護機能「IBT」がLinux 6.2以降でデフォルトに\n",
      "https://gihyo.jp/admin/clip/01/ubuntu-topics/202211/04?utm_source=feed Ubuntu 23.04 “Lunar Lobster”、Ubuntu 22.10 日本語 Remixのリリース\n",
      "https://gihyo.jp/article/2022/11/illustrator-itpassport-09?utm_source=feed 第9回　イシクラ暗号資産について知る\n",
      "https://gihyo.jp/admin/serial/01/ubuntu-recipe/0737?utm_source=feed 第737回　VirtualBox 7.0の新機能［Windows 11とUbuntu 22.10の自動インストール編］\n",
      "https://gihyo.jp/article/2022/11/android-weekly-topics-221102?utm_source=feed Pixel Watch、使って感じた「好き」・「嫌い」\n",
      "https://gihyo.jp/article/2022/11/create_advent-calendar2022?utm_source=feed 2022 Advent Calendar作成サイトがオープン\n",
      "https://gihyo.jp/article/2022/11/daily-linux-221101?utm_source=feed Fedora Linux 37のリリースは11/15前後に、延期の理由はOpenSSLの脆弱性\n",
      "https://gihyo.jp/article/2022/10/droidkaigi2022-report?utm_source=feed DroidKaigi 2022 開催レポート\n",
      "https://gihyo.jp/article/2022/11/ossdb-various-news0087?utm_source=feed 第87回　MySQL 8.0.31リリース、HeatWave新機能続々、EDB CEO Ed Boyajianさん対談とPostgreSQL 15リリース情報\n",
      "https://gihyo.jp/article/2022/10/mysql-rcn0183?utm_source=feed 第183回　MySQLスレッドのメモリ使用量の制御と確認方法\n",
      "https://gihyo.jp/article/2022/10/primenumber-01datamanagement?utm_source=feed 今からはじめる、データエンジニアリング・ロードマップ\n",
      "https://gihyo.jp/admin/clip/01/ubuntu-topics/202210/28?utm_source=feed UbuntuにおけるSipeed’s LicheeRV D1のサポート、6.0カーネルのOEM向け準備\n",
      "https://gihyo.jp/article/2022/10/meet-zoom-interop?utm_source=feed 2022年内にGoogle MeetとZoom Roomsの相互運用が可能に\n",
      "https://gihyo.jp/article/2022/10/create-flow-using-selector-editing?utm_source=feed UI要素のセレクター編集を使った最適なフローの作成\n",
      "https://gihyo.jp/article/2022/10/android-weekly-topics-221027?utm_source=feed 最高のFitbitがPixel Watchなんです\n",
      "https://gihyo.jp/admin/serial/01/ubuntu-recipe/0736?utm_source=feed 第736回　vTPMに対応したLXDで、Windows 11とWSLの新機能であるWSLgとsystemdを試してみる\n",
      "https://gihyo.jp/article/2022/10/turbopack?utm_source=feed Vercel、Webpack後継を目指す、Rustベースの「Turbopack」をリリース\n",
      "https://gihyo.jp/article/2022/10/mitene-01terraform?utm_source=feed 『みてね』のTerraform構成～モノリポジトリとマルチリポジトリ～\n",
      "https://gihyo.jp/article/2022/10/u22procon2022_1st_review?utm_source=feed U-22プログラミング・コンテスト 2022 一次審査を実施、最終審査に進む16作品が決定\n",
      "https://gihyo.jp/article/2022/10/python-bc-kagawa2?utm_source=feed 「Python Boot Camp」2022年11月19日に香川県高松市で開催\n",
      "https://gihyo.jp/article/2022/10/illustrator-itpassport-08?utm_source=feed 第8回　イシクラA/Bテストについて知る\n",
      "https://gihyo.jp/admin/clip/01/ubuntu-topics/202210/21?utm_source=feed Ubuntu 22.10 “Kinetic Kudu” のリリース\n",
      "https://gihyo.jp/article/2022/10/rust-monthly-topics-02?utm_source=feed 軽量RustフレームワークTauriでデスクトップアプリ開発をはじめよう\n",
      "https://gihyo.jp/article/2022/10/hiring-engineers?utm_source=feed Wantedly人事責任者が語る　エンジニア採用の失敗あるある\n",
      "https://gihyo.jp/article/2022/10/google-spaces-inline-thread?utm_source=feed Google Spacesにおけるインラインスレッド機能がリリース\n",
      "https://gihyo.jp/dev/serial/01/technical_field/0007?utm_source=feed 第7回　技術を伝えるドキュメンテーション術\n",
      "https://gihyo.jp/dev/serial/01/china-oss-frontline/0008?utm_source=feed 第8回　RISC-Vブームが加速する中国、すでに10億個以上のチップを出荷\n",
      "https://gihyo.jp/article/2022/10/internet-forecast-report-20?utm_source=feed 第20回　位置情報\n",
      "https://gihyo.jp/article/2022/10/iot-engineer03?utm_source=feed IoTと向き合うことは、テクノロジーと「人」とのつながりを考えること\n",
      "https://gihyo.jp/article/2022/10/android-weekly-topics-221020?utm_source=feed Google初のスマートウォッチ「Pixel Watch」が登場\n",
      "https://gihyo.jp/article/2022/10/isucon12-champinterview-narusejun?utm_source=feed 年々進化するチートシートと万全の準備体制でついに栄冠を獲得！ISUCON12優勝チームNaruseJun特別インタビュー\n",
      "https://gihyo.jp/admin/serial/01/ubuntu-recipe/0735?utm_source=feed 第735回　Ubuntu 22.10の変更点\n",
      "https://gihyo.jp/dev/serial/01/savanna-letter/0002?utm_source=feed 第2回　偽陽性と偽陰性 ～自動テストの信頼性をむしばむ現象を理解する～\n",
      "https://gihyo.jp/dev/serial/01/perl-hackers-hub/007402?utm_source=feed 第74回　正規表現の脆弱性「ReDoS」徹底解説 ～原理と対策から、Perlでの最適化まで（2）\n",
      "https://gihyo.jp/design/serial/01/website-pickup/0174?utm_source=feed 第174回　DALL·E2、Midjourney、Stable Diffusion……「画像生成AI」が変えるもの、変えないもの\n",
      "https://gihyo.jp/article/2022/10/mysql-rcn0182?utm_source=feed 第182回　知っておくとちょっと便利なMySQLのfind_in_set関数\n",
      "https://gihyo.jp/article/2022/10/daily-linux-221017?utm_source=feed Are you ready to skate yet? ―Debianリリースチーム、Debian 12 ”Bookworm”の最初のフリーズを2023年1月12日に予定\n",
      "https://gihyo.jp/dev/serial/01/perl-hackers-hub/007401?utm_source=feed 第74回　正規表現の脆弱性「ReDoS」徹底解説 ～原理と対策から、Perlでの最適化まで（1）\n",
      "https://gihyo.jp/article/2022/10/kubernetes-cloudnative-topics-03?utm_source=feed 入門Kueue 〜KubernetesのBatchワークロード最前線〜\n",
      "https://gihyo.jp/article/2022/10/flutter-kaigi?utm_source=feed 11/16～18オンライン開催「FlutterKaigi 2022」参加受付開始、タイムテーブルも公開\n",
      "https://gihyo.jp/article/2022/10/tech-verse?utm_source=feed LINEとヤフー、11/17、18にオンライン技術カンファレンス「Tech-Verse」を共同開催\n",
      "https://gihyo.jp/article/2022/10/daily-linux-221014?utm_source=feed VirtualBox 7.0がリリース、仮想マシンのフル暗号化をサポート\n",
      "https://gihyo.jp/article/2022/10/obsidian?utm_source=feed MarkdownエディタObsidian v1.0.0がリリース\n",
      "https://gihyo.jp/admin/clip/01/ubuntu-topics/202210/14?utm_source=feed Ubuntu 22.10のRelease Candidateに向けた作業\n",
      "https://gihyo.jp/article/2022/10/rubykaigi2022-3?utm_source=feed Alan Wu氏「YJITはRubyプロセス実行から終了まで全体のパフォーマンス向上を目指す」 ～RubyKaigi 2022 3日目キーノート\n",
      "https://gihyo.jp/article/2022/10/android-weekly-topics-221013?utm_source=feed やっぱり写真はこれ。Google Pixel 7シリーズ正式発表\n",
      "https://gihyo.jp/article/2022/10/rubykaigi2022-2?utm_source=feed まつもとゆきひろさん「価値を生み続けるための鍵はコミュニティ —Contribute to Ruby—」 ～RubyKaigi 2022 2日目キーノート\n",
      "https://gihyo.jp/admin/serial/01/ubuntu-recipe/0734?utm_source=feed 第734回　UbuntuでSBOM（ソフトウェア部品表）を作る方法\n",
      "https://gihyo.jp/article/2022/10/rubybiz2022-02?utm_source=feed ［2］Ruby biz Grand prix 2021で受賞した企業の声\n",
      "https://gihyo.jp/article/2022/10/tfc0016-web3d?utm_source=feed 最近のWeb3Dひとめぐり～TechFeed Conference 2022講演より\n",
      "https://gihyo.jp/article/2022/10/pwa_night2022?utm_source=feed 「PWA Night CONFERENCE 2022」12/3に東京、大阪、沖縄、オンラインのハイブリッド形式で開催\n",
      "https://gihyo.jp/article/2022/10/rubykaigi2022-1?utm_source=feed Yuta Saitoさん「RubyはWebAssemblyと出会った」 〜RubyKaigi 2022 1日目キーノート\n",
      "https://gihyo.jp/article/2022/10/increase-productivity-of-r-02?utm_source=feed RStudioが生産性を高める［後編］ 〜アドインとカスタマイズによるコーディングの効率化\n",
      "https://gihyo.jp/article/2022/10/monthly-python-2210?utm_source=feed Python 3.11の新機能：asyncio.TaskGroupを使った予測可能でより安全な非同期処理\n",
      "https://gihyo.jp/article/2022/10/illustrator-itpassport-07?utm_source=feed 第7回　イシクラ今までの学習を振り返る\n",
      "https://gihyo.jp/admin/clip/01/ubuntu-topics/202210/07?utm_source=feed 「Ubuntu Pro」のワークステーション・データセンター向けベータリリース\n",
      "https://gihyo.jp/article/2022/10/howto_walk_pyconjp2022?utm_source=feed ［10/14～16開催］PyCon JP 2022の歩き方\n",
      "https://gihyo.jp/article/2022/10/android-weekly-topics-221006?utm_source=feed Nothing TechnologyがNothing OS 1.1.4をリリース\n",
      "https://gihyo.jp/article/2022/10/thinkpad30-20221005?utm_source=feed ThinkPad30周年記念モデル「ThinkPad X1 Carbon Gen 10 30th Anniversary Edition」を発売\n",
      "https://gihyo.jp/article/2022/10/grapecity-activereports-20221005?utm_source=feed グレープシティの帳票コンポーネント最新版「ActiveReports for .NET 16.0J」SP1、2022年10月12日にリリース\n",
      "https://gihyo.jp/article/2022/10/vue-fes-japan-2022?utm_source=feed Vue.jsの日本最大級カンファレンス「Vue Fes Japan Online 2022」、10/16にYouTube Live上で開催\n",
      "https://gihyo.jp/article/2022/10/daily-linux-221005?utm_source=feed Linux 6.0がリリース、ハードウェアサポート拡大、Rustの採用は6.1以降に\n",
      "https://gihyo.jp/admin/serial/01/ubuntu-recipe/0733?utm_source=feed 第733回　大人気ベアボーンASRock DeskMeetとUbuntuでNASを組む［構築編］\n",
      "https://gihyo.jp/article/2022/10/tfc0015-python?utm_source=feed Pythonに上級テクニックは要らない（そして正しい付き合い方）～TechFeed Conference 2022講演より\n",
      "https://gihyo.jp/article/2022/10/japan_ss2022?utm_source=feed JAPANSecuritySummit 2022 10/24～11/6にオンデマンドで開催、初日はライブ配信も\n",
      "https://gihyo.jp/article/2022/10/mysql-rcn0181?utm_source=feed 第181回　SQLの共通テーブル式（CTE）を使ってみよう\n",
      "https://gihyo.jp/article/2022/09/iosdc-japan-2022?utm_source=feed iOSDC Japan 2022 カンファレンスレポート\n",
      "https://gihyo.jp/article/2022/10/ossdb-various-news0086?utm_source=feed 第86回　MySQL HeatWave on AWS発表、Postgres Vision Tokyo開催\n",
      "https://gihyo.jp/article/2022/10/tfc014-rust?utm_source=feed Rust 2024に向けてRust 2021を理解しよう～TechFeed Conference 2022講演より\n",
      "https://gihyo.jp/article/2022/09/esperanto-technologies-2022?utm_source=feed RISC-Vの進化を牽引するEsperantoの挑戦。シンプルなアイデアと実装の困難さ―Dave Ditzelへのインタビュー\n",
      "https://gihyo.jp/article/2022/09/daily-linux-220930?utm_source=feed Fedora、kTLS実装によるGnuTLSの高速化をFedora 38で実現へ\n",
      "https://gihyo.jp/admin/clip/01/ubuntu-topics/202209/30?utm_source=feed WSLにおけるsystemdサポート、“linux-xilinx-zynqmp”カーネル、Ubuntu 22.10（kinetic）のBeta\n",
      "https://gihyo.jp/article/2022/09/kaigi_on_rails2022?utm_source=feed 10/21、22オンライン開催「Kaigi on Rails 2022」タイムテーブルを公開\n",
      "https://gihyo.jp/article/2022/09/schema_tokyo2022?utm_source=feed デザインシステムをテーマとしたイベント「Schema」11/2 東京で開催\n",
      "https://gihyo.jp/article/2022/09/tfc013-password_less?utm_source=feed パスワードのない世界に向けて ～TechFeed Conference 2022講演より\n",
      "https://gihyo.jp/article/2022/09/okr-operation-guide-04?utm_source=feed 第4章　OKRの運用を改善する ～最適なコミュニケーション手法を確立するためのヒント\n",
      "https://gihyo.jp/article/2022/09/android-weekly-topics-220929?utm_source=feed まもなく発売！Pixel 7シリーズの今わかっていること\n",
      "https://gihyo.jp/article/2022/09/livedoor_ma?utm_source=feed ミンカブ、LINEのライブドア関連事業を買収、子会社化\n",
      "https://gihyo.jp/article/2022/09/daily-linux-220928?utm_source=feed “あなたと私のコマンドライン” ―初心者のための懇切丁寧なLinuxコマンドラインガイド\n",
      "https://gihyo.jp/article/2022/09/google-spaces-extension?utm_source=feed Google Spacesで、スレッド返信ができるスペースを使いやすくするChrome拡張機能\n",
      "https://gihyo.jp/article/2022/09/okr-operation-guide-03?utm_source=feed 第3章　チームにOKRを導入する ～メンバー内の整合性を保ち、設定と評価を繰り返す\n",
      "https://gihyo.jp/article/2022/09/yamagoya2022?utm_source=feed Fastly、基幹イベント「Yamagoya 2022」を10/25にハイブリッド開催\n",
      "https://gihyo.jp/article/2022/09/europython2022-02?utm_source=feed #02　Faster CPythonやGILの除去によるPythonの高速化 ―EuroPython Day 2、Day 3セッションレポート\n",
      "https://gihyo.jp/article/2022/09/okr-operation-guide-02?utm_source=feed 第2章　個人のOKRを設定する ～挑戦的な目標を立て、自身が成長できるように仕向ける\n",
      "https://gihyo.jp/article/2022/09/pyladies_caravan?utm_source=feed 「PyLadies Caravan in 愛知 リターンズ!」11/19に開催\n",
      "https://gihyo.jp/article/2022/09/daily-linux-220926?utm_source=feed Debian 12 ”Bookworm”の最初のアルファインストーラが公開\n",
      "https://gihyo.jp/article/2022/09/scipy2022?utm_source=feed SciPy 2022カンファレンスレポート\n",
      "https://gihyo.jp/article/2022/09/tfc012-web_standards?utm_source=feed Web Standards Interop 2022 ～TechFeed Conference 2022講演より\n",
      "https://gihyo.jp/article/2022/09/okr-operation-guide-01?utm_source=feed 第1章　OKRを知る ～組織の目標に貢献できる実感が、個人のやる気を向上させる\n",
      "https://gihyo.jp/article/2022/09/tsukinami-go-02?utm_source=feed CUEによるスキーマやバリデーションのポータビリティ\n",
      "https://gihyo.jp/article/2022/09/daily-linux-220922?utm_source=feed GNOME 43 ”Guadalajara”がリリース、主要コンポーネントの多くがGTK4に移植\n",
      "https://gihyo.jp/article/2022/09/windows11-upudate-2022?utm_source=feed Windows 11初となる大型アップデート――Windows 11 2022 Updateリリース\n",
      "https://gihyo.jp/article/2022/09/phpcon2022-information?utm_source=feed プログラミング言語PHPのイベント「PHPカンファレンス2022」が今週末9月24日、25日にハイブリッド開催\n",
      "https://gihyo.jp/article/2022/09/tfc011-container_build?utm_source=feed コンテナビルド最新事情 2022版 ～TechFeed Conference 2022講演より\n",
      "https://gihyo.jp/article/2022/09/cerebras-systems-wafer-scale-engine?utm_source=feed Cerebras Systems社訪問レポート――Wafer Scale Engineのその先へ、史上最大のチップを作るだけで終わらない彼らの挑戦\n",
      "https://gihyo.jp/article/2022/09/rust-monthly-topics-01?utm_source=feed データでわかるRustの開発者達 〜Rust Survey 2021の深堀\n",
      "https://gihyo.jp/article/2022/09/illustrator-itpassport-06?utm_source=feed 第6回　イシクラ過去問題を解いてみる ～解いてみてわかったこと～\n",
      "https://gihyo.jp/article/2022/09/android-weekly-topics-220922?utm_source=feed 期待のGoogle Pixel Watch、今わかっていること\n",
      "https://gihyo.jp/article/2022/09/java19?utm_source=feed Java 19リリース――7つのJEPsを提供、開発者の生産性向上、パフォーマンスや安定性、セキュリティの強化も\n",
      "https://gihyo.jp/admin/serial/01/ubuntu-recipe/0732?utm_source=feed 第732回　大人気ベアボーンASRock DeskMeetとUbuntuでNASを組む［ハードウェア選定編］\n",
      "https://gihyo.jp/article/2022/09/kubernetes-cloudnative-topics-02?utm_source=feed 入門Cluster API BYOH ～物理ホストやVMを用いてクラスタの構築を自動化する\n",
      "https://gihyo.jp/article/2022/09/appsheet-automation?utm_source=feed AppSheet Automationを活用した業務自動化の推進\n",
      "https://gihyo.jp/article/2022/09/mysql-rcn0180?utm_source=feed 第180回　MySQLのメタデータロックについて\n",
      "https://gihyo.jp/article/2022/09/internet-forecast-report-19?utm_source=feed 第19回　街が放つ電波\n",
      "https://gihyo.jp/admin/clip/01/ubuntu-topics/202209/16?utm_source=feed Ubuntu 22.10（kinetic）の開発 / 『debuginfod』サービスの提供、ADSysの拡張\n",
      "https://gihyo.jp/article/2022/09/adobe-figma-creative?utm_source=feed Adobe、200億ドルでコラボレーションデザインツールFigmaを買収――共同制作と創造の新しい時代が到来\n",
      "https://gihyo.jp/article/2022/09/rubybiz2022-01?utm_source=feed ［1］Ruby biz Grand prix 2022の概要\n",
      "https://gihyo.jp/article/2022/08/internet-forecast-report-18?utm_source=feed 第18回　地方分散と強靭化\n",
      "https://gihyo.jp/article/2022/09/code_blue2022?utm_source=feed 10/27，28開催「CODE BLUE 2022」すべてのセッションが決定 ―基調講演はIBMの脅威インテリジェンス専門家ニール・R・ワイラー氏\n",
      "https://gihyo.jp/article/2022/09/rapid-learning-puppeteer-04?utm_source=feed 第4章　スクレイピングの実装 ～人気サービス「note」のタイムラインを取得する\n",
      "https://gihyo.jp/article/2022/08/internet-forecast-report-17?utm_source=feed 第17回　トラフィックの特異点\n",
      "https://gihyo.jp/article/2022/09/android-weekly-topics-220915?utm_source=feed 今年も豊作！ Pixel 7、Pixel Watch、そして、今後提供の新機能\n",
      "https://gihyo.jp/article/2022/09/tfc010-ebpf_wasm?utm_source=feed eBPFとWASMに思いを馳せる2022 ～TechFeed Conference 2022講演より\n",
      "https://gihyo.jp/article/2022/09/unicode15?utm_source=feed Unicodeバージョン 15.0リリース ―CJKの表意文字など4,489文字が追加\n",
      "https://gihyo.jp/article/2022/09/daily-linux-220914?utm_source=feed Fedora Linux 37 Betaが公開、デスクトップ環境にGNOME 43 Betaを実装\n",
      "https://gihyo.jp/admin/serial/01/ubuntu-recipe/0731?utm_source=feed 第731回　Ubuntuのドキュメントビューアーとして最適なOkularを使用する\n",
      "https://gihyo.jp/article/2022/09/rapid-learning-puppeteer-03?utm_source=feed 第3章　E2Eテストの実装 ～非同期処理のテスト、パフォーマンス計測、カバレッジ\n",
      "https://gihyo.jp/article/2022/08/internet-forecast-report-16?utm_source=feed 第16回　CO<sub>2</sub>削減のホント\n",
      "https://gihyo.jp/article/2022/09/pytorch_foundation?utm_source=feed 機械学習フレームワークPyTorch、Linux Foundationの傘下プロジェクトに\n",
      "https://gihyo.jp/article/2022/09/ios16-release?utm_source=feed 自分だけのロック画面で、オンリーワンのiPhoneを――iOS 16リリース。開発者向けSDKも準備\n",
      "https://gihyo.jp/article/2022/09/daily-linux-220913?utm_source=feed Debian “Buster”と“Bullseye”がそれぞれアップデート\n",
      "https://gihyo.jp/article/2022/09/increase-productivity-of-r-01?utm_source=feed RStudioが生産性を高める［前編］ 〜コマンドパレットによる検索の効率化\n",
      "https://gihyo.jp/article/2022/09/europython2022-01?utm_source=feed #01　EuroPython 2022 Day 1注目セッションと渡航や現地のあれこれ\n",
      "https://gihyo.jp/article/2022/09/rapid-learning-puppeteer-02?utm_source=feed 第2章　ブラウザ操作自動化の基本 ～非同期処理を扱うasync/await関数、自動化の鍵を握るPuppeteerコンポーネント\n",
      "https://gihyo.jp/article/2022/08/internet-forecast-report-15?utm_source=feed 第15回　スマホの後ろ側\n",
      "https://gihyo.jp/article/2022/09/development-security-in-dx-era-04?utm_source=feed 脆弱性管理とインシデント対応を考え直す\n",
      "https://gihyo.jp/article/2022/09/tfc009-android_devtools?utm_source=feed Androidのアプリ開発の移り変わりについて行く方法 ～TechFeed Conference 2022講演より\n",
      "https://gihyo.jp/article/2022/09/kotlin_fest2022?utm_source=feed 「Kotlin Fest 2022」12/10に開催、スピーカーの募集を開始\n",
      "https://gihyo.jp/article/2022/09/rapid-learning-puppeteer-01?utm_source=feed 第1章　Puppeteerの魅力は何か ～ヘッドレスChromeを自由自在に操る\n",
      "https://gihyo.jp/article/2022/08/internet-forecast-report-14?utm_source=feed 第14回　5G モバイル通信網\n",
      "https://gihyo.jp/admin/clip/01/ubuntu-topics/202209/09?utm_source=feed Ubuntu 22.10（kinetic）の開発/Ubuntu Unityの公式化、Ubuntu Summit\n",
      "https://gihyo.jp/article/2022/09/illustrator-itpassport-05?utm_source=feed 第5回　イシクラ出題される分野について知る ～ストラテジ系とマネジメント系とテクノロジ系～\n",
      "https://gihyo.jp/article/2022/08/internet-forecast-report-13?utm_source=feed 第13回　PCI Express 5.0\n",
      "https://gihyo.jp/article/2022/09/mruby_kaigi?utm_source=feed mruby公開10周年記念「Fukuoka mruby Kaigi」が10/15開催\n",
      "https://gihyo.jp/article/2022/09/monthly-python-2209?utm_source=feed Python最新バージョン対応！より良い型ヒントの書き方\n",
      "https://gihyo.jp/article/2022/09/tfc008-lmp?utm_source=feed LMPを用いたアプリの翻訳フロー改善 ～TechFeed Conference 2022講演より\n",
      "https://gihyo.jp/article/2022/09/android-weekly-topics-220908?utm_source=feed Google、アプリ間で体験共有ができる「Cross device SDK for Android」プレビュー版をリリース\n",
      "https://gihyo.jp/article/2022/08/internet-forecast-report-12?utm_source=feed 第12回　マイクロデータセンター\n",
      "https://gihyo.jp/article/2022/09/pyconjp22-ticket?utm_source=feed 10/14～16開催「PyCon JP 2022」チケット販売が開始\n",
      "https://gihyo.jp/admin/serial/01/ubuntu-recipe/0730?utm_source=feed 第730回　Shinobiとネットワークカメラで監視カメラシステムを作る&#x1f977;\n",
      "https://gihyo.jp/article/2022/08/internet-forecast-report-11?utm_source=feed 第11回　計算機に見えているモノ\n",
      "https://gihyo.jp/article/2022/08/internet-forecast-report-10?utm_source=feed 第10回　サイジングの見える化\n",
      "https://gihyo.jp/article/2022/09/mysql-rcn0179?utm_source=feed 第179回　SQLだけで複数のテーブルにinsertを行う方法\n",
      "https://gihyo.jp/article/2022/09/daily-linux-220906?utm_source=feed Thunderbolt/USB4のフロー制御メカニズムをLinux 6.1以降でサポートへ\n",
      "https://gihyo.jp/article/2022/08/development-security-in-dx-era-03?utm_source=feed 現場が考えるべきセキュリティとは ～ソフトウェアセキュリティが直面している4つの問題と、ソフトウェアパイプラインを安全にする「GitOps」\n",
      "https://gihyo.jp/article/2022/09/tfc007-ios_app_devtool?utm_source=feed iOSアプリの技術選択 2022 ～TechFeed Conference 2022講演より\n",
      "https://gihyo.jp/article/2022/08/internet-forecast-report-09?utm_source=feed 第9回　CPUの見える化\n",
      "https://gihyo.jp/article/2022/08/create-flow-in-power-automate-for-desktop?utm_source=feed Power Automate for desktopのレコーディング機能を活用したフローの作成\n",
      "https://gihyo.jp/article/2022/09/swift_book?utm_source=feed 「The Swift Programming Language」がオープンソースプロジェクトとして公開へ\n",
      "https://gihyo.jp/admin/clip/01/ubuntu-topics/202209/02?utm_source=feed Ubuntu 22.10（kinetic）のfeature freeze, Ampere AltraベースのAzure vm, Ubuntu 20.04.5の準備\n",
      "https://gihyo.jp/article/2022/08/internet-forecast-report-08?utm_source=feed 第8回　ラック収容率の乖離\n",
      "https://gihyo.jp/article/2022/09/tfc006-css_tech?utm_source=feed クリエイティブ系のウェブサイト制作で役立つCSS技法 ～TechFeed Conference 2022講演より\n",
      "https://gihyo.jp/article/2022/08/internet-forecast-report-07?utm_source=feed 第7回　IT社会の見える化\n",
      "https://gihyo.jp/article/2022/09/ossdb-various-news0085?utm_source=feed 第85回　【祝】連載8年目突入、MySQL Shell for VS Codeの機能紹介、Postgres Vision Tokyo 2022がまもなく開催\n",
      "https://gihyo.jp/article/2022/09/android-weekly-topics-220901?utm_source=feed Fitbitから新スマートウォッチ「Sense 2」と「Versa 4」発表\n",
      "https://gihyo.jp/admin/serial/01/ubuntu-recipe/0729?utm_source=feed 第729回　Ubuntuリポジトリに取り込まれたパッケージ版.NETで、UbuntuでもC#プログラミングを始めよう！\n",
      "https://gihyo.jp/article/2022/08/kubernetes-cloudnative-topics-01?utm_source=feed Cilium Projectから公開！ eBPFを用いてセキュリティの可観測性をもたらすTetragon\n",
      "https://gihyo.jp/article/2022/08/internet-forecast-report-06?utm_source=feed 第6回　HPCの見える化\n",
      "https://gihyo.jp/article/2022/08/ganshiki-soushi2-0043?utm_source=feed 第43回　風が吹けば桶屋が儲かる？\n",
      "https://gihyo.jp/article/2022/08/tukinami-go-01?utm_source=feed これまでとこれからのGo\n",
      "https://gihyo.jp/article/2022/08/daily-linux-220830?utm_source=feed Debianプロジェクト、ノンフリーファームウェアへの対応変更を審議中\n",
      "https://gihyo.jp/article/2022/08/tfc005-modern_css?utm_source=feed 2022年のモダンCSS  ～TechFeed Conference 2022講演より\n",
      "https://gihyo.jp/article/2022/08/internet-forecast-report-05?utm_source=feed 第5回　サーバを冷やす\n",
      "https://gihyo.jp/article/2022/08/internet-forecast-report-04?utm_source=feed 第4回　セルラーIoTを知る\n",
      "https://gihyo.jp/article/2022/08/development-security-in-dx-era-02?utm_source=feed “異物の混入”を防ぐソフトウェア開発 ～DevSecOpsの実践が安全なソフトウェアのサプライチェーンを実現する\n",
      "https://gihyo.jp/article/2022/08/daily-linux-220826?utm_source=feed 「Open Source Security Summit Japan」開催、オープンソースのセキュリティ課題に官民連携で取り組む姿勢\n",
      "https://gihyo.jp/article/2022/08/tfc004-kotlin?utm_source=feed Kotlin最新動向2022 ～TechFeed Conference 2022講演より\n",
      "https://gihyo.jp/article/2022/08/illustrator-itpassport-04?utm_source=feed 第4回　イシクラ表計算ソフトの可能性を知る ～いろんな関数～\n",
      "https://gihyo.jp/article/2022/08/internet-forecast-report-03?utm_source=feed 第3回　水中の見える化\n",
      "https://gihyo.jp/article/2022/08/rust_tokyo2022?utm_source=feed 9/23開催「Rust.Tokyo 2022」セッションとスケジュールが公開、参加登録も開始\n",
      "https://gihyo.jp/article/2022/08/android-weekly-topics-220825?utm_source=feed これまでで2番目に早いリリース、Android 13が公開\n",
      "https://gihyo.jp/article/2022/08/internet-forecast-report-02?utm_source=feed 第2回　5Gの見える化\n",
      "https://gihyo.jp/article/2022/08/integration-of-appsheet-and-workspace?utm_source=feed AppSheetとGoogle Workspaceの連携\n",
      "https://gihyo.jp/article/2022/08/tfc003-java19?utm_source=feed Java 19の注目新機能Virtual Threadについて ～TechFeed Conference 2022講演より\n",
      "https://gihyo.jp/article/2022/08/daily-linux-220824?utm_source=feed Linuxパッケージ管理ソフトFlatpakの新バージョンFlatpak 1.14.0がリリース\n",
      "https://gihyo.jp/admin/serial/01/ubuntu-recipe/0728?utm_source=feed 第728回　格安2in1 PC、FFF-PCM2BにUbuntu 22.04 LTSをインストールする（後編）\n",
      "https://gihyo.jp/design/serial/01/website-pickup/0173?utm_source=feed 第173回　環境の変化から生まれた「Twitter Notes」は、Twitterの未来を変えられるか\n",
      "https://gihyo.jp/article/2022/08/isucon12-qualifying?utm_source=feed ISUCON12を獲るのは誰だ？！ISUCON予選突破注目チームに迫る！\n",
      "https://gihyo.jp/article/2022/08/internet-forecast-report-01?utm_source=feed 第1回　サイバー空間の見える化\n",
      "https://gihyo.jp/article/2022/08/power-automate-updates-202206-07?utm_source=feed Power Automate for desktop のアップデート情報（2022年6月、7月）を解説 ～入出力変数で様々なデータ型がサポートされるように！\n",
      "https://gihyo.jp/article/2022/08/mysql-rcn0178?utm_source=feed 第178回　MySQLのAUTO_INCREMENTなINTEGERってどのくらいで使い切るの？\n",
      "https://gihyo.jp/article/2022/08/tfc002-nodejs-performance?utm_source=feed Node.jsパフォーマンスチェックポイント ～TechFeed Conference 2022講演より\n",
      "https://gihyo.jp/dev/serial/01/technical_field/0006?utm_source=feed 第6回　Rustが今、流行っている理由とは\n",
      "https://gihyo.jp/article/2022/08/development-security-in-dx-era-01?utm_source=feed 経営層が取り組むべき、モダナイゼーションとコラボレーション ～開発にセキュリティを組み込むための考え方\n",
      "https://gihyo.jp/article/2022/08/daily-linux-220819?utm_source=feed LibreOffice 7.4 Communityがリリース、画像フォーマットとしてWebPをサポート\n",
      "https://gihyo.jp/admin/clip/01/ubuntu-topics/202208/19?utm_source=feed Ubuntuにおける.NETのネイティブサポートと「Chisel」、StarFive VisionFiveボードへの対応。Ubuntu 22.04.1 LTSのリリース\n",
      "https://gihyo.jp/article/2022/08/python-bc-niigata2?utm_source=feed 「Python Boot Camp」2022年9月17日に新潟市で開催\n",
      "https://gihyo.jp/article/2022/08/owasp2022?utm_source=feed 2022年のOWASPとOWASP Top 10\n",
      "https://gihyo.jp/article/2022/08/tfc001-nodejs?utm_source=feed Node.js最新動向 ～TechFeed Conference 2022講演より\n",
      "https://gihyo.jp/dev/serial/01/perl-hackers-hub/007302?utm_source=feed 第73回　Perlで作るGraphQL API ～graphql-perlを使って実装してみよう！（2）\n",
      "https://gihyo.jp/dev/serial/01/perl-hackers-hub/007301?utm_source=feed 第73回　Perlで作るGraphQL API ～graphql-perlを使って実装してみよう！（1）\n",
      "https://gihyo.jp/article/2022/08/android-weekly-topics-220818?utm_source=feed Android 13リリース～ColorOS 13発表とOne UI 5のベータプログラムが開始\n",
      "https://gihyo.jp/article/2022/08/ruby_prize_2022?utm_source=feed Rubyコミュニティの個人賞「Ruby Prize 2022」開催。副賞賞金100万円、ノミネート期限は9/11\n",
      "https://gihyo.jp/article/2022/08/daily-linux-220816?utm_source=feed GNOME、25歳になる ―GNOME 43 Betaも公開\n",
      "https://gihyo.jp/dev/serial/01/savanna-letter/0001?utm_source=feed 第1回　学習用テスト ～学びを自動テストとして書く～\n",
      "https://gihyo.jp/article/2022/08/github-npm-security?utm_source=feed GitHub、npmの“強化したセキュリティ機能”をより使いやすく改良\n",
      "https://gihyo.jp/article/2022/08/fluent-emoji?utm_source=feed Microsoft、「Fluent Emoji」の絵文字データをGitHubとFigmaでオープンソースとして公開\n",
      "https://gihyo.jp/article/2022/08/daily-linux-220815?utm_source=feed メジャーナンバーがカウントアップ！ Linux 6.0-rc1公開、正式リリースは10月初旬か？\n",
      "https://gihyo.jp/article/2022/08/illustrator-itpassport-03?utm_source=feed 第3回　イシクラ周辺機器について知る ～よく聞くメモリの正体～\n",
      "https://gihyo.jp/article/2022/08/data-ai-summit2022?utm_source=feed 「Data + AI Summit 2022」レポート ―Delta Lakeが導くレイクハウスのデスティネーション\n",
      "https://gihyo.jp/article/2022/08/android-weekly-topics-220810?utm_source=feed あなたのクルマに、Google搭載されていますか？\n",
      "https://gihyo.jp/admin/serial/01/ubuntu-recipe/0727?utm_source=feed 第727回　格安2in1 PC、FFF-PCM2BにUbuntu 22.04 LTSをインストールする（前編）\n",
      "https://gihyo.jp/dev/serial/01/china-oss-frontline/0007?utm_source=feed 第7回　「いいOSS」とは何なのか？ ～OSSプロジェクトの健全さを測るCHAOSSプロジェクト\n",
      "https://gihyo.jp/admin/serial/01/codt2022/0003?utm_source=feed #03　クラウドに“変革”をもたらすのは誰か？―「Cloud Operator Days Tokyo 2022」クロージングイベントレポート\n",
      "https://gihyo.jp/article/2022/08/mysql-rcn0177?utm_source=feed 第177回　MySQL 8.0.30の新機能：不可視プライマリキーについて\n",
      "https://gihyo.jp/article/2022/08/twitter-card-validator-preview-removal?utm_source=feed Twitter、Card Validatorからプレビュー機能を削除。カード情報のキャッシュは最大7日\n",
      "https://gihyo.jp/article/2022/08/monthly-python-2208?utm_source=feed Django非同期View入門\n",
      "https://gihyo.jp/admin/clip/01/ubuntu-topics/202208/05?utm_source=feed Ubuntu 22.04.1のリリースに向けた作業\n",
      "https://gihyo.jp/article/2022/08/ipa-ibt-testprogram?utm_source=feed 基本情報技術者試験と情報セキュリティマネジメント試験でIBT方式の実証試験を実施\n",
      "https://gihyo.jp/article/2022/08/gihyojp-markdown?utm_source=feed gihyo.jp編集部におけるMarkdown記法\n",
      "https://gihyo.jp/article/2022/08/android-weekly-topics-220804?utm_source=feed 生活の一部になりはじめたNothing Phone(1)\n",
      "https://gihyo.jp/article/2022/08/daily-linux-220803?utm_source=feed GNOME開発チーム、セキュアブートチェック機能をブートスプラッシュ「Plymouth」に実装中\n",
      "https://gihyo.jp/article/2022/08/hcp-vault-and-consul?utm_source=feed HashiCorp、HashiCorp Cloud Platform（HCP）上で「HCP Vault」「HCP Consul」を日本で今秋提供\n",
      "https://gihyo.jp/article/2022/08/ga4-001?utm_source=feed GA4（Google Analytics 4）を自分のサイトに導入しよう\n",
      "https://gihyo.jp/admin/serial/01/ubuntu-recipe/0726?utm_source=feed 第726回　Slackの代替として、ハドルミーティングも実装されたオープンソース版のMattermostはいかが？\n",
      "https://gihyo.jp/article/2022/08/sync2022?utm_source=feed 10月開催 Unity大規模カンファレンス「SYNC 2022」参加受付開始、サテライト会場の公募も開始\n",
      "https://gihyo.jp/article/2022/08/daily-linux-220802?utm_source=feed Linux 5.19が公開、LinusはMacBook Airでリリース作業\n",
      "https://gihyo.jp/article/2022/08/morisawa-fonts2208?utm_source=feed モリサワ、「MORISAWA PASSPORT」の後継となる新フォントサービス「Morisawa Fonts」を10/4リリース、リリースキャンペーンも実施\n",
      "https://gihyo.jp/article/2022/08/ganshiki-soushi2-0042?utm_source=feed 第42回　bashの便利な機能\n",
      "https://gihyo.jp/article/2022/08/ossdb-various-news0084?utm_source=feed 第84回　MySQL 8.0.30がリリース、次のバージョンPostgreSQL 15をベータ版から予習しよう\n",
      "https://gihyo.jp/article/2022/07/basics-of-power-automate?utm_source=feed Power Automate／Power Automate for desktopの概要と基礎を学ぶ\n",
      "https://gihyo.jp/article/2022/07/iot-engineer02?utm_source=feed スキルと経験をIoTエンジニア誕生に導くためのステップ・バイ・ステップ\n",
      "https://gihyo.jp/admin/clip/01/ubuntu-topics/202207/29?utm_source=feed Ubuntu 22.04 LTS用“linux-nvidia”カーネルフレーバーの開発、Canonical Ubuntu Confidential VMsのGA\n",
      "https://gihyo.jp/article/2022/07/illustrator-itpassport-02?utm_source=feed 第2回　イシクラ2進数について知る〜2進数とコンピュータの関係〜\n",
      "https://gihyo.jp/article/2022/07/devrel-tokyo2022?utm_source=feed 「DevRel/Japan CONFERENCE 2022」8/5，6にハイブリッド開催\n",
      "https://gihyo.jp/article/2022/07/android-weekly-topics-220728?utm_source=feed Android 13待ちで世間が静かなので小ネタをピックアップ\n",
      "https://gihyo.jp/article/2022/07/figma220727?utm_source=feed Figmaが日本版をリリース、英語以外の言語へのローカライズは初\n",
      "https://gihyo.jp/article/2022/07/daily-linux-220727?utm_source=feed メンテナーが消えた！？ ―Fedora、メンテナー不在のSpins/Labsについて方針を示唆\n",
      "https://gihyo.jp/admin/serial/01/ubuntu-recipe/0725?utm_source=feed 第725回　Rcloneと専用GNOME Shell拡張機能を併用して、Ubuntuからさまざまなクラウドストレージサービスにアクセスする\n",
      "https://gihyo.jp/article/2022/07/daily-linux-220726?utm_source=feed 原点回帰!? Slax開発者、Slackware＋FluxBoxのプロトタイプを期間限定で公開\n",
      "https://gihyo.jp/dev/serial/01/china-oss-frontline/0006?utm_source=feed 第6回　中国が世界の大規模OSSプロジェクトを主導する\n",
      "https://gihyo.jp/article/2022/07/mysql-rcn0176?utm_source=feed 第176回　MySQLのクエリ：日付で絞り込んでいるはずなのに何故か全件取れてしまった\n",
      "https://gihyo.jp/article/2022/07/what_is_dx?utm_source=feed ［IPAのDXエバンジェリストが解説］VUCAの時代に立ち向かうエンジニアに知ってほしいDXの基礎知識\n",
      "https://gihyo.jp/admin/clip/01/ubuntu-topics/202207/22?utm_source=feed DELL XPS 13 Plus Developer EditionのUbuntu 22.04 LTS認定 / Project “Sputnik”の最新リリース、Ubuntu 21.10のサポート終了（EOL）\n",
      "https://gihyo.jp/article/2022/07/nocode-tide-with-appsheet?utm_source=feed ノーコードの潮流と、AppSheetによる業務アプリケーション開発のススメ\n",
      "https://gihyo.jp/news/report/2022/06/0603?utm_source=feed データエンジニア大集合！「実践的データ基盤への処方箋」輪読会レポート〜データ組織編〜\n",
      "https://gihyo.jp/article/2022/07/android-weekly-topics-220721?utm_source=feed Nothing Phone (1)は、アリ・ナシどっち？\n",
      "https://gihyo.jp/admin/serial/01/ubuntu-recipe/0724?utm_source=feed 第724回　CPUコアごとのベンチマークをPythonで簡単に取得してみる\n",
      "https://gihyo.jp/article/2022/07/daily-linux-220719?utm_source=feed Debianベースのロードバランサー「ZEVENET」、バージョン5.12.2にマイナーアップデート\n",
      "https://gihyo.jp/article/2022/07/ruby-procon2022-07?utm_source=feed 「中高生国際Rubyプログラミングコンテスト2022 in Mitaka」開催決定、作品募集開始～2022年9月30日まで\n",
      "https://gihyo.jp/article/2022/07/slack-update?utm_source=feed Slack「プロプラン」の料金を改定、フリープランの内容も変更に\n",
      "https://gihyo.jp/article/2022/07/illustrator-itpassport-01?utm_source=feed 第1回　イシクラITパスポートを知る～自己紹介とITパスポートシラバスについて～\n",
      "https://gihyo.jp/article/2022/07/cacoo-update?utm_source=feed オンライン作図ツールのCacoo、「無限キャンバス」をリリース\n",
      "https://gihyo.jp/admin/clip/01/ubuntu-topics/202207/15?utm_source=feed Google CloudのT2A VM向け最適化Ubuntuイメージ・Ubuntu 22.10向けRISC-V用カーネルコンフィグの整理と「Allwinner D1向けカーネル」の準備\n",
      "https://gihyo.jp/admin/serial/01/http3/0005?utm_source=feed 第5章 HTTP/3の拡張と応用 ～ 機能を追加し、より効率的に、より便利に\n",
      "https://gihyo.jp/article/2022/07/java2022-0701?utm_source=feed 2022年のJavaまるわかり！最新バージョンからJavaを取り巻く環境まで\n",
      "https://gihyo.jp/admin/serial/01/http3/0004?utm_source=feed 第4章 実践HTTP/3 ～ 実装を触り、通信を観測し、理解を深める\n",
      "https://gihyo.jp/lifestyle/clip/01/awt/202207/14?utm_source=feed 話題の中心となれるか？ Nothing phone (1)が発売です\n",
      "https://gihyo.jp/article/2022/07/daily-linux-220713?utm_source=feed 2022年7月13日　Red Hat、新CEOにマット・ヒックスを指名、現CEOのポール・コーミアはチェアマンに\n",
      "https://gihyo.jp/admin/serial/01/ubuntu-recipe/0723?utm_source=feed 第723回　複雑なコマンドパイプラインを簡単に組み立てる方法\n",
      "https://gihyo.jp/admin/serial/01/codt2022/0002?utm_source=feed #02　「Cloud Operator Days Tokyo 2022」オンデマンドセッションを楽しもう ―編集部の“推しセッション”大紹介\n",
      "https://gihyo.jp/admin/serial/01/http3/0003?utm_source=feed 第3章 詳解HTTP/3 ～ いかにしてQUICを活用し、いかにして高速化を実現したか\n",
      "https://gihyo.jp/dev/serial/01/mysql-road-construction-news/0175?utm_source=feed 第175回　enforce_gtid_consistencyを設定しよう\n",
      "https://gihyo.jp/admin/serial/01/http3/0002?utm_source=feed 第2章 詳解QUIC ～ TCPに代わり下位層で使用する新しいトランスポートプロトコル\n",
      "https://gihyo.jp/admin/serial/01/http3/0001?utm_source=feed 第1章 進化するHTTPの歩み ～ HTTP/1.1とHTTP/2をおさらいし、HTTP/3の基本を知る\n",
      "https://gihyo.jp/design/serial/01/website-pickup/0172?utm_source=feed 第172回　BBC（英国放送協会）がロシアのウクライナ侵攻で見せた誇りとインターネットの“つながり”\n",
      "https://gihyo.jp/article/2022/07/gihyojp-renewal?utm_source=feed gihyo.jp、15年ぶりの大幅リニューアル！\n",
      "https://gihyo.jp/article/2022/07/monthly-python-2207?utm_source=feed Python 3.10の新機能：構造化パターンマッチング\n",
      "https://gihyo.jp/article/2022/07/iot-engineer01?utm_source=feed あなたの身近にある  IoTエンジニアに通じる数多の「道」\n",
      "https://gihyo.jp/admin/clip/01/linux_dt/202207/11?utm_source=feed 2022年7月11日　Debian 11.4リリース、セキュリティアップデートが中心\n",
      "https://gihyo.jp/admin/clip/01/linux_dt/202207/08?utm_source=feed 2022年7月8日　Fedora、次バージョンでRaspberry Pi 4をオフィシャルサポート\n",
      "https://gihyo.jp/admin/clip/01/ubuntu-topics/202207/08?utm_source=feed 2022年7月8日号　21.10のEOLに向けた取り組み、各リリースにおけるいろいろな取り組み\n",
      "https://gihyo.jp/news/nr/2022/07/0801?utm_source=feed 70万人が使うOSS向け報奨金サービスIssueHunt、バグバウンティ（脆弱性報奨金制度）プラットフォームを一般公開\n",
      "https://gihyo.jp/lifestyle/clip/01/awt/202207/07?utm_source=feed 2022年7月第2週　脱iPhone、Pixel 6 ProとMacの相性を考える\n",
      "https://gihyo.jp/news/nr/2022/07/0701?utm_source=feed Internet of Everywhere、そしてInternet of Everyoneへ ―ソラコム「SORACOM Discovery 2022」でカバレッジを広げる新たなプランやサービスを発表\n",
      "https://gihyo.jp/admin/serial/01/ubuntu-recipe/0722?utm_source=feed 第722回　UrBackupでお手軽ランサムウェア対策\n",
      "https://gihyo.jp/news/info/2022/07/0401?utm_source=feed 「Python Boot Camp」2022年9月3日に静岡県沼津市で開催\n",
      "https://gihyo.jp/news/nr/2022/07/0101?utm_source=feed U-22プログラミング・コンテスト2022／U-22キービジュアルコンテスト 応募受付開始\n",
      "https://gihyo.jp/dev/serial/01/oss-db-various-news/0083?utm_source=feed 第83回　OCIコンソール上でのMySQL Shell、PostgreSQL 14.4の緊急リリースとPostgres Vision 2022\n",
      "https://gihyo.jp/lifestyle/serial/01/ganshiki-soushi-2/0041?utm_source=feed 第41回　SpamAssasinと最近の迷惑メール事情\n",
      "https://gihyo.jp/news/report/2022/06/0602?utm_source=feed データエンジニア大集合！「実践的データ基盤への処方箋」輪読会レポート ～データ基盤システム編～\n",
      "https://gihyo.jp/news/info/2022/06/2901?utm_source=feed エンジニアフレンドリーシティ福岡 開発コンテスト「Engineer Driven Day」開催\n",
      "https://gihyo.jp/admin/serial/01/ubuntu-recipe/0721?utm_source=feed 第721回　新型ベアボーンキットであるDeskMeetと最新CPUであるAlder Lakeで夢のパワフルUbuntuライフ\n",
      "https://gihyo.jp/dev/serial/01/mysql-road-construction-news/0174?utm_source=feed 第174回　MySQLのデータ暗号化いろいろ\n",
      "https://gihyo.jp/admin/clip/01/ubuntu-topics/202206/24?utm_source=feed 2022年6月24日号　「Nezha」用RISC-Vカーネルフレーバー、Windows ServerにおけるWSL2のサポート\n",
      "https://gihyo.jp/lifestyle/clip/01/awt/202206/23?utm_source=feed 2022年6月第4週　Android 13 Beta 3.2がリリース、Android for Carsの最新事情\n",
      "https://gihyo.jp/news/nr/2022/06/2201?utm_source=feed GitHub、AIペアプログラマー「GitHub Copilot」を正式リリース\n",
      "https://gihyo.jp/admin/serial/01/ubuntu-recipe/0720?utm_source=feed 第720回　Ubuntuの最小インストールとFlatpakでいつでも最新アプリ生活\n",
      "https://gihyo.jp/admin/clip/01/linux_dt/202206/22?utm_source=feed 2022年6月22日　RHEL互換OSのAlmaLinux、ディストリビューション/パッケージのビルドを自動化する「AlmaLinux Build System」を公開\n",
      "https://gihyo.jp/news/info/2022/06/2101?utm_source=feed ソラコム、オンライン年次カンファレンス「SORACOM Discovery 2022 Online」7/6、7に開催\n",
      "https://gihyo.jp/dev/serial/01/technical_field/0005?utm_source=feed 第5回　VRの魅力とエンジニアの情熱\n",
      "https://gihyo.jp/admin/clip/01/linux_dt/202206/20?utm_source=feed 2022年6月20日　ワンライナーのお手本!? SUSEエンジニアが作成したext4のパフォーマンス改善パッチ\n",
      "https://gihyo.jp/admin/clip/01/ubuntu-topics/202206/17?utm_source=feed 2022年6月17日号　Ubuntu Core 22のリリース、22.10（kinetic）の開発 / ”Enterprise Desktop”\n",
      "https://gihyo.jp/dev/serial/01/perl-hackers-hub/007202?utm_source=feed 第72回　初学者に伝えたい Perl学習の勘所 ―勉強会を10年運営して培ったノウハウ（2）\n",
      "https://gihyo.jp/news/report/2022/06/0601?utm_source=feed データエンジニア大集合！「実践的データ基盤への処方箋」輪読会レポート 〜データ整備編〜\n",
      "https://gihyo.jp/dev/serial/01/perl-hackers-hub/007201?utm_source=feed 第72回　初学者に伝えたい Perl学習の勘所 ―勉強会を10年運営して培ったノウハウ（1）\n",
      "https://gihyo.jp/lifestyle/clip/01/awt/202206/16?utm_source=feed 2022年6月第3週　セキュリティと使い勝手が強化！Android 13 Betaが安定版に\n",
      "https://gihyo.jp/admin/serial/01/ubuntu-recipe/0719?utm_source=feed 第719回　UbuntuでDocker Desktop for Linuxを使う\n",
      "https://gihyo.jp/dev/serial/01/mysql-road-construction-news/0173?utm_source=feed 第173回　MySQLで整数型を扱ってみる\n",
      "https://gihyo.jp/admin/serial/01/codt2022/0001?utm_source=feed #01　期待される“クラウド運用エンジニア”の可能性 ―「Cloud Operator Days Tokyo 2022」プレイベントから\n",
      "https://gihyo.jp/admin/clip/01/ubuntu-topics/202206/10?utm_source=feed 2022年6月10日号　22.10の開発/WPA_Supplicantの置き換えとfdk-aacの取り込み、“adwatchd”\n",
      "https://gihyo.jp/lifestyle/clip/01/awt/202206/09?utm_source=feed 2022年6月第2週　登場まで待てない！Pixel Tabletへの期待\n",
      "https://gihyo.jp/admin/serial/01/ubuntu-recipe/0718?utm_source=feed 第718回　needrestartで学ぶパッケージのフック処理\n",
      "https://gihyo.jp/news/info/2022/06/0301?utm_source=feed ITの国家試験「ITパスポート」に特化したWebサイト「自力で合格！ITパスポート」、オープン！　\n",
      "https://gihyo.jp/admin/clip/01/ubuntu-topics/202206/03?utm_source=feed 2022年6月3日号　“starfive”カーネルフレーバーの追加・Ubuntu 22.10（kinetic）の開発 / テキストエディタの変更\n",
      "https://gihyo.jp/lifestyle/clip/01/awt/202206/02?utm_source=feed 2022年6月第1週　より磨きのかかった「Android 13」はリリースが楽しみ！\n",
      "https://gihyo.jp/admin/serial/01/ubuntu-recipe/0717?utm_source=feed 第717回　Ubuntu 22.04 LTSにおける、Waylandとアプリケーションの微妙な関係\n",
      "https://gihyo.jp/dev/serial/01/oss-db-various-news/0082?utm_source=feed 第82回　MySQL Operator for k8s GAリリース、PostgreSQL 15 β1登場とPGECons成果報告会\n",
      "https://gihyo.jp/lifestyle/serial/01/ganshiki-soushi-2/0040?utm_source=feed 第40回　Plamo Linux 7.4と赤の女王仮説\n",
      "https://gihyo.jp/dev/serial/01/mysql-road-construction-news/0172?utm_source=feed 第172回　SYSTEM_USERによるアカウントの保護\n",
      "https://gihyo.jp/admin/clip/01/ubuntu-topics/202205/27?utm_source=feed 2022年5月27日号　kinetic（22.10）の開発 / ターミナルソフトウェアの変更とPipeWireへの切り替え、Azure Active Directoryへの対応\n",
      "https://gihyo.jp/news/info/2022/05/2601?utm_source=feed 10月開催「PyCon JP 2022」スポンサーシップパッケージ内容が事前公開\n",
      "https://gihyo.jp/news/nr/2022/05/2601?utm_source=feed Microsoft、「Build 2022」でAI、クラウド技術を駆使してどこでもすぐに使える開発環境/ツールを発表\n",
      "https://gihyo.jp/lifestyle/clip/01/awt/202205/26?utm_source=feed 2022年5月第4週　Google I/O 2022で発表されたハードウェアたち②\n",
      "https://gihyo.jp/design/clip/01/weekly-web-tech/202205/26?utm_source=feed 2022年5月第4週号 1位は、顧客にやさしいWebデザインの15の原則、気になるネタは、「SUZURI」でNFTコンテンツのグッズ販売可能に MetaMaskと連携\n",
      "https://gihyo.jp/admin/serial/01/ubuntu-recipe/0716?utm_source=feed 第716回　Ubuntuにおけるマイクやスピーカーの切り替えを、システムメニューを使って手早く切り替える\n",
      "https://gihyo.jp/admin/clip/01/linux_dt/202205/25?utm_source=feed 2022年5月25日　Linux 5.18リリース、カーネル開発をC11に移行\n",
      "https://gihyo.jp/news/nr/2022/05/2401?utm_source=feed 1年ぶりのメジャーバージョンアップ GitLab 15.0がリリース\n",
      "https://gihyo.jp/news/report/2022/05/2401?utm_source=feed IoTカメラの進化は新たなフェーズへ! ソラコム、ATOM Cam2をベースにしたクラウドカメラサービス「ソラカメ」をローンチ\n",
      "https://gihyo.jp/news/info/2022/05/2301?utm_source=feed 「Python Boot Camp」2022年7月9日に広島市で開催\n",
      "https://gihyo.jp/admin/clip/01/ubuntu-topics/202205/20?utm_source=feed 2022年5月20日号　「kinetic（22.10）の開発/isc-dhcpの除去、Ubuntu Core 22のリリースの準備\n",
      "https://gihyo.jp/design/clip/01/weekly-web-tech/202205/19?utm_source=feed 2022年5月第3週号 1位は、2022年に実装されるCSSの新技術いろいろ、気になるネタは、Apple、iPodの歴史に幕 シリーズ最後のモデル「iPod touch（第7世代）」在庫限りで販売終了\n",
      "https://gihyo.jp/lifestyle/clip/01/awt/202205/19?utm_source=feed 2022年5月第3週　Google I/O 2022で発表されたハードウェアたち①\n",
      "https://gihyo.jp/admin/serial/01/ubuntu-recipe/0715?utm_source=feed 第715回　Lenovo ThinkPad X13 Gen2 AMDにUbuntu 22.04 LTSをインストールして使用する\n",
      "https://gihyo.jp/admin/clip/01/linux_dt/202205/17?utm_source=feed 2022年5月17日　Red Hat Enterprise Linux 8.6が提供開始、RHEL 9のリリースは数週間以内に\n",
      "https://gihyo.jp/dev/serial/01/mysql-road-construction-news/0171?utm_source=feed 第171回　MyDumperを使ってみよう［その2］\n",
      "https://gihyo.jp/admin/clip/01/ubuntu-topics/202205/13?utm_source=feed 2022年5月13日号　22.10 “Kinetic Kudu”の開発開始\n",
      "https://gihyo.jp/design/clip/01/weekly-web-tech/202205/12?utm_source=feed 2022年5月第2週号 1位は、シンプルなインターフェイスを作る方法、気になるネタは、「NHKプラス」、「Firefox」での視聴が不可能に 5月23日から\n",
      "https://gihyo.jp/lifestyle/clip/01/awt/202205/12?utm_source=feed 2022年5月第2週　Android Autoを使いはじめて、1ヵ月\n",
      "https://gihyo.jp/admin/clip/01/linux_dt/202205/11?utm_source=feed 2022年5月11日　コミュニティによるコミュニティのためのディストロ ―Fedora Linux 36がリリース\n",
      "https://gihyo.jp/admin/serial/01/ubuntu-recipe/0714?utm_source=feed 第714回　Firefoxを含むsnapパッケージとの付き合い方\n",
      "https://gihyo.jp/admin/clip/01/linux_dt/202205/10?utm_source=feed 2022年5月10日　Bash-Oneliner ―bashの操作をより便利にするワンライナーコレクション\n",
      "https://gihyo.jp/dev/serial/01/oss-db-various-news/0081?utm_source=feed 第81回　MySQL 8.0.29リリース、PostgreSQLエンタープライズ・コンソーシアム成果報告会がまもなく\n",
      "https://gihyo.jp/admin/clip/01/linux_dt/202205/06?utm_source=feed 2022年5月6日　Fedoraプロジェクト、レガシーBIOSサポート終了の方針を一転、サポート継続へ\n"
     ]
    }
   ],
   "source": [
    "# scrape_rss_by_lxml.py\n",
    "# lxmlでRSSをパースする。\n",
    "\n",
    "import lxml.etree\n",
    "\n",
    "# parse()関数でファイルを読み込んでElementTreeオブジェクトを取得する。\n",
    "tree = lxml.etree.parse('rss2.xml')\n",
    "# getroot()メソッドでXMLのルート要素（この例ではrss要素）に対応するElementオブジェクトを取得する。\n",
    "root = tree.getroot()\n",
    "\n",
    "# xpath()メソッドでxPathにマッチする要素のリストを取得する。\n",
    "# channel/item は、channel要素の子要素であるitem要素を表す。\n",
    "for item in root.xpath('channel/item'):\n",
    "    # item要素内にあるtitle要素の文字列を取得する。\n",
    "    title = item.xpath('title')[0].text\n",
    "    # item要素内にあるlink要素の文字列を取得する。\n",
    "    url = item.xpath('link')[0].text\n",
    "    # URLとタイトルを表示する。\n",
    "    print(url, title)"
   ]
  },
  {
   "attachments": {},
   "cell_type": "markdown",
   "metadata": {},
   "source": [
    "### 3-2-2. RSSのスクレイピング"
   ]
  },
  {
   "cell_type": "code",
   "execution_count": 22,
   "metadata": {},
   "outputs": [],
   "source": [
    "import feedparser\n",
    "\n",
    "# parse()関数にURLを指定してパースできる。\n",
    "d = feedparser.parse('http://b.hatena.ne.jp/hotentry/it.rss')\n",
    "# parse()関数には、ファイルパス・ファイルオブジェクト・XMLの文字列も指定できる。\n",
    "# d = feedparser.parse('it.rss')"
   ]
  },
  {
   "cell_type": "code",
   "execution_count": 23,
   "metadata": {},
   "outputs": [
    {
     "data": {
      "text/plain": [
       "feedparser.util.FeedParserDict"
      ]
     },
     "execution_count": 23,
     "metadata": {},
     "output_type": "execute_result"
    }
   ],
   "source": [
    "# parse()関数の戻り値はFeedParserDictオブジェクト\n",
    "type(d)"
   ]
  },
  {
   "cell_type": "code",
   "execution_count": 24,
   "metadata": {},
   "outputs": [
    {
     "data": {
      "text/plain": [
       "'rss10'"
      ]
     },
     "execution_count": 24,
     "metadata": {},
     "output_type": "execute_result"
    }
   ],
   "source": [
    "# フィードのバージョンを取得する（この場合はRSS1.0）。\n",
    "d.version"
   ]
  },
  {
   "cell_type": "code",
   "execution_count": 25,
   "metadata": {},
   "outputs": [
    {
     "data": {
      "text/plain": [
       "'はてなブックマーク - 人気エントリー - テクノロジー'"
      ]
     },
     "execution_count": 25,
     "metadata": {},
     "output_type": "execute_result"
    }
   ],
   "source": [
    "# フィールドのタイトルを取得する。\n",
    "d.feed.title"
   ]
  },
  {
   "cell_type": "code",
   "execution_count": 26,
   "metadata": {},
   "outputs": [
    {
     "data": {
      "text/plain": [
       "'はてなブックマーク - 人気エントリー - テクノロジー'"
      ]
     },
     "execution_count": 26,
     "metadata": {},
     "output_type": "execute_result"
    }
   ],
   "source": [
    "# 属性ではなく、dict形式でもアクセスできる。\n",
    "d['feed']['title']"
   ]
  },
  {
   "cell_type": "code",
   "execution_count": 27,
   "metadata": {},
   "outputs": [
    {
     "data": {
      "text/plain": [
       "'https://b.hatena.ne.jp/hotentry/it'"
      ]
     },
     "execution_count": 27,
     "metadata": {},
     "output_type": "execute_result"
    }
   ],
   "source": [
    "# フィールドのリンクを取得する。\n",
    "d.feed.link"
   ]
  },
  {
   "cell_type": "code",
   "execution_count": 28,
   "metadata": {},
   "outputs": [
    {
     "data": {
      "text/plain": [
       "'最近の人気エントリー'"
      ]
     },
     "execution_count": 28,
     "metadata": {},
     "output_type": "execute_result"
    }
   ],
   "source": [
    "# フィードの説明を取得する。\n",
    "d.feed.description"
   ]
  },
  {
   "cell_type": "code",
   "execution_count": 29,
   "metadata": {},
   "outputs": [
    {
     "data": {
      "text/plain": [
       "30"
      ]
     },
     "execution_count": 29,
     "metadata": {},
     "output_type": "execute_result"
    }
   ],
   "source": [
    "# d.entriesでフィードの要素のlistを取得する。\n",
    "len(d.entries)"
   ]
  },
  {
   "cell_type": "code",
   "execution_count": 30,
   "metadata": {},
   "outputs": [
    {
     "data": {
      "text/plain": [
       "'『WEB+DB PRESS』 休刊のお知らせ：WEB+DB PRESS'"
      ]
     },
     "execution_count": 30,
     "metadata": {},
     "output_type": "execute_result"
    }
   ],
   "source": [
    "# 要素のタイトルを取得する。\n",
    "d.entries[0].title"
   ]
  },
  {
   "cell_type": "code",
   "execution_count": 31,
   "metadata": {},
   "outputs": [
    {
     "data": {
      "text/plain": [
       "'https://gihyo.jp/magazine/wdpress/suspended'"
      ]
     },
     "execution_count": 31,
     "metadata": {},
     "output_type": "execute_result"
    }
   ],
   "source": [
    "# 要素のリンクを取得する。\n",
    "d.entries[0].link"
   ]
  },
  {
   "cell_type": "code",
   "execution_count": 32,
   "metadata": {},
   "outputs": [
    {
     "data": {
      "text/plain": [
       "'WEB+DB PRESSは，2023年8月発売のVol.136をもって隔月刊誌としては休刊させていただきます。物価上昇による製作費の高騰など諸般の事情により，今回の決定に至った次第です。 突然の休刊案内にてたいへん恐縮ではございますが，何卒ご理解を賜りますよう，お願い申し上げます。 22年以上の長きにわたり，絶大なご支援を...'"
      ]
     },
     "execution_count": 32,
     "metadata": {},
     "output_type": "execute_result"
    }
   ],
   "source": [
    "# 要素の説明を取得する。\n",
    "d.entries[0].description"
   ]
  },
  {
   "cell_type": "code",
   "execution_count": 33,
   "metadata": {},
   "outputs": [
    {
     "data": {
      "text/plain": [
       "'2023-05-01T02:45:45Z'"
      ]
     },
     "execution_count": 33,
     "metadata": {},
     "output_type": "execute_result"
    }
   ],
   "source": [
    "# 要素の更新日時を文字列で取得する。\n",
    "d.entries[0].updated"
   ]
  },
  {
   "cell_type": "code",
   "execution_count": 35,
   "metadata": {},
   "outputs": [
    {
     "data": {
      "text/plain": [
       "time.struct_time(tm_year=2023, tm_mon=5, tm_mday=1, tm_hour=2, tm_min=45, tm_sec=45, tm_wday=0, tm_yday=121, tm_isdst=0)"
      ]
     },
     "execution_count": 35,
     "metadata": {},
     "output_type": "execute_result"
    }
   ],
   "source": [
    "# 要素の更新日時をパースして、time.struct_timeオブジェクトを取得する。\n",
    "d.entries[0].updated_parsed"
   ]
  },
  {
   "cell_type": "code",
   "execution_count": 36,
   "metadata": {},
   "outputs": [
    {
     "name": "stdout",
     "output_type": "stream",
     "text": [
      "https://gihyo.jp/magazine/wdpress/suspended 『WEB+DB PRESS』 休刊のお知らせ：WEB+DB PRESS\n",
      "https://anond.hatelabo.jp/20230501005512 RSSリーダーが廃れた理由を教えて！\n",
      "https://diamond.jp/articles/-/322071 楽天市場はなぜ「アマゾンより使いにくい」のか、IT批評家が徹底検証\n",
      "https://zenn.dev/raltos/books/e50ef289c7565c ドッカー入門\n",
      "https://www.watch.impress.co.jp/docs/series/nishida/1497700.html スマホの「フリック入力」から日本が見えてくる【西田宗千佳のイマトミライ】\n",
      "https://firststar-hateno.hatenablog.com/entry/2023/05/01/165729 一番星はてのとおしゃべりできるようになりました - 一番星はての開発ブログ\n",
      "https://qiita.com/yuno_miyako/items/ce80002adf76bd321ad3 【2024年版】ChatGPT APIを社内利用する時に採用すべきアーキテクチャを考えた - Qiita\n",
      "https://zenn.dev/gibjapan/articles/1d8dfb7520dabc データベースのロックの基礎からデッドロックまで\n",
      "https://www.publickey1.jp/blog/23/terraformhashicorpterraform_cloud.html Terraformがノーコードに。HashiCorpが「Terraform Cloud ノーコードプロビジョニング」正式リリース\n",
      "https://www.itmedia.co.jp/mobile/articles/2305/01/news048.html iCloudは無料でOK　iPhoneで写真100万枚を保存できる「共有アルバム」が便利すぎる\n",
      "https://pc.watch.impress.co.jp/docs/column/yajiuma-mini-review/1495391.html 【やじうまミニレビュー】 iPhoneで紛失防止タグを使ったら怖くなった話\n",
      "https://automaton-media.com/articles/newsjp/20230501-245985/ 『The Elder Scrolls V: Skyrim』NPCとの会話AI生成Modをユーザーが開発。「膝に矢を受けた話」をめちゃくちゃ詳しく聞ける - AUTOMATON\n",
      "https://togetter.com/li/2136639 三菱みなとみらい技術館の謎のモックアップ、または「名前を呼んではいけないあの飛行機」について\n",
      "https://forbesjapan.com/articles/detail/62461 メタバースは「死んだ」のか？　AIブームの影で投資減少 | Forbes JAPAN 公式サイト（フォーブス ジャパン）\n",
      "https://qiita.com/issakuss/items/f204f56fe2b28988eff8 こうやってNotionで論文管理しています - Qiita\n",
      "https://gigazine.net/news/20230501-gpt4free-chatgpt/ 有料の「GPT-4」を無料で使えるようにした「gpt4free」がOpenAIから「削除しないと訴える」と脅迫される\n",
      "https://dare-ai.com/ だれでもAIメーカー\n",
      "https://gigazine.net/news/20230501-openai-elon-musk-twitter/ イーロン・マスクはOpenAIが支払っていた年間200万ドルのライセンス料では不十分だと考えTwitterデータへのアクセスを遮断していたことが発覚\n",
      "https://hatena.co.jp/press/release/entry/2023/05/01/153000 はてな、年次有給休暇の時間単位付与に対応。より柔軟な働き方をサポート - プレスリリース - 株式会社はてな\n",
      "https://36kr.jp/230132/ 中国、画像生成AIでイラストレーターの失業増加 求人7割減の都市も | 36Kr Japan | 最大級の中国テック・スタートアップ専門メディア\n",
      "https://qiita.com/mohki7/items/88e3f5f3428744ff3473 【Mac大手術】ぐちゃぐちゃだったPythonの環境構築をやり直した話【さよならAnaconda】 - Qiita\n",
      "https://ascii.jp/elem/000/004/133/4133077/ 融合に失敗すると「絵が溶ける」!?　ベテラン作監が語る令和のアニメ制作事情 (1/3)\n",
      "https://ascii.jp/elem/000/004/134/4134143/ 画像生成AI「Midjourney」でアニメ絵の似顔絵やアバターを作る方法 (1/3)\n",
      "https://gigazine.net/news/20230501-stability-ai-stablevicuna/ 画像生成AI「Stable Diffusion」開発元がチャットAI「StableVicuna」をリリース\n",
      "https://www.jdla.org/document/ 資料室\n",
      "https://www.itmedia.co.jp/news/articles/2305/01/news094.html 「WEB+DB PRESS」が休刊へ　22年の歴史に幕\n",
      "https://gigazine.net/news/20230501-280blocker-android/ ついにAndroidでも利用可能になった広告ブロッカー「280blocker」で通信量を激減させる方法\n",
      "https://www.m3tech.blog/entry/3-gen-vpoe エムスリー3代目VPoEに河合俊典さんが就任しました - エムスリーテックブログ\n",
      "https://zenn.dev/amon/articles/9e8b7d220d2661 レスポンシブデザインで Tailwind CSS と CSS custom properties を併用する体験が良過ぎる\n",
      "https://speakerdeck.com/hinatades/ri-jing-nodetabesushi-ye-wozhi-erujian-suo-ji-pan-noxian-zai-towei-lai 日経のデータベース事業を支える検索基盤の現在と未来\n"
     ]
    }
   ],
   "source": [
    "# scrape_rss_by_feedparser.py\n",
    "# feedparserでRSSをスクレイピングする。\n",
    "\n",
    "import feedparser\n",
    "\n",
    "# はてなブックマークの人気エントリー（「テクノロジー」カテゴリ）のRSSを読み込む。\n",
    "d = feedparser.parse('http://b.hatena.ne.jp/hotentry/it.rss')\n",
    "\n",
    "# すべての要素について処理を繰り返す。\n",
    "for entry in d.entries:\n",
    "    # URLとタイトルを出力する。\n",
    "    print(entry.link, entry.title)"
   ]
  },
  {
   "attachments": {},
   "cell_type": "markdown",
   "metadata": {},
   "source": [
    "## 3-3. データベースに保存する"
   ]
  },
  {
   "attachments": {},
   "cell_type": "markdown",
   "metadata": {},
   "source": [
    "### 3-3-1. SQLite3への保存"
   ]
  },
  {
   "cell_type": "code",
   "execution_count": 1,
   "metadata": {},
   "outputs": [
    {
     "name": "stdout",
     "output_type": "stream",
     "text": [
      "(1, '上海', 24150000)\n",
      "(2, 'カラチ', 23500000)\n",
      "(3, '北京', 21516000)\n",
      "(4, '天津', 14722100)\n",
      "(5, 'イスタンブル', 14160467)\n"
     ]
    }
   ],
   "source": [
    "# save_sqlite3.pyの実行\n",
    "%run save_sqlite3.py"
   ]
  },
  {
   "attachments": {},
   "cell_type": "markdown",
   "metadata": {},
   "source": [
    "### 3-3-2. MySQLへのデータの保存"
   ]
  },
  {
   "cell_type": "code",
   "execution_count": 2,
   "metadata": {},
   "outputs": [
    {
     "name": "stdout",
     "output_type": "stream",
     "text": [
      "mysql  Ver 8.0.32 for macos13.0 on x86_64 (Homebrew)\n"
     ]
    }
   ],
   "source": [
    "!mysql --version"
   ]
  },
  {
   "cell_type": "code",
   "execution_count": 3,
   "metadata": {},
   "outputs": [
    {
     "name": "stdout",
     "output_type": "stream",
     "text": [
      "/usr/local/bin/mysql\n"
     ]
    }
   ],
   "source": [
    "!which mysql"
   ]
  },
  {
   "cell_type": "code",
   "execution_count": 4,
   "metadata": {},
   "outputs": [
    {
     "name": "stdout",
     "output_type": "stream",
     "text": [
      "Starting MySQL\n",
      ".. SUCCESS! \n"
     ]
    }
   ],
   "source": [
    "# MySqlサーバーの起動\n",
    "!mysql.server start"
   ]
  },
  {
   "cell_type": "code",
   "execution_count": 5,
   "metadata": {},
   "outputs": [
    {
     "name": "stdout",
     "output_type": "stream",
     "text": [
      " SUCCESS! MySQL running (6719)\n"
     ]
    }
   ],
   "source": [
    "# MySqlサーバーの状態確認\n",
    "!mysql.server status"
   ]
  },
  {
   "attachments": {},
   "cell_type": "markdown",
   "metadata": {},
   "source": [
    "#### データベースとユーザーの作成"
   ]
  },
  {
   "attachments": {},
   "cell_type": "markdown",
   "metadata": {},
   "source": [
    "Terminalで実行\n",
    "\n",
    "```bash\n",
    "# rootユーザーとしてMySqlサーバーに接続する\n",
    "mysql -u root\n",
    "\n",
    "Welcome to the MySQL monitor.  Commands end with ; or \\g.\n",
    "Your MySQL connection id is 9\n",
    "Server version: 8.0.32 Homebrew\n",
    "\n",
    "Copyright (c) 2000, 2023, Oracle and/or its affiliates.\n",
    "\n",
    "Oracle is a registered trademark of Oracle Corporation and/or its\n",
    "affiliates. Other names may be trademarks of their respective\n",
    "owners.\n",
    "\n",
    "Type 'help;' or '\\h' for help. Type '\\c' to clear the current input statement.\n",
    "\n",
    "# データベース名: scraping\n",
    "# 文字コード: utf8mb4\n",
    "CREATE DATABASE scraping DEFAULT CHARACTER SET utf8mb4;\n",
    "\n",
    "Query OK, 1 row affected (0.00 sec)\n",
    "\n",
    "# localhostから接続可能な\n",
    "# ユーザー名: scraper\n",
    "# パスワード: password\n",
    "CREATE USER scraper@localhost IDENTIFIED BY 'password';\n",
    "\n",
    "Query OK, 0 rows affected (0.01 sec)\n",
    "\n",
    "# ユーザーscraperにデータベースscrapingを読み書き可能な権限を与える\n",
    "GRANT ALL ON scraping.* TO scraper@localhost;\n",
    "\n",
    "Query OK, 0 rows affected (0.00 sec)\n",
    "\n",
    "# データベースとの接続終了\n",
    "exit\n",
    "\n",
    "Bye\n",
    "```\n",
    "\n",
    "- データベースとの接続終了\n",
    "  - `exit` + [enter]\n",
    "  - [ctrl] + [D]"
   ]
  },
  {
   "attachments": {},
   "cell_type": "markdown",
   "metadata": {},
   "source": [
    "#### PythonからMySQLに接続する\n",
    "\n",
    "- mysqlclient\n",
    "- MySQL Connector/Python\n",
    "- PyMySQL\n",
    "- Python Database API 2.0"
   ]
  },
  {
   "cell_type": "code",
   "execution_count": 7,
   "metadata": {},
   "outputs": [
    {
     "name": "stdout",
     "output_type": "stream",
     "text": [
      "(1, '上海', 24150000)\n",
      "(2, 'カラチ', 23500000)\n",
      "(3, '北京', 21516000)\n",
      "(4, '天津', 14722100)\n",
      "(5, 'イスタンブル', 14160467)\n"
     ]
    }
   ],
   "source": [
    "! python save_mysql.py"
   ]
  },
  {
   "attachments": {},
   "cell_type": "markdown",
   "metadata": {},
   "source": [
    "```bash\n",
    "# mysqlコマンドを使って、保存したデータを確認する\n",
    "mysql -u scraper -p scraping -e 'SELECT * FROM `cities`'\n",
    "\n",
    "password\n",
    "```"
   ]
  },
  {
   "attachments": {},
   "cell_type": "markdown",
   "metadata": {},
   "source": [
    "### 3-3-3. MongoDBへのデータの保存"
   ]
  },
  {
   "attachments": {},
   "cell_type": "markdown",
   "metadata": {},
   "source": [
    "- [Install MongoDB Community Edition on macOS](https://www.mongodb.com/docs/v6.0/tutorial/install-mongodb-on-os-x/)\n",
    "- [MongoDBをMacOSにインストール](https://qiita.com/fztkm/items/827200b1a5efaa28521c)"
   ]
  },
  {
   "attachments": {},
   "cell_type": "markdown",
   "metadata": {},
   "source": [
    "```bash\n",
    "# https://github.com/mongodb/homebrew-brew\n",
    "# 公式の MongoDB ソフトウェア用のカスタムHomebrewタップを追加する\n",
    "brew tap mongodb/brew\n",
    "```\n",
    "\n",
    "```bash\n",
    "# MongoDBをインストールする\n",
    "# MongoDB Community Server\n",
    "# MongoDB Database Tools\n",
    "# MongoDB Compass\n",
    "brew install mongodb-community\n",
    "```"
   ]
  },
  {
   "cell_type": "code",
   "execution_count": 9,
   "metadata": {},
   "outputs": [
    {
     "name": "stdout",
     "output_type": "stream",
     "text": [
      "db version v6.0.5\n",
      "Build Info: {\n",
      "    \"version\": \"6.0.5\",\n",
      "    \"gitVersion\": \"c9a99c120371d4d4c52cbb15dac34a36ce8d3b1d\",\n",
      "    \"modules\": [],\n",
      "    \"allocator\": \"system\",\n",
      "    \"environment\": {\n",
      "        \"distarch\": \"x86_64\",\n",
      "        \"target_arch\": \"x86_64\"\n",
      "    }\n",
      "}\n"
     ]
    }
   ],
   "source": [
    "!mongod --version"
   ]
  },
  {
   "cell_type": "code",
   "execution_count": 10,
   "metadata": {},
   "outputs": [
    {
     "name": "stdout",
     "output_type": "stream",
     "text": [
      "/usr/local/bin/mongod\n"
     ]
    }
   ],
   "source": [
    "!which mongod"
   ]
  },
  {
   "cell_type": "code",
   "execution_count": 34,
   "metadata": {},
   "outputs": [
    {
     "name": "stdout",
     "output_type": "stream",
     "text": [
      "/usr/local\n"
     ]
    }
   ],
   "source": [
    "!brew --prefix"
   ]
  },
  {
   "attachments": {},
   "cell_type": "markdown",
   "metadata": {},
   "source": [
    "||Intel Processor|Apple Silicon Processor|\n",
    "|:-:|:-:|:-:|\n",
    "|configuration file|`/usr/local/etc/mongod.conf`|`/opt/homebrew/etc/mongod.conf`|\n",
    "|log directory|`/usr/local/var/log/mongodb`|`/opt/homebrew/var/log/mongodb`|\n",
    "|data directory|`/usr/local/var/mongodb`|`/opt/homebrew/var/mongodb`|"
   ]
  },
  {
   "attachments": {},
   "cell_type": "markdown",
   "metadata": {},
   "source": [
    "MongoDB（＝mongodプロセス）をmacOS Serviceとして実行する場合\n",
    "\n",
    "- run\n",
    "  - `brew services start mongodb-community`\n",
    "- stop\n",
    "  - `brew services stop mongodb-community`\n",
    "\n",
    "\n",
    "MongoDB（＝mongodプロセス）をバックグラウンドで実行する場合\n",
    "\n",
    "- run\n",
    "  - `mongod --config /usr/local/etc/mongod.conf --fork` (Intel processors)\n",
    "  - `mongod --config /opt/homebrew/etc/mongod.conf --fork` (Apple Silicon processors)\n",
    "- stop\n",
    "  - バックグラウンドプロセスとして動作している「mongod」を停止させるには、次の方法で「mongod」に接続します。\n",
    "  - 'mongosh'を起動し、必要に応じて'shutdown'コマンドを発行してください。\n",
    "\n",
    "どちらの方法も、インストール時に作成されたmongod.confファイルを使用します。このファイルには、独自のMongoDB設定オプションも追加することができます。\n",
    "\n",
    "<https://www.mongodb.com/docs/v6.0/tutorial/install-mongodb-on-os-x/#run-mongodb-community-edition>"
   ]
  },
  {
   "attachments": {},
   "cell_type": "markdown",
   "metadata": {},
   "source": [
    "MongoDBの実行の確認\n",
    "\n",
    "- foreground\n",
    "  - `brew services list`\n",
    "- background\n",
    "  - `ps aux | grep -v grep | grep mongod`"
   ]
  },
  {
   "attachments": {},
   "cell_type": "markdown",
   "metadata": {},
   "source": [
    "MongoDBに接続して使用する\n",
    "\n",
    "- `mongosh`"
   ]
  },
  {
   "cell_type": "code",
   "execution_count": 41,
   "metadata": {},
   "outputs": [
    {
     "name": "stdout",
     "output_type": "stream",
     "text": [
      "\u001b[34m==>\u001b[0m \u001b[1mSuccessfully started `mongodb-community` (label: homebrew.mxcl.mongodb-commu\u001b[0m\n"
     ]
    }
   ],
   "source": [
    "# MongoDBをフォアグラウンドで実行する。\n",
    "!brew services start mongodb-community"
   ]
  },
  {
   "cell_type": "code",
   "execution_count": 42,
   "metadata": {},
   "outputs": [
    {
     "name": "stdout",
     "output_type": "stream",
     "text": [
      "\u001b[1mName              Status  User   File\u001b[0m\n",
      "mongodb-community \u001b[32mstarted\u001b[0m takeru ~/Library/LaunchAgents/homebrew.mxcl.mongodb-community.plist\n",
      "mysql             \u001b[39mnone\u001b[0m           \n",
      "unbound           \u001b[39mnone\u001b[0m           \n"
     ]
    }
   ],
   "source": [
    "# MongoDBの実行を確認\n",
    "!brew services list"
   ]
  },
  {
   "cell_type": "code",
   "execution_count": 43,
   "metadata": {},
   "outputs": [
    {
     "name": "stdout",
     "output_type": "stream",
     "text": [
      "\u001b]0;mongosh mongodb://127.0.0.1:27017/?directConnection=true&serverSelectionTimeoutMS=2000\u0007Current Mongosh Log ID:\t6458d053c4b5510ac6d7f942\n",
      "Connecting to:\t\t\u001b[1m\u001b[32mmongodb://127.0.0.1:27017/?directConnection=true&serverSelectionTimeoutMS=2000&appName=mongosh+1.8.2\u001b[0m\n",
      "Using MongoDB:\t\t6.0.5\n",
      "\u001b[1m\u001b[33mUsing Mongosh\u001b[0m:\t\t1.8.2\n",
      "\n",
      "For mongosh info see: \u001b[1mhttps://docs.mongodb.com/mongodb-shell/\u001b[0m\n",
      "\n",
      "\n",
      "To help improve our products, anonymous usage data is collected and sent to MongoDB periodically (https://www.mongodb.com/legal/privacy-policy).\n",
      "You can opt-out by running the \u001b[1mdisableTelemetry()\u001b[0m command.\n",
      "\n",
      "\u001b[1G\u001b[0J \u001b[1G\u001b[1m\u001b[33m------\u001b[0m\n",
      "   \u001b[1m\u001b[33mThe server generated these startup warnings when booting\u001b[0m\n",
      "   2023-05-08T19:25:12.130+09:00: Access control is not enabled for the database. Read and write access to data and configuration is unrestricted\n",
      "   2023-05-08T19:25:12.130+09:00: Soft rlimits for open file descriptors too low\n",
      "\u001b[1m\u001b[33m------\u001b[0m\n",
      "\n",
      "\u001b[1m\u001b[33m------\u001b[0m\n",
      "   Enable MongoDB's free cloud-based monitoring service, which will then receive and display\n",
      "   metrics about your deployment (disk utilization, CPU, operation statistics, etc).\n",
      "   \n",
      "   The monitoring data will be available on a MongoDB website with a unique URL accessible to you\n",
      "   and anyone you share the URL with. MongoDB may use this information to make product\n",
      "   improvements and to suggest MongoDB products and deployment options to you.\n",
      "   \n",
      "   To enable free monitoring, run the following command: db.enableFreeMonitoring()\n",
      "   To permanently disable this reminder, run the following command: db.disableFreeMonitoring()\n",
      "\u001b[1m\u001b[33m------\u001b[0m\n",
      "\n",
      "\u001b[1G\u001b[0Jtest> \u001b[7G\n",
      "(To exit, press Ctrl+C again or Ctrl+D or type .exit)\n",
      "\u001b[1G\u001b[0Jtest> \u001b[7G\n"
     ]
    }
   ],
   "source": [
    "# MOngoDBに接続して使用\n",
    "!mongosh"
   ]
  },
  {
   "cell_type": "code",
   "execution_count": 44,
   "metadata": {},
   "outputs": [],
   "source": [
    "# PyMongoのインポート\n",
    "from pymongo import MongoClient"
   ]
  },
  {
   "cell_type": "code",
   "execution_count": 46,
   "metadata": {},
   "outputs": [
    {
     "data": {
      "text/plain": [
       "MongoClient(host=['localhost:27017'], document_class=dict, tz_aware=False, connect=True)"
      ]
     },
     "execution_count": 46,
     "metadata": {},
     "output_type": "execute_result"
    }
   ],
   "source": [
    "# ホスト名とポート番号を指定して接続する。\n",
    "# `27017` は、デフォルト値なので省略可能。\n",
    "# client = MongoClient('localhost', 27017)\n",
    "client = MongoClient('mongodb://localhost:27017/')\n",
    "client"
   ]
  },
  {
   "cell_type": "code",
   "execution_count": 47,
   "metadata": {},
   "outputs": [
    {
     "data": {
      "text/plain": [
       "Database(MongoClient(host=['localhost:27017'], document_class=dict, tz_aware=False, connect=True), 'test')"
      ]
     },
     "execution_count": 47,
     "metadata": {},
     "output_type": "execute_result"
    }
   ],
   "source": [
    "# testデータベースを取得する。\n",
    "# データベースが存在しない場合でも、書き込み時に自動で作成される。\n",
    "# db = client.test\n",
    "# 属性で表せない場合、キーでも取得可能。\n",
    "db = client['test']\n",
    "db"
   ]
  },
  {
   "cell_type": "code",
   "execution_count": 48,
   "metadata": {},
   "outputs": [
    {
     "data": {
      "text/plain": [
       "Collection(Database(MongoClient(host=['localhost:27017'], document_class=dict, tz_aware=False, connect=True), 'test'), 'posts')"
      ]
     },
     "execution_count": 48,
     "metadata": {},
     "output_type": "execute_result"
    }
   ],
   "source": [
    "# データベースのpostsコレクションを取得する。\n",
    "# コレクションが存在しない場合でも、書き込み時に自動生成される。\n",
    "# collection = db.posts\n",
    "# 属性で表せない場合、キーでも取得可能。\n",
    "collection = db['posts']\n",
    "collection"
   ]
  },
  {
   "cell_type": "code",
   "execution_count": 49,
   "metadata": {},
   "outputs": [
    {
     "data": {
      "text/plain": [
       "<pymongo.results.InsertOneResult at 0x114285330>"
      ]
     },
     "execution_count": 49,
     "metadata": {},
     "output_type": "execute_result"
    }
   ],
   "source": [
    "# insert_one()メソッドで、Pythonのdictをコレクションに追加できる。\n",
    "collection.insert_one(\n",
    "    {'name': '東京スカイツリー', 'prefecture': '東京'}\n",
    ")"
   ]
  },
  {
   "cell_type": "code",
   "execution_count": 50,
   "metadata": {},
   "outputs": [
    {
     "data": {
      "text/plain": [
       "<pymongo.results.InsertManyResult at 0x1141461d0>"
      ]
     },
     "execution_count": 50,
     "metadata": {},
     "output_type": "execute_result"
    }
   ],
   "source": [
    "# insert_many()メソッドで、複数のdictを一度にコレクションに追加できる。\n",
    "collection.insert_many(\n",
    "    [\n",
    "        {'name': '東京ディズニーランド', 'prefecture': '千葉'},\n",
    "        {'name': '東京ドーム', 'prefecture': '東京'},\n",
    "    ]\n",
    ")"
   ]
  },
  {
   "cell_type": "code",
   "execution_count": 51,
   "metadata": {},
   "outputs": [
    {
     "name": "stdout",
     "output_type": "stream",
     "text": [
      "{'_id': ObjectId('6458d07b045ad7788ba58c6b'), 'name': '東京スカイツリー', 'prefecture': '東京'}\n",
      "{'_id': ObjectId('6458d07f045ad7788ba58c6c'), 'name': '東京ディズニーランド', 'prefecture': '千葉'}\n",
      "{'_id': ObjectId('6458d07f045ad7788ba58c6d'), 'name': '東京ドーム', 'prefecture': '東京'}\n"
     ]
    }
   ],
   "source": [
    "# find()メソッドで、すべてのドキュメントを取得するためのCursorオブジェクトを取得できる。\n",
    "# すべてのドキュメントには、_idフィールドが自動で付与される。\n",
    "# その値は、ObjectIdと呼ばれる12バイトの識別子。\n",
    "for spot in collection.find():\n",
    "    print(spot)"
   ]
  },
  {
   "cell_type": "code",
   "execution_count": 52,
   "metadata": {},
   "outputs": [
    {
     "name": "stdout",
     "output_type": "stream",
     "text": [
      "{'_id': ObjectId('6458d07b045ad7788ba58c6b'), 'name': '東京スカイツリー', 'prefecture': '東京'}\n",
      "{'_id': ObjectId('6458d07f045ad7788ba58c6d'), 'name': '東京ドーム', 'prefecture': '東京'}\n"
     ]
    }
   ],
   "source": [
    "# find()メソッドの引数にクエリを指定すると、そのクエリにマッチするドキュメントを取得できる。\n",
    "# 次のクエリは、prefectureフィールドの値が'東京'であるドキュメントを抽出する。\n",
    "for spot in collection.find({'prefecture': '東京'}):\n",
    "    print(spot)"
   ]
  },
  {
   "cell_type": "code",
   "execution_count": 53,
   "metadata": {},
   "outputs": [
    {
     "data": {
      "text/plain": [
       "{'_id': ObjectId('6458d07b045ad7788ba58c6b'),\n",
       " 'name': '東京スカイツリー',\n",
       " 'prefecture': '東京'}"
      ]
     },
     "execution_count": 53,
     "metadata": {},
     "output_type": "execute_result"
    }
   ],
   "source": [
    "# find_one()メソッドは、条件にマッチする最初のドキュメントを取得する。\n",
    "collection.find_one()"
   ]
  },
  {
   "cell_type": "code",
   "execution_count": 54,
   "metadata": {},
   "outputs": [
    {
     "data": {
      "text/plain": [
       "{'_id': ObjectId('6458d07f045ad7788ba58c6c'),\n",
       " 'name': '東京ディズニーランド',\n",
       " 'prefecture': '千葉'}"
      ]
     },
     "execution_count": 54,
     "metadata": {},
     "output_type": "execute_result"
    }
   ],
   "source": [
    "# find()と同様に引数にクエリを指定できる。\n",
    "collection.find_one({'prefecture': '千葉'})"
   ]
  },
  {
   "cell_type": "code",
   "execution_count": 55,
   "metadata": {},
   "outputs": [
    {
     "name": "stdout",
     "output_type": "stream",
     "text": [
      "6458d92bb5bb3a8fb9dafc64 https://gihyo.jp/dp/ebook/2023/978-4-297-13486-0 今すぐ使えるかんたん 今すぐ使えるかんたんぜったいデキます！ パワーポイント超入門［Office 2021／Microsoft 365両対応］\n",
      "6458d92bb5bb3a8fb9dafc65 https://gihyo.jp/dp/ebook/2023/978-4-297-13504-1 ゼロからはじめる ゼロからはじめるドコモ arrows N F-51C スマートガイド\n",
      "6458d92bb5bb3a8fb9dafc66 https://gihyo.jp/dp/ebook/2023/978-4-297-13462-4 知りたい！サイエンス ゼータへの最初の一歩 ベルヌーイ数～「べき乗和」と素数で割った「余り」の驚くべき関係～\n",
      "6458d92bb5bb3a8fb9dafc67 https://gihyo.jp/dp/ebook/2023/978-4-297-13442-6 今すぐ使えるかんたん 今すぐ使えるかんたんiPad完全ガイドブック 困った解決&便利技［iPadOS 16対応版］\n",
      "6458d92bb5bb3a8fb9dafc68 https://gihyo.jp/dp/ebook/2023/978-4-297-13490-7 売れるランディングページ改善の法則\n",
      "6458d92bb5bb3a8fb9dafc69 https://gihyo.jp/dp/ebook/2023/978-4-297-13241-5 ディープラーニングG検定（ジェネラリスト） 法律・倫理テキスト\n",
      "6458d92bb5bb3a8fb9dafc6a https://gihyo.jp/dp/ebook/2023/978-4-297-13496-9 エンジニア選書 実践 Svelte入門\n",
      "6458d92bb5bb3a8fb9dafc6b https://gihyo.jp/dp/ebook/2023/978-4-297-13510-2 現場が動きだす大学教育のマネジメントとは―茨城大学「教育の質保証」システム構築の物語\n",
      "6458d92bb5bb3a8fb9dafc6c https://gihyo.jp/dp/ebook/2023/978-4-297-13508-9 Minecraftオフィシャルブック マインクラフト モブのたくらみ［石の剣のものがたりシリーズ②］\n",
      "6458d92bb5bb3a8fb9dafc6d https://gihyo.jp/dp/ebook/2023/978-4-297-13408-2 図解即戦力 図解即戦力脱炭素のビジネス戦略と技術がこれ1冊でしっかりわかる教科書\n",
      "6458d92bb5bb3a8fb9dafc6e https://gihyo.jp/dp/ebook/2023/978-4-297-13436-5 ノンプログラマーのための Visual Studio Code実践活用ガイド\n",
      "6458d92bb5bb3a8fb9dafc6f https://gihyo.jp/dp/ebook/2023/978-4-297-13438-9 理解するほどおもしろい！ パソコンのしくみがよくわかる本 改訂3版\n",
      "6458d92bb5bb3a8fb9dafc70 https://gihyo.jp/dp/ebook/2023/978-4-297-13478-5 WEB+DB PRESS Vol.134\n",
      "6458d92bb5bb3a8fb9dafc71 https://gihyo.jp/dp/ebook/2023/978-4-297-13432-7 Nikon ニコン NX Studio パーフェクトガイド\n",
      "6458d92bb5bb3a8fb9dafc72 https://gihyo.jp/dp/ebook/2023/978-4-297-13434-1 今すぐ使えるかんたん 今すぐ使えるかんたんOutlook完全ガイドブック 困った解決&便利技［Office 2021/2019/2016/Microsoft 365対応版］\n",
      "6458d92bb5bb3a8fb9dafc73 https://gihyo.jp/dp/ebook/2023/978-4-297-13471-6 新居浜高専PICマイコン学習キット Ver.3 完全ガイド\n",
      "6458d92bb5bb3a8fb9dafc74 https://gihyo.jp/dp/ebook/2023/978-4-297-13414-3 ［速習］ベイズの定理——「推論」に効く数学の力\n",
      "6458d92bb5bb3a8fb9dafc75 https://gihyo.jp/dp/ebook/2023/978-4-297-13410-5 WEB+DB PRESS plus 縁の下のUIデザイン──小さな工夫で大きな効果をもたらす実践TIPS＆テクニック\n",
      "6458d92bb5bb3a8fb9dafc76 https://gihyo.jp/dp/ebook/2023/978-4-297-13446-4 今すぐ使えるかんたんmini 今すぐ使えるかんたんminiExcel関数の基本と便利がこれ1冊でわかる本［Office 2021/Microsoft 365両対応］\n",
      "6458d92bb5bb3a8fb9dafc77 https://gihyo.jp/dp/ebook/2023/978-4-297-13469-3 はじめてつくるWebアプリケーション〜Ruby on Railsでプログラミングへの第一歩を踏み出そう\n",
      "6458d92bb5bb3a8fb9dafc78 https://gihyo.jp/dp/ebook/2023/978-4-297-13387-0 ポケットリファレンス HTML&CSSポケットリファレンス［改訂3版］\n",
      "6458d92bb5bb3a8fb9dafc79 https://gihyo.jp/dp/ebook/2023/978-4-297-13353-5 英語は10000時間でモノになる～ハードワークで挫折しない「日本語断ち」の実践法～\n",
      "6458d92bb5bb3a8fb9dafc7a https://gihyo.jp/dp/ebook/2023/978-4-297-13514-0 まんがですっきりわかる フリーランスのためのインボイスと消費税\n",
      "6458d92bb5bb3a8fb9dafc7b https://gihyo.jp/dp/ebook/2023/978-4-297-13480-8 ポケットリファレンス Vue.jsポケットリファレンス\n",
      "6458d92bb5bb3a8fb9dafc7c https://gihyo.jp/dp/ebook/2023/978-4-297-13404-4 自由時間サプリ 誰でも簡単！ 世界一の4：6メソッドでハマる 美味しいコーヒー\n",
      "6458d92bb5bb3a8fb9dafc7d https://gihyo.jp/dp/ebook/2023/978-4-297-13450-1 Software Design 2023年5月号\n",
      "6458d92bb5bb3a8fb9dafc7e https://gihyo.jp/dp/ebook/2023/978-4-297-13357-3 ゼロからよくわかる！ Arduinoで電子工作入門ガイド 改訂2版\n",
      "6458d92bb5bb3a8fb9dafc7f https://gihyo.jp/dp/ebook/2023/978-4-297-13458-7 COMODO（COMODO ライフブック） おとなの浴衣、はじめます\n",
      "6458d92bb5bb3a8fb9dafc80 https://gihyo.jp/dp/ebook/2023/978-4-297-13424-2 ポケット介護 【ポケット介護】改訂新版 見てわかるリハビリ～活動と参加で「自立支援」につなげるコツ\n",
      "6458d92bb5bb3a8fb9dafc81 https://gihyo.jp/dp/ebook/2023/978-4-297-13393-1 最短時間でムダなく成果を上げる パソコン仕事術の教科書［改訂新版］\n"
     ]
    }
   ],
   "source": [
    "# save_mongo.py 実行\n",
    "!python save_mongo.py"
   ]
  },
  {
   "cell_type": "code",
   "execution_count": 59,
   "metadata": {},
   "outputs": [
    {
     "name": "stdout",
     "output_type": "stream",
     "text": [
      "Stopping `mongodb-community`... (might take a while)\n",
      "\u001b[34m==>\u001b[0m \u001b[1mSuccessfully stopped `mongodb-community` (label: homebrew.mxcl.mongodb-commu\u001b[0m\n"
     ]
    }
   ],
   "source": [
    "# MongoDBの停止\n",
    "!brew services stop mongodb-community"
   ]
  },
  {
   "cell_type": "code",
   "execution_count": 60,
   "metadata": {},
   "outputs": [
    {
     "name": "stdout",
     "output_type": "stream",
     "text": [
      "\u001b[1mName              Status User File\u001b[0m\n",
      "mongodb-community \u001b[39mnone\u001b[0m        \n",
      "mysql             \u001b[39mnone\u001b[0m        \n",
      "unbound           \u001b[39mnone\u001b[0m        \n"
     ]
    }
   ],
   "source": [
    "# MongoDBの実行を確認\n",
    "!brew services list"
   ]
  },
  {
   "attachments": {},
   "cell_type": "markdown",
   "metadata": {},
   "source": [
    "## 3-4. クローラーとURL"
   ]
  },
  {
   "attachments": {},
   "cell_type": "markdown",
   "metadata": {},
   "source": [
    "### 3-4-1. パーマリンクとリンク構造のパターン\n",
    "\n",
    "- Permalink（パーマリンク）\n",
    "  - 時間が経過しても対応するコンテンツが変わらないURL\n",
    "  - <https://gihyou.jp/dp/ebook/2018/978-4-7741-9770-8>\n",
    "  - permanent（不変の）\n",
    "- 一覧・詳細パターン\n",
    "  - 一覧ページ <https://gihyou.jp/dp/>\n",
    "  - 詳細ページ <https://gihyou.jp/dp/ebook/2018/978-4-7741-9770-8>\n",
    "\n",
    "\n",
    "- Ajax\n",
    "- pjax"
   ]
  },
  {
   "attachments": {},
   "cell_type": "markdown",
   "metadata": {},
   "source": [
    "### 3-4-2. 再実行を考慮したデータ設計\n",
    "\n",
    "- データを一意に識別するキー\n",
    "  - Yahoo!ファイナンスの株価情報\n",
    "    - <https://stocks.finance.yahoo.co.jp/stocks/detail/?code=8411>\n",
    "    - 証券コード\n",
    "  - Amazon.co.jpの商品情報\n",
    "    - <https://www.amazon.co.jp/dp/B00QJDQM9U>\n",
    "    - ASIN\n",
    "  - Twitterのツイート\n",
    "    - <https://twitter.com/TwitterJP/status/1017144330211880960>\n",
    "    - ツイートID\n",
    "  - ITmediaニュースの記事\n",
    "    - <https://www.itmedia.co.jp/news/articles/1807/26/news115.html>\n",
    "    - 年月日と番号\n",
    "- データベースの設計\n",
    "  - サロゲートキーをプライマリーキーにする\n",
    "  - MYSQL: AUTO_INCREMENT\n",
    "  - MongoDB: ObjectId\n",
    "  - uuidモジュール: UUID"
   ]
  },
  {
   "attachments": {},
   "cell_type": "markdown",
   "metadata": {},
   "source": [
    "## 3.5 Pythonによるっクローラーの作成\n",
    "\n",
    "- Requests\n",
    "  - Webページを取得\n",
    "- lxml\n",
    "  - Webページからスクレイピング\n",
    "- PyMongo\n",
    "  - MongoDBにデータを保存\n",
    "\n",
    "&nbsp;\n",
    "\n",
    "- 電子書籍販売サイト\n",
    "  - 一覧ページ\n",
    "    - タイトル\n",
    "    - 価格\n",
    "    - 著者\n",
    "    - 書影\n",
    "    - 対応フォーマット\n",
    "    - 発売日\n",
    "  - 詳細ページ\n",
    "    - 対応する紙の書籍\n",
    "    - 概要\n",
    "    - 目次\n",
    "    - サポート情報"
   ]
  },
  {
   "attachments": {},
   "cell_type": "markdown",
   "metadata": {},
   "source": [
    "### 3-5-1. 一覧ページからパーマリンク一覧を抜き出す"
   ]
  },
  {
   "cell_type": "code",
   "execution_count": 61,
   "metadata": {},
   "outputs": [
    {
     "name": "stdout",
     "output_type": "stream",
     "text": [
      "https://gihyo.jp/dp/ebook/2023/978-4-297-13418-1\n",
      "https://gihyo.jp/dp/ebook/2023/978-4-297-13456-3\n",
      "https://gihyo.jp/dp/ebook/2023/978-4-297-13482-2\n",
      "https://gihyo.jp/dp/ebook/2023/978-4-297-13486-0\n",
      "https://gihyo.jp/dp/ebook/2023/978-4-297-13504-1\n",
      "https://gihyo.jp/dp/ebook/2023/978-4-297-13462-4\n",
      "https://gihyo.jp/dp/ebook/2023/978-4-297-13442-6\n",
      "https://gihyo.jp/dp/ebook/2023/978-4-297-13490-7\n",
      "https://gihyo.jp/dp/ebook/2023/978-4-297-13241-5\n",
      "https://gihyo.jp/dp/ebook/2023/978-4-297-13496-9\n",
      "https://gihyo.jp/dp/ebook/2023/978-4-297-13510-2\n",
      "https://gihyo.jp/dp/ebook/2023/978-4-297-13508-9\n",
      "https://gihyo.jp/dp/ebook/2023/978-4-297-13408-2\n",
      "https://gihyo.jp/dp/ebook/2023/978-4-297-13436-5\n",
      "https://gihyo.jp/dp/ebook/2023/978-4-297-13438-9\n",
      "https://gihyo.jp/dp/ebook/2023/978-4-297-13478-5\n",
      "https://gihyo.jp/dp/ebook/2023/978-4-297-13432-7\n",
      "https://gihyo.jp/dp/ebook/2023/978-4-297-13434-1\n",
      "https://gihyo.jp/dp/ebook/2023/978-4-297-13471-6\n",
      "https://gihyo.jp/dp/ebook/2023/978-4-297-13414-3\n",
      "https://gihyo.jp/dp/ebook/2023/978-4-297-13410-5\n",
      "https://gihyo.jp/dp/ebook/2023/978-4-297-13446-4\n",
      "https://gihyo.jp/dp/ebook/2023/978-4-297-13469-3\n",
      "https://gihyo.jp/dp/ebook/2023/978-4-297-13387-0\n",
      "https://gihyo.jp/dp/ebook/2023/978-4-297-13353-5\n",
      "https://gihyo.jp/dp/ebook/2023/978-4-297-13514-0\n",
      "https://gihyo.jp/dp/ebook/2023/978-4-297-13480-8\n",
      "https://gihyo.jp/dp/ebook/2023/978-4-297-13404-4\n",
      "https://gihyo.jp/dp/ebook/2023/978-4-297-13450-1\n",
      "https://gihyo.jp/dp/ebook/2023/978-4-297-13357-3\n"
     ]
    }
   ],
   "source": [
    "# 一覧ページからパーマリンク一覧を抜き出す (1)\n",
    "!python python_crawler_1.py"
   ]
  },
  {
   "cell_type": "code",
   "execution_count": 2,
   "metadata": {},
   "outputs": [
    {
     "name": "stdout",
     "output_type": "stream",
     "text": [
      "https://gihyo.jp/dp/ebook/2023/978-4-297-13418-1\n",
      "https://gihyo.jp/dp/ebook/2023/978-4-297-13456-3\n",
      "https://gihyo.jp/dp/ebook/2023/978-4-297-13482-2\n",
      "https://gihyo.jp/dp/ebook/2023/978-4-297-13486-0\n",
      "https://gihyo.jp/dp/ebook/2023/978-4-297-13504-1\n",
      "https://gihyo.jp/dp/ebook/2023/978-4-297-13462-4\n",
      "https://gihyo.jp/dp/ebook/2023/978-4-297-13442-6\n",
      "https://gihyo.jp/dp/ebook/2023/978-4-297-13490-7\n",
      "https://gihyo.jp/dp/ebook/2023/978-4-297-13241-5\n",
      "https://gihyo.jp/dp/ebook/2023/978-4-297-13496-9\n",
      "https://gihyo.jp/dp/ebook/2023/978-4-297-13510-2\n",
      "https://gihyo.jp/dp/ebook/2023/978-4-297-13508-9\n",
      "https://gihyo.jp/dp/ebook/2023/978-4-297-13408-2\n",
      "https://gihyo.jp/dp/ebook/2023/978-4-297-13436-5\n",
      "https://gihyo.jp/dp/ebook/2023/978-4-297-13438-9\n",
      "https://gihyo.jp/dp/ebook/2023/978-4-297-13478-5\n",
      "https://gihyo.jp/dp/ebook/2023/978-4-297-13432-7\n",
      "https://gihyo.jp/dp/ebook/2023/978-4-297-13434-1\n",
      "https://gihyo.jp/dp/ebook/2023/978-4-297-13471-6\n",
      "https://gihyo.jp/dp/ebook/2023/978-4-297-13414-3\n",
      "https://gihyo.jp/dp/ebook/2023/978-4-297-13410-5\n",
      "https://gihyo.jp/dp/ebook/2023/978-4-297-13446-4\n",
      "https://gihyo.jp/dp/ebook/2023/978-4-297-13469-3\n",
      "https://gihyo.jp/dp/ebook/2023/978-4-297-13387-0\n",
      "https://gihyo.jp/dp/ebook/2023/978-4-297-13353-5\n",
      "https://gihyo.jp/dp/ebook/2023/978-4-297-13514-0\n",
      "https://gihyo.jp/dp/ebook/2023/978-4-297-13480-8\n",
      "https://gihyo.jp/dp/ebook/2023/978-4-297-13404-4\n",
      "https://gihyo.jp/dp/ebook/2023/978-4-297-13450-1\n",
      "https://gihyo.jp/dp/ebook/2023/978-4-297-13357-3\n"
     ]
    }
   ],
   "source": [
    "# 一覧ページからパーマリンク一覧を抜き出す (2)\n",
    "!python python_crawler_2.py"
   ]
  },
  {
   "attachments": {},
   "cell_type": "markdown",
   "metadata": {},
   "source": [
    "### 3-5-2. 詳細ページからスクレイピングする\n",
    "\n",
    "|取得したい要素|CSSセレクター|\n",
    "|:-:|:-:|\n",
    "|タイトル|#bookTitle|\n",
    "|価格|.by（直接の子要素である文字列のみ）|\n",
    "|目次（章レベル）|#content > h3|"
   ]
  },
  {
   "cell_type": "code",
   "execution_count": 3,
   "metadata": {},
   "outputs": [
    {
     "name": "stdout",
     "output_type": "stream",
     "text": [
      "{'url': 'https://gihyo.jp/dp/ebook/2023/978-4-297-13418-1', 'title': '因果推論入門〜ミックステープ：基礎から現代的アプローチまで', 'price': '3,800円 ', 'content': ['第1章\\u3000導入', '第2章\\u3000確率と回帰の概要', '第3章\\u3000非巡回的有向グラフ', '第4章\\u3000潜在アウトカム因果モデル', '第5章\\u3000マッチングと層別化', '第6章\\u3000回帰不連続デザイン', '第7章\\u3000操作変数', '第8章\\u3000パネルデータ', '第9章\\u3000差分の差デザイン', '第10章\\u3000合成コントロール法', '第11章\\u3000結論']}\n"
     ]
    }
   ],
   "source": [
    "# 一覧ページからパーマリンク一覧を抜き出す (3)\n",
    "# 最初の1ページのみ\n",
    "!python python_crawler_3.py"
   ]
  },
  {
   "cell_type": "code",
   "execution_count": 4,
   "metadata": {},
   "outputs": [
    {
     "name": "stdout",
     "output_type": "stream",
     "text": [
      "{'url': 'https://gihyo.jp/dp/ebook/2023/978-4-297-13418-1', 'title': '因果推論入門〜ミックステープ：基礎から現代的アプローチまで', 'price': '3,800円', 'content': ['第1章\\u3000導入', '第2章\\u3000確率と回帰の概要', '第3章\\u3000非巡回的有向グラフ', '第4章\\u3000潜在アウトカム因果モデル', '第5章\\u3000マッチングと層別化', '第6章\\u3000回帰不連続デザイン', '第7章\\u3000操作変数', '第8章\\u3000パネルデータ', '第9章\\u3000差分の差デザイン', '第10章\\u3000合成コントロール法', '第11章\\u3000結論']}\n"
     ]
    }
   ],
   "source": [
    "# 一覧ページからパーマリンク一覧を抜き出す (4)\n",
    "# 最初の1ページのみ\n",
    "# 価格の末尾の空白を削除する\n",
    "!python python_crawler_4.py"
   ]
  },
  {
   "attachments": {},
   "cell_type": "markdown",
   "metadata": {},
   "source": [
    "### 3-5-3. 詳細ページのクロールする"
   ]
  },
  {
   "cell_type": "code",
   "execution_count": 5,
   "metadata": {},
   "outputs": [
    {
     "name": "stdout",
     "output_type": "stream",
     "text": [
      "{'url': 'https://gihyo.jp/dp/ebook/2023/978-4-297-13418-1', 'title': '因果推論入門〜ミックステープ：基礎から現代的アプローチまで', 'price': '3,800円', 'content': ['第1章\\u3000導入', '第2章\\u3000確率と回帰の概要', '第3章\\u3000非巡回的有向グラフ', '第4章\\u3000潜在アウトカム因果モデル', '第5章\\u3000マッチングと層別化', '第6章\\u3000回帰不連続デザイン', '第7章\\u3000操作変数', '第8章\\u3000パネルデータ', '第9章\\u3000差分の差デザイン', '第10章\\u3000合成コントロール法', '第11章\\u3000結論']}\n",
      "{'url': 'https://gihyo.jp/dp/ebook/2023/978-4-297-13456-3', 'title': 'らくらく突破第7版 貸金業務取扱主任者 ○×問題＋過去問題集', 'price': '2,300円', 'content': ['第1章\\u3000貸金業法および関係法令', '第2章\\u3000貸付けに関する法令と実務', '第3章\\u3000資金需要者等の保護', '第4章\\u3000財務および会計']}\n",
      "{'url': 'https://gihyo.jp/dp/ebook/2023/978-4-297-13482-2', 'title': 'デザインの学校これからはじめる Illustrator & Photoshopの本［2023年最新版］', 'price': '2,400円', 'content': ['Chapter 0\\u3000IllustratorとPhotoshopの初期設定と基本操作', 'Chapter 1\\u3000基本図形でかんたんな絵を描こう～Illustrator', 'Chapter 2\\u3000下絵をなぞってイラストを描こう～Illustrator', 'Chapter 3\\u3000イラストに色を塗ろう～Illustrator', 'Chapter 4\\u3000ロゴタイプを作ろう～Illustrator', 'Chapter 5\\u3000ロゴタイプに添えるマークを作ろう～Illustrator', 'Chapter 6\\u3000写真を編集しよう～Photoshop', 'Chapter 7\\u3000写真を加工しよう～Photoshop', 'Chapter 8\\u3000写真を切り抜いて合成しよう～Photoshop', 'Chapter 9\\u3000制作したパーツをレイアウトしよう～Illustrator & Photoshop']}\n",
      "{'url': 'https://gihyo.jp/dp/ebook/2023/978-4-297-13486-0', 'title': '今すぐ使えるかんたんぜったいデキます！ パワーポイント超入門［Office 2021／Microsoft 365両対応］', 'price': '1,200円', 'content': ['第１章\\u3000パワーポイントの基本を知ろう', '第２章\\u3000文字を入力しよう', '第３章\\u3000文字を装飾しよう・配置を変更しよう', '第４章\\u3000表を作成しよう', '第５章\\u3000グラフを作成しよう', '第６章\\u3000イラストや写真を利用しよう', '第７章\\u3000図形を作成しよう', '第８章\\u3000SmartArtを作成しよう', '第９章\\u3000アニメーションを利用しよう', '第10章\\u3000プレゼンテーションを実行しよう', '第11章\\u3000パワーポイントを便利に活用しよう']}\n",
      "{'url': 'https://gihyo.jp/dp/ebook/2023/978-4-297-13504-1', 'title': 'ゼロからはじめるドコモ arrows N F-51C スマートガイド', 'price': '1,580円', 'content': ['Chapter 1\\u3000arrows N F-51C のキホン', 'Chapter 2\\u3000電話機能を使う', 'Chapter 3\\u3000インターネットとメールを利用する', 'Chapter 4\\u3000Google のサービスを使いこなす', 'Chapter 5\\u3000ドコモのサービスを使いこなす', 'Chapter 6\\u3000音楽や写真・動画を楽しむ', 'Chapter 7\\u3000F-51Cを使いこなす']}\n",
      "{'url': 'https://gihyo.jp/dp/ebook/2023/978-4-297-13462-4', 'title': 'ゼータへの最初の一歩 ベルヌーイ数～「べき乗和」と素数で割った「余り」の驚くべき関係～', 'price': '1,800円', 'content': ['1章\\u3000魅惑のベルヌーイ数', '2章\\u3000降臨！「ファウルハーバーの公式」', '3章\\u3000ベルヌーイ数を生み出す関数', '4章\\u3000ベルヌーイと無限級数', '5章\\u3000オイラーと「バーゼル問題」', '6章\\u3000複素数から「（続）バーゼル問題」', '7章\\u3000オイラーの「月と太陽」', '8章\\u3000ガウスの時計算で見る「べき乗和」', '9章\\u3000ガウスの時計算で見る「逆数のべき乗和」']}\n",
      "{'url': 'https://gihyo.jp/dp/ebook/2023/978-4-297-13442-6', 'title': '今すぐ使えるかんたんiPad完全ガイドブック 困った解決&便利技［iPadOS 16対応版］', 'price': '2,000円', 'content': ['第1章\\u3000iPadの基本の「こんなときどうする？」', '第2章\\u3000基本操作と設定の「こんなときどうする？」', '第3章\\u3000入力の「こんなときどうする？」', '第4章\\u3000インターネットとSafariの「こんなときどうする？」', '第5章\\u3000メールと連絡先の「こんなときどうする？」', '第6章\\u3000音楽や写真・動画の「こんなときどうする？」', '第7章\\u3000アプリの「こんなときどうする？」', '第8章\\u3000使いこなしの「こんなときどうする？」', '第9章\\u3000iCloudの「こんなときどうする？」']}\n",
      "{'url': 'https://gihyo.jp/dp/ebook/2023/978-4-297-13490-7', 'title': '売れるランディングページ改善の法則', 'price': '2,000円', 'content': ['第1章\\u3000なぜランディングページが重要なのか？', '第2章\\u3000売れるランディングページの３要素', '第3章\\u3000LP改善チャレンジSTEP①実践的リサーチ', '第4章\\u3000LP改善チャレンジSTEP②テコ入れ対象の整理', '第5章\\u3000LP改善チャレンジSTEP③シナリオの再設計', '第6章\\u3000LP改善チャレンジSTEP④ファーストビューエリアの再設計', '第7章\\u3000LP改善チャレンジSTEP⑤オファーエリアの再設計', '第8章\\u3000LP改善チャレンジSTEP⑥コンテンツエリアの再設計', '第9章\\u3000LP改善チャレンジSTEP⑦ランディングページのデザイン', '第10章\\u3000売れるランディングページを完成させるABテスト', '第11章\\u3000ランディングページの成果を最大化する方法']}\n",
      "{'url': 'https://gihyo.jp/dp/ebook/2023/978-4-297-13241-5', 'title': 'ディープラーニングG検定（ジェネラリスト） 法律・倫理テキスト', 'price': '1,800円', 'content': ['第1章\\u3000導入', '第2章\\u3000AIに関する法律と契約', '第3章\\u3000AI倫理とAIガバナンス']}\n",
      "{'url': 'https://gihyo.jp/dp/ebook/2023/978-4-297-13496-9', 'title': '実践 Svelte入門', 'price': '3,400円', 'content': ['【Svelte編】', '【SvelteKit編】']}\n",
      "{'url': 'https://gihyo.jp/dp/ebook/2023/978-4-297-13510-2', 'title': '現場が動きだす大学教育のマネジメントとは―茨城大学「教育の質保証」システム構築の物語', 'price': '2,400円', 'content': ['第1章\\u3000茨城大学「教育の質保証」システム構築の物語', '第2章\\u3000【実践編】内部質保証システムはこうつくる ― 組織的・継続的な教育マネジメントへの提言 ―']}\n",
      "{'url': 'https://gihyo.jp/dp/ebook/2023/978-4-297-13508-9', 'title': 'マインクラフト モブのたくらみ［石の剣のものがたりシリーズ②］', 'price': '1,280円', 'content': []}\n",
      "{'url': 'https://gihyo.jp/dp/ebook/2023/978-4-297-13408-2', 'title': '図解即戦力脱炭素のビジネス戦略と技術がこれ1冊でしっかりわかる教科書', 'price': '1,800円', 'content': ['CHAPTER 1\\u3000脱炭素や再エネに関わる現状', 'CHAPTER 2\\u3000脱炭素市場に向けた各国の動向としくみ', 'CHAPTER 3\\u3000脱炭素化によるビジネスの変革', 'CHAPTER 4\\u3000サプライチェーンとライフサイクルの脱炭素化戦略', 'CHAPTER 5\\u3000エネルギーの脱炭素化に関する技術', 'CHAPTER 6\\u3000エネルギー利用の高効率化を実現する技術', 'CHAPTER 7\\u3000CO2を直接的に削減する技術', 'CHAPTER 8\\u3000環境評価が高い企業のビジネス戦略']}\n",
      "{'url': 'https://gihyo.jp/dp/ebook/2023/978-4-297-13436-5', 'title': 'ノンプログラマーのための Visual Studio Code実践活用ガイド', 'price': '2,600円', 'content': ['Chapter 1\\u3000Visual Studio Codeのキホンの技', 'Chapter 2\\u3000設定とカスタマイズの技', 'Chapter 3\\u3000テキストライティングの技', 'Chapter 4\\u3000Markdownを使った文書作成の技', 'Chapter 5\\u3000HTML／CSS編集の技', 'Chapter 6\\u3000Git／GitHubを使ったバージョン管理の技', 'Appendix']}\n",
      "{'url': 'https://gihyo.jp/dp/ebook/2023/978-4-297-13438-9', 'title': '理解するほどおもしろい！ パソコンのしくみがよくわかる本 改訂3版', 'price': '1,880円', 'content': ['Chapter 1\\u3000パソコンはこんな機械', 'Chapter 2\\u3000パソコンの中はどうなっている？', 'Chapter 3\\u3000パソコンをさらに便利にする周辺機器', 'Chapter 4\\u3000パソコンのOSとアプリケーション', 'Chapter 5\\u3000ファイルがわかるとパソコンがもっとわかる', 'Chapter 6\\u3000いつも使っているインターネットのしくみ', 'Chapter 7\\u3000パソコンを安心して使うために']}\n",
      "{'url': 'https://gihyo.jp/dp/ebook/2023/978-4-297-13478-5', 'title': 'WEB+DB PRESS Vol.134', 'price': '1,628円', 'content': ['特集1\\r\\n\\r\\n仕様ファーストでいこう！\\r\\n\\r\\n実践API設計\\r\\n\\r\\n堅牢で，保守性に優れたWebサービスの実現', '特集2\\r\\n\\r\\nはじめての画像回帰テスト\\r\\n\\r\\nStorybook&Chromaticで品質も生産性も向上！', '特集3\\r\\n\\r\\n画像生成AIのしくみ\\r\\n\\r\\nStable Diffusionの内部を探る', '一般記事', '連載', 'コラム']}\n",
      "{'url': 'https://gihyo.jp/dp/ebook/2023/978-4-297-13432-7', 'title': 'Nikon ニコン NX Studio パーフェクトガイド', 'price': '2,000円', 'content': ['Chapter 1\\u3000NX Studioの基本を知る', 'Chapter 2\\u3000NX Studioで画像を調整する', 'Chapter 3\\u3000実践 画像を調整する', 'Chapter 4\\u3000NX Studioで動画を編集する', 'Chapter 5\\u3000知っておきたい、さらなるテクニック']}\n",
      "{'url': 'https://gihyo.jp/dp/ebook/2023/978-4-297-13434-1', 'title': '今すぐ使えるかんたんOutlook完全ガイドブック 困った解決&便利技［Office 2021/2019/2016/Microsoft 365対応版］', 'price': '1,780円', 'content': ['第1章\\u3000Outlookの基本', '第2章\\u3000メールの受信と閲覧', '第3章\\u3000メールの作成と送信', '第4章\\u3000メールの整理と管理', '第5章\\u3000メールの設定', '第6章\\u3000連絡先', '第7章\\u3000予定表', '第8章\\u3000タスク', '第9章\\u3000印刷', '第10章\\u3000アプリ連携・共同作業', '第11章\\u3000そのほかの便利機能', 'Outlook 2021／Microsoft 365のリボン一覧', 'ショートカットキー一覧', '用語集', '目的別索引', '用語索引']}\n",
      "{'url': 'https://gihyo.jp/dp/ebook/2023/978-4-297-13471-6', 'title': '新居浜高専PICマイコン学習キット Ver.3 完全ガイド', 'price': '2,200円', 'content': ['【A】エレクトロニクスの基礎を学ぼう', '【B】モニタプログラムでプログラミングを学ぼう', '【付録】']}\n",
      "{'url': 'https://gihyo.jp/dp/ebook/2023/978-4-297-13414-3', 'title': '［速習］ベイズの定理——「推論」に効く数学の力', 'price': '2,600円', 'content': ['1章\\u3000ベイズの定理への招待', '2章\\u3000図解でわかるベイズの定理', '3章\\u3000離散パラメーターの推定', '4章\\u3000連続パラメーターの推定', '5章\\u3000正規分布のパラメーター推定', '6章\\u3000ベイズの定理に対する鳥瞰図', '7章\\u3000ベイズ論争', 'ステップアップに向けて\\u3000参考図書の紹介', 'Appendix']}\n",
      "{'url': 'https://gihyo.jp/dp/ebook/2023/978-4-297-13410-5', 'title': '縁の下のUIデザイン──小さな工夫で大きな効果をもたらす実践TIPS＆テクニック', 'price': '2,980円', 'content': ['第1章：色，文字，動きによる見せ方の工夫', '第2章：機能表現の工夫', '第3章：UIコンポーネントの使い方による工夫', '第4章：ユーザーの行動への配慮', '第5章：画面と画面遷移の設計', '第6章：コミュニケーションとツール', '第7章：考察，雑感']}\n",
      "{'url': 'https://gihyo.jp/dp/ebook/2023/978-4-297-13446-4', 'title': '今すぐ使えるかんたんminiExcel関数の基本と便利がこれ1冊でわかる本［Office 2021/Microsoft 365両対応］', 'price': '900円', 'content': ['Chapter 1\\u3000関数の基礎を知ろう', 'Chapter 2\\u3000関数のルールに詳しくなろう', 'Chapter 3\\u3000関数で基本の計算をしよう', 'Chapter 4\\u3000関数で日付と時間を扱おう', 'Chapter 5\\u3000関数で文字列を扱おう', 'Chapter 6\\u3000関数で順位付けしよう', 'Chapter 7\\u3000関数で条件を設定しよう', 'Chapter 8\\u3000VLOOKUP関数を使ってみよう', 'Appendix\\u3000関数をもっと使いこなそう']}\n",
      "{'url': 'https://gihyo.jp/dp/ebook/2023/978-4-297-13469-3', 'title': 'はじめてつくるWebアプリケーション〜Ruby on Railsでプログラミングへの第一歩を踏み出そう', 'price': '2,600円', 'content': ['Chapter 1\\u3000自分のコンピューターに開発環境を作ろう', 'Chapter 2\\u3000プログラミングのはじめの一歩', 'Chapter 3\\u3000Webアプリケーションを作ってみよう', 'Chapter 4\\u3000画面のデザインを変えてみよう', 'Chapter 5\\u3000ログイン・ログアウト機能を追加しよう', 'Chapter 6\\u3000バージョン管理システムを使ってみよう', 'Chapter 7\\u3000Rubyを学ぼう', '付録\\u3000プログラミングを続けよう']}\n",
      "{'url': 'https://gihyo.jp/dp/ebook/2023/978-4-297-13387-0', 'title': 'HTML&CSSポケットリファレンス［改訂3版］', 'price': '1,800円', 'content': ['Chapter 1\\u3000HTMLの基本', 'Chapter 2\\u3000HTMLリファレンス', 'Chapter 3\\u3000スタイルシートの基本', 'Chapter 4\\u3000CSSプロパティリファレンス', 'Appendix']}\n",
      "{'url': 'https://gihyo.jp/dp/ebook/2023/978-4-297-13353-5', 'title': '英語は10000時間でモノになる～ハードワークで挫折しない「日本語断ち」の実践法～', 'price': '1,600円', 'content': ['はじめに\\u300045歳からでも英語ができるようになる', '1章\\u3000頭から，生活から日本語を追い出す', '2章\\u3000大量に読めば話せるようにもなる', '3章\\u3000「語彙のドーピング」が最強の英語ハック', '4章\\u3000「調子が悪い時に理解できるか？」がリスニングの実力', '5章\\u3000書評を書ければ英語が上達する', '6章\\u3000「もごもご話す」でスピーキングがうまくなる', 'おわりに\\u3000薄い紙を1枚ずつ重ねていくように英語漬けを継続していく', '付録']}\n",
      "{'url': 'https://gihyo.jp/dp/ebook/2023/978-4-297-13514-0', 'title': 'まんがですっきりわかる フリーランスのためのインボイスと消費税', 'price': '1,300円', 'content': ['Part1\\u3000いまさらだけど消費税はこんな仕組み', 'Part2\\u3000インボイス制度でこれまでとここが変わる', 'Part3\\u3000免税事業者を継続するかどうかの判断基準', 'Part4\\u3000適格請求書発行事業者になるために必要な手続き', 'Part5\\u3000消費税の計算方法は2種類ある', 'Part6\\u3000インボイス制度で経理実務のここが変わる', 'Part7\\u3000令和5年度税制改正でフリーランスの負担が激減', 'Part8\\u3000はじめての消費税の確定申告', 'Part9\\u30008つの業種でケーススタディ', '索引']}\n",
      "{'url': 'https://gihyo.jp/dp/ebook/2023/978-4-297-13480-8', 'title': 'Vue.jsポケットリファレンス', 'price': '2,880円', 'content': ['第1章\\u3000Vue.jsの基本', '第2章\\u3000Vue.js 3を使ってみよう', '第3章\\u3000環境構築', '第4章\\u3000Vue.jsの基本的な使い方', '第5章\\u3000コンポーネントの基本', '第6章\\u3000リファレンス', '第7章\\u3000Vue.jsの拡張機能を使いたい', '第8章\\u3000Vue\\u3000Routerとは', '第9章\\u3000アプリケーションの状態管理', '第10章\\u3000さまざまなプラグイン']}\n",
      "{'url': 'https://gihyo.jp/dp/ebook/2023/978-4-297-13404-4', 'title': '誰でも簡単！ 世界一の4：6メソッドでハマる 美味しいコーヒー', 'price': '1,600円', 'content': ['prologue\\u3000美味しいコーヒーは誰でも淹れられる！', 'Chapter 1\\u3000世界一の4：6メソッド', 'Chapter 2\\u3000僕が愛用・オススメするコーヒー器具', 'Chapter 3\\u3000好みの豆の見つけ方', 'Chapter 4\\u30004：6メソッドをアレンジして好みの味に近づけよう', 'Chapter 5\\u3000もっとコーヒーを楽しもう']}\n",
      "{'url': 'https://gihyo.jp/dp/ebook/2023/978-4-297-13450-1', 'title': 'Software Design 2023年5月号', 'price': '1,342円', 'content': ['第1特集\\r\\nAI・機械学習の理解が進む\\r\\nPython×数学 ブートキャンプ', '第2特集\\r\\nWebAssemblyの可能性を探る\\r\\n環境に依存しないアプリケーションを作るしくみ', '一般記事', '連載']}\n",
      "{'url': 'https://gihyo.jp/dp/ebook/2023/978-4-297-13357-3', 'title': 'ゼロからよくわかる！ Arduinoで電子工作入門ガイド 改訂2版', 'price': '2,720円', 'content': ['基本編', '実践編']}\n"
     ]
    }
   ],
   "source": [
    "# 詳細ページをクロールする（1）\n",
    "!python python_crawler_5.py"
   ]
  },
  {
   "cell_type": "code",
   "execution_count": 6,
   "metadata": {},
   "outputs": [
    {
     "name": "stdout",
     "output_type": "stream",
     "text": [
      "{'url': 'https://gihyo.jp/dp/ebook/2023/978-4-297-13418-1', 'title': '因果推論入門〜ミックステープ：基礎から現代的アプローチまで', 'price': '3,800円', 'content': ['第1章 導入', '第2章 確率と回帰の概要', '第3章 非巡回的有向グラフ', '第4章 潜在アウトカム因果モデル', '第5章 マッチングと層別化', '第6章 回帰不連続デザイン', '第7章 操作変数', '第8章 パネルデータ', '第9章 差分の差デザイン', '第10章 合成コントロール法', '第11章 結論']}\n",
      "{'url': 'https://gihyo.jp/dp/ebook/2023/978-4-297-13456-3', 'title': 'らくらく突破第7版 貸金業務取扱主任者 ○×問題＋過去問題集', 'price': '2,300円', 'content': ['第1章 貸金業法および関係法令', '第2章 貸付けに関する法令と実務', '第3章 資金需要者等の保護', '第4章 財務および会計']}\n",
      "{'url': 'https://gihyo.jp/dp/ebook/2023/978-4-297-13482-2', 'title': 'デザインの学校これからはじめる Illustrator & Photoshopの本［2023年最新版］', 'price': '2,400円', 'content': ['Chapter 0 IllustratorとPhotoshopの初期設定と基本操作', 'Chapter 1 基本図形でかんたんな絵を描こう～Illustrator', 'Chapter 2 下絵をなぞってイラストを描こう～Illustrator', 'Chapter 3 イラストに色を塗ろう～Illustrator', 'Chapter 4 ロゴタイプを作ろう～Illustrator', 'Chapter 5 ロゴタイプに添えるマークを作ろう～Illustrator', 'Chapter 6 写真を編集しよう～Photoshop', 'Chapter 7 写真を加工しよう～Photoshop', 'Chapter 8 写真を切り抜いて合成しよう～Photoshop', 'Chapter 9 制作したパーツをレイアウトしよう～Illustrator & Photoshop']}\n",
      "{'url': 'https://gihyo.jp/dp/ebook/2023/978-4-297-13486-0', 'title': '今すぐ使えるかんたんぜったいデキます！ パワーポイント超入門［Office 2021／Microsoft 365両対応］', 'price': '1,200円', 'content': ['第１章 パワーポイントの基本を知ろう', '第２章 文字を入力しよう', '第３章 文字を装飾しよう・配置を変更しよう', '第４章 表を作成しよう', '第５章 グラフを作成しよう', '第６章 イラストや写真を利用しよう', '第７章 図形を作成しよう', '第８章 SmartArtを作成しよう', '第９章 アニメーションを利用しよう', '第10章 プレゼンテーションを実行しよう', '第11章 パワーポイントを便利に活用しよう']}\n",
      "{'url': 'https://gihyo.jp/dp/ebook/2023/978-4-297-13504-1', 'title': 'ゼロからはじめるドコモ arrows N F-51C スマートガイド', 'price': '1,580円', 'content': ['Chapter 1 arrows N F-51C のキホン', 'Chapter 2 電話機能を使う', 'Chapter 3 インターネットとメールを利用する', 'Chapter 4 Google のサービスを使いこなす', 'Chapter 5 ドコモのサービスを使いこなす', 'Chapter 6 音楽や写真・動画を楽しむ', 'Chapter 7 F-51Cを使いこなす']}\n",
      "{'url': 'https://gihyo.jp/dp/ebook/2023/978-4-297-13462-4', 'title': 'ゼータへの最初の一歩 ベルヌーイ数～「べき乗和」と素数で割った「余り」の驚くべき関係～', 'price': '1,800円', 'content': ['1章 魅惑のベルヌーイ数', '2章 降臨！「ファウルハーバーの公式」', '3章 ベルヌーイ数を生み出す関数', '4章 ベルヌーイと無限級数', '5章 オイラーと「バーゼル問題」', '6章 複素数から「（続）バーゼル問題」', '7章 オイラーの「月と太陽」', '8章 ガウスの時計算で見る「べき乗和」', '9章 ガウスの時計算で見る「逆数のべき乗和」']}\n",
      "{'url': 'https://gihyo.jp/dp/ebook/2023/978-4-297-13442-6', 'title': '今すぐ使えるかんたんiPad完全ガイドブック 困った解決&便利技［iPadOS 16対応版］', 'price': '2,000円', 'content': ['第1章 iPadの基本の「こんなときどうする？」', '第2章 基本操作と設定の「こんなときどうする？」', '第3章 入力の「こんなときどうする？」', '第4章 インターネットとSafariの「こんなときどうする？」', '第5章 メールと連絡先の「こんなときどうする？」', '第6章 音楽や写真・動画の「こんなときどうする？」', '第7章 アプリの「こんなときどうする？」', '第8章 使いこなしの「こんなときどうする？」', '第9章 iCloudの「こんなときどうする？」']}\n",
      "{'url': 'https://gihyo.jp/dp/ebook/2023/978-4-297-13490-7', 'title': '売れるランディングページ改善の法則', 'price': '2,000円', 'content': ['第1章 なぜランディングページが重要なのか？', '第2章 売れるランディングページの３要素', '第3章 LP改善チャレンジSTEP①実践的リサーチ', '第4章 LP改善チャレンジSTEP②テコ入れ対象の整理', '第5章 LP改善チャレンジSTEP③シナリオの再設計', '第6章 LP改善チャレンジSTEP④ファーストビューエリアの再設計', '第7章 LP改善チャレンジSTEP⑤オファーエリアの再設計', '第8章 LP改善チャレンジSTEP⑥コンテンツエリアの再設計', '第9章 LP改善チャレンジSTEP⑦ランディングページのデザイン', '第10章 売れるランディングページを完成させるABテスト', '第11章 ランディングページの成果を最大化する方法']}\n",
      "{'url': 'https://gihyo.jp/dp/ebook/2023/978-4-297-13241-5', 'title': 'ディープラーニングG検定（ジェネラリスト） 法律・倫理テキスト', 'price': '1,800円', 'content': ['第1章 導入', '第2章 AIに関する法律と契約', '第3章 AI倫理とAIガバナンス']}\n",
      "{'url': 'https://gihyo.jp/dp/ebook/2023/978-4-297-13496-9', 'title': '実践 Svelte入門', 'price': '3,400円', 'content': ['【Svelte編】', '【SvelteKit編】']}\n",
      "{'url': 'https://gihyo.jp/dp/ebook/2023/978-4-297-13510-2', 'title': '現場が動きだす大学教育のマネジメントとは―茨城大学「教育の質保証」システム構築の物語', 'price': '2,400円', 'content': ['第1章 茨城大学「教育の質保証」システム構築の物語', '第2章 【実践編】内部質保証システムはこうつくる ― 組織的・継続的な教育マネジメントへの提言 ―']}\n",
      "{'url': 'https://gihyo.jp/dp/ebook/2023/978-4-297-13508-9', 'title': 'マインクラフト モブのたくらみ［石の剣のものがたりシリーズ②］', 'price': '1,280円', 'content': []}\n",
      "{'url': 'https://gihyo.jp/dp/ebook/2023/978-4-297-13408-2', 'title': '図解即戦力脱炭素のビジネス戦略と技術がこれ1冊でしっかりわかる教科書', 'price': '1,800円', 'content': ['CHAPTER 1 脱炭素や再エネに関わる現状', 'CHAPTER 2 脱炭素市場に向けた各国の動向としくみ', 'CHAPTER 3 脱炭素化によるビジネスの変革', 'CHAPTER 4 サプライチェーンとライフサイクルの脱炭素化戦略', 'CHAPTER 5 エネルギーの脱炭素化に関する技術', 'CHAPTER 6 エネルギー利用の高効率化を実現する技術', 'CHAPTER 7 CO2を直接的に削減する技術', 'CHAPTER 8 環境評価が高い企業のビジネス戦略']}\n",
      "{'url': 'https://gihyo.jp/dp/ebook/2023/978-4-297-13436-5', 'title': 'ノンプログラマーのための Visual Studio Code実践活用ガイド', 'price': '2,600円', 'content': ['Chapter 1 Visual Studio Codeのキホンの技', 'Chapter 2 設定とカスタマイズの技', 'Chapter 3 テキストライティングの技', 'Chapter 4 Markdownを使った文書作成の技', 'Chapter 5 HTML／CSS編集の技', 'Chapter 6 Git／GitHubを使ったバージョン管理の技', 'Appendix']}\n",
      "{'url': 'https://gihyo.jp/dp/ebook/2023/978-4-297-13438-9', 'title': '理解するほどおもしろい！ パソコンのしくみがよくわかる本 改訂3版', 'price': '1,880円', 'content': ['Chapter 1 パソコンはこんな機械', 'Chapter 2 パソコンの中はどうなっている？', 'Chapter 3 パソコンをさらに便利にする周辺機器', 'Chapter 4 パソコンのOSとアプリケーション', 'Chapter 5 ファイルがわかるとパソコンがもっとわかる', 'Chapter 6 いつも使っているインターネットのしくみ', 'Chapter 7 パソコンを安心して使うために']}\n",
      "{'url': 'https://gihyo.jp/dp/ebook/2023/978-4-297-13478-5', 'title': 'WEB+DB PRESS Vol.134', 'price': '1,628円', 'content': ['特集1 仕様ファーストでいこう！ 実践API設計 堅牢で，保守性に優れたWebサービスの実現', '特集2 はじめての画像回帰テスト Storybook&Chromaticで品質も生産性も向上！', '特集3 画像生成AIのしくみ Stable Diffusionの内部を探る', '一般記事', '連載', 'コラム']}\n",
      "{'url': 'https://gihyo.jp/dp/ebook/2023/978-4-297-13432-7', 'title': 'Nikon ニコン NX Studio パーフェクトガイド', 'price': '2,000円', 'content': ['Chapter 1 NX Studioの基本を知る', 'Chapter 2 NX Studioで画像を調整する', 'Chapter 3 実践 画像を調整する', 'Chapter 4 NX Studioで動画を編集する', 'Chapter 5 知っておきたい、さらなるテクニック']}\n",
      "{'url': 'https://gihyo.jp/dp/ebook/2023/978-4-297-13434-1', 'title': '今すぐ使えるかんたんOutlook完全ガイドブック 困った解決&便利技［Office 2021/2019/2016/Microsoft 365対応版］', 'price': '1,780円', 'content': ['第1章 Outlookの基本', '第2章 メールの受信と閲覧', '第3章 メールの作成と送信', '第4章 メールの整理と管理', '第5章 メールの設定', '第6章 連絡先', '第7章 予定表', '第8章 タスク', '第9章 印刷', '第10章 アプリ連携・共同作業', '第11章 そのほかの便利機能', 'Outlook 2021／Microsoft 365のリボン一覧', 'ショートカットキー一覧', '用語集', '目的別索引', '用語索引']}\n",
      "{'url': 'https://gihyo.jp/dp/ebook/2023/978-4-297-13471-6', 'title': '新居浜高専PICマイコン学習キット Ver.3 完全ガイド', 'price': '2,200円', 'content': ['【A】エレクトロニクスの基礎を学ぼう', '【B】モニタプログラムでプログラミングを学ぼう', '【付録】']}\n",
      "{'url': 'https://gihyo.jp/dp/ebook/2023/978-4-297-13414-3', 'title': '［速習］ベイズの定理——「推論」に効く数学の力', 'price': '2,600円', 'content': ['1章 ベイズの定理への招待', '2章 図解でわかるベイズの定理', '3章 離散パラメーターの推定', '4章 連続パラメーターの推定', '5章 正規分布のパラメーター推定', '6章 ベイズの定理に対する鳥瞰図', '7章 ベイズ論争', 'ステップアップに向けて 参考図書の紹介', 'Appendix']}\n",
      "{'url': 'https://gihyo.jp/dp/ebook/2023/978-4-297-13410-5', 'title': '縁の下のUIデザイン──小さな工夫で大きな効果をもたらす実践TIPS＆テクニック', 'price': '2,980円', 'content': ['第1章：色，文字，動きによる見せ方の工夫', '第2章：機能表現の工夫', '第3章：UIコンポーネントの使い方による工夫', '第4章：ユーザーの行動への配慮', '第5章：画面と画面遷移の設計', '第6章：コミュニケーションとツール', '第7章：考察，雑感']}\n",
      "{'url': 'https://gihyo.jp/dp/ebook/2023/978-4-297-13446-4', 'title': '今すぐ使えるかんたんminiExcel関数の基本と便利がこれ1冊でわかる本［Office 2021/Microsoft 365両対応］', 'price': '900円', 'content': ['Chapter 1 関数の基礎を知ろう', 'Chapter 2 関数のルールに詳しくなろう', 'Chapter 3 関数で基本の計算をしよう', 'Chapter 4 関数で日付と時間を扱おう', 'Chapter 5 関数で文字列を扱おう', 'Chapter 6 関数で順位付けしよう', 'Chapter 7 関数で条件を設定しよう', 'Chapter 8 VLOOKUP関数を使ってみよう', 'Appendix 関数をもっと使いこなそう']}\n",
      "{'url': 'https://gihyo.jp/dp/ebook/2023/978-4-297-13469-3', 'title': 'はじめてつくるWebアプリケーション〜Ruby on Railsでプログラミングへの第一歩を踏み出そう', 'price': '2,600円', 'content': ['Chapter 1 自分のコンピューターに開発環境を作ろう', 'Chapter 2 プログラミングのはじめの一歩', 'Chapter 3 Webアプリケーションを作ってみよう', 'Chapter 4 画面のデザインを変えてみよう', 'Chapter 5 ログイン・ログアウト機能を追加しよう', 'Chapter 6 バージョン管理システムを使ってみよう', 'Chapter 7 Rubyを学ぼう', '付録 プログラミングを続けよう']}\n",
      "{'url': 'https://gihyo.jp/dp/ebook/2023/978-4-297-13387-0', 'title': 'HTML&CSSポケットリファレンス［改訂3版］', 'price': '1,800円', 'content': ['Chapter 1 HTMLの基本', 'Chapter 2 HTMLリファレンス', 'Chapter 3 スタイルシートの基本', 'Chapter 4 CSSプロパティリファレンス', 'Appendix']}\n",
      "{'url': 'https://gihyo.jp/dp/ebook/2023/978-4-297-13353-5', 'title': '英語は10000時間でモノになる～ハードワークで挫折しない「日本語断ち」の実践法～', 'price': '1,600円', 'content': ['はじめに 45歳からでも英語ができるようになる', '1章 頭から，生活から日本語を追い出す', '2章 大量に読めば話せるようにもなる', '3章 「語彙のドーピング」が最強の英語ハック', '4章 「調子が悪い時に理解できるか？」がリスニングの実力', '5章 書評を書ければ英語が上達する', '6章 「もごもご話す」でスピーキングがうまくなる', 'おわりに 薄い紙を1枚ずつ重ねていくように英語漬けを継続していく', '付録']}\n",
      "{'url': 'https://gihyo.jp/dp/ebook/2023/978-4-297-13514-0', 'title': 'まんがですっきりわかる フリーランスのためのインボイスと消費税', 'price': '1,300円', 'content': ['Part1 いまさらだけど消費税はこんな仕組み', 'Part2 インボイス制度でこれまでとここが変わる', 'Part3 免税事業者を継続するかどうかの判断基準', 'Part4 適格請求書発行事業者になるために必要な手続き', 'Part5 消費税の計算方法は2種類ある', 'Part6 インボイス制度で経理実務のここが変わる', 'Part7 令和5年度税制改正でフリーランスの負担が激減', 'Part8 はじめての消費税の確定申告', 'Part9 8つの業種でケーススタディ', '索引']}\n",
      "{'url': 'https://gihyo.jp/dp/ebook/2023/978-4-297-13480-8', 'title': 'Vue.jsポケットリファレンス', 'price': '2,880円', 'content': ['第1章 Vue.jsの基本', '第2章 Vue.js 3を使ってみよう', '第3章 環境構築', '第4章 Vue.jsの基本的な使い方', '第5章 コンポーネントの基本', '第6章 リファレンス', '第7章 Vue.jsの拡張機能を使いたい', '第8章 Vue Routerとは', '第9章 アプリケーションの状態管理', '第10章 さまざまなプラグイン']}\n",
      "{'url': 'https://gihyo.jp/dp/ebook/2023/978-4-297-13404-4', 'title': '誰でも簡単！ 世界一の4：6メソッドでハマる 美味しいコーヒー', 'price': '1,600円', 'content': ['prologue 美味しいコーヒーは誰でも淹れられる！', 'Chapter 1 世界一の4：6メソッド', 'Chapter 2 僕が愛用・オススメするコーヒー器具', 'Chapter 3 好みの豆の見つけ方', 'Chapter 4 4：6メソッドをアレンジして好みの味に近づけよう', 'Chapter 5 もっとコーヒーを楽しもう']}\n",
      "{'url': 'https://gihyo.jp/dp/ebook/2023/978-4-297-13450-1', 'title': 'Software Design 2023年5月号', 'price': '1,342円', 'content': ['第1特集 AI・機械学習の理解が進む Python×数学 ブートキャンプ', '第2特集 WebAssemblyの可能性を探る 環境に依存しないアプリケーションを作るしくみ', '一般記事', '連載']}\n",
      "{'url': 'https://gihyo.jp/dp/ebook/2023/978-4-297-13357-3', 'title': 'ゼロからよくわかる！ Arduinoで電子工作入門ガイド 改訂2版', 'price': '2,720円', 'content': ['基本編', '実践編']}\n"
     ]
    }
   ],
   "source": [
    "# 詳細ページをクロールする（2）\n",
    "# 正規表現で連続する空白を1つのスペースに置き換える。\n",
    "!python python_crawler_6.py"
   ]
  },
  {
   "attachments": {},
   "cell_type": "markdown",
   "metadata": {},
   "source": [
    "### 3-5-4. スクレイピングしたデータを保存する"
   ]
  },
  {
   "cell_type": "code",
   "execution_count": 1,
   "metadata": {},
   "outputs": [
    {
     "name": "stdout",
     "output_type": "stream",
     "text": [
      "\u001b[34m==>\u001b[0m \u001b[1mSuccessfully started `mongodb-community` (label: homebrew.mxcl.mongodb-commu\u001b[0m\n"
     ]
    }
   ],
   "source": [
    "# MongoDBをフォアグラウンドで実行する。\n",
    "!brew services start mongodb-community"
   ]
  },
  {
   "cell_type": "code",
   "execution_count": 2,
   "metadata": {},
   "outputs": [
    {
     "name": "stdout",
     "output_type": "stream",
     "text": [
      "\u001b[1mName              Status  User   File\u001b[0m\n",
      "mongodb-community \u001b[32mstarted\u001b[0m takeru ~/Library/LaunchAgents/homebrew.mxcl.mongodb-community.plist\n",
      "mysql             \u001b[39mnone\u001b[0m           \n",
      "unbound           \u001b[39mnone\u001b[0m           \n"
     ]
    }
   ],
   "source": [
    "# MongoDBの実行を確認\n",
    "!brew services list"
   ]
  },
  {
   "cell_type": "code",
   "execution_count": 4,
   "metadata": {},
   "outputs": [
    {
     "name": "stdout",
     "output_type": "stream",
     "text": [
      "Traceback (most recent call last):\n",
      "  File \"/Users/takeru/@LEARNING/Python/python_crawling_and_scraping_gihyo/ch03/python_crawler_final.py\", line 111, in <module>\n",
      "    main()\n",
      "  File \"/Users/takeru/@LEARNING/Python/python_crawling_and_scraping_gihyo/ch03/python_crawler_final.py\", line 47, in main\n",
      "    collection.insert_one(ebook)\n",
      "  File \"/Users/takeru/@LEARNING/Python/python_crawling_and_scraping_gihyo/venv/lib/python3.10/site-packages/pymongo/collection.py\", line 628, in insert_one\n",
      "    self._insert_one(\n",
      "  File \"/Users/takeru/@LEARNING/Python/python_crawling_and_scraping_gihyo/venv/lib/python3.10/site-packages/pymongo/collection.py\", line 569, in _insert_one\n",
      "    self.__database.client._retryable_write(acknowledged, _insert_command, session)\n",
      "  File \"/Users/takeru/@LEARNING/Python/python_crawling_and_scraping_gihyo/venv/lib/python3.10/site-packages/pymongo/mongo_client.py\", line 1476, in _retryable_write\n",
      "    return self._retry_with_session(retryable, func, s, None)\n",
      "  File \"/Users/takeru/@LEARNING/Python/python_crawling_and_scraping_gihyo/venv/lib/python3.10/site-packages/pymongo/mongo_client.py\", line 1349, in _retry_with_session\n",
      "    return self._retry_internal(retryable, func, session, bulk)\n",
      "  File \"/Users/takeru/@LEARNING/Python/python_crawling_and_scraping_gihyo/venv/lib/python3.10/site-packages/pymongo/_csot.py\", line 105, in csot_wrapper\n",
      "    return func(self, *args, **kwargs)\n",
      "  File \"/Users/takeru/@LEARNING/Python/python_crawling_and_scraping_gihyo/venv/lib/python3.10/site-packages/pymongo/mongo_client.py\", line 1390, in _retry_internal\n",
      "    return func(session, sock_info, retryable)\n",
      "  File \"/Users/takeru/@LEARNING/Python/python_crawling_and_scraping_gihyo/venv/lib/python3.10/site-packages/pymongo/collection.py\", line 567, in _insert_command\n",
      "    _check_write_command_response(result)\n",
      "  File \"/Users/takeru/@LEARNING/Python/python_crawling_and_scraping_gihyo/venv/lib/python3.10/site-packages/pymongo/helpers.py\", line 217, in _check_write_command_response\n",
      "    _raise_last_write_error(write_errors)\n",
      "  File \"/Users/takeru/@LEARNING/Python/python_crawling_and_scraping_gihyo/venv/lib/python3.10/site-packages/pymongo/helpers.py\", line 189, in _raise_last_write_error\n",
      "    raise DuplicateKeyError(error.get(\"errmsg\"), 11000, error)\n",
      "pymongo.errors.DuplicateKeyError: E11000 duplicate key error collection: scraping.ebooks index: key_1 dup key: { key: null }, full error: {'index': 0, 'code': 11000, 'errmsg': 'E11000 duplicate key error collection: scraping.ebooks index: key_1 dup key: { key: null }', 'keyPattern': {'key': 1}, 'keyValue': {'key': None}}\n"
     ]
    }
   ],
   "source": [
    "# スクレイピングしたデータを保存する\n",
    "!python python_crawler_final.py"
   ]
  },
  {
   "attachments": {},
   "cell_type": "markdown",
   "metadata": {},
   "source": [
    "chatGPT のアドバイス\n",
    "\n",
    "エラーメッセージは、コレクション \"scraping.ebooks\" に重複したキーエラーがあることを示します。具体的には、\"key \"フィールドに対してユニークインデックスが作成されており、ユニークな値を保持しているはずです。しかし、\"key \"フィールドに重複した値が存在し、それがエラーにつながったようです。これを解決するには、「key」フィールドがユニークな値を保持するようにコードを修正する必要があります。そのための一つの方法として、新しいドキュメントを挿入する前に、同じ「key」値を持つドキュメントがすでにコレクションに存在するかどうかをチェックします。\n",
    "\n",
    "この修正では、新しいドキュメントを挿入する前に、同じ「キー」値を持つドキュメントがコレクションに既に存在するかどうかをチェックします。同じ \"key \"値を持つドキュメントがすでに存在する場合、コードは何もせずにこのケースを処理します。"
   ]
  },
  {
   "cell_type": "code",
   "execution_count": 5,
   "metadata": {},
   "outputs": [
    {
     "name": "stdout",
     "output_type": "stream",
     "text": [
      "{'url': 'https://gihyo.jp/dp/ebook/2023/978-4-297-13418-1', 'title': '因果推論入門〜ミックステープ：基礎から現代的アプローチまで', 'price': '3,800円', 'content': ['第1章 導入', '第2章 確率と回帰の概要', '第3章 非巡回的有向グラフ', '第4章 潜在アウトカム因果モデル', '第5章 マッチングと層別化', '第6章 回帰不連続デザイン', '第7章 操作変数', '第8章 パネルデータ', '第9章 差分の差デザイン', '第10章 合成コントロール法', '第11章 結論'], '_id': ObjectId('645cc9e4f7475cb15c7611a9')}\n",
      "{'url': 'https://gihyo.jp/dp/ebook/2023/978-4-297-13456-3', 'title': 'らくらく突破第7版 貸金業務取扱主任者 ○×問題＋過去問題集', 'price': '2,300円', 'content': ['第1章 貸金業法および関係法令', '第2章 貸付けに関する法令と実務', '第3章 資金需要者等の保護', '第4章 財務および会計'], '_id': ObjectId('645cc9e5f7475cb15c7611aa')}\n",
      "{'url': 'https://gihyo.jp/dp/ebook/2023/978-4-297-13482-2', 'title': 'デザインの学校これからはじめる Illustrator & Photoshopの本［2023年最新版］', 'price': '2,400円', 'content': ['Chapter 0 IllustratorとPhotoshopの初期設定と基本操作', 'Chapter 1 基本図形でかんたんな絵を描こう～Illustrator', 'Chapter 2 下絵をなぞってイラストを描こう～Illustrator', 'Chapter 3 イラストに色を塗ろう～Illustrator', 'Chapter 4 ロゴタイプを作ろう～Illustrator', 'Chapter 5 ロゴタイプに添えるマークを作ろう～Illustrator', 'Chapter 6 写真を編集しよう～Photoshop', 'Chapter 7 写真を加工しよう～Photoshop', 'Chapter 8 写真を切り抜いて合成しよう～Photoshop', 'Chapter 9 制作したパーツをレイアウトしよう～Illustrator & Photoshop'], '_id': ObjectId('645cc9e6f7475cb15c7611ab')}\n",
      "{'url': 'https://gihyo.jp/dp/ebook/2023/978-4-297-13486-0', 'title': '今すぐ使えるかんたんぜったいデキます！ パワーポイント超入門［Office 2021／Microsoft 365両対応］', 'price': '1,200円', 'content': ['第１章 パワーポイントの基本を知ろう', '第２章 文字を入力しよう', '第３章 文字を装飾しよう・配置を変更しよう', '第４章 表を作成しよう', '第５章 グラフを作成しよう', '第６章 イラストや写真を利用しよう', '第７章 図形を作成しよう', '第８章 SmartArtを作成しよう', '第９章 アニメーションを利用しよう', '第10章 プレゼンテーションを実行しよう', '第11章 パワーポイントを便利に活用しよう'], '_id': ObjectId('645cc9e7f7475cb15c7611ac')}\n",
      "{'url': 'https://gihyo.jp/dp/ebook/2023/978-4-297-13504-1', 'title': 'ゼロからはじめるドコモ arrows N F-51C スマートガイド', 'price': '1,580円', 'content': ['Chapter 1 arrows N F-51C のキホン', 'Chapter 2 電話機能を使う', 'Chapter 3 インターネットとメールを利用する', 'Chapter 4 Google のサービスを使いこなす', 'Chapter 5 ドコモのサービスを使いこなす', 'Chapter 6 音楽や写真・動画を楽しむ', 'Chapter 7 F-51Cを使いこなす'], '_id': ObjectId('645cc9e9f7475cb15c7611ad')}\n",
      "{'url': 'https://gihyo.jp/dp/ebook/2023/978-4-297-13462-4', 'title': 'ゼータへの最初の一歩 ベルヌーイ数～「べき乗和」と素数で割った「余り」の驚くべき関係～', 'price': '1,800円', 'content': ['1章 魅惑のベルヌーイ数', '2章 降臨！「ファウルハーバーの公式」', '3章 ベルヌーイ数を生み出す関数', '4章 ベルヌーイと無限級数', '5章 オイラーと「バーゼル問題」', '6章 複素数から「（続）バーゼル問題」', '7章 オイラーの「月と太陽」', '8章 ガウスの時計算で見る「べき乗和」', '9章 ガウスの時計算で見る「逆数のべき乗和」'], '_id': ObjectId('645cc9eaf7475cb15c7611ae')}\n",
      "{'url': 'https://gihyo.jp/dp/ebook/2023/978-4-297-13442-6', 'title': '今すぐ使えるかんたんiPad完全ガイドブック 困った解決&便利技［iPadOS 16対応版］', 'price': '2,000円', 'content': ['第1章 iPadの基本の「こんなときどうする？」', '第2章 基本操作と設定の「こんなときどうする？」', '第3章 入力の「こんなときどうする？」', '第4章 インターネットとSafariの「こんなときどうする？」', '第5章 メールと連絡先の「こんなときどうする？」', '第6章 音楽や写真・動画の「こんなときどうする？」', '第7章 アプリの「こんなときどうする？」', '第8章 使いこなしの「こんなときどうする？」', '第9章 iCloudの「こんなときどうする？」'], '_id': ObjectId('645cc9ebf7475cb15c7611af')}\n",
      "{'url': 'https://gihyo.jp/dp/ebook/2023/978-4-297-13490-7', 'title': '売れるランディングページ改善の法則', 'price': '2,000円', 'content': ['第1章 なぜランディングページが重要なのか？', '第2章 売れるランディングページの３要素', '第3章 LP改善チャレンジSTEP①実践的リサーチ', '第4章 LP改善チャレンジSTEP②テコ入れ対象の整理', '第5章 LP改善チャレンジSTEP③シナリオの再設計', '第6章 LP改善チャレンジSTEP④ファーストビューエリアの再設計', '第7章 LP改善チャレンジSTEP⑤オファーエリアの再設計', '第8章 LP改善チャレンジSTEP⑥コンテンツエリアの再設計', '第9章 LP改善チャレンジSTEP⑦ランディングページのデザイン', '第10章 売れるランディングページを完成させるABテスト', '第11章 ランディングページの成果を最大化する方法'], '_id': ObjectId('645cc9ecf7475cb15c7611b0')}\n",
      "{'url': 'https://gihyo.jp/dp/ebook/2023/978-4-297-13241-5', 'title': 'ディープラーニングG検定（ジェネラリスト） 法律・倫理テキスト', 'price': '1,800円', 'content': ['第1章 導入', '第2章 AIに関する法律と契約', '第3章 AI倫理とAIガバナンス'], '_id': ObjectId('645cc9edf7475cb15c7611b1')}\n",
      "{'url': 'https://gihyo.jp/dp/ebook/2023/978-4-297-13496-9', 'title': '実践 Svelte入門', 'price': '3,400円', 'content': ['【Svelte編】', '【SvelteKit編】'], '_id': ObjectId('645cc9eef7475cb15c7611b2')}\n",
      "{'url': 'https://gihyo.jp/dp/ebook/2023/978-4-297-13510-2', 'title': '現場が動きだす大学教育のマネジメントとは―茨城大学「教育の質保証」システム構築の物語', 'price': '2,400円', 'content': ['第1章 茨城大学「教育の質保証」システム構築の物語', '第2章 【実践編】内部質保証システムはこうつくる ― 組織的・継続的な教育マネジメントへの提言 ―'], '_id': ObjectId('645cc9eff7475cb15c7611b3')}\n",
      "{'url': 'https://gihyo.jp/dp/ebook/2023/978-4-297-13508-9', 'title': 'マインクラフト モブのたくらみ［石の剣のものがたりシリーズ②］', 'price': '1,280円', 'content': [], '_id': ObjectId('645cc9f0f7475cb15c7611b4')}\n",
      "{'url': 'https://gihyo.jp/dp/ebook/2023/978-4-297-13408-2', 'title': '図解即戦力脱炭素のビジネス戦略と技術がこれ1冊でしっかりわかる教科書', 'price': '1,800円', 'content': ['CHAPTER 1 脱炭素や再エネに関わる現状', 'CHAPTER 2 脱炭素市場に向けた各国の動向としくみ', 'CHAPTER 3 脱炭素化によるビジネスの変革', 'CHAPTER 4 サプライチェーンとライフサイクルの脱炭素化戦略', 'CHAPTER 5 エネルギーの脱炭素化に関する技術', 'CHAPTER 6 エネルギー利用の高効率化を実現する技術', 'CHAPTER 7 CO2を直接的に削減する技術', 'CHAPTER 8 環境評価が高い企業のビジネス戦略'], '_id': ObjectId('645cc9f1f7475cb15c7611b5')}\n",
      "{'url': 'https://gihyo.jp/dp/ebook/2023/978-4-297-13436-5', 'title': 'ノンプログラマーのための Visual Studio Code実践活用ガイド', 'price': '2,600円', 'content': ['Chapter 1 Visual Studio Codeのキホンの技', 'Chapter 2 設定とカスタマイズの技', 'Chapter 3 テキストライティングの技', 'Chapter 4 Markdownを使った文書作成の技', 'Chapter 5 HTML／CSS編集の技', 'Chapter 6 Git／GitHubを使ったバージョン管理の技', 'Appendix'], '_id': ObjectId('645cc9f2f7475cb15c7611b6')}\n",
      "{'url': 'https://gihyo.jp/dp/ebook/2023/978-4-297-13438-9', 'title': '理解するほどおもしろい！ パソコンのしくみがよくわかる本 改訂3版', 'price': '1,880円', 'content': ['Chapter 1 パソコンはこんな機械', 'Chapter 2 パソコンの中はどうなっている？', 'Chapter 3 パソコンをさらに便利にする周辺機器', 'Chapter 4 パソコンのOSとアプリケーション', 'Chapter 5 ファイルがわかるとパソコンがもっとわかる', 'Chapter 6 いつも使っているインターネットのしくみ', 'Chapter 7 パソコンを安心して使うために'], '_id': ObjectId('645cc9f3f7475cb15c7611b7')}\n",
      "{'url': 'https://gihyo.jp/dp/ebook/2023/978-4-297-13478-5', 'title': 'WEB+DB PRESS Vol.134', 'price': '1,628円', 'content': ['特集1 仕様ファーストでいこう！ 実践API設計 堅牢で，保守性に優れたWebサービスの実現', '特集2 はじめての画像回帰テスト Storybook&Chromaticで品質も生産性も向上！', '特集3 画像生成AIのしくみ Stable Diffusionの内部を探る', '一般記事', '連載', 'コラム'], '_id': ObjectId('645cc9f5f7475cb15c7611b8')}\n",
      "{'url': 'https://gihyo.jp/dp/ebook/2023/978-4-297-13432-7', 'title': 'Nikon ニコン NX Studio パーフェクトガイド', 'price': '2,000円', 'content': ['Chapter 1 NX Studioの基本を知る', 'Chapter 2 NX Studioで画像を調整する', 'Chapter 3 実践 画像を調整する', 'Chapter 4 NX Studioで動画を編集する', 'Chapter 5 知っておきたい、さらなるテクニック'], '_id': ObjectId('645cc9f6f7475cb15c7611b9')}\n",
      "{'url': 'https://gihyo.jp/dp/ebook/2023/978-4-297-13434-1', 'title': '今すぐ使えるかんたんOutlook完全ガイドブック 困った解決&便利技［Office 2021/2019/2016/Microsoft 365対応版］', 'price': '1,780円', 'content': ['第1章 Outlookの基本', '第2章 メールの受信と閲覧', '第3章 メールの作成と送信', '第4章 メールの整理と管理', '第5章 メールの設定', '第6章 連絡先', '第7章 予定表', '第8章 タスク', '第9章 印刷', '第10章 アプリ連携・共同作業', '第11章 そのほかの便利機能', 'Outlook 2021／Microsoft 365のリボン一覧', 'ショートカットキー一覧', '用語集', '目的別索引', '用語索引'], '_id': ObjectId('645cc9f7f7475cb15c7611ba')}\n",
      "{'url': 'https://gihyo.jp/dp/ebook/2023/978-4-297-13471-6', 'title': '新居浜高専PICマイコン学習キット Ver.3 完全ガイド', 'price': '2,200円', 'content': ['【A】エレクトロニクスの基礎を学ぼう', '【B】モニタプログラムでプログラミングを学ぼう', '【付録】'], '_id': ObjectId('645cc9f8f7475cb15c7611bb')}\n",
      "{'url': 'https://gihyo.jp/dp/ebook/2023/978-4-297-13414-3', 'title': '［速習］ベイズの定理——「推論」に効く数学の力', 'price': '2,600円', 'content': ['1章 ベイズの定理への招待', '2章 図解でわかるベイズの定理', '3章 離散パラメーターの推定', '4章 連続パラメーターの推定', '5章 正規分布のパラメーター推定', '6章 ベイズの定理に対する鳥瞰図', '7章 ベイズ論争', 'ステップアップに向けて 参考図書の紹介', 'Appendix'], '_id': ObjectId('645cc9f9f7475cb15c7611bc')}\n",
      "{'url': 'https://gihyo.jp/dp/ebook/2023/978-4-297-13410-5', 'title': '縁の下のUIデザイン──小さな工夫で大きな効果をもたらす実践TIPS＆テクニック', 'price': '2,980円', 'content': ['第1章：色，文字，動きによる見せ方の工夫', '第2章：機能表現の工夫', '第3章：UIコンポーネントの使い方による工夫', '第4章：ユーザーの行動への配慮', '第5章：画面と画面遷移の設計', '第6章：コミュニケーションとツール', '第7章：考察，雑感'], '_id': ObjectId('645cc9faf7475cb15c7611bd')}\n",
      "{'url': 'https://gihyo.jp/dp/ebook/2023/978-4-297-13446-4', 'title': '今すぐ使えるかんたんminiExcel関数の基本と便利がこれ1冊でわかる本［Office 2021/Microsoft 365両対応］', 'price': '900円', 'content': ['Chapter 1 関数の基礎を知ろう', 'Chapter 2 関数のルールに詳しくなろう', 'Chapter 3 関数で基本の計算をしよう', 'Chapter 4 関数で日付と時間を扱おう', 'Chapter 5 関数で文字列を扱おう', 'Chapter 6 関数で順位付けしよう', 'Chapter 7 関数で条件を設定しよう', 'Chapter 8 VLOOKUP関数を使ってみよう', 'Appendix 関数をもっと使いこなそう'], '_id': ObjectId('645cc9fbf7475cb15c7611be')}\n",
      "{'url': 'https://gihyo.jp/dp/ebook/2023/978-4-297-13469-3', 'title': 'はじめてつくるWebアプリケーション〜Ruby on Railsでプログラミングへの第一歩を踏み出そう', 'price': '2,600円', 'content': ['Chapter 1 自分のコンピューターに開発環境を作ろう', 'Chapter 2 プログラミングのはじめの一歩', 'Chapter 3 Webアプリケーションを作ってみよう', 'Chapter 4 画面のデザインを変えてみよう', 'Chapter 5 ログイン・ログアウト機能を追加しよう', 'Chapter 6 バージョン管理システムを使ってみよう', 'Chapter 7 Rubyを学ぼう', '付録 プログラミングを続けよう'], '_id': ObjectId('645cc9fcf7475cb15c7611bf')}\n",
      "{'url': 'https://gihyo.jp/dp/ebook/2023/978-4-297-13387-0', 'title': 'HTML&CSSポケットリファレンス［改訂3版］', 'price': '1,800円', 'content': ['Chapter 1 HTMLの基本', 'Chapter 2 HTMLリファレンス', 'Chapter 3 スタイルシートの基本', 'Chapter 4 CSSプロパティリファレンス', 'Appendix'], '_id': ObjectId('645cc9fef7475cb15c7611c0')}\n",
      "{'url': 'https://gihyo.jp/dp/ebook/2023/978-4-297-13353-5', 'title': '英語は10000時間でモノになる～ハードワークで挫折しない「日本語断ち」の実践法～', 'price': '1,600円', 'content': ['はじめに 45歳からでも英語ができるようになる', '1章 頭から，生活から日本語を追い出す', '2章 大量に読めば話せるようにもなる', '3章 「語彙のドーピング」が最強の英語ハック', '4章 「調子が悪い時に理解できるか？」がリスニングの実力', '5章 書評を書ければ英語が上達する', '6章 「もごもご話す」でスピーキングがうまくなる', 'おわりに 薄い紙を1枚ずつ重ねていくように英語漬けを継続していく', '付録'], '_id': ObjectId('645cc9fff7475cb15c7611c1')}\n",
      "{'url': 'https://gihyo.jp/dp/ebook/2023/978-4-297-13514-0', 'title': 'まんがですっきりわかる フリーランスのためのインボイスと消費税', 'price': '1,300円', 'content': ['Part1 いまさらだけど消費税はこんな仕組み', 'Part2 インボイス制度でこれまでとここが変わる', 'Part3 免税事業者を継続するかどうかの判断基準', 'Part4 適格請求書発行事業者になるために必要な手続き', 'Part5 消費税の計算方法は2種類ある', 'Part6 インボイス制度で経理実務のここが変わる', 'Part7 令和5年度税制改正でフリーランスの負担が激減', 'Part8 はじめての消費税の確定申告', 'Part9 8つの業種でケーススタディ', '索引'], '_id': ObjectId('645cca00f7475cb15c7611c2')}\n",
      "{'url': 'https://gihyo.jp/dp/ebook/2023/978-4-297-13480-8', 'title': 'Vue.jsポケットリファレンス', 'price': '2,880円', 'content': ['第1章 Vue.jsの基本', '第2章 Vue.js 3を使ってみよう', '第3章 環境構築', '第4章 Vue.jsの基本的な使い方', '第5章 コンポーネントの基本', '第6章 リファレンス', '第7章 Vue.jsの拡張機能を使いたい', '第8章 Vue Routerとは', '第9章 アプリケーションの状態管理', '第10章 さまざまなプラグイン'], '_id': ObjectId('645cca01f7475cb15c7611c3')}\n",
      "{'url': 'https://gihyo.jp/dp/ebook/2023/978-4-297-13404-4', 'title': '誰でも簡単！ 世界一の4：6メソッドでハマる 美味しいコーヒー', 'price': '1,600円', 'content': ['prologue 美味しいコーヒーは誰でも淹れられる！', 'Chapter 1 世界一の4：6メソッド', 'Chapter 2 僕が愛用・オススメするコーヒー器具', 'Chapter 3 好みの豆の見つけ方', 'Chapter 4 4：6メソッドをアレンジして好みの味に近づけよう', 'Chapter 5 もっとコーヒーを楽しもう'], '_id': ObjectId('645cca02f7475cb15c7611c4')}\n",
      "{'url': 'https://gihyo.jp/dp/ebook/2023/978-4-297-13450-1', 'title': 'Software Design 2023年5月号', 'price': '1,342円', 'content': ['第1特集 AI・機械学習の理解が進む Python×数学 ブートキャンプ', '第2特集 WebAssemblyの可能性を探る 環境に依存しないアプリケーションを作るしくみ', '一般記事', '連載'], '_id': ObjectId('645cca03f7475cb15c7611c5')}\n",
      "{'url': 'https://gihyo.jp/dp/ebook/2023/978-4-297-13357-3', 'title': 'ゼロからよくわかる！ Arduinoで電子工作入門ガイド 改訂2版', 'price': '2,720円', 'content': ['基本編', '実践編'], '_id': ObjectId('645cca04f7475cb15c7611c6')}\n"
     ]
    }
   ],
   "source": [
    "# スクレイピングしたデータを保存する\n",
    "!python python_crawler_final_2.py"
   ]
  },
  {
   "attachments": {},
   "cell_type": "markdown",
   "metadata": {},
   "source": [
    "```bash\n",
    "mongosh\n",
    "\n",
    "Current Mongosh Log ID: 645ccb2ebcd249bc30211e6a\n",
    "Connecting to:          mongodb://127.0.0.1:27017/?directConnection=true&serverSelectionTimeoutMS=2000&appName=mongosh+1.8.2\n",
    "Using MongoDB:          6.0.5\n",
    "Using Mongosh:          1.8.2\n",
    "\n",
    "For mongosh info see: https://docs.mongodb.com/mongodb-shell/\n",
    "\n",
    "------\n",
    "   The server generated these startup warnings when booting\n",
    "   2023-05-11T19:51:10.430+09:00: Access control is not enabled for the database. Read and write access to data and configuration is unrestricted\n",
    "   2023-05-11T19:51:10.430+09:00: Soft rlimits for open file descriptors too low\n",
    "------\n",
    "\n",
    "------\n",
    "   Enable MongoDB's free cloud-based monitoring service, which will then receive and display\n",
    "   metrics about your deployment (disk utilization, CPU, operation statistics, etc).\n",
    "   \n",
    "   The monitoring data will be available on a MongoDB website with a unique URL accessible to you\n",
    "   and anyone you share the URL with. MongoDB may use this information to make product\n",
    "   improvements and to suggest MongoDB products and deployment options to you.\n",
    "   \n",
    "   To enable free monitoring, run the following command: db.enableFreeMonitoring()\n",
    "   To permanently disable this reminder, run the following command: db.disableFreeMonitoring()\n",
    "------\n",
    "```\n",
    "\n",
    "```bash\n",
    "show dbs\n",
    "\n",
    "admin      40.00 KiB\n",
    "config     72.00 KiB\n",
    "local      72.00 KiB\n",
    "scraping  148.00 KiB\n",
    "test       40.00 KiB\n",
    "```\n",
    "\n",
    "```bash\n",
    "use scraping\n",
    "switched to db scraping\n",
    "```\n",
    "\n",
    "```bash\n",
    "scraping> show collections\n",
    "\n",
    "books\n",
    "ebooks\n",
    "```\n",
    "\n",
    "```bash\n",
    "scraping> db.ebooks.find({})\n",
    "\n",
    "[\n",
    "  {\n",
    "    _id: ObjectId(\"645b8c54350e0f08f89a59d8\"),\n",
    "    url: 'https://gihyo.jp/dp/ebook/2023/978-4-297-13418-1',\n",
    "    title: '因果推論入門〜ミックステープ：基礎から現代的アプローチまで',\n",
    "    price: '3,800円',\n",
    "    content: [\n",
    "      '第1章 導入',\n",
    "      '第2章 確率と回帰の概要',\n",
    "      '第3章 非巡回的有向グラフ',\n",
    "      '第4章 潜在アウトカム因果モデル',\n",
    "      '第5章 マッチングと層別化',\n",
    "      '第6章 回帰不連続デザイン',\n",
    "      '第7章 操作変数',\n",
    "      '第8章 パネルデータ',\n",
    "      '第9章 差分の差デザイン',\n",
    "      '第10章 合成コントロール法',\n",
    "      '第11章 結論'\n",
    "    ]\n",
    "  }\n",
    "]\n",
    "```\n",
    "\n",
    "[mongodbでコレクションごとのレコード数を表示](https://qiita.com/bitarx/items/979298eaca2154189577)\n",
    "\n",
    "```bash\n",
    "scraping> db.getCollectionNames().forEach(function(n){print(n + ':' + db[n].find().count())})\n",
    "\n",
    "(node:4623) [MONGODB DRIVER] Warning: cursor.count is deprecated and will be removed in the next major version, please use `collection.estimatedDocumentCount` or `collection.countDocuments` instead\n",
    "(Use `node --trace-warnings ...` to show where the warning was created)\n",
    "books:30\n",
    "ebooks:1\n",
    "```\n",
    "\n",
    "```bash\n",
    "scraping> db.books.find({})\n",
    "\n",
    "[\n",
    "  {\n",
    "    _id: ObjectId(\"6458d92bb5bb3a8fb9dafc64\"),\n",
    "    url: 'https://gihyo.jp/dp/ebook/2023/978-4-297-13486-0',\n",
    "    title: '今すぐ使えるかんたん 今すぐ使えるかんたんぜったいデキます！ パワーポイント超入門［Office 2021／Microsoft 365両対応］'\n",
    "  },\n",
    "  {\n",
    "    _id: ObjectId(\"6458d92bb5bb3a8fb9dafc65\"),\n",
    "    url: 'https://gihyo.jp/dp/ebook/2023/978-4-297-13504-1',\n",
    "    title: 'ゼロからはじめる ゼロからはじめるドコモ arrows N F-51C スマートガイド'\n",
    "  },\n",
    "  {\n",
    "    _id: ObjectId(\"6458d92bb5bb3a8fb9dafc66\"),\n",
    "    url: 'https://gihyo.jp/dp/ebook/2023/978-4-297-13462-4',\n",
    "    title: '知りたい！サイエンス ゼータへの最初の一歩 ベルヌーイ数～「べき乗和」と素数で割った「余り」の驚くべき関係～'\n",
    "  },\n",
    "  {\n",
    "    _id: ObjectId(\"6458d92bb5bb3a8fb9dafc67\"),\n",
    "    url: 'https://gihyo.jp/dp/ebook/2023/978-4-297-13442-6',\n",
    "    title: '今すぐ使えるかんたん 今すぐ使えるかんたんiPad完全ガイドブック 困った解決&便利技［iPadOS 16対応版］'\n",
    "  },\n",
    "  {\n",
    "    _id: ObjectId(\"6458d92bb5bb3a8fb9dafc68\"),\n",
    "    url: 'https://gihyo.jp/dp/ebook/2023/978-4-297-13490-7',\n",
    "    title: '売れるランディングページ改善の法則'\n",
    "  },\n",
    "  {\n",
    "    _id: ObjectId(\"6458d92bb5bb3a8fb9dafc69\"),\n",
    "    url: 'https://gihyo.jp/dp/ebook/2023/978-4-297-13241-5',\n",
    "    title: 'ディープラーニングG検定（ジェネラリスト） 法律・倫理テキスト'\n",
    "  },\n",
    "  {\n",
    "    _id: ObjectId(\"6458d92bb5bb3a8fb9dafc6a\"),\n",
    "    url: 'https://gihyo.jp/dp/ebook/2023/978-4-297-13496-9',\n",
    "    title: 'エンジニア選書 実践 Svelte入門'\n",
    "  },\n",
    "  {\n",
    "    _id: ObjectId(\"6458d92bb5bb3a8fb9dafc6b\"),\n",
    "    url: 'https://gihyo.jp/dp/ebook/2023/978-4-297-13510-2',\n",
    "    title: '現場が動きだす大学教育のマネジメントとは―茨城大学「教育の質保証」システム構築の物語'\n",
    "  },\n",
    "  {\n",
    "    _id: ObjectId(\"6458d92bb5bb3a8fb9dafc6c\"),\n",
    "    url: 'https://gihyo.jp/dp/ebook/2023/978-4-297-13508-9',\n",
    "    title: 'Minecraftオフィシャルブック マインクラフト モブのたくらみ［石の剣のものがたりシリーズ②］'\n",
    "  },\n",
    "  {\n",
    "    _id: ObjectId(\"6458d92bb5bb3a8fb9dafc6d\"),\n",
    "    url: 'https://gihyo.jp/dp/ebook/2023/978-4-297-13408-2',\n",
    "    title: '図解即戦力 図解即戦力脱炭素のビジネス戦略と技術がこれ1冊でしっかりわかる教科書'\n",
    "  },\n",
    "  {\n",
    "    _id: ObjectId(\"6458d92bb5bb3a8fb9dafc6e\"),\n",
    "    url: 'https://gihyo.jp/dp/ebook/2023/978-4-297-13436-5',\n",
    "    title: 'ノンプログラマーのための Visual Studio Code実践活用ガイド'\n",
    "  },\n",
    "  {\n",
    "    _id: ObjectId(\"6458d92bb5bb3a8fb9dafc6f\"),\n",
    "    url: 'https://gihyo.jp/dp/ebook/2023/978-4-297-13438-9',\n",
    "    title: '理解するほどおもしろい！ パソコンのしくみがよくわかる本 改訂3版'\n",
    "  },\n",
    "  {\n",
    "    _id: ObjectId(\"6458d92bb5bb3a8fb9dafc70\"),\n",
    "    url: 'https://gihyo.jp/dp/ebook/2023/978-4-297-13478-5',\n",
    "    title: 'WEB+DB PRESS Vol.134'\n",
    "  },\n",
    "  {\n",
    "    _id: ObjectId(\"6458d92bb5bb3a8fb9dafc71\"),\n",
    "    url: 'https://gihyo.jp/dp/ebook/2023/978-4-297-13432-7',\n",
    "    title: 'Nikon ニコン NX Studio パーフェクトガイド'\n",
    "  },\n",
    "  {\n",
    "    _id: ObjectId(\"6458d92bb5bb3a8fb9dafc72\"),\n",
    "    url: 'https://gihyo.jp/dp/ebook/2023/978-4-297-13434-1',\n",
    "    title: '今すぐ使えるかんたん 今すぐ使えるかんたんOutlook完全ガイドブック 困った解決&便利技［Office 2021/2019/2016/Microsoft 365対応版］'\n",
    "  },\n",
    "  {\n",
    "    _id: ObjectId(\"6458d92bb5bb3a8fb9dafc73\"),\n",
    "    url: 'https://gihyo.jp/dp/ebook/2023/978-4-297-13471-6',\n",
    "    title: '新居浜高専PICマイコン学習キット Ver.3 完全ガイド'\n",
    "  },\n",
    "  {\n",
    "    _id: ObjectId(\"6458d92bb5bb3a8fb9dafc74\"),\n",
    "    url: 'https://gihyo.jp/dp/ebook/2023/978-4-297-13414-3',\n",
    "    title: '［速習］ベイズの定理——「推論」に効く数学の力'\n",
    "  },\n",
    "  {\n",
    "    _id: ObjectId(\"6458d92bb5bb3a8fb9dafc75\"),\n",
    "    url: 'https://gihyo.jp/dp/ebook/2023/978-4-297-13410-5',\n",
    "    title: 'WEB+DB PRESS plus 縁の下のUIデザイン──小さな工夫で大きな効果をもたらす実践TIPS＆テクニック'\n",
    "  },\n",
    "  {\n",
    "    _id: ObjectId(\"6458d92bb5bb3a8fb9dafc76\"),\n",
    "    url: 'https://gihyo.jp/dp/ebook/2023/978-4-297-13446-4',\n",
    "    title: '今すぐ使えるかんたんmini 今すぐ使えるかんたんminiExcel関数の基本と便利がこれ1冊でわかる本［Office 2021/Microsoft 365両対応］'\n",
    "  },\n",
    "  {\n",
    "    _id: ObjectId(\"6458d92bb5bb3a8fb9dafc77\"),\n",
    "    url: 'https://gihyo.jp/dp/ebook/2023/978-4-297-13469-3',\n",
    "    title: 'はじめてつくるWebアプリケーション〜Ruby on Railsでプログラミングへの第一歩を踏み出そう'\n",
    "  }\n",
    "]\n",
    "Type \"it\" for more\n",
    "scraping> it\n",
    "[\n",
    "  {\n",
    "    _id: ObjectId(\"6458d92bb5bb3a8fb9dafc78\"),\n",
    "    url: 'https://gihyo.jp/dp/ebook/2023/978-4-297-13387-0',\n",
    "    title: 'ポケットリファレンス HTML&CSSポケットリファレンス［改訂3版］'\n",
    "  },\n",
    "  {\n",
    "    _id: ObjectId(\"6458d92bb5bb3a8fb9dafc79\"),\n",
    "    url: 'https://gihyo.jp/dp/ebook/2023/978-4-297-13353-5',\n",
    "    title: '英語は10000時間でモノになる～ハードワークで挫折しない「日本語断ち」の実践法～'\n",
    "  },\n",
    "  {\n",
    "    _id: ObjectId(\"6458d92bb5bb3a8fb9dafc7a\"),\n",
    "    url: 'https://gihyo.jp/dp/ebook/2023/978-4-297-13514-0',\n",
    "    title: 'まんがですっきりわかる フリーランスのためのインボイスと消費税'\n",
    "  },\n",
    "  {\n",
    "    _id: ObjectId(\"6458d92bb5bb3a8fb9dafc7b\"),\n",
    "    url: 'https://gihyo.jp/dp/ebook/2023/978-4-297-13480-8',\n",
    "    title: 'ポケットリファレンス Vue.jsポケットリファレンス'\n",
    "  },\n",
    "  {\n",
    "    _id: ObjectId(\"6458d92bb5bb3a8fb9dafc7c\"),\n",
    "    url: 'https://gihyo.jp/dp/ebook/2023/978-4-297-13404-4',\n",
    "    title: '自由時間サプリ 誰でも簡単！ 世界一の4：6メソッドでハマる 美味しいコーヒー'\n",
    "  },\n",
    "  {\n",
    "    _id: ObjectId(\"6458d92bb5bb3a8fb9dafc7d\"),\n",
    "    url: 'https://gihyo.jp/dp/ebook/2023/978-4-297-13450-1',\n",
    "    title: 'Software Design 2023年5月号'\n",
    "  },\n",
    "  {\n",
    "    _id: ObjectId(\"6458d92bb5bb3a8fb9dafc7e\"),\n",
    "    url: 'https://gihyo.jp/dp/ebook/2023/978-4-297-13357-3',\n",
    "    title: 'ゼロからよくわかる！ Arduinoで電子工作入門ガイド 改訂2版'\n",
    "  },\n",
    "  {\n",
    "    _id: ObjectId(\"6458d92bb5bb3a8fb9dafc7f\"),\n",
    "    url: 'https://gihyo.jp/dp/ebook/2023/978-4-297-13458-7',\n",
    "    title: 'COMODO（COMODO ライフブック） おとなの浴衣、はじめます'\n",
    "  },\n",
    "  {\n",
    "    _id: ObjectId(\"6458d92bb5bb3a8fb9dafc80\"),\n",
    "    url: 'https://gihyo.jp/dp/ebook/2023/978-4-297-13424-2',\n",
    "    title: 'ポケット介護 【ポケット介護】改訂新版 見てわかるリハビリ～活動と参加で「自立支援」につなげるコツ'\n",
    "  },\n",
    "  {\n",
    "    _id: ObjectId(\"6458d92bb5bb3a8fb9dafc81\"),\n",
    "    url: 'https://gihyo.jp/dp/ebook/2023/978-4-297-13393-1',\n",
    "    title: '最短時間でムダなく成果を上げる パソコン仕事術の教科書［改訂新版］'\n",
    "  }\n",
    "]\n",
    "```\n",
    "\n",
    "```bash\n",
    "scraping> quit\n",
    "```"
   ]
  },
  {
   "cell_type": "code",
   "execution_count": 6,
   "metadata": {},
   "outputs": [
    {
     "name": "stdout",
     "output_type": "stream",
     "text": [
      "Stopping `mongodb-community`... (might take a while)\n",
      "\u001b[34m==>\u001b[0m \u001b[1mSuccessfully stopped `mongodb-community` (label: homebrew.mxcl.mongodb-commu\u001b[0m\n"
     ]
    }
   ],
   "source": [
    "# MongoDBの停止\n",
    "!brew services stop mongodb-community"
   ]
  }
 ],
 "metadata": {
  "kernelspec": {
   "display_name": "venv",
   "language": "python",
   "name": "python3"
  },
  "language_info": {
   "codemirror_mode": {
    "name": "ipython",
    "version": 3
   },
   "file_extension": ".py",
   "mimetype": "text/x-python",
   "name": "python",
   "nbconvert_exporter": "python",
   "pygments_lexer": "ipython3",
   "version": "3.10.11"
  },
  "orig_nbformat": 4
 },
 "nbformat": 4,
 "nbformat_minor": 2
}
